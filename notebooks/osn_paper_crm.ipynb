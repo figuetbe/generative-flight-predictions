{
 "cells": [
  {
   "cell_type": "markdown",
   "metadata": {},
   "source": [
    "# Conflict Resolution and Management (CRM) Analysis\n",
    "\n",
    "This notebook demonstrates conflict detection and resolution analysis using the generative flight trajectory prediction model. It loads pre-trained models, analyzes conflicting flight pairs, and evaluates collision risk.\n"
   ]
  },
  {
   "cell_type": "markdown",
   "metadata": {},
   "source": [
    "## Setup and Configuration\n"
   ]
  },
  {
   "cell_type": "code",
   "execution_count": 1,
   "metadata": {},
   "outputs": [
    {
     "name": "stderr",
     "output_type": "stream",
     "text": [
      "/Users/figu/Documents/git/generative-flight-preds-1 copy/.venv/lib/python3.13/site-packages/tqdm/auto.py:21: TqdmWarning: IProgress not found. Please update jupyter and ipywidgets. See https://ipywidgets.readthedocs.io/en/stable/user_install.html\n",
      "  from .autonotebook import tqdm as notebook_tqdm\n"
     ]
    },
    {
     "name": "stdout",
     "output_type": "stream",
     "text": [
      "Using device: mps\n"
     ]
    }
   ],
   "source": [
    "# Core imports\n",
    "from pathlib import Path\n",
    "import json\n",
    "import numpy as np\n",
    "import pandas as pd\n",
    "import torch\n",
    "import torch.nn as nn\n",
    "from collections import OrderedDict\n",
    "import math\n",
    "import pathlib\n",
    "\n",
    "# External libraries\n",
    "from traffic.core import Traffic\n",
    "import pyproj\n",
    "import plotly.graph_objects as go\n",
    "\n",
    "# Project modules\n",
    "from utils.utils import cache_paths\n",
    "from utils.inference_utils import sample_many, denorm_seq_to_global\n",
    "from utils.plot_utils import plot_latlon_spaghetti\n",
    "from utils.metrics import pit_values, coverage_curve_1d, mvn_coverage_ellipsoids\n",
    "from generate_predictions import predict_trajectories, calculate_trajectory_spacings\n",
    "\n",
    "# Configuration\n",
    "PARQUET_PATH = \"trajs_LSAS_filtered.parquet\"\n",
    "CACHE_DIR = pathlib.Path(\"./dataset_cache\")\n",
    "CKPT_PATH = \"models/model_1min.pt\"\n",
    "CACHE_KEY_FILE = \"ecec4b007a021fa3.key.json\"\n",
    "OUTPUT_STRIDE_SECONDS = 5\n",
    "\n",
    "# Device configuration\n",
    "if torch.cuda.is_available():\n",
    "    DEVICE = torch.device(\"cuda\")\n",
    "elif torch.backends.mps.is_available():\n",
    "    DEVICE = torch.device(\"mps\")\n",
    "else:\n",
    "    DEVICE = torch.device(\"cpu\")\n",
    "\n",
    "print(f\"Using device: {DEVICE}\")"
   ]
  },
  {
   "cell_type": "markdown",
   "metadata": {},
   "source": [
    "## Data Loading\n"
   ]
  },
  {
   "cell_type": "code",
   "execution_count": 2,
   "metadata": {},
   "outputs": [
    {
     "name": "stdout",
     "output_type": "stream",
     "text": [
      "[cache] using key: ecec4b007a021fa3.key.json\n",
      "Dataset sizes: {'train': 1000000, 'val': 200000, 'test': 200000}\n",
      "Loaded 178947 trajectories from trajs_LSAS_filtered.parquet\n"
     ]
    }
   ],
   "source": [
    "# Load cached dataset artifacts\n",
    "def load_cache_key():\n",
    "    \"\"\"Load dataset cache key file.\"\"\"\n",
    "    if CACHE_KEY_FILE:\n",
    "        key_path = Path(CACHE_KEY_FILE)\n",
    "        if not key_path.is_absolute():\n",
    "            key_path = CACHE_DIR / key_path\n",
    "        if not key_path.exists():\n",
    "            raise FileNotFoundError(\n",
    "                f\"Specified cache key file not found: {key_path}. \"\n",
    "                f\"Make sure it exists under {CACHE_DIR}.\"\n",
    "            )\n",
    "    else:\n",
    "        key_files = sorted(\n",
    "            CACHE_DIR.glob(\"*.key.json\"),\n",
    "            key=lambda p: p.stat().st_mtime,\n",
    "            reverse=True,\n",
    "        )\n",
    "        if not key_files:\n",
    "            raise FileNotFoundError(\n",
    "                \"No dataset_cache key files found. Run the training notebook first.\"\n",
    "            )\n",
    "        key_path = key_files[0]\n",
    "    return key_path\n",
    "\n",
    "\n",
    "# Load cache key and dataset information\n",
    "key_path = load_cache_key()\n",
    "key_info = json.loads(key_path.read_text())\n",
    "print(f\"[cache] using key: {key_path.name}\")\n",
    "\n",
    "dset_key = key_info[\"dataset_key\"]\n",
    "stats_key = key_info[\"stats_key\"]\n",
    "paths = cache_paths(dset_key, stats_key)\n",
    "\n",
    "# Load dataset arrays (using memory-mapped files for efficiency)\n",
    "X_train = np.load(paths[\"x_tr\"], mmap_mode=\"r\")\n",
    "Y_train = np.load(paths[\"y_tr\"], mmap_mode=\"r\")\n",
    "C_train = np.load(paths[\"c_tr\"], mmap_mode=\"r\")\n",
    "X_val = np.load(paths[\"x_va\"], mmap_mode=\"r\")\n",
    "Y_val = np.load(paths[\"y_va\"], mmap_mode=\"r\")\n",
    "C_val = np.load(paths[\"c_va\"], mmap_mode=\"r\")\n",
    "X_test = np.load(paths[\"x_te\"], mmap_mode=\"r\")\n",
    "Y_test = np.load(paths[\"y_te\"], mmap_mode=\"r\")\n",
    "C_test = np.load(paths[\"c_te\"], mmap_mode=\"r\")\n",
    "\n",
    "# Load normalization statistics and metadata\n",
    "norm_stats = json.loads(paths[\"stats\"].read_text())\n",
    "meta_train = pd.read_parquet(paths[\"meta_tr\"])  # per-window metadata\n",
    "meta_val = pd.read_parquet(paths[\"meta_va\"])\n",
    "meta_test = pd.read_parquet(paths[\"meta_te\"])\n",
    "manifest = json.loads(paths[\"manifest\"].read_text())\n",
    "summary = json.loads(paths[\"summary\"].read_text())\n",
    "\n",
    "# Extract normalization parameters\n",
    "feat_mean = norm_stats[\"feat_mean\"]\n",
    "feat_std = norm_stats[\"feat_std\"]\n",
    "ctx_mean = norm_stats[\"ctx_mean\"]\n",
    "ctx_std = norm_stats[\"ctx_std\"]\n",
    "\n",
    "# Display dataset sizes\n",
    "dataset_sizes = {\n",
    "    k: (int(v) if isinstance(v, (int, np.integer)) else v)\n",
    "    for k, v in summary.get(\"sizes\", {}).items()\n",
    "}\n",
    "print(\"Dataset sizes:\", dataset_sizes)\n",
    "\n",
    "# Load trajectory data\n",
    "trajs = Traffic.from_file(PARQUET_PATH)\n",
    "print(f\"Loaded {trajs.data.flight_id.nunique()} trajectories from {PARQUET_PATH}\")"
   ]
  },
  {
   "cell_type": "markdown",
   "metadata": {},
   "source": [
    "## Model Architecture\n",
    "\n",
    "Import the Flow Matching Model components for trajectory prediction.\n"
   ]
  },
  {
   "cell_type": "code",
   "execution_count": 3,
   "metadata": {},
   "outputs": [],
   "source": [
    "# Import model architecture from dedicated module\n",
    "from model import FlowMatchingModel, load_model_checkpoint"
   ]
  },
  {
   "cell_type": "markdown",
   "metadata": {},
   "source": [
    "## Model Loading\n"
   ]
  },
  {
   "cell_type": "code",
   "execution_count": 4,
   "metadata": {},
   "outputs": [
    {
     "name": "stderr",
     "output_type": "stream",
     "text": [
      "/Users/figu/Documents/git/generative-flight-preds-1 copy/.venv/lib/python3.13/site-packages/torch/nn/modules/transformer.py:392: UserWarning: enable_nested_tensor is True, but self.use_nested_tensor is False because encoder_layer.norm_first was True\n",
      "  warnings.warn(\n"
     ]
    },
    {
     "name": "stdout",
     "output_type": "stream",
     "text": [
      "Loaded checkpoint: models/model_1min.pt\n"
     ]
    }
   ],
   "source": [
    "# Load the pre-trained model\n",
    "model = load_model_checkpoint(CKPT_PATH, DEVICE)\n",
    "print(f\"Loaded checkpoint: {CKPT_PATH}\")"
   ]
  },
  {
   "cell_type": "markdown",
   "metadata": {},
   "source": [
    "## Conflict Analysis Setup\n",
    "\n",
    "Load and prepare conflicting flight trajectory data for analysis.\n"
   ]
  },
  {
   "cell_type": "code",
   "execution_count": 5,
   "id": "53d37295",
   "metadata": {},
   "outputs": [
    {
     "name": "stdout",
     "output_type": "stream",
     "text": [
      "Example input shapes:\n",
      "x_hist: torch.Size([1, 60, 7])\n",
      "x_t: torch.Size([1, 24, 7])\n",
      "t: torch.Size([1, 1])\n",
      "ctx: torch.Size([1, 8])\n"
     ]
    },
    {
     "data": {
      "text/plain": [
       "'cfm_torchview.svg'"
      ]
     },
     "execution_count": 5,
     "metadata": {},
     "output_type": "execute_result"
    }
   ],
   "source": [
    "from torchview import draw_graph\n",
    "\n",
    "# Create example inputs for torchview (batch_size=1 for visualization)\n",
    "B = 1\n",
    "x_hist = torch.randn(B, 60, 7)  # history sequence: 60 timesteps, 7 features\n",
    "x_t = torch.randn(B, 24, 7)  # future sequence: 24 timesteps, 7 features\n",
    "t = torch.rand(B, 1)  # time scalar\n",
    "ctx = torch.randn(B, 8)  # context vector: 8 features\n",
    "\n",
    "print(\"Example input shapes:\")\n",
    "print(f\"x_hist: {x_hist.shape}\")\n",
    "print(f\"x_t: {x_t.shape}\")\n",
    "print(f\"t: {t.shape}\")\n",
    "print(f\"ctx: {ctx.shape}\")\n",
    "\n",
    "# torchview needs a callable and example inputs\n",
    "# Use positional arguments (model expects: x_hist, x_t, t_scalar, context)\n",
    "input_data = (\n",
    "    x_hist,\n",
    "    x_t,\n",
    "    t,\n",
    "    ctx,\n",
    ")  # (history_1min, future_trajectory, time_step, context)\n",
    "\n",
    "graph = draw_graph(\n",
    "    model,\n",
    "    input_data=input_data,\n",
    "    expand_nested=False,  # hide submodules for simplicity\n",
    "    graph_name=\"CFM\",\n",
    "    depth=1,  # minimal depth\n",
    "    roll=True,  # collapse repeated layers\n",
    "    show_shapes=False,\n",
    ")  # hide tensor shapes\n",
    "graph.visual_graph.render(\"cfm_torchview\", format=\"svg\", cleanup=True)"
   ]
  },
  {
   "cell_type": "code",
   "execution_count": 6,
   "id": "623c3a5a",
   "metadata": {},
   "outputs": [
    {
     "name": "stdout",
     "output_type": "stream",
     "text": [
      "Example input shapes:\n",
      "x_hist: torch.Size([1, 60, 7])\n",
      "x_t: torch.Size([1, 24, 7])\n",
      "t: torch.Size([1, 1])\n",
      "ctx: torch.Size([1, 8])\n"
     ]
    },
    {
     "data": {
      "text/plain": [
       "'cfm_torchview.svg'"
      ]
     },
     "execution_count": 6,
     "metadata": {},
     "output_type": "execute_result"
    }
   ],
   "source": [
    "from torchview import draw_graph\n",
    "\n",
    "# Create example inputs for torchview (batch_size=1 for visualization)\n",
    "B = 1\n",
    "x_hist = torch.randn(B, 60, 7)  # history sequence: 60 timesteps, 7 features\n",
    "x_t = torch.randn(B, 24, 7)  # future sequence: 24 timesteps, 7 features\n",
    "t = torch.rand(B, 1)  # time scalar\n",
    "ctx = torch.randn(B, 8)  # context vector: 8 features\n",
    "\n",
    "print(\"Example input shapes:\")\n",
    "print(f\"x_hist: {x_hist.shape}\")\n",
    "print(f\"x_t: {x_t.shape}\")\n",
    "print(f\"t: {t.shape}\")\n",
    "print(f\"ctx: {ctx.shape}\")\n",
    "# torchview needs a callable and example inputs\n",
    "graph = draw_graph(\n",
    "    model,\n",
    "    input_data=(x_hist, x_t, t, ctx),\n",
    "    expand_nested=False,  # hide submodules for simplicity\n",
    "    graph_name=\"CFM\",\n",
    "    depth=1,\n",
    ")  # minimal depth\n",
    "graph.visual_graph.render(\"cfm_torchview\", format=\"svg\", cleanup=True)"
   ]
  },
  {
   "cell_type": "code",
   "execution_count": 7,
   "id": "daa97fa3",
   "metadata": {},
   "outputs": [
    {
     "name": "stderr",
     "output_type": "stream",
     "text": [
      "2025-10-26 12:46:43,828 INFO Processing query SELECT state_vectors_data4.time, state_vectors_data4.icao24, state_vectors_data4.lat, state_vectors_data4.lon, state_vectors_data4.velocity, state_vectors_data4.heading, state_vectors_data4.vertrate, state_vectors_data4.callsign, state_vectors_data4.onground, state_vectors_data4.alert, state_vectors_data4.spi, state_vectors_data4.squawk, state_vectors_data4.baroaltitude, state_vectors_data4.geoaltitude, state_vectors_data4.lastposupdate, state_vectors_data4.lastcontact, state_vectors_data4.serials, state_vectors_data4.hour \n",
      "FROM state_vectors_data4 \n",
      "WHERE state_vectors_data4.callsign IN (__[POSTCOMPILE_callsign_1]) AND state_vectors_data4.time >= :time_1 AND state_vectors_data4.time <= :time_2 AND state_vectors_data4.hour >= :hour_1 AND state_vectors_data4.hour < :hour_2\n",
      "{'callsign_1': ['EAU24K', 'EZY59KU'], 'time_1': Timestamp('2024-09-16 07:40:00+0000', tz='UTC'), 'time_2': Timestamp('2024-09-16 07:42:00+0000', tz='UTC'), 'hour_1': Timestamp('2024-09-16 07:00:00+0000', tz='UTC'), 'hour_2': Timestamp('2024-09-16 08:00:00+0000', tz='UTC')}\n",
      "2025-10-26 12:46:43,829 INFO Reading results from /Users/figu/Library/Caches/opensky/abbac24892fae113f82695eb867ef025.parquet\n"
     ]
    },
    {
     "data": {
      "application/vnd.plotly.v1+json": {
       "config": {
        "plotlyServerURL": "https://plot.ly"
       },
       "data": [
        {
         "customdata": [
          [
           "2024-09-16T07:39:59.607000"
          ],
          [
           "2024-09-16T07:40:00.631000"
          ],
          [
           "2024-09-16T07:40:01.617000"
          ],
          [
           "2024-09-16T07:40:02.709000"
          ],
          [
           "2024-09-16T07:40:03.736000"
          ],
          [
           "2024-09-16T07:40:04.799000"
          ],
          [
           "2024-09-16T07:40:05.872999"
          ],
          [
           "2024-09-16T07:40:06.756999"
          ],
          [
           "2024-09-16T07:40:07.766999"
          ],
          [
           "2024-09-16T07:40:08.796999"
          ],
          [
           "2024-09-16T07:40:09.857000"
          ],
          [
           "2024-09-16T07:40:10.897000"
          ],
          [
           "2024-09-16T07:40:11.927999"
          ],
          [
           "2024-09-16T07:40:12.726999"
          ],
          [
           "2024-09-16T07:40:13.756999"
          ],
          [
           "2024-09-16T07:40:14.619999"
          ],
          [
           "2024-09-16T07:40:15.579999"
          ],
          [
           "2024-09-16T07:40:16.519999"
          ],
          [
           "2024-09-16T07:40:17.578000"
          ],
          [
           "2024-09-16T07:40:18.967999"
          ],
          [
           "2024-09-16T07:40:19.493999"
          ],
          [
           "2024-09-16T07:40:20.648999"
          ],
          [
           "2024-09-16T07:40:21.717999"
          ],
          [
           "2024-09-16T07:40:22.657000"
          ],
          [
           "2024-09-16T07:40:23.678999"
          ],
          [
           "2024-09-16T07:40:24.638000"
          ],
          [
           "2024-09-16T07:40:25.578999"
          ],
          [
           "2024-09-16T07:40:26.996999"
          ],
          [
           "2024-09-16T07:40:27.937999"
          ],
          [
           "2024-09-16T07:40:28.957999"
          ],
          [
           "2024-09-16T07:40:29.937999"
          ],
          [
           "2024-09-16T07:40:30.897000"
          ],
          [
           "2024-09-16T07:40:31.460000"
          ],
          [
           "2024-09-16T07:40:32.617000"
          ],
          [
           "2024-09-16T07:40:33.651000"
          ],
          [
           "2024-09-16T07:40:34.638000"
          ],
          [
           "2024-09-16T07:40:35.598000"
          ],
          [
           "2024-09-16T07:40:36.546999"
          ],
          [
           "2024-09-16T07:40:37.091000"
          ],
          [
           "2024-09-16T07:40:38.986999"
          ],
          [
           "2024-09-16T07:40:39.901999"
          ],
          [
           "2024-09-16T07:40:40.947000"
          ],
          [
           "2024-09-16T07:40:41.957000"
          ],
          [
           "2024-09-16T07:40:42.427000"
          ],
          [
           "2024-09-16T07:40:43.509999"
          ],
          [
           "2024-09-16T07:40:44.561000"
          ],
          [
           "2024-09-16T07:40:45.678999"
          ],
          [
           "2024-09-16T07:40:46.608000"
          ],
          [
           "2024-09-16T07:40:47.523999"
          ],
          [
           "2024-09-16T07:40:48.691999"
          ],
          [
           "2024-09-16T07:40:49.691999"
          ],
          [
           "2024-09-16T07:40:50.658999"
          ],
          [
           "2024-09-16T07:40:51.697000"
          ],
          [
           "2024-09-16T07:40:52.769999"
          ],
          [
           "2024-09-16T07:40:53.709000"
          ],
          [
           "2024-09-16T07:40:54.862999"
          ],
          [
           "2024-09-16T07:40:55.871000"
          ],
          [
           "2024-09-16T07:40:56.753999"
          ],
          [
           "2024-09-16T07:40:57.640000"
          ],
          [
           "2024-09-16T07:40:58.717999"
          ],
          [
           "2024-09-16T07:40:59.608999"
          ],
          [
           "2024-09-16T07:41:00.520999"
          ],
          [
           "2024-09-16T07:41:01.579999"
          ],
          [
           "2024-09-16T07:41:02.631999"
          ],
          [
           "2024-09-16T07:41:03.703999"
          ],
          [
           "2024-09-16T07:41:04.556999"
          ],
          [
           "2024-09-16T07:41:05.647000"
          ],
          [
           "2024-09-16T07:41:06.680000"
          ],
          [
           "2024-09-16T07:41:07.717999"
          ],
          [
           "2024-09-16T07:41:08.651999"
          ],
          [
           "2024-09-16T07:41:09.818000"
          ],
          [
           "2024-09-16T07:41:10.855000"
          ],
          [
           "2024-09-16T07:41:11.621000"
          ],
          [
           "2024-09-16T07:41:12.907000"
          ],
          [
           "2024-09-16T07:41:13.812000"
          ],
          [
           "2024-09-16T07:41:14.664999"
          ],
          [
           "2024-09-16T07:41:15.650000"
          ],
          [
           "2024-09-16T07:41:16.809000"
          ],
          [
           "2024-09-16T07:41:17.766999"
          ],
          [
           "2024-09-16T07:41:18.811000"
          ],
          [
           "2024-09-16T07:41:19.849999"
          ],
          [
           "2024-09-16T07:41:20.903000"
          ],
          [
           "2024-09-16T07:41:21.938999"
          ],
          [
           "2024-09-16T07:41:22.960999"
          ],
          [
           "2024-09-16T07:41:23.859999"
          ],
          [
           "2024-09-16T07:41:24.890000"
          ],
          [
           "2024-09-16T07:41:25.836999"
          ],
          [
           "2024-09-16T07:41:26.851999"
          ],
          [
           "2024-09-16T07:41:27.888000"
          ],
          [
           "2024-09-16T07:41:28.796999"
          ],
          [
           "2024-09-16T07:41:29.721999"
          ],
          [
           "2024-09-16T07:41:30.789000"
          ],
          [
           "2024-09-16T07:41:31.819000"
          ],
          [
           "2024-09-16T07:41:32.724999"
          ],
          [
           "2024-09-16T07:41:33.772000"
          ],
          [
           "2024-09-16T07:41:34.727999"
          ],
          [
           "2024-09-16T07:41:35.778000"
          ],
          [
           "2024-09-16T07:41:36.779999"
          ],
          [
           "2024-09-16T07:41:37.802000"
          ],
          [
           "2024-09-16T07:41:38.868000"
          ],
          [
           "2024-09-16T07:41:39.872999"
          ],
          [
           "2024-09-16T07:41:40.848000"
          ],
          [
           "2024-09-16T07:41:41.801000"
          ],
          [
           "2024-09-16T07:41:42.792999"
          ],
          [
           "2024-09-16T07:41:43.769999"
          ],
          [
           "2024-09-16T07:41:44.714999"
          ],
          [
           "2024-09-16T07:41:45.816999"
          ],
          [
           "2024-09-16T07:41:46.858999"
          ],
          [
           "2024-09-16T07:41:47.888999"
          ],
          [
           "2024-09-16T07:41:48.792999"
          ],
          [
           "2024-09-16T07:41:49.821000"
          ],
          [
           "2024-09-16T07:41:50.832000"
          ],
          [
           "2024-09-16T07:41:51.739000"
          ],
          [
           "2024-09-16T07:41:52.740999"
          ],
          [
           "2024-09-16T07:41:53.750000"
          ],
          [
           "2024-09-16T07:41:54.737999"
          ],
          [
           "2024-09-16T07:41:55.759000"
          ],
          [
           "2024-09-16T07:41:56.874000"
          ],
          [
           "2024-09-16T07:41:57.940000"
          ],
          [
           "2024-09-16T07:41:58.490000"
          ],
          [
           "2024-09-16T07:41:59.598999"
          ],
          [
           "2024-09-16T07:39:59.808000"
          ],
          [
           "2024-09-16T07:40:00.361000"
          ],
          [
           "2024-09-16T07:40:01.756000"
          ],
          [
           "2024-09-16T07:40:02.805999"
          ],
          [
           "2024-09-16T07:40:03.793999"
          ],
          [
           "2024-09-16T07:40:04.763999"
          ],
          [
           "2024-09-16T07:40:05.786000"
          ],
          [
           "2024-09-16T07:40:06.802999"
          ],
          [
           "2024-09-16T07:40:07.707000"
          ],
          [
           "2024-09-16T07:40:08.592000"
          ],
          [
           "2024-09-16T07:40:09.640000"
          ],
          [
           "2024-09-16T07:40:10.744999"
          ],
          [
           "2024-09-16T07:40:11.632999"
          ],
          [
           "2024-09-16T07:40:12.773999"
          ],
          [
           "2024-09-16T07:40:13.693000"
          ],
          [
           "2024-09-16T07:40:14.793999"
          ],
          [
           "2024-09-16T07:40:15.930999"
          ],
          [
           "2024-09-16T07:40:16.857000"
          ],
          [
           "2024-09-16T07:40:17.792000"
          ],
          [
           "2024-09-16T07:40:18.815999"
          ],
          [
           "2024-09-16T07:40:19.716000"
          ],
          [
           "2024-09-16T07:40:20.779999"
          ],
          [
           "2024-09-16T07:40:20.779999"
          ],
          [
           "2024-09-16T07:40:22.869999"
          ],
          [
           "2024-09-16T07:40:23.851000"
          ],
          [
           "2024-09-16T07:40:24.733000"
          ],
          [
           "2024-09-16T07:40:25.759999"
          ],
          [
           "2024-09-16T07:40:26.835999"
          ],
          [
           "2024-09-16T07:40:27.710000"
          ],
          [
           "2024-09-16T07:40:28.667000"
          ],
          [
           "2024-09-16T07:40:29.717999"
          ],
          [
           "2024-09-16T07:40:30.674000"
          ],
          [
           "2024-09-16T07:40:31.665999"
          ],
          [
           "2024-09-16T07:40:32.700999"
          ],
          [
           "2024-09-16T07:40:33.736999"
          ],
          [
           "2024-09-16T07:40:34.651999"
          ],
          [
           "2024-09-16T07:40:35.700000"
          ],
          [
           "2024-09-16T07:40:36.644999"
          ],
          [
           "2024-09-16T07:40:37.584000"
          ],
          [
           "2024-09-16T07:40:38.954999"
          ],
          [
           "2024-09-16T07:40:39.519000"
          ],
          [
           "2024-09-16T07:40:40.644000"
          ],
          [
           "2024-09-16T07:40:41.526999"
          ],
          [
           "2024-09-16T07:40:42.688999"
          ],
          [
           "2024-09-16T07:40:43.608000"
          ],
          [
           "2024-09-16T07:40:44.707000"
          ],
          [
           "2024-09-16T07:40:45.941999"
          ],
          [
           "2024-09-16T07:40:46.792999"
          ],
          [
           "2024-09-16T07:40:47.693000"
          ],
          [
           "2024-09-16T07:40:48.724999"
          ],
          [
           "2024-09-16T07:40:49.582000"
          ],
          [
           "2024-09-16T07:40:50.703000"
          ],
          [
           "2024-09-16T07:40:51.726000"
          ],
          [
           "2024-09-16T07:40:52.778000"
          ],
          [
           "2024-09-16T07:40:53.759000"
          ],
          [
           "2024-09-16T07:40:54.653000"
          ],
          [
           "2024-09-16T07:40:55.706000"
          ],
          [
           "2024-09-16T07:40:56.677999"
          ],
          [
           "2024-09-16T07:40:57.632999"
          ],
          [
           "2024-09-16T07:40:58.703999"
          ],
          [
           "2024-09-16T07:40:59.802999"
          ],
          [
           "2024-09-16T07:41:00.940999"
          ],
          [
           "2024-09-16T07:41:01.463000"
          ],
          [
           "2024-09-16T07:41:02.927000"
          ],
          [
           "2024-09-16T07:41:03.957999"
          ],
          [
           "2024-09-16T07:41:04.908999"
          ],
          [
           "2024-09-16T07:41:05.743999"
          ],
          [
           "2024-09-16T07:41:06.717000"
          ],
          [
           "2024-09-16T07:41:07.698999"
          ],
          [
           "2024-09-16T07:41:08.770999"
          ],
          [
           "2024-09-16T07:41:09.881000"
          ],
          [
           "2024-09-16T07:41:10.950000"
          ],
          [
           "2024-09-16T07:41:11.535000"
          ],
          [
           "2024-09-16T07:41:12.516000"
          ],
          [
           "2024-09-16T07:41:13.522000"
          ],
          [
           "2024-09-16T07:41:14.543999"
          ],
          [
           "2024-09-16T07:41:15.904000"
          ],
          [
           "2024-09-16T07:41:16.829999"
          ],
          [
           "2024-09-16T07:41:17.940000"
          ],
          [
           "2024-09-16T07:41:18.803999"
          ],
          [
           "2024-09-16T07:41:19.770999"
          ],
          [
           "2024-09-16T07:41:20.809000"
          ],
          [
           "2024-09-16T07:41:21.773999"
          ],
          [
           "2024-09-16T07:41:22.760999"
          ],
          [
           "2024-09-16T07:41:23.799000"
          ],
          [
           "2024-09-16T07:41:24.802000"
          ],
          [
           "2024-09-16T07:41:25.759000"
          ],
          [
           "2024-09-16T07:41:26.786999"
          ],
          [
           "2024-09-16T07:41:27.749000"
          ],
          [
           "2024-09-16T07:41:28.690999"
          ],
          [
           "2024-09-16T07:41:29.581000"
          ],
          [
           "2024-09-16T07:41:30.618999"
          ],
          [
           "2024-09-16T07:41:31.733000"
          ],
          [
           "2024-09-16T07:41:32.644999"
          ],
          [
           "2024-09-16T07:41:33.762000"
          ],
          [
           "2024-09-16T07:41:34.697000"
          ],
          [
           "2024-09-16T07:41:35.835000"
          ],
          [
           "2024-09-16T07:41:36.927000"
          ],
          [
           "2024-09-16T07:41:37.867000"
          ],
          [
           "2024-09-16T07:41:38.792000"
          ],
          [
           "2024-09-16T07:41:39.822999"
          ],
          [
           "2024-09-16T07:41:40.684000"
          ],
          [
           "2024-09-16T07:41:41.793999"
          ],
          [
           "2024-09-16T07:41:42.828000"
          ],
          [
           "2024-09-16T07:41:43.875999"
          ],
          [
           "2024-09-16T07:41:44.874000"
          ],
          [
           "2024-09-16T07:41:45.766000"
          ],
          [
           "2024-09-16T07:41:46.760999"
          ],
          [
           "2024-09-16T07:41:47.762000"
          ],
          [
           "2024-09-16T07:41:48.721999"
          ],
          [
           "2024-09-16T07:41:49.565000"
          ],
          [
           "2024-09-16T07:41:50.552000"
          ],
          [
           "2024-09-16T07:41:51.592000"
          ],
          [
           "2024-09-16T07:41:52.979000"
          ],
          [
           "2024-09-16T07:41:53.517999"
          ],
          [
           "2024-09-16T07:41:54.989000"
          ],
          [
           "2024-09-16T07:41:55.976000"
          ],
          [
           "2024-09-16T07:41:56.467999"
          ],
          [
           "2024-09-16T07:41:57.621000"
          ],
          [
           "2024-09-16T07:41:58.960000"
          ],
          [
           "2024-09-16T07:41:58.960000"
          ]
         ],
         "hovertemplate": "latitude=%{lat}<br>longitude=%{lon}<br>timestamp=%{customdata[0]}<extra></extra>",
         "lat": {
          "bdata": "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",
          "dtype": "f8"
         },
         "legendgroup": "",
         "lon": {
          "bdata": "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",
          "dtype": "f8"
         },
         "marker": {
          "color": "#636efa"
         },
         "mode": "markers",
         "name": "",
         "showlegend": false,
         "subplot": "map",
         "type": "scattermap"
        }
       ],
       "layout": {
        "legend": {
         "tracegroupgap": 0
        },
        "map": {
         "center": {
          "lat": 47.01119012027114,
          "lon": 7.997171012747462
         },
         "domain": {
          "x": [
           0,
           1
          ],
          "y": [
           0,
           1
          ]
         },
         "style": "carto-positron",
         "zoom": 8
        },
        "mapbox": {
         "center": {
          "lat": 47.01119012027114,
          "lon": 7.997171012747462
         },
         "style": "carto-positron",
         "zoom": 8
        },
        "margin": {
         "t": 60
        },
        "template": {
         "data": {
          "bar": [
           {
            "error_x": {
             "color": "#2a3f5f"
            },
            "error_y": {
             "color": "#2a3f5f"
            },
            "marker": {
             "line": {
              "color": "#E5ECF6",
              "width": 0.5
             },
             "pattern": {
              "fillmode": "overlay",
              "size": 10,
              "solidity": 0.2
             }
            },
            "type": "bar"
           }
          ],
          "barpolar": [
           {
            "marker": {
             "line": {
              "color": "#E5ECF6",
              "width": 0.5
             },
             "pattern": {
              "fillmode": "overlay",
              "size": 10,
              "solidity": 0.2
             }
            },
            "type": "barpolar"
           }
          ],
          "carpet": [
           {
            "aaxis": {
             "endlinecolor": "#2a3f5f",
             "gridcolor": "white",
             "linecolor": "white",
             "minorgridcolor": "white",
             "startlinecolor": "#2a3f5f"
            },
            "baxis": {
             "endlinecolor": "#2a3f5f",
             "gridcolor": "white",
             "linecolor": "white",
             "minorgridcolor": "white",
             "startlinecolor": "#2a3f5f"
            },
            "type": "carpet"
           }
          ],
          "choropleth": [
           {
            "colorbar": {
             "outlinewidth": 0,
             "ticks": ""
            },
            "type": "choropleth"
           }
          ],
          "contour": [
           {
            "colorbar": {
             "outlinewidth": 0,
             "ticks": ""
            },
            "colorscale": [
             [
              0,
              "#0d0887"
             ],
             [
              0.1111111111111111,
              "#46039f"
             ],
             [
              0.2222222222222222,
              "#7201a8"
             ],
             [
              0.3333333333333333,
              "#9c179e"
             ],
             [
              0.4444444444444444,
              "#bd3786"
             ],
             [
              0.5555555555555556,
              "#d8576b"
             ],
             [
              0.6666666666666666,
              "#ed7953"
             ],
             [
              0.7777777777777778,
              "#fb9f3a"
             ],
             [
              0.8888888888888888,
              "#fdca26"
             ],
             [
              1,
              "#f0f921"
             ]
            ],
            "type": "contour"
           }
          ],
          "contourcarpet": [
           {
            "colorbar": {
             "outlinewidth": 0,
             "ticks": ""
            },
            "type": "contourcarpet"
           }
          ],
          "heatmap": [
           {
            "colorbar": {
             "outlinewidth": 0,
             "ticks": ""
            },
            "colorscale": [
             [
              0,
              "#0d0887"
             ],
             [
              0.1111111111111111,
              "#46039f"
             ],
             [
              0.2222222222222222,
              "#7201a8"
             ],
             [
              0.3333333333333333,
              "#9c179e"
             ],
             [
              0.4444444444444444,
              "#bd3786"
             ],
             [
              0.5555555555555556,
              "#d8576b"
             ],
             [
              0.6666666666666666,
              "#ed7953"
             ],
             [
              0.7777777777777778,
              "#fb9f3a"
             ],
             [
              0.8888888888888888,
              "#fdca26"
             ],
             [
              1,
              "#f0f921"
             ]
            ],
            "type": "heatmap"
           }
          ],
          "histogram": [
           {
            "marker": {
             "pattern": {
              "fillmode": "overlay",
              "size": 10,
              "solidity": 0.2
             }
            },
            "type": "histogram"
           }
          ],
          "histogram2d": [
           {
            "colorbar": {
             "outlinewidth": 0,
             "ticks": ""
            },
            "colorscale": [
             [
              0,
              "#0d0887"
             ],
             [
              0.1111111111111111,
              "#46039f"
             ],
             [
              0.2222222222222222,
              "#7201a8"
             ],
             [
              0.3333333333333333,
              "#9c179e"
             ],
             [
              0.4444444444444444,
              "#bd3786"
             ],
             [
              0.5555555555555556,
              "#d8576b"
             ],
             [
              0.6666666666666666,
              "#ed7953"
             ],
             [
              0.7777777777777778,
              "#fb9f3a"
             ],
             [
              0.8888888888888888,
              "#fdca26"
             ],
             [
              1,
              "#f0f921"
             ]
            ],
            "type": "histogram2d"
           }
          ],
          "histogram2dcontour": [
           {
            "colorbar": {
             "outlinewidth": 0,
             "ticks": ""
            },
            "colorscale": [
             [
              0,
              "#0d0887"
             ],
             [
              0.1111111111111111,
              "#46039f"
             ],
             [
              0.2222222222222222,
              "#7201a8"
             ],
             [
              0.3333333333333333,
              "#9c179e"
             ],
             [
              0.4444444444444444,
              "#bd3786"
             ],
             [
              0.5555555555555556,
              "#d8576b"
             ],
             [
              0.6666666666666666,
              "#ed7953"
             ],
             [
              0.7777777777777778,
              "#fb9f3a"
             ],
             [
              0.8888888888888888,
              "#fdca26"
             ],
             [
              1,
              "#f0f921"
             ]
            ],
            "type": "histogram2dcontour"
           }
          ],
          "mesh3d": [
           {
            "colorbar": {
             "outlinewidth": 0,
             "ticks": ""
            },
            "type": "mesh3d"
           }
          ],
          "parcoords": [
           {
            "line": {
             "colorbar": {
              "outlinewidth": 0,
              "ticks": ""
             }
            },
            "type": "parcoords"
           }
          ],
          "pie": [
           {
            "automargin": true,
            "type": "pie"
           }
          ],
          "scatter": [
           {
            "fillpattern": {
             "fillmode": "overlay",
             "size": 10,
             "solidity": 0.2
            },
            "type": "scatter"
           }
          ],
          "scatter3d": [
           {
            "line": {
             "colorbar": {
              "outlinewidth": 0,
              "ticks": ""
             }
            },
            "marker": {
             "colorbar": {
              "outlinewidth": 0,
              "ticks": ""
             }
            },
            "type": "scatter3d"
           }
          ],
          "scattercarpet": [
           {
            "marker": {
             "colorbar": {
              "outlinewidth": 0,
              "ticks": ""
             }
            },
            "type": "scattercarpet"
           }
          ],
          "scattergeo": [
           {
            "marker": {
             "colorbar": {
              "outlinewidth": 0,
              "ticks": ""
             }
            },
            "type": "scattergeo"
           }
          ],
          "scattergl": [
           {
            "marker": {
             "colorbar": {
              "outlinewidth": 0,
              "ticks": ""
             }
            },
            "type": "scattergl"
           }
          ],
          "scattermap": [
           {
            "marker": {
             "colorbar": {
              "outlinewidth": 0,
              "ticks": ""
             }
            },
            "type": "scattermap"
           }
          ],
          "scattermapbox": [
           {
            "marker": {
             "colorbar": {
              "outlinewidth": 0,
              "ticks": ""
             }
            },
            "type": "scattermapbox"
           }
          ],
          "scatterpolar": [
           {
            "marker": {
             "colorbar": {
              "outlinewidth": 0,
              "ticks": ""
             }
            },
            "type": "scatterpolar"
           }
          ],
          "scatterpolargl": [
           {
            "marker": {
             "colorbar": {
              "outlinewidth": 0,
              "ticks": ""
             }
            },
            "type": "scatterpolargl"
           }
          ],
          "scatterternary": [
           {
            "marker": {
             "colorbar": {
              "outlinewidth": 0,
              "ticks": ""
             }
            },
            "type": "scatterternary"
           }
          ],
          "surface": [
           {
            "colorbar": {
             "outlinewidth": 0,
             "ticks": ""
            },
            "colorscale": [
             [
              0,
              "#0d0887"
             ],
             [
              0.1111111111111111,
              "#46039f"
             ],
             [
              0.2222222222222222,
              "#7201a8"
             ],
             [
              0.3333333333333333,
              "#9c179e"
             ],
             [
              0.4444444444444444,
              "#bd3786"
             ],
             [
              0.5555555555555556,
              "#d8576b"
             ],
             [
              0.6666666666666666,
              "#ed7953"
             ],
             [
              0.7777777777777778,
              "#fb9f3a"
             ],
             [
              0.8888888888888888,
              "#fdca26"
             ],
             [
              1,
              "#f0f921"
             ]
            ],
            "type": "surface"
           }
          ],
          "table": [
           {
            "cells": {
             "fill": {
              "color": "#EBF0F8"
             },
             "line": {
              "color": "white"
             }
            },
            "header": {
             "fill": {
              "color": "#C8D4E3"
             },
             "line": {
              "color": "white"
             }
            },
            "type": "table"
           }
          ]
         },
         "layout": {
          "annotationdefaults": {
           "arrowcolor": "#2a3f5f",
           "arrowhead": 0,
           "arrowwidth": 1
          },
          "autotypenumbers": "strict",
          "coloraxis": {
           "colorbar": {
            "outlinewidth": 0,
            "ticks": ""
           }
          },
          "colorscale": {
           "diverging": [
            [
             0,
             "#8e0152"
            ],
            [
             0.1,
             "#c51b7d"
            ],
            [
             0.2,
             "#de77ae"
            ],
            [
             0.3,
             "#f1b6da"
            ],
            [
             0.4,
             "#fde0ef"
            ],
            [
             0.5,
             "#f7f7f7"
            ],
            [
             0.6,
             "#e6f5d0"
            ],
            [
             0.7,
             "#b8e186"
            ],
            [
             0.8,
             "#7fbc41"
            ],
            [
             0.9,
             "#4d9221"
            ],
            [
             1,
             "#276419"
            ]
           ],
           "sequential": [
            [
             0,
             "#0d0887"
            ],
            [
             0.1111111111111111,
             "#46039f"
            ],
            [
             0.2222222222222222,
             "#7201a8"
            ],
            [
             0.3333333333333333,
             "#9c179e"
            ],
            [
             0.4444444444444444,
             "#bd3786"
            ],
            [
             0.5555555555555556,
             "#d8576b"
            ],
            [
             0.6666666666666666,
             "#ed7953"
            ],
            [
             0.7777777777777778,
             "#fb9f3a"
            ],
            [
             0.8888888888888888,
             "#fdca26"
            ],
            [
             1,
             "#f0f921"
            ]
           ],
           "sequentialminus": [
            [
             0,
             "#0d0887"
            ],
            [
             0.1111111111111111,
             "#46039f"
            ],
            [
             0.2222222222222222,
             "#7201a8"
            ],
            [
             0.3333333333333333,
             "#9c179e"
            ],
            [
             0.4444444444444444,
             "#bd3786"
            ],
            [
             0.5555555555555556,
             "#d8576b"
            ],
            [
             0.6666666666666666,
             "#ed7953"
            ],
            [
             0.7777777777777778,
             "#fb9f3a"
            ],
            [
             0.8888888888888888,
             "#fdca26"
            ],
            [
             1,
             "#f0f921"
            ]
           ]
          },
          "colorway": [
           "#636efa",
           "#EF553B",
           "#00cc96",
           "#ab63fa",
           "#FFA15A",
           "#19d3f3",
           "#FF6692",
           "#B6E880",
           "#FF97FF",
           "#FECB52"
          ],
          "font": {
           "color": "#2a3f5f"
          },
          "geo": {
           "bgcolor": "white",
           "lakecolor": "white",
           "landcolor": "#E5ECF6",
           "showlakes": true,
           "showland": true,
           "subunitcolor": "white"
          },
          "hoverlabel": {
           "align": "left"
          },
          "hovermode": "closest",
          "mapbox": {
           "style": "light"
          },
          "paper_bgcolor": "white",
          "plot_bgcolor": "#E5ECF6",
          "polar": {
           "angularaxis": {
            "gridcolor": "white",
            "linecolor": "white",
            "ticks": ""
           },
           "bgcolor": "#E5ECF6",
           "radialaxis": {
            "gridcolor": "white",
            "linecolor": "white",
            "ticks": ""
           }
          },
          "scene": {
           "xaxis": {
            "backgroundcolor": "#E5ECF6",
            "gridcolor": "white",
            "gridwidth": 2,
            "linecolor": "white",
            "showbackground": true,
            "ticks": "",
            "zerolinecolor": "white"
           },
           "yaxis": {
            "backgroundcolor": "#E5ECF6",
            "gridcolor": "white",
            "gridwidth": 2,
            "linecolor": "white",
            "showbackground": true,
            "ticks": "",
            "zerolinecolor": "white"
           },
           "zaxis": {
            "backgroundcolor": "#E5ECF6",
            "gridcolor": "white",
            "gridwidth": 2,
            "linecolor": "white",
            "showbackground": true,
            "ticks": "",
            "zerolinecolor": "white"
           }
          },
          "shapedefaults": {
           "line": {
            "color": "#2a3f5f"
           }
          },
          "ternary": {
           "aaxis": {
            "gridcolor": "white",
            "linecolor": "white",
            "ticks": ""
           },
           "baxis": {
            "gridcolor": "white",
            "linecolor": "white",
            "ticks": ""
           },
           "bgcolor": "#E5ECF6",
           "caxis": {
            "gridcolor": "white",
            "linecolor": "white",
            "ticks": ""
           }
          },
          "title": {
           "x": 0.05
          },
          "xaxis": {
           "automargin": true,
           "gridcolor": "white",
           "linecolor": "white",
           "ticks": "",
           "title": {
            "standoff": 15
           },
           "zerolinecolor": "white",
           "zerolinewidth": 2
          },
          "yaxis": {
           "automargin": true,
           "gridcolor": "white",
           "linecolor": "white",
           "ticks": "",
           "title": {
            "standoff": 15
           },
           "zerolinecolor": "white",
           "zerolinewidth": 2
          }
         }
        }
       }
      }
     },
     "metadata": {},
     "output_type": "display_data"
    }
   ],
   "source": [
    "from traffic.data import opensky\n",
    "\n",
    "conflicting_pair = (\n",
    "    opensky.history(\n",
    "        \"2024-09-16 07:40:00\",\n",
    "        \"2024-09-16 07:42:00\",\n",
    "        callsign=[\"EAU24K\", \"EZY59KU\"],\n",
    "        # bounds=(47.37, 12.35, 47.39, 12.45)\n",
    "    )\n",
    "    .assign_id()\n",
    "    .eval()\n",
    ")\n",
    "conflicting_pair.data[\"timestamp\"] = pd.to_datetime(\n",
    "    conflicting_pair.data[\"last_position\"], unit=\"s\", utc=True\n",
    ")\n",
    "cols2keep = [\n",
    "    \"flight_id\",\n",
    "    \"timestamp\",\n",
    "    \"latitude\",\n",
    "    \"longitude\",\n",
    "    \"altitude\",\n",
    "    \"track\",\n",
    "    \"groundspeed\",\n",
    "    \"vertical_rate\",\n",
    "    \"icao24\",\n",
    "    \"callsign\",\n",
    "]\n",
    "conflicting_pair.data = conflicting_pair.data[cols2keep]\n",
    "conflicting_pair.scatter_map(hover_data=[\"timestamp\"])"
   ]
  },
  {
   "cell_type": "code",
   "execution_count": 8,
   "id": "69cd4f8b",
   "metadata": {},
   "outputs": [
    {
     "data": {
      "text/html": [
       "<h4><b>Traffic</b></h4> with 2 identifiers<style type=\"text/css\">\n",
       "#T_6442a_row0_col0 {\n",
       "  width: 10em;\n",
       "  background: linear-gradient(90deg, #5fba7d 100.0%, transparent 100.0%);\n",
       "}\n",
       "#T_6442a_row1_col0 {\n",
       "  width: 10em;\n",
       "  background: linear-gradient(90deg, #5fba7d 99.2%, transparent 99.2%);\n",
       "}\n",
       "</style>\n",
       "<table id=\"T_6442a\">\n",
       "  <thead>\n",
       "    <tr>\n",
       "      <th class=\"blank level0\" >&nbsp;</th>\n",
       "      <th id=\"T_6442a_level0_col0\" class=\"col_heading level0 col0\" >count</th>\n",
       "    </tr>\n",
       "    <tr>\n",
       "      <th class=\"index_name level0\" >flight_id</th>\n",
       "      <th class=\"blank col0\" >&nbsp;</th>\n",
       "    </tr>\n",
       "  </thead>\n",
       "  <tbody>\n",
       "    <tr>\n",
       "      <th id=\"T_6442a_level0_row0\" class=\"row_heading level0 row0\" >EZY59KU_001</th>\n",
       "      <td id=\"T_6442a_row0_col0\" class=\"data row0 col0\" >120</td>\n",
       "    </tr>\n",
       "    <tr>\n",
       "      <th id=\"T_6442a_level0_row1\" class=\"row_heading level0 row1\" >EAU24K_000</th>\n",
       "      <td id=\"T_6442a_row1_col0\" class=\"data row1 col0\" >119</td>\n",
       "    </tr>\n",
       "  </tbody>\n",
       "</table>\n"
      ],
      "text/plain": [
       "     flight_id  count\n",
       "0  EZY59KU_001    120\n",
       "1   EAU24K_000    119"
      ]
     },
     "execution_count": 8,
     "metadata": {},
     "output_type": "execute_result"
    }
   ],
   "source": [
    "import numpy as np\n",
    "import pandas as pd\n",
    "\n",
    "\n",
    "def resample_flight_1hz(df: pd.DataFrame) -> pd.DataFrame:\n",
    "    df = df.copy().sort_values(\"timestamp\").set_index(\"timestamp\")\n",
    "\n",
    "    # Ensure UTC tz-aware\n",
    "    if df.index.tz is None:\n",
    "        df.index = df.index.tz_localize(\"UTC\")\n",
    "    else:\n",
    "        df.index = df.index.tz_convert(\"UTC\")\n",
    "\n",
    "    # --- Collapse duplicate timestamps (same second) ---\n",
    "    # Define columns\n",
    "    num_cols = [\n",
    "        c\n",
    "        for c in [\"latitude\", \"longitude\", \"altitude\", \"groundspeed\", \"vertical_rate\"]\n",
    "        if c in df.columns\n",
    "    ]\n",
    "    id_cols = [c for c in [\"flight_id\", \"icao24\", \"callsign\"] if c in df.columns]\n",
    "\n",
    "    def circ_mean_deg(s: pd.Series):\n",
    "        s = s.dropna()\n",
    "        if s.empty:\n",
    "            return np.nan\n",
    "        rad = np.deg2rad(s.values)\n",
    "        return (\n",
    "            np.degrees(np.arctan2(np.sin(rad).mean(), np.cos(rad).mean())) + 360.0\n",
    "        ) % 360.0\n",
    "\n",
    "    if not df.index.is_unique:\n",
    "        aggs = {c: \"mean\" for c in num_cols}\n",
    "        if \"track\" in df.columns:\n",
    "            aggs[\"track\"] = circ_mean_deg\n",
    "        for c in id_cols:\n",
    "            # keep the last non-null label observed at that timestamp\n",
    "            aggs[c] = lambda s: s.dropna().iloc[-1] if s.dropna().size else np.nan\n",
    "        df = df.groupby(level=0, sort=True).agg(aggs)\n",
    "\n",
    "    # Build 1 Hz grid\n",
    "    start = df.index[0].ceil(\"s\")\n",
    "    end = df.index[-1].floor(\"s\")\n",
    "    if end < start:\n",
    "        # No whole-second span; return any rows already on whole seconds\n",
    "        out = df[df.index == df.index.round(\"S\")].reset_index()\n",
    "        out.rename(columns={\"index\": \"timestamp\"}, inplace=True)\n",
    "        return out\n",
    "\n",
    "    grid = pd.date_range(start, end, freq=\"1s\", tz=\"UTC\")\n",
    "\n",
    "    # Interpolate over the union, then select grid\n",
    "    union = df.index.union(grid, sort=False)\n",
    "    w = df.reindex(union)\n",
    "\n",
    "    # Time-based interpolation for numeric\n",
    "    for c in num_cols:\n",
    "        w[c] = w[c].interpolate(method=\"time\")\n",
    "\n",
    "    # Track via vector interpolation\n",
    "    if \"track\" in w.columns:\n",
    "        rad = np.deg2rad(w[\"track\"])\n",
    "        x = np.cos(rad).interpolate(method=\"time\")\n",
    "        y = np.sin(rad).interpolate(method=\"time\")\n",
    "        w[\"track\"] = (np.degrees(np.arctan2(y, x)) + 360.0) % 360.0\n",
    "\n",
    "    # IDs forward/back fill\n",
    "    for c in id_cols:\n",
    "        w[c] = w[c].ffill().bfill()\n",
    "\n",
    "    # Keep only the grid and tidy columns\n",
    "    w = w.reindex(grid)\n",
    "    cols2keep = [\n",
    "        \"flight_id\",\n",
    "        \"latitude\",\n",
    "        \"longitude\",\n",
    "        \"altitude\",\n",
    "        \"track\",\n",
    "        \"groundspeed\",\n",
    "        \"vertical_rate\",\n",
    "        \"icao24\",\n",
    "        \"callsign\",\n",
    "    ]\n",
    "    cols2keep = [c for c in cols2keep if c in w.columns]\n",
    "    w = w[cols2keep].reset_index().rename(columns={\"index\": \"timestamp\"})\n",
    "    return w\n",
    "\n",
    "\n",
    "# Usage\n",
    "l_rs = []\n",
    "for f in conflicting_pair:\n",
    "    df_rs = resample_flight_1hz(f.data)\n",
    "    l_rs.append(df_rs)\n",
    "\n",
    "df_all_1hz = pd.concat(l_rs, ignore_index=True)\n",
    "conflicting_pair = Traffic(df_all_1hz).assign_id().eval()\n",
    "conflicting_pair"
   ]
  },
  {
   "cell_type": "code",
   "execution_count": 9,
   "id": "c193fcff",
   "metadata": {},
   "outputs": [
    {
     "data": {
      "application/vnd.plotly.v1+json": {
       "config": {
        "plotlyServerURL": "https://plot.ly"
       },
       "data": [
        {
         "hovertemplate": "latitude=%{lat}<br>longitude=%{lon}<br>altitude=%{marker.color}<extra></extra>",
         "lat": {
          "bdata": "IGUH8KmDR0AbxdMCn4NHQIsRuAOSg0dAQH8omIODR0CfZyVFdoNHQLf+69dpg0dAZHbHKFmDR0Cca4sJS4NHQJHZCPI4g0dA+GKUgCaDR0DM9wgqFYNHQPKU5qcCg0dANFvc1O6CR0Drt73i24JHQKdN9/jEgkdAKJhyPK6CR0AT6PtcmoJHQPTSGkiCgkdA3ZfH4GiCR0BnzwexUoJHQCCH3i07gkdAtzw/yyCCR0BoZitwCYJHQN+rO8rxgUdACDautNiBR0D8vvxAwoFHQJ5tjAKqgUdAh3w9xY+BR0BavR8weIFHQLmS9FhfgUdATdUd0EeBR0C1VaDLLoFHQHxF86EVgUdAOxU9/PyAR0BWJ/5z5IBHQMDyjybKgEdAbjy3n7GAR0DLt+XAl4BHQE+VBUl/gEdApnxjy2iAR0Aqo1+sTYBHQGfXXqM0gEdAHMrNyRyAR0BInA1hAoBHQHdYsvTof0dA7YTxYdJ/R0Bl2sQrun9HQGpBExuif0dAIwlrRYd/R0A9jzJ/bn9HQL36z2ZUf0dAM+1c9T1/R0DEPGsyJX9HQBVka0YLf0dAafAQwPV+R0DiM1D53H5HQN567AnFfkdAfiPwhKt+R0BM5D9+k35HQEcp7dJ7fkdA1ZpRcfSRR0AfLnlaupFHQJA5FuWBkUdALZ8M3UiRR0BkbRppD5FHQG3hZrLTkEdA+oZOLJqQR0BP5dxsYJBHQHlABkomkEdAvRaWuuuPR0DpULsXso9HQHDUoJB3j0dAaRj3+z6PR0CVKaL+Ao9HQGQ5YP/JjkdAK4KGU4+OR0CARLIhVY5HQAPgvl8bjkdAqYAcu+CNR0BphEmOqI1HQNNc4ittjUdA0T+9cDONR0Bjmz4R+oxHQCMV31m/jEdAyjbq54OMR0A5M+UWSoxHQFnSBKQQjEdAZ/3MnteLR0CINrHxnItHQI1iK35ji0dAkG3b8SeLR0ANkw+n7opHQCLuyt+1ikdAmufK9XuKR0B8QFHYQIpHQHlKCEEHikdAnQW3RM2JR0AHVZLxkYlHQBieNtpXiUdAI9Dr8B2JR0AUUEcc5YhHQMSsIe6qiEdAfSh+5HCIR0D6Z9aiNohHQIE49AD9h0dAOWDb9sGHR0BOVSjGh4dHQHJqgvtOh0dAeTlDdxSHR0DEx2vx2YZHQMf6QQyghkdA/gNvQWaGR0AfFm+PLIZHQGyVzMTyhUdA9Zx8j7eFR0AMd8LAfYVHQCsvg9REhUdAOcpZbAmFR0DzXm0qz4RHQI77XbaVhEdA",
          "dtype": "f8"
         },
         "legendgroup": "",
         "lon": {
          "bdata": "Bc0ngUeWIEDIRCFOr5QgQISMrvjakiBAOP69o+eQIEDkhyt1M48gQG/Zp02ijSBAMgZCJLmLIED23FQJQoogQLqFLE5QiCBAHqwh4HuGIEAqSh7W3YQgQFXiuxs2gyBAdui01GqBIEB7n1Te138gQCHU+YT2fSBA9XF0bix8IEC4rYmwqHogQIg8qI/VeCBAAAAALBB3IEDe3d3dbXUgQNxtmi3UcyBAwdDL3f5xIEA4GoUeZHAgQPorbCTHbiBAeT15OSFtIECHx+R3lWsgQH2blMLmaSBA/65rOBxoIECxwEqohmYgQNUTJOHYZCBAEeSKyDljIEBjgPvSh2EgQERUAzfkXyBAHsPYYUxeIECIDWYWrFwgQNEelWD0WiBABQkFWlhZIEBzi4OHnlcgQPIsnoUHViBA2QeoQZhUIEA2BCpc3VIgQPn7er47USBA0YbDgatPIEAA3a8l+00gQArU3rRWTCBABwOvstZKIECJkeZNTUkgQMvAEoi5RyBAMEnP3gVGIEA8iS/IYEQgQNm42YW1QiBA8MdGnEJBIEAiNBLAoT8gQCsJNaj1PSBAkV7vU448IEA7nE0M4zogQFLswYheOSBAHHT5T743IEBS/27xKzYgQFql34ajNCBAOdH07FBHH0DUEjrKikgfQIbpie+7SR9AuuHUnuxKH0CHjXwRIEwfQAt4MyNWTR9AMW8mYIVOH0Cvxi2fxU8fQJYb9o/2UB9AZDPgby1SH0CrxRPaYVMfQF9/9kaUVB9ANRmg2cZVH0CAJtcaC1cfQFLJB7c5WB9A7MRO7HRZH0Dseb8do1ofQJKeY3LbWx9A/Lgw3hpdH0AZjTVVSl4fQHX3gx+EXx9APXYeqLZgH0AnFeG97mEfQLmM6EkuYx9AuBGQeGdkH0CScvw/mmUfQGLVn3PVZh9Ak0H07wBoH0DYHZyZOGkfQN/xwOJlah9AzgmECa9rH0BOb8g14mwfQK3iEkQQbh9A+BH1jEVvH0CDR1kziHAfQMrK5TW9cR9AazID/etyH0Ca7CZGJHQfQGdlubFddR9AzQhJKpV2H0A9RiYmxHcfQOmRgAD3eB9AiP2qLDd6H0CTy2v+bHsfQFCc0xWlfB9Alu0YjN99H0BCRRcSF38fQGdI9tBCgB9AusV3tHeBH0BSnksgs4IfQIrWPSDrgx9A1GYTaSKFH0DB4njMWYYfQAaBoVWFhx9AVGopMruIH0AM4icJ8okfQLaf73Exix9AIPvC9meMH0BVuLRbpo0fQGBddRvajh9A",
          "dtype": "f8"
         },
         "marker": {
          "color": {
           "bdata": "d+cY+Kjq30AjlsMYo9/fQMITwDDM2t9AVqRq1MXU30DTrb00bM7fQFdUjQ6dxt9AtLzcUq+730BGOrSnBrTfQAAAAABAqt9AISXPMmKl30A2/KW7tpvfQHmdshTpk99AjrgUXf2I30DWTLgOrYHfQMsUO9yBdt9Am4Y8Hd5w30CrFiqO0WrfQICIXUtLXt9AAAAAALtX30DkOI7jeFHfQH8m/JkAT99A/7Mkr0FS30D6K1coz0HfQJv6TPHXMd9AJAmOtPEl30AiXeoPgB3fQHu7Zx/bEt9A0hVuxdMM30DKmNUm2wXfQOwyxRuK/d5At+qLCCjz3kA/BpExsuzeQMrHuFd35N5AqolNOTLa3kA7W+o3KNLeQE5IybMsx95A7sI+EATB3kAO28MzBrjeQCd6z4Nart5AkRXno/6r3kCL9It397LeQAqRVdp1mN5AAAAAAACR3kA2sbSK4o7eQEI8pUyFiN5AIlymZwSD3kAAAAAAQH7eQEpn///PfN5ABeX7ByR23kAAAAAAwHHeQEis1WNrb95AqW7ne69p3kAAAAAAQGXeQPhRsevVY95AAAAAAABf3kBuJ6u+8FzeQAAAAADAWN5AZlv8haRW3kBP/S+6W1DeQAAAAABATN5AAAAAAABG3kAAAAAAAEbeQAAAAAAARt5AAAAAAABG3kAAAAAAAEbeQAAAAAAARt5AAAAAAABG3kAAAAAAAEbeQAAAAAAARt5AAAAAAABG3kAAAAAAAEbeQAAAAAAARt5AAAAAAABG3kAAAAAAAEbeQAAAAAAARt5AAAAAAABG3kAAAAAAAEbeQHWhJxoqQ95AAAAAAMA/3kAAAAAAwD/eQAAAAADAP95AAAAAAMA/3kCGZOCCoEHeQAAAAAAARt5AAAAAAABG3kCbqhl8mEPeQB3wBAmbQd5AAAAAAABG3kAAAAAAAEbeQAAAAAAARt5AAAAAAABG3kAAAAAAAEbeQAAAAAAARt5AAAAAAABG3kAAAAAAAEbeQAAAAAAARt5AAAAAAABG3kAAAAAAAEbeQAAAAAAARt5AAAAAAABG3kAAAAAAAEbeQAAAAAAARt5AAAAAAABG3kAAAAAAAEbeQAAAAAAARt5AAAAAAABG3kAAAAAAAEbeQAAAAAAARt5AAAAAAABG3kAAAAAAAEbeQAAAAAAARt5AAAAAAABG3kAAAAAAAEbeQAAAAAAARt5AAAAAAABG3kAAAAAAAEbeQAAAAAAARt5AAAAAAABG3kAAAAAAAEbeQAAAAAAARt5A",
           "dtype": "f8"
          },
          "coloraxis": "coloraxis"
         },
         "mode": "markers",
         "name": "",
         "showlegend": false,
         "subplot": "map",
         "type": "scattermap"
        }
       ],
       "layout": {
        "coloraxis": {
         "colorbar": {
          "title": {
           "text": "altitude"
          }
         },
         "colorscale": [
          [
           0,
           "#0d0887"
          ],
          [
           0.1111111111111111,
           "#46039f"
          ],
          [
           0.2222222222222222,
           "#7201a8"
          ],
          [
           0.3333333333333333,
           "#9c179e"
          ],
          [
           0.4444444444444444,
           "#bd3786"
          ],
          [
           0.5555555555555556,
           "#d8576b"
          ],
          [
           0.6666666666666666,
           "#ed7953"
          ],
          [
           0.7777777777777778,
           "#fb9f3a"
          ],
          [
           0.8888888888888888,
           "#fdca26"
          ],
          [
           1,
           "#f0f921"
          ]
         ]
        },
        "legend": {
         "tracegroupgap": 0
        },
        "map": {
         "center": {
          "lat": 47.04896072490621,
          "lon": 8.025419385158983
         },
         "domain": {
          "x": [
           0,
           1
          ],
          "y": [
           0,
           1
          ]
         },
         "style": "carto-positron",
         "zoom": 8
        },
        "mapbox": {
         "center": {
          "lat": 47.04896072490621,
          "lon": 8.025419385158983
         },
         "style": "carto-positron",
         "zoom": 8
        },
        "margin": {
         "t": 60
        },
        "template": {
         "data": {
          "bar": [
           {
            "error_x": {
             "color": "#2a3f5f"
            },
            "error_y": {
             "color": "#2a3f5f"
            },
            "marker": {
             "line": {
              "color": "#E5ECF6",
              "width": 0.5
             },
             "pattern": {
              "fillmode": "overlay",
              "size": 10,
              "solidity": 0.2
             }
            },
            "type": "bar"
           }
          ],
          "barpolar": [
           {
            "marker": {
             "line": {
              "color": "#E5ECF6",
              "width": 0.5
             },
             "pattern": {
              "fillmode": "overlay",
              "size": 10,
              "solidity": 0.2
             }
            },
            "type": "barpolar"
           }
          ],
          "carpet": [
           {
            "aaxis": {
             "endlinecolor": "#2a3f5f",
             "gridcolor": "white",
             "linecolor": "white",
             "minorgridcolor": "white",
             "startlinecolor": "#2a3f5f"
            },
            "baxis": {
             "endlinecolor": "#2a3f5f",
             "gridcolor": "white",
             "linecolor": "white",
             "minorgridcolor": "white",
             "startlinecolor": "#2a3f5f"
            },
            "type": "carpet"
           }
          ],
          "choropleth": [
           {
            "colorbar": {
             "outlinewidth": 0,
             "ticks": ""
            },
            "type": "choropleth"
           }
          ],
          "contour": [
           {
            "colorbar": {
             "outlinewidth": 0,
             "ticks": ""
            },
            "colorscale": [
             [
              0,
              "#0d0887"
             ],
             [
              0.1111111111111111,
              "#46039f"
             ],
             [
              0.2222222222222222,
              "#7201a8"
             ],
             [
              0.3333333333333333,
              "#9c179e"
             ],
             [
              0.4444444444444444,
              "#bd3786"
             ],
             [
              0.5555555555555556,
              "#d8576b"
             ],
             [
              0.6666666666666666,
              "#ed7953"
             ],
             [
              0.7777777777777778,
              "#fb9f3a"
             ],
             [
              0.8888888888888888,
              "#fdca26"
             ],
             [
              1,
              "#f0f921"
             ]
            ],
            "type": "contour"
           }
          ],
          "contourcarpet": [
           {
            "colorbar": {
             "outlinewidth": 0,
             "ticks": ""
            },
            "type": "contourcarpet"
           }
          ],
          "heatmap": [
           {
            "colorbar": {
             "outlinewidth": 0,
             "ticks": ""
            },
            "colorscale": [
             [
              0,
              "#0d0887"
             ],
             [
              0.1111111111111111,
              "#46039f"
             ],
             [
              0.2222222222222222,
              "#7201a8"
             ],
             [
              0.3333333333333333,
              "#9c179e"
             ],
             [
              0.4444444444444444,
              "#bd3786"
             ],
             [
              0.5555555555555556,
              "#d8576b"
             ],
             [
              0.6666666666666666,
              "#ed7953"
             ],
             [
              0.7777777777777778,
              "#fb9f3a"
             ],
             [
              0.8888888888888888,
              "#fdca26"
             ],
             [
              1,
              "#f0f921"
             ]
            ],
            "type": "heatmap"
           }
          ],
          "histogram": [
           {
            "marker": {
             "pattern": {
              "fillmode": "overlay",
              "size": 10,
              "solidity": 0.2
             }
            },
            "type": "histogram"
           }
          ],
          "histogram2d": [
           {
            "colorbar": {
             "outlinewidth": 0,
             "ticks": ""
            },
            "colorscale": [
             [
              0,
              "#0d0887"
             ],
             [
              0.1111111111111111,
              "#46039f"
             ],
             [
              0.2222222222222222,
              "#7201a8"
             ],
             [
              0.3333333333333333,
              "#9c179e"
             ],
             [
              0.4444444444444444,
              "#bd3786"
             ],
             [
              0.5555555555555556,
              "#d8576b"
             ],
             [
              0.6666666666666666,
              "#ed7953"
             ],
             [
              0.7777777777777778,
              "#fb9f3a"
             ],
             [
              0.8888888888888888,
              "#fdca26"
             ],
             [
              1,
              "#f0f921"
             ]
            ],
            "type": "histogram2d"
           }
          ],
          "histogram2dcontour": [
           {
            "colorbar": {
             "outlinewidth": 0,
             "ticks": ""
            },
            "colorscale": [
             [
              0,
              "#0d0887"
             ],
             [
              0.1111111111111111,
              "#46039f"
             ],
             [
              0.2222222222222222,
              "#7201a8"
             ],
             [
              0.3333333333333333,
              "#9c179e"
             ],
             [
              0.4444444444444444,
              "#bd3786"
             ],
             [
              0.5555555555555556,
              "#d8576b"
             ],
             [
              0.6666666666666666,
              "#ed7953"
             ],
             [
              0.7777777777777778,
              "#fb9f3a"
             ],
             [
              0.8888888888888888,
              "#fdca26"
             ],
             [
              1,
              "#f0f921"
             ]
            ],
            "type": "histogram2dcontour"
           }
          ],
          "mesh3d": [
           {
            "colorbar": {
             "outlinewidth": 0,
             "ticks": ""
            },
            "type": "mesh3d"
           }
          ],
          "parcoords": [
           {
            "line": {
             "colorbar": {
              "outlinewidth": 0,
              "ticks": ""
             }
            },
            "type": "parcoords"
           }
          ],
          "pie": [
           {
            "automargin": true,
            "type": "pie"
           }
          ],
          "scatter": [
           {
            "fillpattern": {
             "fillmode": "overlay",
             "size": 10,
             "solidity": 0.2
            },
            "type": "scatter"
           }
          ],
          "scatter3d": [
           {
            "line": {
             "colorbar": {
              "outlinewidth": 0,
              "ticks": ""
             }
            },
            "marker": {
             "colorbar": {
              "outlinewidth": 0,
              "ticks": ""
             }
            },
            "type": "scatter3d"
           }
          ],
          "scattercarpet": [
           {
            "marker": {
             "colorbar": {
              "outlinewidth": 0,
              "ticks": ""
             }
            },
            "type": "scattercarpet"
           }
          ],
          "scattergeo": [
           {
            "marker": {
             "colorbar": {
              "outlinewidth": 0,
              "ticks": ""
             }
            },
            "type": "scattergeo"
           }
          ],
          "scattergl": [
           {
            "marker": {
             "colorbar": {
              "outlinewidth": 0,
              "ticks": ""
             }
            },
            "type": "scattergl"
           }
          ],
          "scattermap": [
           {
            "marker": {
             "colorbar": {
              "outlinewidth": 0,
              "ticks": ""
             }
            },
            "type": "scattermap"
           }
          ],
          "scattermapbox": [
           {
            "marker": {
             "colorbar": {
              "outlinewidth": 0,
              "ticks": ""
             }
            },
            "type": "scattermapbox"
           }
          ],
          "scatterpolar": [
           {
            "marker": {
             "colorbar": {
              "outlinewidth": 0,
              "ticks": ""
             }
            },
            "type": "scatterpolar"
           }
          ],
          "scatterpolargl": [
           {
            "marker": {
             "colorbar": {
              "outlinewidth": 0,
              "ticks": ""
             }
            },
            "type": "scatterpolargl"
           }
          ],
          "scatterternary": [
           {
            "marker": {
             "colorbar": {
              "outlinewidth": 0,
              "ticks": ""
             }
            },
            "type": "scatterternary"
           }
          ],
          "surface": [
           {
            "colorbar": {
             "outlinewidth": 0,
             "ticks": ""
            },
            "colorscale": [
             [
              0,
              "#0d0887"
             ],
             [
              0.1111111111111111,
              "#46039f"
             ],
             [
              0.2222222222222222,
              "#7201a8"
             ],
             [
              0.3333333333333333,
              "#9c179e"
             ],
             [
              0.4444444444444444,
              "#bd3786"
             ],
             [
              0.5555555555555556,
              "#d8576b"
             ],
             [
              0.6666666666666666,
              "#ed7953"
             ],
             [
              0.7777777777777778,
              "#fb9f3a"
             ],
             [
              0.8888888888888888,
              "#fdca26"
             ],
             [
              1,
              "#f0f921"
             ]
            ],
            "type": "surface"
           }
          ],
          "table": [
           {
            "cells": {
             "fill": {
              "color": "#EBF0F8"
             },
             "line": {
              "color": "white"
             }
            },
            "header": {
             "fill": {
              "color": "#C8D4E3"
             },
             "line": {
              "color": "white"
             }
            },
            "type": "table"
           }
          ]
         },
         "layout": {
          "annotationdefaults": {
           "arrowcolor": "#2a3f5f",
           "arrowhead": 0,
           "arrowwidth": 1
          },
          "autotypenumbers": "strict",
          "coloraxis": {
           "colorbar": {
            "outlinewidth": 0,
            "ticks": ""
           }
          },
          "colorscale": {
           "diverging": [
            [
             0,
             "#8e0152"
            ],
            [
             0.1,
             "#c51b7d"
            ],
            [
             0.2,
             "#de77ae"
            ],
            [
             0.3,
             "#f1b6da"
            ],
            [
             0.4,
             "#fde0ef"
            ],
            [
             0.5,
             "#f7f7f7"
            ],
            [
             0.6,
             "#e6f5d0"
            ],
            [
             0.7,
             "#b8e186"
            ],
            [
             0.8,
             "#7fbc41"
            ],
            [
             0.9,
             "#4d9221"
            ],
            [
             1,
             "#276419"
            ]
           ],
           "sequential": [
            [
             0,
             "#0d0887"
            ],
            [
             0.1111111111111111,
             "#46039f"
            ],
            [
             0.2222222222222222,
             "#7201a8"
            ],
            [
             0.3333333333333333,
             "#9c179e"
            ],
            [
             0.4444444444444444,
             "#bd3786"
            ],
            [
             0.5555555555555556,
             "#d8576b"
            ],
            [
             0.6666666666666666,
             "#ed7953"
            ],
            [
             0.7777777777777778,
             "#fb9f3a"
            ],
            [
             0.8888888888888888,
             "#fdca26"
            ],
            [
             1,
             "#f0f921"
            ]
           ],
           "sequentialminus": [
            [
             0,
             "#0d0887"
            ],
            [
             0.1111111111111111,
             "#46039f"
            ],
            [
             0.2222222222222222,
             "#7201a8"
            ],
            [
             0.3333333333333333,
             "#9c179e"
            ],
            [
             0.4444444444444444,
             "#bd3786"
            ],
            [
             0.5555555555555556,
             "#d8576b"
            ],
            [
             0.6666666666666666,
             "#ed7953"
            ],
            [
             0.7777777777777778,
             "#fb9f3a"
            ],
            [
             0.8888888888888888,
             "#fdca26"
            ],
            [
             1,
             "#f0f921"
            ]
           ]
          },
          "colorway": [
           "#636efa",
           "#EF553B",
           "#00cc96",
           "#ab63fa",
           "#FFA15A",
           "#19d3f3",
           "#FF6692",
           "#B6E880",
           "#FF97FF",
           "#FECB52"
          ],
          "font": {
           "color": "#2a3f5f"
          },
          "geo": {
           "bgcolor": "white",
           "lakecolor": "white",
           "landcolor": "#E5ECF6",
           "showlakes": true,
           "showland": true,
           "subunitcolor": "white"
          },
          "hoverlabel": {
           "align": "left"
          },
          "hovermode": "closest",
          "mapbox": {
           "style": "light"
          },
          "paper_bgcolor": "white",
          "plot_bgcolor": "#E5ECF6",
          "polar": {
           "angularaxis": {
            "gridcolor": "white",
            "linecolor": "white",
            "ticks": ""
           },
           "bgcolor": "#E5ECF6",
           "radialaxis": {
            "gridcolor": "white",
            "linecolor": "white",
            "ticks": ""
           }
          },
          "scene": {
           "xaxis": {
            "backgroundcolor": "#E5ECF6",
            "gridcolor": "white",
            "gridwidth": 2,
            "linecolor": "white",
            "showbackground": true,
            "ticks": "",
            "zerolinecolor": "white"
           },
           "yaxis": {
            "backgroundcolor": "#E5ECF6",
            "gridcolor": "white",
            "gridwidth": 2,
            "linecolor": "white",
            "showbackground": true,
            "ticks": "",
            "zerolinecolor": "white"
           },
           "zaxis": {
            "backgroundcolor": "#E5ECF6",
            "gridcolor": "white",
            "gridwidth": 2,
            "linecolor": "white",
            "showbackground": true,
            "ticks": "",
            "zerolinecolor": "white"
           }
          },
          "shapedefaults": {
           "line": {
            "color": "#2a3f5f"
           }
          },
          "ternary": {
           "aaxis": {
            "gridcolor": "white",
            "linecolor": "white",
            "ticks": ""
           },
           "baxis": {
            "gridcolor": "white",
            "linecolor": "white",
            "ticks": ""
           },
           "bgcolor": "#E5ECF6",
           "caxis": {
            "gridcolor": "white",
            "linecolor": "white",
            "ticks": ""
           }
          },
          "title": {
           "x": 0.05
          },
          "xaxis": {
           "automargin": true,
           "gridcolor": "white",
           "linecolor": "white",
           "ticks": "",
           "title": {
            "standoff": 15
           },
           "zerolinecolor": "white",
           "zerolinewidth": 2
          },
          "yaxis": {
           "automargin": true,
           "gridcolor": "white",
           "linecolor": "white",
           "ticks": "",
           "title": {
            "standoff": 15
           },
           "zerolinecolor": "white",
           "zerolinewidth": 2
          }
         }
        }
       }
      }
     },
     "metadata": {},
     "output_type": "display_data"
    }
   ],
   "source": [
    "fig = conflicting_pair.first(\"1m\").eval().scatter_map(color=\"altitude\")\n",
    "fig.update_layout(\n",
    "    map_style=\"carto-positron\",\n",
    "    # height = 400,\n",
    "    # width = 800\n",
    ")\n",
    "fig.write_html(\"figures/conflicting_pair.html\")\n",
    "fig.show()\n"
   ]
  },
  {
   "cell_type": "code",
   "execution_count": null,
   "id": "d2e87025",
   "metadata": {},
   "outputs": [],
   "source": [
    "f1_df = conflicting_pair[0].first(\"60s\").data\n",
    "f2_df = conflicting_pair[1].first(\"60s\").data\n",
    "gt1 = conflicting_pair[0].last(\"60s\").data\n",
    "gt2 = conflicting_pair[1].last(\"60s\").data"
   ]
  },
  {
   "cell_type": "code",
   "execution_count": 11,
   "id": "3ba4a8ce",
   "metadata": {},
   "outputs": [
    {
     "data": {
      "text/plain": [
       "(60, 9)"
      ]
     },
     "execution_count": 11,
     "metadata": {},
     "output_type": "execute_result"
    }
   ],
   "source": [
    "cols2keep = [\n",
    "    \"timestamp\",\n",
    "    \"latitude\",\n",
    "    \"longitude\",\n",
    "    \"altitude\",\n",
    "    \"track\",\n",
    "    \"groundspeed\",\n",
    "    \"vertical_rate\",\n",
    "    \"icao24\",\n",
    "    \"callsign\",\n",
    "]\n",
    "f1_df = f1_df[cols2keep]\n",
    "f2_df = f2_df[cols2keep]\n",
    "f1_df.shape"
   ]
  },
  {
   "cell_type": "code",
   "execution_count": 21,
   "id": "30e3f274",
   "metadata": {},
   "outputs": [],
   "source": [
    "import importlib\n",
    "import generate_predictions\n",
    "\n",
    "importlib.reload(generate_predictions)\n",
    "from generate_predictions import (\n",
    "    predict_trajectories,\n",
    "    calculate_trajectory_spacings,\n",
    "    calculate_conflicting_pair_spacings,\n",
    ")"
   ]
  },
  {
   "cell_type": "code",
   "execution_count": 22,
   "id": "ab51a9d7",
   "metadata": {},
   "outputs": [],
   "source": [
    "n_samps = 20\n",
    "sampling_rate = 1  # s\n",
    "f1_latlonalt = predict_trajectories(\n",
    "    f1_df,\n",
    "    model,\n",
    "    feat_mean,\n",
    "    feat_std,\n",
    "    ctx_mean,\n",
    "    ctx_std,\n",
    "    DEVICE,\n",
    "    n_samples=n_samps,\n",
    "    sampling_rate=sampling_rate,\n",
    ")\n",
    "f2_latlonalt = predict_trajectories(\n",
    "    f2_df,\n",
    "    model,\n",
    "    feat_mean,\n",
    "    feat_std,\n",
    "    ctx_mean,\n",
    "    ctx_std,\n",
    "    DEVICE,\n",
    "    n_samples=n_samps,\n",
    "    sampling_rate=sampling_rate,\n",
    ")"
   ]
  },
  {
   "cell_type": "code",
   "execution_count": 23,
   "id": "9ba93dcf",
   "metadata": {},
   "outputs": [
    {
     "name": "stdout",
     "output_type": "stream",
     "text": [
      "Wrote: ['webdata/histories.geojson', 'webdata/futures_f1.geojson', 'webdata/futures_f2.geojson', 'webdata/meta.json']\n"
     ]
    }
   ],
   "source": [
    "# === save_geojson.py ===\n",
    "import json, numpy as np, pandas as pd\n",
    "from pathlib import Path\n",
    "\n",
    "# assumes f1_df, f2_df, f1_latlonalt, f2_latlonalt already defined (like in your notebook)\n",
    "\n",
    "OUTDIR = Path(\"webdata\")\n",
    "OUTDIR.mkdir(parents=True, exist_ok=True)\n",
    "\n",
    "\n",
    "def to_feature_line(coords, props, altitudes=None):\n",
    "    feature = {\n",
    "        \"type\": \"Feature\",\n",
    "        \"geometry\": {\"type\": \"LineString\", \"coordinates\": coords},\n",
    "        \"properties\": props,\n",
    "    }\n",
    "    if altitudes is not None:\n",
    "        feature[\"properties\"][\"altitudes_ft\"] = altitudes\n",
    "    return feature\n",
    "\n",
    "\n",
    "# Histories (one LineString per flight). Mapbox needs [lon, lat] order.\n",
    "hist_features = []\n",
    "for flight_id, df in [(\"f1\", f1_df), (\"f2\", f2_df)]:\n",
    "    coords = list(zip(df[\"longitude\"].astype(float), df[\"latitude\"].astype(float)))\n",
    "    altitudes = (\n",
    "        df[\"altitude\"].astype(float).tolist() if \"altitude\" in df.columns else None\n",
    "    )\n",
    "    # epoch seconds per vertex (handy if you later want time-accurate pacing in JS)\n",
    "    ts = pd.to_datetime(df[\"timestamp\"]).astype(\"int64\") // 10**9\n",
    "    hist_features.append(\n",
    "        to_feature_line(\n",
    "            coords,\n",
    "            {\"flight\": flight_id, \"timestamps\": ts.tolist()},\n",
    "            altitudes=altitudes,\n",
    "        )\n",
    "    )\n",
    "\n",
    "with open(OUTDIR / \"histories.geojson\", \"w\") as f:\n",
    "    json.dump({\"type\": \"FeatureCollection\", \"features\": hist_features}, f)\n",
    "\n",
    "\n",
    "# Futures (many LineStrings per flight: one per sample)\n",
    "def futures_fc(latlonalt_list, flight_id, n_samples=20, T=None):\n",
    "    feats = []\n",
    "    n = min(n_samples, len(latlonalt_list))\n",
    "    for i in range(n):\n",
    "        arr = latlonalt_list[i]\n",
    "        if T is not None:\n",
    "            arr = arr[:T]\n",
    "        # arr rows are [lat, lon, alt]\n",
    "        coords = [(float(lon), float(lat)) for (lat, lon, *_rest) in arr]\n",
    "        altitudes = [float(alt) for (*_, alt) in arr] if arr.shape[1] >= 3 else None\n",
    "        feats.append(\n",
    "            to_feature_line(\n",
    "                coords, {\"flight\": flight_id, \"sample\": i}, altitudes=altitudes\n",
    "            )\n",
    "        )\n",
    "    return {\"type\": \"FeatureCollection\", \"features\": feats}\n",
    "\n",
    "\n",
    "# choose a light number of samples for performance\n",
    "N_SAMPLES = 20\n",
    "with open(OUTDIR / \"futures_f1.geojson\", \"w\") as f:\n",
    "    json.dump(futures_fc(f1_latlonalt, \"f1\", n_samples=N_SAMPLES), f)\n",
    "with open(OUTDIR / \"futures_f2.geojson\", \"w\") as f:\n",
    "    json.dump(futures_fc(f2_latlonalt, \"f2\", n_samples=N_SAMPLES), f)\n",
    "\n",
    "# Useful viewport metadata (bounds)\n",
    "all_hist_ll = np.vstack(\n",
    "    [\n",
    "        np.column_stack([f1_df[\"longitude\"].to_numpy(), f1_df[\"latitude\"].to_numpy()]),\n",
    "        np.column_stack([f2_df[\"longitude\"].to_numpy(), f2_df[\"latitude\"].to_numpy()]),\n",
    "    ]\n",
    ")\n",
    "bounds = {\n",
    "    \"minLon\": float(np.nanmin(all_hist_ll[:, 0])),\n",
    "    \"minLat\": float(np.nanmin(all_hist_ll[:, 1])),\n",
    "    \"maxLon\": float(np.nanmax(all_hist_ll[:, 0])),\n",
    "    \"maxLat\": float(np.nanmax(all_hist_ll[:, 1])),\n",
    "}\n",
    "with open(OUTDIR / \"meta.json\", \"w\") as f:\n",
    "    json.dump(bounds, f, indent=2)\n",
    "\n",
    "print(\n",
    "    \"Wrote:\",\n",
    "    [\n",
    "        str(p)\n",
    "        for p in (\n",
    "            OUTDIR / \"histories.geojson\",\n",
    "            OUTDIR / \"futures_f1.geojson\",\n",
    "            OUTDIR / \"futures_f2.geojson\",\n",
    "            OUTDIR / \"meta.json\",\n",
    "        )\n",
    "    ],\n",
    ")"
   ]
  },
  {
   "cell_type": "code",
   "execution_count": 15,
   "id": "f2b10b10",
   "metadata": {},
   "outputs": [
    {
     "name": "stdout",
     "output_type": "stream",
     "text": [
      "\n",
      "==== LOSS OF SEPARATION/COLLISION SUMMARY ====\n",
      "Total trajectory samples compared: 10,000\n",
      "Number of Loss of Separation (LOS) (<1000ft & <5NM): 9711 (97.11%)\n",
      "Number of Collisions (<55ft & <0.03NM):        0 (0.00%)\n",
      "\n"
     ]
    }
   ],
   "source": [
    "spacing_df = calculate_trajectory_spacings(f1_latlonalt, f2_latlonalt)\n",
    "\n",
    "n_los = spacing_df.query(\"vert_spacing_ft < 1000 and hori_spacing_NM < 5\").shape[0]\n",
    "n_cols = spacing_df.query(\"vert_spacing_ft < 55 and hori_spacing_NM < 0.03\").shape[0]\n",
    "\n",
    "frac_los = n_los / spacing_df.shape[0]\n",
    "frac_cols = n_cols / spacing_df.shape[0]\n",
    "\n",
    "print(\"\\n==== LOSS OF SEPARATION/COLLISION SUMMARY ====\")\n",
    "print(f\"Total trajectory samples compared: {spacing_df.shape[0]:,}\")\n",
    "print(f\"Number of Loss of Separation (LOS) (<1000ft & <5NM): {n_los} ({frac_los:.2%})\")\n",
    "print(f\"Number of Collisions (<55ft & <0.03NM):        {n_cols} ({frac_cols:.2%})\\n\")\n"
   ]
  },
  {
   "cell_type": "code",
   "execution_count": 16,
   "id": "69c79ec5",
   "metadata": {},
   "outputs": [],
   "source": [
    "# px.histogram(\n",
    "#     spacing_df,\n",
    "#     x='CPA_3D_meter'\n",
    "# ).show()\n",
    "# fig = px.scatter(\n",
    "#     spacing_df,\n",
    "#     x='hori_spacing_NM',\n",
    "#     y='vert_spacing_ft'\n",
    "# )\n",
    "# # add a collision box with a vertical line at 55ft and an horizontal line at 0.03NM\n",
    "# fig.add_vrect(x0=0, x1=0.03, y0=0, y1=55, fillcolor=\"LightSalmon\", opacity=0.2, line_width=0)"
   ]
  },
  {
   "cell_type": "code",
   "execution_count": 24,
   "id": "3fe1000d",
   "metadata": {},
   "outputs": [
    {
     "data": {
      "application/vnd.plotly.v1+json": {
       "config": {
        "plotlyServerURL": "https://plot.ly"
       },
       "data": [
        {
         "lat": {
          "bdata": "wP7yuQ5+R0Bdpwwh9X1HQGC9YYfbfUdAmmI59sF9R0B/jQVbqH1HQIUsDb+OfUdAO1ubAnd9R0Bv635FX31HQKdrkYdHfUdAzfMfyS99R0Df4gMKGH1HQLxW/u3/fEdAn3y32ud8R0Avxne9z3xHQGQS0ai3fEdAFgIMip98R0D3vAciiHxHQMQCYblwfEdA6Gw8UFl8R0BSn1DmQXxHQLhhwnsqfEdA/QhRrhB8R0DHERzg9ntHQCVPkQfde0dATlTVN8N7R0C3wVVnqXtHQP9NkHOTe0dAWog8f317R0BHng6BZ3tHQEgNnotRe0dAiS6flTt7R0A19p1+I3tHQE8wEGcLe0dAyxhDRfN6R0BKplcs23pHQHvVmxLDekdAP3gjY6t6R0AcuXy8k3pHQDaPqQt8ekdA/R7JY2R6R0AQMd2xTHpHQEkO4BszekdAgMKCjhl6R0AyO8j2/3lHQIy2zWfmeUdAs+yVzsx5R0Bbe5AWtHlHQO86bVSbeUdAm1nqmoJ5R0DO1WjXaXlHQIKuphxReUdAQPZuwzp5R0BW13JpJHlHQGqMXRgOeUdA+6cVvfd4R0DtqEVh4XhHQA==",
          "dtype": "f8"
         },
         "line": {
          "color": "#1f77b4",
          "width": 1
         },
         "lon": {
          "bdata": "yrJPoJktIEBIPpBq8SsgQJRU+jdJKiBAoFpCd6EoIEAOuP5K+SYgQCHO5CFRJSBAp+C97cUjIEAvQFK8OiIgQBY64fuvICBAjfnrzyQfIEBIK7KmmR0gQP+/enQIHCBAjYWCRXcaIEDURa+q5RggQKz2V4FUFyBA+zZkWsMVIECI3im/QRQgQGlFkCbAEiBAL/NbIj4RIEAJWQSPvA8gQGmgTf46DiBA8+w535MMIEB38VPD7AogQDgxbRhGCSBA0//iAp8HIEBHs4bw9wUgQFrI2wuPBCBAoUx/KSYDIEAFHtTavAEgQCl0Ff1TACBA7qpKQ9b9H0AXqYfktvofQIou866W9x9AroqhWnf0H0CT3UYwV/EfQKdU8+c37h9Az+EfAkLrH0Dyb0ciTOgfQJFlTiNX5R9AsarlTWHiH0D/j/Z8a98fQKQob54F3B9A7/Udx5/YH0A4Z+7ROtUfQEj/jQfV0R9AN8TtQm/OH0Cm+DJ1TssfQPAFhawtyB9AQ1axxg3FH0Cq8IsJ7cEfQEif3lLMvh9A+3/bd8C7H0CmEEh+tbgfQLnKGK6ptR9AbGynvp6yH0BoUez3kq8fQA==",
          "dtype": "f8"
         },
         "mode": "lines",
         "name": "100 samples Flight 1",
         "opacity": 0.5,
         "showlegend": true,
         "type": "scattermap"
        },
        {
         "lat": {
          "bdata": "fgmgjAN+R0BE7P+J7n1HQG+dPH3ZfUdAVYmCecR9R0AknKVrr31HQG6W0WaafUdAkLl+lYF9R0BLAQjNaH1HQAvFQvpPfUdA+U5ZMDd9R0CMuyFcHn1HQAkjxqYHfUdAUbnR8PB8R0DI9dUw2nxHQAHur3nDfEdAoxnxwax8R0BOmYrKknxHQLrTXNJ4fEdArz/5z158R0At9jzWRHxHQEtuudsqfEdAS7PBmBR8R0A8H+tL/ntHQMbVygfoe0dACl3LudF7R0D6ioJ0u3tHQHm5+Uake0dA3a5AIo17R0DoelfzdXtHQB0WYc1ee0dAbmFdnUd7R0CU0n6ELntHQFNdcXQVe0dAUIcTWvx6R0DpaoZI43pHQE9WqSzKekdAUwo5sbN6R0ACasYrnXpHQA6XLq+GekdASnKUKHB6R0BTHtWqWXpHQKVD3D9AekdAW1CR3SZ6R0AbJBdxDXpHQB/kSg30eUdADW9Pn9p5R0BqMD8KwnlHQHa+THSpeUdAlWAl55B5R0CBpq1PeHlHQFYMkrdfeUdAMtK92kp5R0CWMcEGNnlHQFXb+ygheUdADXEOVAx5R0AhA1h193hHQA==",
          "dtype": "f8"
         },
         "line": {
          "color": "#1f77b4",
          "width": 1
         },
         "lon": {
          "bdata": "6VNGowYtIEDCCflCnysgQP57rFI4KiBA7znF9tAoIED0G98KaicgQGoIXrMCJiBA+EcVE2ckIEA1afcHyyIgQNGkoW0vISBAAYN2aJMfIEC08hPU9x0gQMduXtOBHCBAfAIi1QsbIEC43PDYlRkgQLRCp98fGCBAg9/W6KkWIEAmbmTX/hQgQOCSLMlTEyBAzkzEvagRIECQYgK2/Q8gQMI8e7FSDiBATzyYaeIMIEDLVHW1cQsgQJpWWXIBCiBAPDz/wpAIIEBAaKqEIAcgQGGKCVSjBSBAr3FhJiYEIEAP+RxpqQIgQIMAmEAsASBAPLJ/NF7/H0A9XzTaGPwfQP94YarS+B9AJiVSXI31H0Divro4R/IfQNTg5/YB7x9AMGFviyLsH0AwRgUkQ+kfQKb+LcJj5h9AA0lnZITjH0DmhzEMpeAfQFAmhVBd3R9Ag4bLmxXaH0Bf94rszdYfQJcVO0SG0x9A/M5moT7QH0ADnP3q8cwfQOP5ABemyR9AC9VibVnGH0BJanmlDcMfQPnmOgfBvx9AUAFkoCi9H0AEyqQakbofQFDA3bv4tx9A01wrPmG1H0DRZnTnyLIfQA==",
          "dtype": "f8"
         },
         "mode": "lines",
         "name": "100 samples Flight 1",
         "opacity": 0.5,
         "showlegend": false,
         "type": "scattermap"
        },
        {
         "lat": {
          "bdata": "jCJ/qwN+R0AI1C5S6n1HQCQeH/jQfUdA/FB3nbd9R0B5oOhBnn1HQBmPmuWEfUdARW7s+2x9R0AJmPwaVX1HQLWkxy89fUdA4Yh3TSV9R0B9qwhhDX1HQNKxTPPyfEdAHlrFhNh8R0A2MeEevnxHQPEkw66jfEdA1sHZPYl8R0DNdZ3TcXxHQIiswmhafEdA69va80J8R0DtHMOHK3xHQKrlDBsUfEdAgkJNS/l7R0CyOrd63ntHQNjQSqnDe0dAfAcI16h7R0Az4e4DjntHQNt5KP90e0dAk9yk+Vt7R0BaDtPpQntHQFk91eIpe0dAwDwa2xB7R0DTUr8R+HpHQDbCr0ffekdAABXKfMZ6R0DTbVGxrXpHQOolJOWUekdAaPmKJX16R0BHoUllZXpHQLingKRNekdAes7u4jV6R0DwzrQgHnpHQPoMEC8FekdA2RepPOx5R0DaFQ5T03lHQF2OIl+6eUdANtp0aqF5R0AVq/hzg3lHQJfXcHxleUdAwnBqjUd5R0D8I8uTKXlHQJY9IJkLeUdArNogdfd4R0BtiSFH43hHQBIEOyLPeEdAR+BU87p4R0CgPIfNpnhHQA==",
          "dtype": "f8"
         },
         "line": {
          "color": "#1f77b4",
          "width": 1
         },
         "lon": {
          "bdata": "tAkSXLEsIEAInWLEDisgQBZByi9sKSBAQAEIMMknIEB7WJ6hJiYgQFbsSxaEJCBANgh4a/IiIEB5xeDDYCEgQO+F44zPHyBAZ2/i6j0eIEC4eT1LrBwgQO6p8tn8GiBAzdD5a00ZIEAaKMABnhcgQKTTapruFSBAOqVnNj8UIEDmOlNawhIgQIKE14BFESBAsyWKqcgPIEDVfUDVSw4gQFKqjwPPDCBA++dYDRQLIEAeU5caWQkgQBP9SiueByBAK/dzP+MFIEC/UhJXKAQgQB2IjjeIAiBALp8SG+gAIED8Z+LekP4fQI/PCrJQ+x9AaFFDixD4H0D5rDph4/QfQO0KED228R9AbOQt+4nuH0A8z77iXOsfQCEMLtAv6B9AxNiqQh/lH0AfBJS6DuIfQPgUg1v93h9AXQVG3uzbH0DBnHVm3NgfQJ2GWVGR1R9AZmRcQkbSH0ApB9Rd+s4fQPPIFFuvyx9Autp0XmTIH0CiyIiuhsQfQO0aPgepwB9AOrPojMq8H0Bn9OD27LgfQO8qe2kPtR9AACBy5oSyH0A2zuZC+68fQPYyfsdwrR9A1e+TK+eqH0B8+cu3XKgfQA==",
          "dtype": "f8"
         },
         "mode": "lines",
         "name": "100 samples Flight 1",
         "opacity": 0.5,
         "showlegend": false,
         "type": "scattermap"
        },
        {
         "lat": {
          "bdata": "EV9waft9R0DC40pN5H1HQPEjgjDNfUdA03E9E7Z9R0Ci/y31nn1HQP5Ne9aHfUdAFMDLC299R0Dc3WhAVn1HQIyBCms9fUdArMtAniR9R0Brx8PQC31HQGJ+R2/1fEdA7FqiFt98R0DDSvezyHxHQLFjI1qyfEdAdJJJ9pt8R0A9lHX4fnxHQMA1f/lhfEdAzJceA0V8R0CaiC0CKHxHQOBAYwALfEdA81AblPJ7R0BM+xsn2ntHQOdBZbnBe0dA1Cb3Sql7R0AFrNHbkHtHQFbLhqR3e0dAbViIbF57R0ChyvgzRXtHQHUIk/ore0dAGbp5wBJ7R0AmP1Rm/3pHQOxGuAvsekdAdNKlsNh6R0C94hxVxXpHQMt4HfmxekdAkSsjjZd6R0ArfusWfXpHQL9EdKliekdAcMqeMUh6R0CzGGnCLXpHQN76lKUWekdA+zGzkf95R0CAlKZz6HlHQKX0i17ReUdA8N1GP7p5R0Bs3EugoHlHQBE0/wmHeUdAE/RkaW15R0DlEZjRU3lHQE9pnC86eUdADo+ozCB5R0Db+BlpB3lHQLYAIw7ueEdAsFkiqdR4R0B3I0tDu3hHQA==",
          "dtype": "f8"
         },
         "line": {
          "color": "#1f77b4",
          "width": 1
         },
         "lon": {
          "bdata": "w9AIcmYsIEDAcTLW4yogQLso9jxhKSBAmQQTON4nIEB1ZwukWyYgQHADnhLZJCBAScW06kMjIECUUbjFriEgQMp1+TQZICBAtLDXFYQeIEBa3aL57hwgQO+Sqrd6GyBAMlaNeAYaIED6p247khggQMgVKgEeFyBAQi3lyKkVIEDuJz7mxxMgQLof5HXmESBAzuXJmwQQIEDgxpAzIw4gQNsPLmFBDCBAz9R5rqcKIEDlXa/+DQkgQBS5zlF0ByBAUPTXp9oFIECSHcsAQQQgQKeofqKrAiBAl/0rRxYBIEAO+DcBAf8fQIvhelbW+x9A16uxsav4H0CBWYIaGfYfQHHOCIeG8x9AZRlF9/PwH0AYSTdrYe4fQEZs3+LO6x9An4RX2mjoH0BCbcDXAuUfQB+YNACc4R9AfUkECzbeH0ADVEQd0NofQMsyjB3c1x9AmmdAR+fUH0A577NR89EfQANXk4X+zh9Au9wymgrMH0CFpFfew8gfQB2Wcil9xR9APAR4VjfCH0AMNxGu8L4fQKLsNwuqux9A9jdcznO4H0CZVje7PLUfQPj/MIsGsh9AjfIzhM+uH0B51KVfmasfQA==",
          "dtype": "f8"
         },
         "mode": "lines",
         "name": "100 samples Flight 1",
         "opacity": 0.5,
         "showlegend": false,
         "type": "scattermap"
        },
        {
         "lat": {
          "bdata": "sRbRnwl+R0CDFzVI8X1HQGnjEfDYfUdAlxoYl8B9R0BfwJY9qH1HQII1P+OPfUdAAp6HZXd9R0C2APPmXn1HQCZUYF5GfUdApZBf3i19R0B06M5dFX1HQI2N0KX9fEdAG9ji4+V8R0D6RJcqznxHQE78W2e2fEdABzjDrJ58R0A0jOnuhXxHQEgZWzBtfEdAvNdhelR8R0DCDWq6O3xHQKCCvfkifEdAFsa3ugp8R0DbVZNx8ntHQBnvUDHae0dAUwXM5sF7R0AXhwWlqXtHQNtQYWORe0dAGSacKnl7R0CQ+5LnYHtHQKl/aK1Ie0dAoWj6aDB7R0DoNXtYF3tHQBkhzlD+ekdApQfSPuV6R0BnrKc1zHpHQLu0LiKzekdAqwiOs516R0AXgkNEiHpHQJlJkdRyekdAUo41ZF16R0CmznHzR3pHQNhv63ItekdAiez/+hJ6R0BGJNJ4+HlHQP08P//deUdAQBVqe8N5R0C3M263rnlHQNcmfvyZeUdA8Vp+N4V5R0CRE4p7cHlHQBtihrVbeUdAqT3/z0J5R0BuH7npKXlHQK6dIgwReUdAjJJeJPh4R0AAlNs733hHQA==",
          "dtype": "f8"
         },
         "line": {
          "color": "#1f77b4",
          "width": 1
         },
         "lon": {
          "bdata": "3QSO6FctIEA2mK3hxysgQHeYYW83KiBAWYUtbqcoIEASvI4BFycgQFE1BwaHJSBA5rOPbu4jIED2zUFIViIgQHWQLba9ICBAQTazlSUfIEANxuMJjR0gQDW7saAGHCBA7w2Gy38aIEA3gLln+RggQOk59ZdyFyBApFiOOewVIECx+Rh1VRQgQI7BkbO+EiBAlRCfYygRIEBIW/OnkQ8gQNP0Ne/6DSBAUCzjaWkMIEC6U/3m1wogQOnTHPlFCSBA7F7ke7QHIEDexekBIwYgQKy8cvWOBCBAlAYEfvoCIEAluEF3ZgEgQEX7Dguk/x9AcT70CHz8H0BrQj1KOfkfQJh897X19R9AnKJuA7PyH0BagFZ7b+8fQLQ9/NQs7B9AzipuEWnpH0C417IupuYfQMnW+HPi4x9AsF8Qmh/hH0BEtyroW94fQChrEaTr2h9AfNR9Z3vXH0DQDfgwC9QfQAfV9QGb0B9AqxwE2SrNH0D/InxoecofQAPQcyDHxx9As/lAuBXFH0ClU414Y8IfQI3irxiyvx9AGIUnF268H0A+1q0bKrkfQAyJ8ibmtR9AF2qVN6KyH0C6UkdOXq8fQA==",
          "dtype": "f8"
         },
         "mode": "lines",
         "name": "100 samples Flight 1",
         "opacity": 0.5,
         "showlegend": false,
         "type": "scattermap"
        },
        {
         "lat": {
          "bdata": "mfUmugN+R0AG8IJx7n1HQHKf6x7ZfUdAQhM+1cN9R0AaPp2Brn1HQFsw5jaZfUdAjZGG1319R0CjKNVtYn1HQFR51QxHfUdA211doSt9R0AIknA+EH1HQALyZk/4fEdAjf7XX+B8R0CKQ3hvyHxHQI/Zkn6wfEdA2grdjJh8R0CbWfIKgXxHQFJRg4hpfEdAuuS0DlJ8R0CeOvOKOnxHQMACZAYjfEdAuh5GHgp8R0B3/lE18XtHQIlhz0vYe0dAhe12Yb97R0Cgn492pntHQMMtynKOe0dAxF06bnZ7R0Dim5RyXntHQKtPtmxGe0dAyShTZi57R0BbXsdrFntHQCiEi3D+ekdAEsVSa+Z6R0B4oLZuznpHQLtxanG2ekdAFKYVKJx6R0ChJPzdgXpHQJUd0IlnekdAEQQtPk16R0CgO8XxMnpHQNI0IbsbekdAGB5JjQR6R0B4CEBV7XlHQKPiIibWeUdAQ4707L55R0DsSplTp3lHQJ4En7mPeUdA40J4FXh5R0BnKUB6YHlHQAISad5IeUdAC9LzBjJ5R0DKmm84G3lHQJa3wl8EeUdAzoUGkO14R0C3BSK21nhHQA==",
          "dtype": "f8"
         },
         "line": {
          "color": "#1f77b4",
          "width": 1
         },
         "lon": {
          "bdata": "1sv2/bwsIECY0CJfYCsgQFtbBMIDKiBA0juDJ6coIEDVqLiOSicgQHCGivjtJSBAecQX3SUkIECCx9bEXSIgQCTsakKVICBAzepxMc0eIEC5LowkBR0gQLF/nY55GyBAIe8yje0ZIEDwLsj8YRggQFlm4gDWFiBAgcb7dUoVIEDWYhEawRMgQAZ3nFI3EiBAG7B//K0QIEDv8206JA8gQIUASemaDSBAcSGLxwYMIEDhWfUWcwogQNGPE/veCCBAhy5ZUEsHIEDorFM6twUgQAiTm60vBCBA6TLYkagCIEAzjv4KIQEgQOpkZukz/x9AVFva5ST8H0BzM8caAvkfQE6YTlXf9R9ACUJAuLvyH0C56v79mO8fQLtuWEl27B9AjjLjyCXpH0AbAOxO1eUfQFRHTP6D4h9AzH9TkTPfH0DAGtkq49sfQG9sVKjf2B9AQArBK9zVH0CN1wuQ2dIfQNq74R3Wzx9AuZM0sNLMH0CenWnc18kfQB7s2w3dxh9A2Oo2IOPDH0BnUSRc6MAfQCI9T53tvR9AFhSPsfq6H0C4AyfvBrgfQH37bw0UtR9AMZMQVSCyH0DEAWN9La8fQA==",
          "dtype": "f8"
         },
         "mode": "lines",
         "name": "100 samples Flight 1",
         "opacity": 0.5,
         "showlegend": false,
         "type": "scattermap"
        },
        {
         "lat": {
          "bdata": "xhYtHAl+R0CpfRzD731HQKxyk3LWfUdAVT4EGL19R0CsAf3Fo31HQM4672mKfUdAFB0hW3N9R0ByDyRVXH1HQJ1zQUVFfUdA6EwJPi59R0CdKcUsF31HQGD5wnH+fEdAp8rnteV8R0AEw+0CzXxHQEeYrEW0fEdA7Kzdh5t8R0DE9zecgnxHQOIVa6ZpfEdAk614uVB8R0DFXDrCN3xHQF/8sdMefEdAnMZJ/gh8R0Bx9+cx83tHQJWiZ1vde0dAYWHtjcd7R0Dw8lS2sXtHQGI8cRqXe0dAIBwrh3x7R0DaLsjpYXtHQBLz31RHe0dA+Di4tSx7R0DPMnSVFXtHQNfoBWv+ekdAZoyOSed6R0ABSe0d0HpHQK2cQvu4ekdA+P+wQaJ6R0AWaKGHi3pHQPAaQNZ0ekdAnOnxGl56R0B90eNeR3pHQJo+cmouekdAG+H8axV6R0ASZiB2/HlHQPLBP3bjeUdA5Gb4fsp5R0BuSOwKtXlHQGGxVpafeUdA9zWmKop5R0Dgsf20dHlHQCy5yz5feUdAZDylYkZ5R0Dh8sCFLXlHQGkDPagUeUdAsfTcyft4R0CRH7/q4nhHQA==",
          "dtype": "f8"
         },
         "line": {
          "color": "#1f77b4",
          "width": 1
         },
         "lon": {
          "bdata": "L3llvzwtIED/dN0mmisgQJ+cIQD4KSBAC8TGbVUoIEAUQjZNsyYgQJDPCMEQJSBAq2LCFpUjIECKbHlvGSIgQOCCDFydICBAWa7buSEfIECoP8cZph0gQGsTCAARHCBA3GlxV3waIED4GvVD5xggQJV1MqFSFyBA1G0dk70VIEDSZ41+IhQgQBGZjWyHEiBA1/y57+sQIECbmrPjUA8gQKXFE9u1DSBAhgq87k8MIEBTidmW6QogQAiXDq+DCSBA9KO4Wx0IIEDQnnp4twYgQJ8F+CkCBSBANac+30wDIEC5V0oplwEgQNx2rMrD/x9A+EfASFn8H0DR9U8Wa/kfQN5RksR99h9AJSg8nI/zH0AQcZlUovAfQOHBXTa07R9AeSRdO7nqH0CrCwBpvecfQIVg2HjC5B9AN7KUsMbhH0AxG8XJy94fQEH7LROd2x9AbzxhhW3YH0AV9aHaPtUfQMEUsVgP0h9AWhDKueDOH0C6itVsG8wfQIHITiRWyR9AGU/r4JDGH0BbTz+hy8MfQHFIAWYGwR9AmF6c+MS9H0A+FT+Rg7ofQJTTjFNBtx9Avus/+P+zH0B7/PqivrAfQA==",
          "dtype": "f8"
         },
         "mode": "lines",
         "name": "100 samples Flight 1",
         "opacity": 0.5,
         "showlegend": false,
         "type": "scattermap"
        },
        {
         "lat": {
          "bdata": "K4rDiAl+R0DlCkSz8X1HQENBGt3ZfUdAvZRtBsJ9R0BJDO8uqn1HQNw+xlaSfUdAwo0iTnl9R0DsgOhEYH1HQGQaXDFHfUdA1oCnJi59R0DJfg8bFX1HQL3eylX/fEdAexuNmel8R0DViy3T03xHQJuF1BW+fEdAzQtaTqh8R0Df69Pjj3xHQM1P54F3fEdAXPoAFl98R0CsjbSyRnxHQFYKbkUufEdAfGhUXhZ8R0DG4qZ2/ntHQFn9roTme0dAyWGRm857R0DxWZixtntHQEiioZOee0dAWXshdYZ7R0DBUGNMbntHQN3oiSxWe0dAt27hCz57R0BU5k+2JntHQP1gPmAPe0dAiyL6//d6R0DuHKSo4HpHQIZNilDJekdAjPK8lK96R0CTib3OlXpHQK9YSBF8ekdAIC3CSWJ6R0A1G+eKSHpHQBlbRYYzekdAji4mgR56R0C4lol7CXpHQMqUb3X0eUdA7CnYbt95R0BLyIuHxXlHQOzQCZareUdAF3xOrZF5R0A2UT66d3lHQPu81c9deUdAK3K+YkN5R0CRCkzrKHlHQB1omHwOeUdAuxWKA/R4R0BnJTqT2XhHQA==",
          "dtype": "f8"
         },
         "line": {
          "color": "#1f77b4",
          "width": 1
         },
         "lon": {
          "bdata": "n+xiai8tIECysBqVpCsgQIgHkMIZKiBAitCBhI4oIECQ0XK3AycgQFOKIe14JSBAA7Wq/NgjIEBMdvygOCIgQMw1JraYICBA6liKYPgeIEAjIjZ8WB0gQMzcx73wGyBAZc7Rk4gaIEDxBfPZIBkgQCE4jLS4FyBAzRE9/1AWIECWjHpovxQgQMR6OkMuEyBAGswsspwRIEBny5+SCxAgQKYmRwd6DiBAZsD7598MIEBv6lBdRQsgQPwAU0OrCSBA6FRfvhAIIEBcMYCqdgYgQCioHILpBCBA1sNK7lsDIEDf3xXLzgEgQGCC2TxBACBAvew9P2j9H0DF9Hw3ZvofQMNailhj9x9Akq56WmH0H0AFrAGGXvEfQJbjL5Nc7h9AhEcprw7rH0DTn7fQwOcfQI6ExtVz5B9A9RUEBCbhH0AvFFg52N0fQGL197Yy2x9APuO8OI3YH0DD7Ka+59UfQAYhtkhC0x9ACo/q1pzQH0A5CuNpR80fQKYDlALyyR9Ar2gLxpvGH0DUWp9rRsMfQOxDWBjxvx9AtTImQ4y8H0B6VU9QKLkfQF/qeojDtR9AAa0Co1+yH0C8aYzo+q4fQA==",
          "dtype": "f8"
         },
         "mode": "lines",
         "name": "100 samples Flight 1",
         "opacity": 0.5,
         "showlegend": false,
         "type": "scattermap"
        },
        {
         "lat": {
          "bdata": "zWVk7gx+R0DITiCt9X1HQKsyYGvefUdAhx1mH8d9R0CaMF7cr31HQKkyi5iYfUdAIoCU0n99R0Aapt8LZ31HQPqsAU5OfUdAWVjQhTV9R0CJ4uC8HH1HQIJDQ2AHfUdAcVY8A/J8R0A79+6u3HxHQL1ryVDHfEdA2T3v8bF8R0A6TVKom3xHQDr4s1SFfEdATxEWCm98R0BQ4VG1WHxHQNRnaWlCfEdA7bcj2il8R0CfICNKEXxHQIMw1sL4e0dAs9BfMeB7R0CRjy6fx3tHQCVHfY6we0dAOyUsfZl7R0B3KztrgntHQIBbqlhre0dA/bZ5RVR7R0A4rZsJPHtHQIygntYje0dAE/5gmQt7R0B6/ANl83pHQOrIZibbekdAzrsfVcV6R0BYCdZ5r3pHQNvSZqeZekdAdPn0yoN6R0Bjn133bXpHQK8bRWNZekdAwUOSzkR6R0BHnPRCMHpHQPxhTq0bekdAtnhOFwd6R0A2IIdy7XlHQBHlGc3TeUdAWvdYHbp5R0ByV2B2oHlHQEoCg86GeUdAewB6xW95R0CMCuC7WHlHQPkhtbFBeUdAREj5pip5R0DpfqybE3lHQA==",
          "dtype": "f8"
         },
         "line": {
          "color": "#1f77b4",
          "width": 1
         },
         "lon": {
          "bdata": "/S2FX3gtIECXC7NR9SsgQHlVPthxKiBAwm03z+4oIECMkQJbaycgQMokrlfoJSBAV1XJHkckIED3DOfopSIgQHN4OEgEISBAHDtbGGMfIEBRsYDrwR0gQKZ24glYHCBAmpFGvO0aIEBtCpffgxkgQAxDfJYZGCBAXWzfva8WIEDlZlQgQRUgQC2avoTSEyBA4Fy6fWMSIECRo+jm9BAgQCpm41KGDyBAcZQvuOgNIEDq33AgSwwgQKbxD4ytCiBAHBE7+g8JIEATeVtrcgcgQHFGUfDzBSBAT5HYd3UEIEDnZPEB9wIgQG7Mm454ASBAM6avO/T/H0CvZLo/0vwfQKmrx22v+R9Ai/AifY32H0AiQoC2avMfQK50LNFI8B9Adx8flGjtH0CFp/xaiOofQE1iSieo5x9AwCmF98fkH0ALRi7N5+EfQHGzRcVL3x9A4sTDnbDcH0BYn5eeFNofQNCwE3951x9AYqAqh93UH0BjFruHi9EfQA3pQLI4zh9A04TLvubKH0CbfgX2k8cfQCPc+Q9CxB9A3XUaxGnBH0DB+hx9kb4fQAF9ATu5ux9A0A7I/eC4H0BdwnDFCLYfQA==",
          "dtype": "f8"
         },
         "mode": "lines",
         "name": "100 samples Flight 1",
         "opacity": 0.5,
         "showlegend": false,
         "type": "scattermap"
        },
        {
         "lat": {
          "bdata": "JWOQpwV+R0Ae+Poj6n1HQMFbh5/OfUdAwUvuELN9R0BGHr6Kl31HQKPHrwN8fUdAlQ2ceGd9R0CtEX32Un1HQLjDdWo+fUdAljZj5yl9R0AzWWhaFX1HQApQmEH7fEdAV2IjKOF8R0CDnSwXx3xHQDQHIvysfEdAz3sn4JJ8R0CDSr4zfXxHQF4WyIZnfEdAsd36z1F8R0BzfOohPHxHQG8cTXMmfEdAiQGqgw58R0CS46+c9ntHQN2Eyavee0dAiIOMw8Z7R0Dw52LRrntHQCqw9pWRe0dAwC4UY3R7R0D9ZpglV3tHQM7mpfA5e0dAyZwasRx7R0DF2c4AB3tHQKbJ/0/xekdA+hPPntt6R0DfQ/nsxXpHQH4qoDqwekdA/NHtqZd6R0CiwH4Yf3pHQFi1c4ZmekdAgwaL8016R0AVpeVfNXpHQJrLi7caekdAcsyxFwB6R0CAm7pt5XlHQOyyQ8zKeUdAVjSvILB5R0BXiGYZm3lHQGo7nhGGeUdAxE5WCXF5R0CUw44AXHlHQBqbR/dGeUdAIVdl/it5R0Czav0NEXlHQGccbxP2eEdAspVbIdt4R0BcRyElwHhHQA==",
          "dtype": "f8"
         },
         "line": {
          "color": "#1f77b4",
          "width": 1
         },
         "lon": {
          "bdata": "Q/+75rQsIEDVknHm8SogQDhDxOkuKSBAQnUAgmsnIEA2o46MqCUgQGEkuprlIyBAL7KKt5ciIEB9JcvWSSEgQIvqmff7HyBAQrjXGq4eIECz0aQ/YB0gQGsJiK2xGyBA4zVzsAIaIECahU8lVBggQK+5xi6lFiBAFvXAqfYUIECVdnFojxMgQA5WZikoEiBAb3j5fcAQIEBxBXhDWQ8gQEUMOwvyDSBAPmdSVHEMIEDvwLoO8QogQF3qLV1wCSBA7VjwHPAHIECofL9wbwYgQOeP8TOEBCBAorF/jZgCIEBIFQ5ZrQAgQAeR8HWD/R9AULrGHa35H0Ae7Vbi9/YfQGCRR6tC9B9Ava4tnIzxH0CWFOBt1+4fQLob80Mi7B9AEMFNIOPoH0Cg05kCpOUfQFMXcA5k4h9AaSKg/CTfH0AB88Hw5dsfQPFxRAOA2B9Au5Wl+RrVH0AcEKYZtdEfQAhegR1Qzh9AA1UAS+rKH0DO2NPfPsgfQEsa1niTxR9AGCkHFujCH0DJFGe3PMAfQPns9VyRvR9AmrKtJxy6H0BIumTWp7YfQEkwAK8ysx9A/gqXa76vH0BmuhZSSawfQA==",
          "dtype": "f8"
         },
         "mode": "lines",
         "name": "100 samples Flight 1",
         "opacity": 0.5,
         "showlegend": false,
         "type": "scattermap"
        },
        {
         "lat": {
          "bdata": "HCoMvPx9R0DnRrjH431HQFWjFcnKfUdAM3RQ07F9R0Ar6zzTmH1HQFt4Btx/fUdADLpIHmt9R0B7hytgVn1HQDgN85dBfUdAkFXJ2Cx9R0DvNfMYGH1HQP32bvL/fEdAHM4Xy+d8R0A6Ujmjz3xHQOlPiHq3fEdAkJ5PUZ98R0AfqNxNh3xHQDFuBFNvfEdA3JEzTld8R0CU1v1RP3xHQNcbz0snfEdAMANA9hB8R0DxR4mW+ntHQM3jzz/ke0dAXzjv3s17R0CjjguHt3tHQLLu1PWce0dAaaDJY4J7R0BCY1jHZ3tHQLT0ozNNe0dAYN8anzJ7R0ALVdp0G3tHQOFvAUoEe0dA+YQgKO16R0A9whb81XpHQGOpdM++ekdAVWL8jKh6R0Bf/V5AknpHQIPru/x7ekdAJxf0rmV6R0BqQCZqT3pHQMdJXgU1ekdAaRfFnxp6R0CXPclCAHpHQG+bjdvleUdA9cSAc8t5R0DlY0Rbs3lHQC1PWkKbeUdAqPVTH4N5R0D+fg4Fa3lHQEpaG+pSeUdAA8m4vjt5R0BfZUmJJHlHQJxYqlwNeUdAVHz+JfZ4R0CY+iL43nhHQA==",
          "dtype": "f8"
         },
         "line": {
          "color": "#1f77b4",
          "width": 1
         },
         "lon": {
          "bdata": "Bgr3F2ksIEAsLlDYzSogQJJcdAkzKSBAwujHz5cnIEAI9OYG/SUgQHkfNdNhJCBAX6ZWjwMjIEAXRFbfpCEgQJ0WQ59GICBA+mp/8+ceIEBLlhi4iR0gQL7UMon7GyBAoKZXy20aIECNNgui3xggQNywyOlRFyBAbcQVxsMVIECMh7J/MxQgQCoEw6qjEiBArs/3aRMRIEChk56agw8gQC+ba1/zDSBAcO+GzIEMIEDrwNqpEAsgQKiuxBufCSBAPH7n/S0IIEC0LaB0vAYgQHR7I0YDBSBAOFQQG0oDIEAoHTlhkQEgQFfg8nmw/x9AtQNHOD78H0AfnjV2U/kfQNBaLblo9h9ArP6HJX3zH0D+75FykvAfQA9ApcSn7R9A5DwEEsTqH0BJutU/4ecfQFQIy5b95B9AZaEzzhriH0C/kb8uN98fQFuGchXM2x9A/IPeAmHYH0C5Mb739dQfQOFxm/KK0R9AtB8y9B/OH0C93pakAssfQFD5klrlxx9A07VxFcjEH0Ai7J3WqsEfQN/JYZ2Nvh9AoQwvo5S7H0C2Wm2tm7gfQPfofr2itR9A/MUD0qmyH0Dl9lnssK8fQA==",
          "dtype": "f8"
         },
         "mode": "lines",
         "name": "100 samples Flight 1",
         "opacity": 0.5,
         "showlegend": false,
         "type": "scattermap"
        },
        {
         "lat": {
          "bdata": "80VgagV+R0D8H8bR7H1HQKcjejjUfUdAVKujnrt9R0CC1/MDo31HQCYzkmiKfUdAq7V0fHF9R0CSfHKPWH1HQDHi2KE/fUdAuvRasyZ9R0DqRUXEDX1HQPUbzVr2fEdAxCW98N58R0CT2qZ8x3xHQGNQZxGwfEdAr/6PpZh8R0CZO+isgXxHQK5borNqfEdAdWC+uVN8R0CeSzy/PHxHQMUeHMQlfEdA0pBh6Q18R0DTLwAO9ntHQJD99zHee0dA1vtIVcZ7R0BiLPN3rntHQJGqD2iVe0dA9qx2V3x7R0BDfblPY3tHQGhdtT1Ke0dA2cf7KjF7R0B+ps0wHHtHQBWk9DUHe0dAHvG0OvJ6R0DGtMo+3XpHQFN1eULIekdAlKs8Bq96R0AkB7nSlXpHQGxZMpV8ekdAArVDYGN6R0BEGzEhSnpHQKgapu8xekdAvMaPvRl6R0DxJhyUAXpHQLVGrmDpeUdA8+t0LNF5R0A8l0WkuHlHQCMV2BGgeUdASjpIiId5R0AClnr0bnlHQLs8imlWeUdA8skH0Tx5R0CW78U3I3lHQDUtFacJeUdA3rxUDPB4R0CD69Rw1nhHQA==",
          "dtype": "f8"
         },
         "line": {
          "color": "#1f77b4",
          "width": 1
         },
         "lon": {
          "bdata": "zAG+p9ssIED6m1EsSCsgQJATybO0KSBAUmLjzyAoIEB6HiNdjSYgQArfRu35JCBAiqdVtFgjIECZHavstyEgQPHgx7kWICBACKcq+HUeIED9n1XL1BwgQCluBA9gGyBAJLk9VesZIECNFJSddhggQB764ugBFyBADnq8No0VIEDICPXLEBQgQNfyuGOUEiBAPEMI/hcRIEAABeOamw8gQB5DSTofDiBA/BXkfJgMIEDCnTXCEQsgQDfmPQqLCSBAIfv8VAQIIEBJ6HKifQYgQKRCzRrmBCBAcs0glk4DIEDnYZumtgEgQKdK4ScfACBALhdBWA/9H0CNgpiDS/ofQP7cro+I9x9AJ8Kqw8T0H0DmaGTYAfIfQDEQBRU+7x9AzbzGOQ/sH0C5REZl4OgfQDKGl7mw5R9ADG8N8YHiH0Dmjr8tU98fQEXgLOg63B9AbYLJyyHZH0C5ExuSCdYfQCyv4YDw0h9A0/6gUdjPH0Df6YfwtMwfQJza1XCSyR9A5hA2G2/GH0CCKf6mTMMfQBgR2FwpwB9AMS7xceS8H0BhQEaNn7kfQIB/44tbth9AQ92usxazH0Cmhrbh0a8fQA==",
          "dtype": "f8"
         },
         "mode": "lines",
         "name": "100 samples Flight 1",
         "opacity": 0.5,
         "showlegend": false,
         "type": "scattermap"
        },
        {
         "lat": {
          "bdata": "B7yHpgl+R0BGiceY8H1HQNlXSIrXfUdAPwLDcb59R0BBp8VhpX1HQO1TCVGMfUdA0m/GIHJ9R0ArmSDmV31HQGY9QrQ9fUdAqFsBeCN9R0DYkYdECX1HQKgnnuzzfEdALmAvlN58R0BoxBU7yXxHQDFwnOGzfEdAfcKdh558R0Am+5PchXxHQN9t1TBtfEdAwBasjVR8R0DBNITgO3xHQM6SpzIjfEdAClKCTwt8R0DNeY9r83tHQOJphZDbe0dAPpg/q8N7R0DhpnPFq3tHQFeHulaUe0dAFu3N3Xx7R0DH79BtZXtHQEPXoPNNe0dAAANggjZ7R0DDac1qH3tHQH+BgVIIe0dA8XvAOfF6R0D0g0Yg2npHQE4YVwbDekdAkXWFBqt6R0BHoSsGk3pHQFQ0BwV7ekdAszpaA2N6R0DPCuMAS3pHQGMYAW4xekdAc1pk2hd6R0ChzCxG/nlHQF9MGrHkeUdADQdNG8t5R0BknpMasnlHQLBWciKZeUdAF6VKIIB5R0CCe7smZ3lHQCeJJSNOeUdAAsuJmTt5R0Ar8vgYKXlHQNoKtI4WeUdArbNbDQR5R0B+HDGC8XhHQA==",
          "dtype": "f8"
         },
         "line": {
          "color": "#1f77b4",
          "width": 1
         },
         "lon": {
          "bdata": "TDhrY0UtIEAgR7Y8oysgQG1eDhkBKiBAqVy/iV4oIEA0qTJsvCYgQIUqs1EaJSBAajxKPWgjIECLi/+ZtiEgQELENYwEICBANbqK71IeIEAhW2DooBwgQAKYIYZDGyBAFbEOJuYZIEBN9GQ2iRggQC2JqdorFyBAdRMagc4VIEDZPZq9NxQgQPNSBv2gEiBAMKkErgoRIEBiyUfzcw8gQHv8djvdDSBALF82DFMMIEDRd+1NyQogQPY3kCQ/CSBAIGLBa7UHIEDM8nZHKwYgQAx3vzWqBCBAYYx6lCkDIEAfNgSIqAEgQPDZAOwnACBApayXyU39H0BkmQadZfofQDeX4lF+9x9AECBSL5b0H0C9bS3urvEfQEHindXG7h9A93RzorPrH0CIFmCYn+gfQOYeNnCM5R9AEekkcXjiH0Cqx/tTZd8fQJXmSYIq3B9A2ZS/tu/YH0AV3fgUtNUfQInKvlV50h9AqZmsnD7PH0BgVKe0C8wfQBW7rq/ZyB9AeLmS06bFH0Cpxn/adMIfQPB0TQpCvx9AYpK5E+a8H0COBRkhirofQBvRq1QtuB9ApbiNaNG1H0CGfAF/dbMfQA==",
          "dtype": "f8"
         },
         "mode": "lines",
         "name": "100 samples Flight 1",
         "opacity": 0.5,
         "showlegend": false,
         "type": "scattermap"
        },
        {
         "lat": {
          "bdata": "RzIKlRF+R0CK3ZF89n1HQKrMyWzbfUdAkYiFUsB9R0AYIPFApX1HQLL34CSKfUdANYL6GnJ9R0CKybUZWn1HQCUbgw5CfUdAeIvyCyp9R0BWq3P/EX1HQAMaEI76fEdAl1Z9EuN8R0AUA+Sfy3xHQLvaGyO0fEdAgMtMr5x8R0C628BphHxHQPMDqyNsfEdAShIw5lN8R0DfULyeO3xHQA1OdVYjfEdAyNLaDA58R0CGRifM+HtHQIrZWYHje0dAHEGXP857R0A2gt7zuHtHQEZkq8yge0dAOEWppIh7R0Cg7IyFcHtHQEJoM1xYe0dAt8BQMkB7R0DG8AnkJ3tHQNxz75QPe0dAU6RFRfd6R0CSjMj03npHQB7Fu6PGekdAXWD0Na56R0Alh1nHlXpHQFs/nGF9ekdA4led8WR6R0AIFA2BTHpHQEsX2Dc3ekdAPVf07SF6R0C24DOaDHpHQNeRM0/3eUdAB8rEA+J5R0Ct9ghpy3lHQMsEsc20eUdAGyTcMZ55R0BXzEuVh3lHQMBaH/hweUdAcKd6Clp5R0ArJ5klQ3lHQJ+0nTYseUdAF3llUBV5R0BUThNg/nhHQA==",
          "dtype": "f8"
         },
         "line": {
          "color": "#1f77b4",
          "width": 1
         },
         "lon": {
          "bdata": "XU3EX9otIEBKnuChDywgQE7KzXlEKiBAhFsnw3koIEBChVGiriYgQCKm6PLjJCBA5cra5l0jIEBUODhM2CEgQEtvn0VSICBAJTJwsMweIECVqUyvRh0gQN9BwBHOGyBAa4mV5FUaIECclC1M3RggQEKwJyRlFyBAbVfkkOwVIEBY88u1XBQgQDUmS2/MEiBAi+ZEmjwRIEA/o2tZrA8gQLJZoYkcDiBAfwXcO7wMIEC0gK7wWwsgQMxRgBX8CSBAXAyvzpsIIEC7fKSJOwcgQMVdQM6uBSBAdKHegyIEIED7OnTOlQIgQF9BpYkJASBASHDRsvn+H0DltWJq0/sfQCsZFQSu+B9AcpwOx4f1H0Bz6idsYvIfQEMUijo87x9ASOaFUxTsH0BGP6lO7egfQOc64nPF5R9AI9t/ep7iH0CpanSqdt8fQITS0Fuk3B9AUQ0M7tLZH0A+5J+nANcfQHyZzUIv1B9ANqYQBl3RH0BoBOQgac4fQCl6sEB1yx9A0xEViYDIH0B0rtSyjMUfQCqkjeGYwh9AwCFj54C/H0BXZDPzaLwfQJKumQNRuR9AN8T4GTm2H0AqQ/A0IbMfQA==",
          "dtype": "f8"
         },
         "mode": "lines",
         "name": "100 samples Flight 1",
         "opacity": 0.5,
         "showlegend": false,
         "type": "scattermap"
        },
        {
         "lat": {
          "bdata": "3LAXgQN+R0CVeSrH631HQEYDvAzUfUdA+gN9Ubx9R0CdaryVpH1HQHWqK9mMfUdAnPvmIHd9R0D9NO1nYX1HQFnWi65LfUdAirl19DV9R0CfsPc5IH1HQFnYPR8FfUdAKsM6+ul8R0A3h8vdznxHQAMTE7ezfEdA+n3umJh8R0DBggDGf3xHQGiE9OhmfEdAtBGDFE58R0AAWRg2NXxHQPe5bGAcfEdAyprI/gV8R0AXtEqT73tHQJBQiDDZe0dA29Drw8J7R0C5LgtgrHtHQIfhj7mRe0dA0eJGEnd7R0AKNTBqXHtHQKLaS8FBe0dADtaZFyd7R0AIF4TpDntHQJMPOcT2ekdAXOS5lN56R0AnYiduxnpHQBx+gj2uekdAFUryeJV6R0BeVkWqfHpHQDmXeeRjekdAKRpwFEt6R0BXBCdNMnpHQKM21qQYekdAHphi8v55R0DzLMlI5XlHQMjk7JTLeUdAmfXK6bF5R0BRPMuPmXlHQLGP/TSBeUdAxcgx0Gh5R0BsBQd0UHlHQIdeTBc4eUdAPp3WAB55R0D87MjpA3lHQNhdVdvpeEdAqu3aws94R0DRcIyptXhHQA==",
          "dtype": "f8"
         },
         "line": {
          "color": "#1f77b4",
          "width": 1
         },
         "lon": {
          "bdata": "tnc1ZPIsIEAI7t9JaSsgQFZGAMTfKSBAKtYZr1YoIEDeHqouzSYgQOf4Mh9EJSBA9LDDCdsjIEADuNxkciIgQMxu/lMJISBABNmns6AfIEBUtFqnNx4gQLmSIjx4HCBAmCsE1LgaIECSstxv+RggQBtT0A46FyBACcq5sXoVIECjL3v06RMgQDLEtjlZEiBAtBR/8MgQIEA+DYc7OA8gQAdq34mnDSBAU8h+tz0MIEAMNdd40wogQBqXLqtpCSBAcM1Acf8HIEAXWFColQYgQJyyosvjBCBAucdS8jEDIEB2p2AcgAEgQJnDmJOc/x9AeQ0s9Tj8H0D7eP6QMvkfQHCDCjMs9h9A3eAttibzH0D7Bh1jIPAfQD2vuhQa7R9AKdg1pPvpH0B2yrE43eYfQKgcSve94x9AGqZNl5/gH0AR0NI9gd0fQEloIRJV2h9AIWXF6yjXH0DuTtPv+9MfQO0gndXP0B9AqBsywqPNH0DUQdrbg8ofQN7Rjddkxx9A8z7X+0TEH0BQfeACJsEfQHD4NTMGvh9ApinB7dW6H0AgpyLSpLcfQOfHwpl0tB9AbtqKikOxH0BXC+FdE64fQA==",
          "dtype": "f8"
         },
         "mode": "lines",
         "name": "100 samples Flight 1",
         "opacity": 0.5,
         "showlegend": false,
         "type": "scattermap"
        },
        {
         "lat": {
          "bdata": "jqWBjAV+R0A8JHYQ7X1HQO9suJPUfUdAOpqyDLx9R0AOrZCOo31HQLKPvA+LfUdAmnZQTHF9R0ANnfuHV31HQLHhnLk9fUdAX1jE8yN9R0BGFVAtCn1HQMXt08TxfEdAIcypW9l8R0BJstHxwHxHQBeiS4eofEdAd50XHJB8R0AQMXt4enxHQAtxU9RkfEdAwV6gL098R0CP+2GKOXxHQL5ImOQjfEdAPhOdeQt8R0CKTekN83tHQFngx6rae0dAAjKjPcJ7R0CC+cXPqXtHQGDZ/h+Se0dA/COTb3p7R0Am24K+YntHQIwAzgxLe0dA8pV0WjN7R0ABcHSAGXtHQHVcnqX/ekdA1n42yuV6R0BXGfnty3pHQF2MKRGyekdA285+oZh6R0C8PZ8nf3pHQJEvR7ZlekdATlHbOkx6R0BexxfIMnpHQIoXi/8bekdALRVlNgV6R0C/UxR27nlHQDWxu6vXeUdA2MDJ4MB5R0BBqhPfp3lHQKqAidyOeUdAZCn7z3V5R0DKtwfMXHlHQNRNfsdDeUdALA508Cx5R0DkzK4YFnlHQCy32Un/eEdAHWrbcOh4R0CMXF6X0XhHQA==",
          "dtype": "f8"
         },
         "line": {
          "color": "#1f77b4",
          "width": 1
         },
         "lon": {
          "bdata": "MbS7rxktIEARHy/HhSsgQKHTg+HxKSBAL+KHbF4oIECKfZ+MyiYgQOqJmK82JSBAod21HZEjIEA7XDz96yEgQP5zPHFGICBArdAVV6EeIEBY6tnR+xwgQMEbwcRsGyBA41h+ut0ZIEBDrhGzThggQGQoe66/FiBAytO6rDAVIEAJfPmSyxMgQK0ceHtmEiBAyr42ZgERIEBwazVTnA8gQLUrdEI3DiBACUjMQZwMIEBMYxBEAQsgQO444rdmCSBAhYn9v8sHIEB6AwXLMAYgQJKyDLOsBCBAl3vBnSgDIEAYaiOLpAEgQJ6JMnsgACBAZsvd2zj9H0BVozpLDfofQBciH53i9h9ATD2yGLfzH0BvkMt2jPAfQH9Slf5g7R9ANMyNHQ3qH0CcLRRCueYfQGShEkpm4x9AvHQ5exLgH0Ce726zvtwfQMJ7RZvR2R9Af7YTiOTWH0BM4JN699MfQOmuUHEK0R9AnmoFbR3OH0BfnI2x78ofQKh7YtjCxx9Ai3sNKJXEH0A2qblaaMEfQGWA8rY6vh9As29nNkW7H0BWGkKXULgfQG/AdyFbtR9AZm5hjGayH0BIT/gfca8fQA==",
          "dtype": "f8"
         },
         "mode": "lines",
         "name": "100 samples Flight 1",
         "opacity": 0.5,
         "showlegend": false,
         "type": "scattermap"
        },
        {
         "lat": {
          "bdata": "R8ujwAl+R0A0M62z8H1HQI42HabXfUdApAcTob59R0AIjACSpX1HQBTABYKMfUdATiHpXHN9R0CjC35AWn1HQJcLwRlBfUdAFDDc+yd9R0B00svTDn1HQHEGp+f3fEdA5roJ++B8R0Bj7zkEynxHQAbWXxazfEdA0SXCJ5x8R0BJS/LlhHxHQG0V7axtfEdAYf/5aVZ8R0B706wvP3xHQIA6TesnfEdAkcNtjg18R0DGyM8w83tHQFpMc9LYe0dAhFBYc757R0CO134TpHtHQE6/WdaLe0dAvt39oXN7R0DebWtjW3tHQMASxS1De0dAlNcK7ip7R0BAJN8cEHtHQFZw0UH1ekdA/cV6b9p6R0AoxUGTv3pHQAcrwL+kekdAqSy9BoZ6R0CIyvtMZ3pHQCLtLJxIekdAInsx4Sl6R0BmprklC3pHQMiuMGrneUdAPsMArsN5R0BG6Anxn3lHQCpMjDN8eUdAk8RndVh5R0DxBoPXNnlHQGHonkIVeUdAtUTeo/N4R0AVRB4O0nhHQGzBgW6weEdA9SWDsot4R0DsRSb2ZnhHQK7ZLTlCeEdACtzWex14R0Dbp+S9+HdHQA==",
          "dtype": "f8"
         },
         "line": {
          "color": "#1f77b4",
          "width": 1
         },
         "lon": {
          "bdata": "x85pbEstIEDrGmQepysgQB7ZLWUCKiBA1pW9HV4oIEAWBqpquSYgQJK46CgVJSBAXF7VN3UjIEA2dj5K1SEgQIEbgc01ICBATJ7/5ZUeIEApyRkB9hwgQI693Yl5GyBAtyXupvwZIEBXOVk0gBggQACPf1YDFyBAf2dt6YYVIEAtM1eXAxQgQA/JS0iAEiBAdHs4jfwQIEAW1GpDeQ8gQA/q0fv1DSBALZD1b1QMIEAXpE3nsgogQJIz2mERCSBAXkyb328HIEA9/JBgzgUgQNKe0mZJBCBA+7s4cMQCIEBQui7qPwEgQHmgIPJ1/x9Ap9OWFGz8H0BtDOrFiPkfQLqB0J+k9h9A2I2wXMHzH0BKrydC3fAfQGbKlAr67R9ArYtblwPrH0Bh9FEHDugfQAyYaKIX5R9AHcvrHyLiH0CGDtHHK98fQFoE+K8e3B9AL4E+oBHZH0COlAV1BdYfQEoOinX40h9Arh8ufuvPH0Ap1ZXscc0fQG0+52H4yh9Axn+z3H7IH0AJsGdeBcYfQFVxmOWLwx9AvnTV5ujAH0B8afISRb4fQFOuniKiux9AWi8tXf64H0BVoUh7W7YfQA==",
          "dtype": "f8"
         },
         "mode": "lines",
         "name": "100 samples Flight 1",
         "opacity": 0.5,
         "showlegend": false,
         "type": "scattermap"
        },
        {
         "lat": {
          "bdata": "DvT7IP59R0DcKBia531HQLehAxzRfUdA8VHhk7p9R0DwSY4UpH1HQPN7LYuNfUdAYYmV2HN9R0DDJGclWn1HQO5o5mdAfUdA+GM9syZ9R0Aw+bD9DH1HQJVSmzD3fEdAoorOYuF8R0D4lCeLy3xHQI1iOLy1fEdAwDfd7J98R0Asd2Y4h3xHQBXwOoNufEdARzZ/zVV8R0Aq9+kWPXxHQHf3n18kfEdAnkRRPw18R0BB384U9ntHQFi3PfPee0dAJzx5x8d7R0DdpaWksHtHQNR82M2Xe0dAFuDC/357R0AltocnZntHQAodBFhNe0dAR/pafjR7R0CFQ73SG3tHQGmviyYDe0dAEp4TcOp6R0Bg4HXC0XpHQBibABS5ekdARAcgMKR6R0BP1b1Lj3pHQAuXSHB6ekdAsizjimV6R0DpJ/ykUHpHQPtySWE1ekdAVzW6HBp6R0DPXW7X/nlHQL/gJZHjeUdAAuMASsh5R0BDBPW9sHlHQO9+sSeZeUdADOxRmoF5R0B7FLsCanlHQJHUB3RSeUdAGkV0ST55R0B6+GkeKnlHQLrTyvIVeUdAsDfTxgF5R0C64WSa7XhHQA==",
          "dtype": "f8"
         },
         "line": {
          "color": "#1f77b4",
          "width": 1
         },
         "lon": {
          "bdata": "QpLKT4csIEBTMcR3CSsgQBaUsqKLKSBAr0euzw0oIECpyJ3/jyYgQJS+mzESJSBAhhzXOXIjIEBozO/W0SEgQDor9eQxICBAVIlJiJEeIECdE/qc8RwgQCCe9bOEGyBAL9N/OxgaIED3jq9WqxggQAtj2+I+FyBAsAkbA9IVIECa2hY/OxQgQBu1/32kEiBA5jCaUQ0RIEALql2Wdg8gQOdUDt7fDSBAvGeYnl8MIECEEorP3wogQJf5QJVfCSBAy+Nfy98HIECRzEOWXwYgQKxyHljGBCBAeKVUHS0DIEC29hnlkwEgQBqfc2D1/x9A6gTU+8L8H0CBQUw2k/kfQJ4CNJpi9h9Ao4uf3zLzH0CIqEJPAvAfQCZiLaHS7B9A3djn2CHqH0C3hNIUcecfQEqLrVXA5B9Al9/3mQ/iH0DMmXLiXt8fQNQaYnjc2x9AxspyFVrYH0Awt0Dd1tQfQNQMlYhU0R9Af/0KO9LNH0ASYJuSvcofQCl0Psupxx9AI5GeLZXEH0BvQBJxgcEfQPN6Qt5svh9A3CEgsdm7H0BVJtyHRrkfQNVX0z60th9AAJ9LHSG0H0D6baL/jbEfQA==",
          "dtype": "f8"
         },
         "mode": "lines",
         "name": "100 samples Flight 1",
         "opacity": 0.5,
         "showlegend": false,
         "type": "scattermap"
        },
        {
         "lat": {
          "bdata": "9LBG+wV+R0CG8p8x7n1HQHHtSGfWfUdAUnr6kr59R0DsvELHpn1HQHu+2vqOfUdAhjvOqHZ9R0B0tRNWXn1HQKub0QJGfUdACeW6ri19R0DwMPZZFX1HQOv5mzj/fEdAEj2vFul8R0BJ6Jvq0nxHQO9Pise8fEdAEzbmo6Z8R0AnmJd/jXxHQCWPIlF0fEdAWTNkK1t8R0ARcH/7QXxHQKxeUdQofEdAX1+SKQ58R0A1IAF+83tHQK+jndHYe0dAS+xnJL57R0CR/F92o3tHQK3Qba+Me0dA9FLe53V7R0D0vEIpX3tHQOdyeGBIe0dAydsQlzF7R0CtfyRfF3tHQLAVsy/9ekdACoEj9uJ6R0BWTQ/FyHpHQPOJ3ImuekdAdlOKt5l6R0B3eGvbhHpHQLcHGwhwekdATaL9Klt6R0AE/K5WRnpHQLJqMpsqekdACi496A56R0DrUdIq83lHQALcDnbXeUdAx5/1trt5R0ARtLTppnlHQMRuQCWSeUdAY/n5Vn15R0BqgICRaHlHQDuGNMJTeUdA3sEf+Dp5R0C3mP0jInlHQP2fblgJeUdAEeLRgvB4R0Bcvci113hHQA==",
          "dtype": "f8"
         },
         "line": {
          "color": "#1f77b4",
          "width": 1
         },
         "lon": {
          "bdata": "8QAbUwYtIEDb2IGadCsgQPwdseTiKSBAiLH0wlAoIEAD5rUSvyYgQIavP2UtJSBAh5neSZ4jIECPG1ExDyIgQDsHWK1/ICBAz0BymvAeIEArOGCKYR0gQEOE8FHzGyBAYPLcG4UaIEAdSvVVFxkgQNRBmiSpFyBA/Xib9ToWIEDy0Ny5oBQgQB9ms4AGEyBA2+32SmwRIEAV79AX0g8gQNPcFug3DiBANb8NP4EMIEA0f2yZygogQJEtM/cTCSBADNthWF0HIEBfmPi8pgUgQD1oOUwrBCBA6lL+3a8CIEDGEXUENAEgQCVShDZx/x9Ab/gmaXr8H0Aarfc8DvkfQDxtqvSi9R9A/BXZ1TbyH0BS/+Way+4fQPUjc4lf6x9AM4snqLXoH0DuEtXtCuYfQBYTzxRh4x9AfoPFYrbgH0AqWwWSDN4fQIqEKpt02h9A1OZ3rNzWH0Cku9mgRdMfQLv3/MCtzx9Ac8PT5xXMH0AmHQ/jYckfQAopkb+uxh9A/wosw/rDH0BIigqoR8EfQAU3BbSTvh9A9yFoBFS7H0DDk719E7gfQAaSItrTtB9AkCt+X5OxH0D+seXHU64fQA==",
          "dtype": "f8"
         },
         "mode": "lines",
         "name": "100 samples Flight 1",
         "opacity": 0.5,
         "showlegend": false,
         "type": "scattermap"
        },
        {
         "lat": {
          "bdata": "XsRVTQN+R0ByBmuL631HQBPCjL/TfUdA5cxI/Lt9R0Cx9BAvpH1HQI7Pc2qMfUdACrJcb3V9R0Av96VzXn1HQKODB25HfUdAzGQRcTB9R0CJrXtzGX1HQG8wFFUAfUdAUKc2P+d8R0CViVEfznxHQCvJ9ge1fEdAWhOU5pt8R0AhUNbdhHxHQO58TtRtfEdAUzhGylZ8R0CxRHS/P3xHQHmFIbQofEdAsOEOqQ58R0BbRCud9HtHQME8mpDae0dA+X4Ug8B7R0Dxzr10pntHQK4j/VGTe0dAe4DyLoB7R0ALn8YUbXtHQJft4fBZe0dAn71tzEZ7R0ACh+oFLXtHQPAGlj4Te0dALXgjbfl6R0BxNyyk33pHQHC0Y9rFekdAfZrO7a16R0BJiR0KlnpHQD80MRx+ekdAwowoN2Z6R0D4A+VHTnpHQDlXN+U3ekdAkHaneCF6R0DXKtIUC3pHQChVGqf0eUdAXHAdQt55R0AREz/dwXlHQJn5+22leUdAUUwxB4l5R0CJ6AGWbHlHQMT3Si1QeUdA8ybUbjh5R0DA7rGvIHlHQEPlUvkIeUdA7uPZOPF4R0CvgLV32XhHQA==",
          "dtype": "f8"
         },
         "line": {
          "color": "#1f77b4",
          "width": 1
         },
         "lon": {
          "bdata": "G+dB6bAsIECJ6yKAIysgQMzeDquVKSBAsaBwRwgoIEAcQt93eiYgQFT0wRntJCBAIajg2m4jIEAFNY6e8CEgQJ4eG/ZxICBAdGLnvvMeIEAUoUKKdR0gQFVnhIDTGyBAEb2A6DEaIEDFFt/kjxggQBYt9lLuFiBA/1RxVUwVIEBBqCdNxxMgQA7BtbVCEiBAdaGjsr0QIEBSpmggOQ8gQPpDjiK0DSBAz1Ozy/4LIEDWTCl4SQogQDu5trmTCCBAZSDPbN4GIEDEozgjKQUgQBAqopPtAyBAmJyVl7ECIECI4OgLdgEgQKvsYBM6ACBAOMOlFf39H0CrKxPLkfofQGboEYcm9x9AAsVwbLrzH0CZlZQ1T/AfQPghSgXk7B9AYp6GqsvpH0AbnZ95suYfQI8K5Sma4x9Az34GBIHgH0D9QFW/aN0fQIRyE3KJ2h9AvnZ7TKnXH0DtatAIytQfQJDI0uzp0R9AMc6+sgrPH0CaK2qHVcsfQHHFN2Ogxx9AkLyUR+vDH0Du4hYzNsAfQH8gJieBvB9AZkzFJmm5H0DBgd0rUbYfQCh+HTc5sx9ArfomRyGwH0DGy6lcCa0fQA==",
          "dtype": "f8"
         },
         "mode": "lines",
         "name": "100 samples Flight 1",
         "opacity": 0.5,
         "showlegend": false,
         "type": "scattermap"
        },
        {
         "lat": {
          "bdata": "obUxs2uDR0DFGhXuLoNHQAcTSTLygkdAwTXUbLWCR0BQLcyweIJHQNejN+s7gkdA9+UxZQKCR0DhjxDfyIFHQCuj01iPgUdAVCF70lWBR0DzCwdMHIFHQMpMlMXigEdAxbB0SKmAR0B7KujBb4BHQN/PkUQ2gEdAWYCxvfx/R0CAP0kOyH9HQNheeVWTf0dApGXkpV5/R0BX8OfsKX9HQHxDJj31fkdANZj707d+R0A0X5Nqen5HQEFUuvc8fkdAzSYSjv99R0BS42ckwn1HQKI5ttyLfUdAnhnOlFV9R0D/j+tMH31HQGJv0gTpfEdABgu/vLJ8R0D2f2nMeXxHQH+ui9JAfEdAqUDk4Qd8R0CU9tLnzntHQNSMFveVe0dA+E/Rilt7R0Ao8h8VIXtHQIMkoqjmekdAuV64Mqx6R0C9BgLGcXpHQBSsgyo2ekdAURUHj/p5R0Anf9/pvnlHQF9pKE6DeUdArsM0skd5R0AjsUSmCHlHQDyspZDJeEdA1dNzhIp4R0D245JuS3hHQOFNH2IMeEdAdhnop9R3R0CQBwf3nHdHQKLpvjxld0dAFQutiy13R0BZKxTR9XZHQA==",
          "dtype": "f8"
         },
         "line": {
          "color": "#ff0000",
          "width": 1
         },
         "lon": {
          "bdata": "2QFjNh6VH0A2ra6rYZYfQPUM5Rullx9AUk5oYumYH0AVfSnHLJofQDP6iiVwmx9AWtbYyaacH0B0yPFo3Z0fQJ7v1QIUnx9A9mqFl0qgH0CeWQAngaEfQHHqqdS2oh9AfFbMfeyjH0CUA3xEIaUfQIu2QONWph9AYE0rfIynH0AVTEI/pKgfQI+Z0CC7qR9AgtNS29KqH0C4Lk+06asfQBICPWYBrR9An58rl0+uH0CmM6menq8fQOPH88LssB9Aci13vjuyH0DRy3nXibMfQPtX7DmutB9Arns/dNO1H0DyQnLN97YfQCJXgv4cuB9Av8F1TkG5H0AdnS0obbofQBtOO/yYux9A2Ml2qMW8H0Blx5By8b0fQDexZDgdvx9AwXwRXVjAH0DfBkGfksEfQHlXN7nNwh9APJCz8AfEH0DO5/P/QsUfQPYH9PmDxh9AAqH+EcTHH0DMcycABckfQMm8FA1Fyh9AEADT8IXLH0A6rTh82cwfQAW9Bd0tzh9AVarzW4HPH0AbUkSw1dAfQLMiuyIp0h9AtgsZyU3TH0CvinJrctQfQPnTBCyW1R9A3D3kxLrWH0CvnUpY39cfQA==",
          "dtype": "f8"
         },
         "mode": "lines",
         "name": "100 samples Flight 2",
         "opacity": 0.5,
         "showlegend": true,
         "type": "scattermap"
        },
        {
         "lat": {
          "bdata": "5Vt1tXqDR0Atcp4DPINHQJQ0plH9gkdAJ6WMn76CR0D5xVHtf4JHQPiY9TpBgkdAUiZSIw6CR0B6RwgV24FHQIM6Hv2ngUdA1luq7nSBR0Aj+bLWQYFHQNfN88sIgUdApBOJys+AR0BBr7K/loBHQAfSE75dgEdA8k3ssiSAR0DzcSIj6n9HQBnYHpOvf0dAQ3Ot+XR/R0C3vHBpOn9HQIjzNNn/fkdAPiOxt8l+R0BbwRSWk35HQCjPX3RdfkdA8E2SUid+R0D7Pqww8X1HQCGNSwOwfUdA5ht4zG59R0D5GdOeLX1HQGWGu2fsfEdAVj3SOat8R0AaLG+mdHxHQKv98xI+fEdA16rTdQd8R0BWNCji0HtHQI+kZE6ae0dAIv45UWN7R0CDv4JdLHtHQLhbJGD1ekdA+4Y5bL56R0BSa6duh3pHQIzG3W5HekdA155DeAd6R0CU9zl4x3lHQIqpX4GHeUdAHQgWgUd5R0Cg6WqRGnlHQGKaPavteEdA9xZyu8B4R0AYgSTVk3hHQKabOOVmeEdAIvw9nRx4R0AgmhZV0ndHQBIkERaId0dAQy+QzT13R0DRgeKE83ZHQA==",
          "dtype": "f8"
         },
         "line": {
          "color": "#ff0000",
          "width": 1
         },
         "lon": {
          "bdata": "FwbHgLmUH0DMy7LwDpYfQH6HYVpklx9AzmHTvbmYH0BSgwgbD5ofQKAUAXJkmx9AxVSDBXOcH0C4maWVgZ0fQMktvf2Qnh9AwbzQhZ+fH0A2vjUJrqAfQBgFWAHcoR9ABsYe9QmjH0Cpvp0GN6QfQO+RXvBkpR9AcIRx1JKmH0Af+3RhzqcfQDp/qcUKqR9A0ZA7R0aqH0BuZqaggqsfQPV5Hhi+rB9A37gXdeOtH0Ds/XDNCK8fQB5jKiEusB9AawJEcFOxH0DN9b26eLIfQC+P8JvSsx9Asr5imSu1H0AQInZthbYfQK+3zF3etx9ACZfBJDi5H0BlVFyxWrofQB84WTl9ux9A0zx7mKC8H0CHlToXw70fQDdjXJHlvh9AL4nYMBPAH0BBecbvP8EfQMPtnIVtwh9Asb3pOprDH0CE7hrHx8QfQNWcUjUWxh9Ax8JpemXHH0D4kSrcs8gfQDj2xxQDyh9AiIwSalHLH0BFVC3mP8wfQN4phoMtzR9AlRVm+RvOH0CgtIeQCc8fQIP+LAD4zx9AdRhHRITRH0CRwdB/ENMfQPRu1I+d1B9AgyI8uinWH0BzKxTctdcfQA==",
          "dtype": "f8"
         },
         "mode": "lines",
         "name": "100 samples Flight 2",
         "opacity": 0.5,
         "showlegend": false,
         "type": "scattermap"
        },
        {
         "lat": {
          "bdata": "IKnSZ4uDR0D37dLqRYNHQBDrq20Ag0dAdPF58LqCR0BjfQRzdYJHQLLJZ/UvgkdA16K9U/aBR0B9wfixvIFHQIKZqgaDgUdAo0ewZEmBR0DnP5vCD4FHQMLDTxfVgEdAAchzdZqAR0D0S/DJX4BHQGl53CclgEdA7wMhfOp/R0C/cwxAsn9HQLszwAN6f0dAu+V2x0F/R0A4xvWKCX9HQCnAd07RfkdAAs6uFJV+R0CwMMjaWH5HQOx5MqocfkdAtosQcOB9R0Cp99A1pH1HQD8GFQRqfUdA+lDPyC99R0AAI/uW9XxHQN4df1u7fEdAyXpWKYF8R0ARMZO0RnxHQHCTRTYMfEdA70tpwdF7R0AtQORCl3tHQAAIss1ce0dA8Lp1OyR7R0DmkK2y63pHQP/aPiCzekdA8m5El3p6R0DtVaMEQnpHQJTFtb4FekdA0aIYgsl5R0Dais87jXlHQEYQ9v5QeUdARuOPuBR5R0AE1nu21XhHQGOTR7SWeEdAaR3zsVd4R0Akdn6vGHhHQIqf6azZd0dAOKplUqB3R0C2QFnuZndHQFOMoZMtd0dAeWZhL/R2R0D++HXUunZHQA==",
          "dtype": "f8"
         },
         "line": {
          "color": "#ff0000",
          "width": 1
         },
         "lon": {
          "bdata": "oi9is2KUH0C7TyP+1JUfQIK/ZEFHlx9AzYx6oLiYH0A5fL/UKpofQBFehQGdmx9A34QQd86cH0AJi3rn/50fQH2/G1Ixnx9A0nZDuGKgH0DyaUoZlKEfQOSuMyTNoh9AshrSTQWkH0D4WwpOPqUfQOKl/Gx2ph9A+mWEYq+nH0DIr4IE36gfQBITGX4Pqh9ALjsjFj+rH0BrF8KFb6wfQByS2BOfrR9AARm8R+GuH0AF5Ph1I7AfQLs3PZ9lsR9A6WQtwqeyH0BaQHff6bMfQAIRx1QetR9AQfgsxFK2H0BBx4tShrcfQMmGfre6uB9AhdPnF++5H0BtvRjgJrsfQJpeSaJevB9AZx1qg5W9H0DACf86zb4fQAZY+O0EwB9AUHklHC7BH0DEDrZpVsIfQGf2G45/wx9A4Pzp0afEH0AHHons0MUfQNdbQyQWxx9ART7/VlvIH0Dpq7FfockfQNp3BIfmyh9Au7XspyvMH0AhCJa+e80fQFjiFc/Lzh9AuWxs2RvQH0CUz5nda9EfQD0zntu70h9AexHO+ejTH0CxKz0SFtUfQDk1YCZD1h9AVubBNHDXH0Aqk9g+ndgfQA==",
          "dtype": "f8"
         },
         "mode": "lines",
         "name": "100 samples Flight 2",
         "opacity": 0.5,
         "showlegend": false,
         "type": "scattermap"
        },
        {
         "lat": {
          "bdata": "+5iy01eDR0CrErBpIINHQBxrlP/ogkdAOlFDlbGCR0CBWfUqeoJHQKJEjsBCgkdA8UZmuAaCR0AEkyGwyoFHQOacUZ6OgUdAg4HTlVKBR0ANtTiNFoFHQHDvcbnfgEdA9IWS5aiAR0AM/usacoBHQEw/20Y7gEdAqeCxcgSAR0D0Ny8HzX9HQEjUsJuVf0dAkLVqOV5/R0Ayc7rNJn9HQNTF02HvfkdAfAcX1LF+R0CeuK88dH5HQD9Ctq42fkdAmBcSF/l9R0C08NuIu31HQAAB/EV+fUdAfzmP+UB9R0Aq4JC2A31HQLyi52nGfEdANbSOJol8R0A4ZsQ/T3xHQE1/wFgVfEdAc82/cdt7R0CYYIWKoXtHQBVRTqNne0dAGG1tGTB7R0D+9QCZ+HpHQMZF7g7BekdABSlQjol6R0AgsgsEUnpHQKxIjmAVekdARQ2Fs9h5R0D27K0PnHlHQI4kamJfeUdA2bR3viJ5R0CqpRZc6HhHQCA5m/mteEdA3wcll3N4R0CY93Q0OXhHQJ6OqtH+d0dADmCKash3R0BjhgL6kXdHQAV+sJJbd0dAlfD2ISV3R0C3E3O67nZHQA==",
          "dtype": "f8"
         },
         "line": {
          "color": "#ff0000",
          "width": 1
         },
         "lon": {
          "bdata": "myolUISVH0CiMBGLrJYfQL6LNMHUlx9AqjI7z/2YH0Bkwcv7JZofQP/3kyNOmx9AtUeypIqcH0ARTUcgx50fQJxqq5UDnx9AZ9UtBkCgH0DUXSdxfKEfQEHRJ++hoh9AvSp4aMejH0BwoVu67aQfQNW4SioTph9AgAaKlTinH0CuqiWHYKgfQJoWaJeHqR9A5GQjgK+qH0A53d2G1qsfQBEQYmX+rB9AS6/t9UOuH0Awn35ciq8fQLnLW+HPsB9AkLo5PBayH0A5Cmm1W7MfQFHaPC6htB9AHqySoOa1H0CdkEwxK7cfQGXdBphwuB9ARm2j+bW5H0DPQzZb6rofQPOnC5QfvB9AGCo361O9H0BnvqEZib4fQG5pZma9vx9APnVo8OTAH0DeF+uZC8IfQIMtYRozwx9AGXBculnEH0DG/UYxgcUfQLFxATnBxh9AOw5gOgHIH0B8by8TQskfQFB2PwmCyh9AA25g+sHLH0Bs9ty28cwfQNd5MG4hzh9AGKcDRFDPH0BRXwfxf9AfQL5w4piv0R9A+ScOy9fSH0AMY38b/9MfQLoxTEQn1R9A8mthi07WH0Cku8+qdtcfQA==",
          "dtype": "f8"
         },
         "mode": "lines",
         "name": "100 samples Flight 2",
         "opacity": 0.5,
         "showlegend": false,
         "type": "scattermap"
        },
        {
         "lat": {
          "bdata": "pJIdtWSDR0CfbIXlKYNHQCKb0RXvgkdAzR8CRrSCR0A+/BZ2eYJHQBEyEKY+gkdARZERTAqCR0DRBaro1YFHQBSJfY6hgUdAzUXoKm2BR0DG8Y3QOIFHQAr0pBb3gEdAVvUMU7WAR0Ce7dyYc4BHQMi+/dQxgEdAUbaGGvB/R0AG0TtctH9HQI+cX6d4f0dAPVXa6Dx/R0Dl6MMzAX9HQGJGBHXFfkdA13w6649+R0CAPllhWn5HQPox1M0kfkdAZPzDQ+99R0C3VZy5uX1HQHGWvWJ9fUdArOXAC0F9R0An3FWrBH1HQAlhHVTIfEdAxfnG/It8R0BoXsi0VXxHQDUa0GwffEdArcsyG+l7R0D6igrTsntHQPewq4p8e0dAbTa2l0V7R0A1mcakDntHQNHHMKjXekdA14sPtaB6R0DOjLbBaXpHQDor4+UrekdASbRfE+55R0A8yy83sHlHQPP2bmRyeUdA3u0giDR5R0BT0/Kz+XhHQCkmyd++eEdAZ4HTFIR4R0AP33NASXhHQPmP2WsOeEdA9cdlos13R0A1QfrYjHdHQMHixRhMd0dAtVcrTwt3R0B7QlmFynZHQA==",
          "dtype": "f8"
         },
         "line": {
          "color": "#ff0000",
          "width": 1
         },
         "lon": {
          "bdata": "qb5CXFiVH0ATUooEj5YfQEHafqfFlx9A2HcgRfyYH0B9S2/dMpofQNp1a3Bpmx9AUZ1h24ScH0AW9bhkn50fQHn4Cse6nh9A8fbAR9WfH0BDNG+h8KAfQCaU9dVQoh9AYJGv37GjH0D3jrYGEqUfQMlU7AJzph9Aq6h0HNOnH0BIYsrdEqkfQMYIqr1Rqh9ABEvhc5GrH0DCdadI0KwfQLnKwPMPrh9AXGwZci6vH0BJgPrrTLAfQG5PPD1ssR9A0XUsroqyH0AWWaUaqbMfQG6H0OrstB9AZTxLtTC2H0DZU+icc7cfQAwCBFy3uB9A3qFvFfu5H0AdqLekHbsfQEeE8lI/vB9ASx1b2GG9H0BKI2x9g74fQH3kWfqlvx9A5CaqkM3AH0CEKdNF9MEfQGxP/NEbwx9A7NO1fULEH0BtbSABasUfQCwcV7Kxxh9AOXNdXvnHH0DSvingQckfQPhFY4CJyh9AuYsAGtHLH0DQzlMcBc0fQGRlBz04zh9Ap5SJNWzPH0CKAbhLn9AfQFH2+DjT0R9A5Q0NS/DSH0CKi3F7DNQfQFQ5g4Mp1R9A6J0vqUXWH0A4zsqlYtcfQA==",
          "dtype": "f8"
         },
         "mode": "lines",
         "name": "100 samples Flight 2",
         "opacity": 0.5,
         "showlegend": false,
         "type": "scattermap"
        },
        {
         "lat": {
          "bdata": "T95mMnGDR0Aby6RyOoNHQO21OLwDg0dA3dFh/MyCR0CXtcRFloJHQPaBoIVfgkdAIK6mFCSCR0AQ5yGa6IFHQNfvCymtgUdAi3ROrnGBR0ANJuM8NoFHQHoE9On1gEdAwFDFlrWAR0B8c/9MdYBHQENQi/k0gEdAV6MRpvR/R0BEn7TiwX9HQHgRQx+Pf0dAXSQOZVx/R0A+dnOhKX9HQIhBxN32fkdA4nvsprV+R0AUqPFvdH5HQFzI0zgzfkdA/d6SAfJ9R0Aq7i7KsH1HQIKZFWV9fUdArbB49kl9R0BJNReRFn1HQJo3UCLjfEdAB8rivK98R0CKEweVc3xHQKlQLG03fEdAKDanO/t7R0CHypETv3tHQH91QOuCe0dARaayNkR7R0DlA5OLBXtHQGvuxtbGekdAvjFpK4h6R0Dg3V52SXpHQLsIhA8VekdAHtcjn+B5R0Atbxs4rHlHQN6sjcd3eUdA0bZXYEN5R0DX8zK8BnlHQC9mXyHKeEdA+XwffY14R0CuTBHiUHhHQI4wdz0UeEdArez+2Np3R0AwpNp9oXdHQNU/DRlod0dAA7mzvS53R0BjCtFY9XZHQA==",
          "dtype": "f8"
         },
         "line": {
          "color": "#ff0000",
          "width": 1
         },
         "lon": {
          "bdata": "uk4z7g+VH0CfvfvDNJYfQH0kvZVZlx9AnhiBhX2YH0Amhu1NopkfQDioCBHHmh9AT8zF5QGcH0A22me0PJ0fQARVmaF2nh9AaINUZbGfH0CMskMk7KAfQFVQsSJIoh9ALvc096SjH0B4nT/pAKUfQE0js7Bdph9AJlAIlbmnH0DhgCNqxagfQIDcSDvRqR9AoLG05d2qH0A6XO2u6asfQJVwMHT1rB9ACRAAvlOuH0B6iSgBsq8fQP8Jqj0QsR9Arr6Ec26yH0CW1LiizLMfQILQvbDbtB9AyKUEuuq1H0CKEWqc+rYfQCZ+kZ0JuB9Awchamxi5H0BOG9DAWbofQEgfLwSaux9AFrC0Hdu8H0BGw9lVG74fQGrk02Rcvx9AP4CUtqbAH0B94pQm8MEfQLYhSWw6wx9AIGNC0IPEH0D94uoJzsUfQH34dM3oxh9AThr5iwPIH0Ah7uJGHskfQEU5xvw4yh9AOikQr1PLH0BV+WV5lMwfQNmfyj7VzR9A63F2IRXPH0AmeIzbVdAfQN5YQY+W0R9A12RX/8fSH0Ba5g1r+dMfQJkDQK0r1R9AzPfCDl3WH0DtGXJqjtcfQA==",
          "dtype": "f8"
         },
         "mode": "lines",
         "name": "100 samples Flight 2",
         "opacity": 0.5,
         "showlegend": false,
         "type": "scattermap"
        },
        {
         "lat": {
          "bdata": "NsPk0YaDR0CVhtMLS4NHQOjMpEUPg0dAslIGdtOCR0BKt5yvl4JHQBikFelbgkdA30rJuCKCR0B9XmKI6YFHQOz3jk6wgUdA5fvyHXeBR0BCcTztPYFHQL3RcvUDgUdAluke9MmAR0CG1h38j4BHQLd9kvpVgEdAc/1ZAhyAR0C6jQjl339HQLWNR76jf0dAiZO5oGd/R0B0M7x5K39HQPK18VvvfkdAQ3wP/LN+R0Bp0BCceH5HQPzx1zs9fkdA3lOg2wF+R0CoSEx7xn1HQIfue9iKfUdAncSsNU99R0Apw6KSE31HQIEbmu/XfEdAlHlWTJx8R0BGhmc0ZXxHQM7lXxwufEdAJa6PDfd7R0DLpVb1v3tHQE70BN2Ie0dAHFrfoE17R0BAnQ9bEntHQFtcsB7XekdAotWm2Jt6R0C+9A2cYHpHQHHhx1wqekdAZ5nYJvR5R0AQ+WLnvXlHQNYmRLGHeUdAnP6ecVF5R0BapiiyEnlHQDg4svLTeEdASs38MpV4R0BseEdzVnhHQNECU7MXeEdAfh5Rudl3R0BxtS+/m3dHQA5nPc5dd0dAcObc0x93R0DP5lzZ4XZHQA==",
          "dtype": "f8"
         },
         "line": {
          "color": "#ff0000",
          "width": 1
         },
         "lon": {
          "bdata": "pSrY34SUH0Ap/g7TxZUfQNaIrsAGlx9AL5Fky0aYH0BocNeth5kfQBhvs4rImh9AQyMlL/mbH0BGQYPOKZ0fQOjRgotZnh9AbIy7IIqfH0BzC+GwuqAfQNSNCxPyoR9Au6ZKbymjH0BZa/DGYKQfQMYtqhiYpR9Ae7PLZc+mH0C4sdIsFagfQHFT5xBaqR9A7zqHzJ+qH0AXCzil5KsfQC1qcVUqrR9AF9H5tmWuH0CWGg4Toa8fQEmFNUbdsB9Amw9glxiyH0Cj4RbjU7MfQBiiE7qRtB9AXvsLr861H0Ak4QB7DLcfQBt79WRJuB9AAA/jJYe5H0AdWGgZrbofQOCbNgjTux9AMnl0z/m8H0BEo9O0H74fQAoZfJVFvx9AFtsZP4PAH0DQnfa+wcEfQKDAnV3/wh9ABXt/0j3EH0B/hTBme8UfQBHapA6cxh9A+ltAs7zHH0BqyZdS3cgfQIdfF+79yR9AlUxShB7LH0BDv/0za8wfQIONOwG3zR9AFvbCpAPPH0B5EuFlT9AfQFUPRf2b0R9A+SbTnejSH0AnzWE4NdQfQNZO+qmC1R9A6PqIOM/WH0A3qRjBG9gfQA==",
          "dtype": "f8"
         },
         "mode": "lines",
         "name": "100 samples Flight 2",
         "opacity": 0.5,
         "showlegend": false,
         "type": "scattermap"
        },
        {
         "lat": {
          "bdata": "6Hv6fXWDR0CJh7oBPYNHQMT4zo4Eg0dA3QF3EsyCR0APPFefk4JHQM/GriJbgkdANCBdUCOCR0CZN/J964FHQIxqUauzgUdAS/Cz2HuBR0A3OP0FRIFHQHWctJwKgUdAq5dRM9GAR0C3KfHJl4BHQKhpWWBegEdAG0Wn9iSAR0Dq8tI36n9HQO3Bc2+vf0dA2HVJsHR/R0CvlrHnOX9HQKT7ayj/fkdAAIz2xLp+R0DsU8pqdn5HQGb5JwcyfkdA6i6xrO19R0D+g6ZIqX1HQE0lzyhwfUdAJx37CDd9R0BG6lzy/XxHQDelU9LEfEdA+YIRsot8R0Accf0DUnxHQKvtPF8YfEdAUVbUsN57R0Dbv90LpXtHQOCZXV1re0dAXAMhFzF7R0CkjcjQ9npHQEeHBIG8ekdAqmp0OoJ6R0Coc8jzR3pHQKl8pvoKekdA9YaFAc55R0DXvbj+kHlHQFCzWwVUeUdAqkTBCxd5R0BEYZaW23hHQMoaMCGgeEdAPws8tWR4R0Ad450/KXhHQHmHA8rtd0dA4xPir7Z3R0A6BYiVf3dHQJSGxnFId0dABeA6VxF3R0Cpg7Y82nZHQA==",
          "dtype": "f8"
         },
         "line": {
          "color": "#ff0000",
          "width": 1
         },
         "lon": {
          "bdata": "QfjYHeWUH0D72IFRE5YfQA5B1oBBlx9A9+PfzW6YH0BDokTznJkfQPW5ChPLmh9AAqSkDfSbH0C88WkDHZ0fQAZr/tBGnh9AxwcZvW+fH0B4XF+kmKAfQCwabU/IoR9AZJRm9feiH0CqY7G5JqQfQJiLhFVWpR9ALstD7IWmH0DbsnuZwKcfQDLppUD7qB9AXrKpvzaqH0DlJwxccasfQMgnuPOrrB9Ars6cNxWuH0Cc6Px0fq8fQAt1983msB9AsMn3/E+yH0DAvRgkubMfQHBRaBjrtB9AD2giKxy2H0AyfPYVTrcfQGQ5iR5/uB9AmFWC/rC5H0D2Z+6H5LofQK894gwYvB9AvUluaEy9H0C/ug3jf74fQPAz0Vezvx9A0wbH5uvAH0AnkW9wJMIfQDdXrBdcwx9AVCS8lpTEH0AhCX8QzcUfQGGiDjsSxx9AT3p2g1bIH0B9Tsehm8kfQIirqt7fyh9A6uYp8iTMH0A/NAQ0Xc0fQE1X0EyWzh9A+nSThM7PH0ABmoySB9EfQDAkyL4/0h9AdN6kKGbTH0DI6RhqjdQfQOK1yMmz1R9Aa83GAdvWH0BMHL9YAdgfQA==",
          "dtype": "f8"
         },
         "mode": "lines",
         "name": "100 samples Flight 2",
         "opacity": 0.5,
         "showlegend": false,
         "type": "scattermap"
        },
        {
         "lat": {
          "bdata": "jICjOXqDR0BcYoFYPINHQNPuW3f+gkdAU8n6lcCCR0A4epa0goJHQBZV9tJEgkdA+o+TcwuCR0CvwfkT0oFHQCd/86qYgUdAVZ8kS1+BR0CDAFjrJYFHQBMhmanogEdAuRq7Z6uAR0D1bGwcboBHQAQyUNowgEdAttUUmPN/R0DOWoqzuH9HQAW24859f0dAL3iP80J/R0C/hLAOCH9HQFRstSnNfkdAuhoBEpd+R0BTxTT6YH5HQEr9vusqfkdAQaTC0/R9R0BDS667vn1HQDwedxCBfUdA+oKtbkN9R0BVTDjDBX1HQBXTMCHIfEdAY5p9dYp8R0DKWx+UVnxHQEjRqrIifEdABvwf0e57R0Af3X7vuntHQLh1xw2He0dAViu7iEl7R0BScAANDHtHQO0iuofOekdA02jFC5F6R0DBH0WGU3pHQCA8ThIWekdAPW6np9h5R0C0V1Qzm3lHQH6CcMhdeUdAUKP/UyB5R0AT5aHP7HhHQMsRLku5eEdADSxVvYV4R0ChQrU4UnhHQIBH/7MeeEdA4d7hKuN3R0AdDIihp3dHQI4KoCFsd0dAR+gMmDB3R0DGLH0O9XZHQA==",
          "dtype": "f8"
         },
         "line": {
          "color": "#ff0000",
          "width": 1
         },
         "lon": {
          "bdata": "0U0a9MKUH0B7j3z2DpYfQOy7MxZalx9A4aOeDKaYH0AgwWIg8ZkfQGrp1go9mx9A+AhhzWycH0BR1ntnnZ0fQMObNB/Nnh9Agdwhr/2fH0BuslhdLaEfQFY0O3h3oh9Aw5o5jcGjH0AJBRG/CqUfQK8rSchUph9AT6edy56nH0DQH+uU2KgfQL6a1lgSqh9AojwMGEyrH0BDjDTRhawfQEJB+4S/rR9AavVHbOGuH0DpggNPA7AfQE8O3C0lsR9AEgB2B0eyH0AyGH/caLMfQMf+WJyytB9AzLB3evu1H0CFdXwuRbcfQAYuywCOuB9Aj2j7qNe5H0D0IHgz77ofQJPzu7kGvB9ALffGOx69H0B/Qpm5Nb4fQD/sMjNNvx9AhKKnjYvAH0ABtBzjycEfQKETKzIIwx9AMvQ6fEbEH0CNj+O/hMUfQFJTNZvLxh9AfYdkcRLIH0BLumYdWskfQPee5Oegyh9AR/jTq+fLH0DXfawa/swfQDd5WIUUzh9AsIjHDirPH0A4+htxQNAfQG4kRM9W0R9AO1uARpPSH0BhI5KU0NMfQDxtkAEN1R9Ai6qmRErWH0A4BfOlhtcfQA==",
          "dtype": "f8"
         },
         "mode": "lines",
         "name": "100 samples Flight 2",
         "opacity": 0.5,
         "showlegend": false,
         "type": "scattermap"
        },
        {
         "lat": {
          "bdata": "9mXKHoKDR0AA1rq5Q4NHQOVm+l0Fg0dAS03I+MaCR0DrIMmciIJHQNcBPDdKgkdAkT3gwxGCR0BRWmpQ2YFHQJoD99yggUdA3fhMaWiBR0CD04j1L4FHQKLmZ6b5gEdAk6WAYMOAR0B6xi8RjYBHQDlzGMtWgEdAE6eXeyCAR0BLMWZe5H9HQLKSFkGof0dAJS3GI2x/R0DBVToGMH9HQNVakOjzfkdAEyI9A7p+R0DTrT0ngH5HQMWe0kFGfkdAuKudZQx+R0BGYt9/0n1HQE+JUUSYfUdAKuanCF59R0B3euLMI31HQMxHAZHpfEdAxU8EVa98R0Biiu1vcnxHQKj3SYE1fEdAMzcVnPh7R0C5RDWtu3tHQMespcd+e0dAahpDu0J7R0Bx0MKuBntHQJXzBaLKekdAPyxKlY56R0CdsnCIUnpHQFRFFF4ZekdAzFYMPeB5R0AE/poSp3lHQPv+XvFteUdAA16axjR5R0Cq3T/4/nhHQLf5WzPJeEdA95vSZJN4R0DP/7+fXXhHQLTJB9EneEdAI/HvlOp3R0C1I7pYrXdHQNdzRhxwd0dAt67U3zJ3R0Az+kSj9XZHQA==",
          "dtype": "f8"
         },
         "line": {
          "color": "#ff0000",
          "width": 1
         },
         "lon": {
          "bdata": "xaLq762UH0DlDC4N+ZUfQB0sESVElx9ADvCdWY6YH0CZK3pl2ZkfQBQArGokmx9A/vSkhFKcH0Bsz6WZgJ0fQP2bC82tnh9A1Woe2NufH0C0djneCaEfQGTMYRgroh9At8s7K02jH0B33jtcbqQfQP4X62WQpR9AWU/DjbGmH0Bdy6549qcfQJ/H6V07qR9ANYnjYH+qH0Ap4L86xKsfQNYh7A4JrR9ACQUDEjuuH0DkcZ4Qba8fQLel3CyesB9A6rkpIdCxH0CrZqAPArMfQHJWU/o5tB9AFEW833G1H0CVUtu/qbYfQPGesJrhtx9AKko8cBm5H0Ap5CvWXrofQE/1pDWkux9AqCKWs+i8H0CgkIYHLr4fQAWxZFZzvx9A8QNSGrbAH0D8DJvY+MEfQMSjqm08wx9ABJSpIH/EH0DtowTOwcUfQB2qmgPwxh9Aj4ffNB7IH0BwbAaES8kfQIBfQKt5yh9ALRi9zKfLH0CPygOsxswfQDhzKqvkzR9ArKd3gQPPH0BuQKl3IdAfQD5b/URA0R9AutRoWoTSH0AoMQ5qyNMfQAOuPFAN1R9AtkZUVFHWH0CkMKZSldcfQA==",
          "dtype": "f8"
         },
         "mode": "lines",
         "name": "100 samples Flight 2",
         "opacity": 0.5,
         "showlegend": false,
         "type": "scattermap"
        },
        {
         "lat": {
          "bdata": "HM+HyXGDR0AMDXOxMoNHQE5etI/zgkdAUUVhd7SCR0CYG2RVdYJHQJ+z0jw2gkdAUY9rxwCCR0DKRtBRy4FHQHxzy9KVgUdAYekAXWCBR0AuhzvnKoFHQGBgVyjxgEdA3+V0abeAR0BotOugfYBHQLbl0uFDgEdAZ8yBIgqAR0Bjvo6cz39HQCrUfxaVf0dAzRvJhlp/R0A3a4IAIH9HQEvjH3rlfkdAMW4/pa5+R0DCr9fGd35HQIIJqPFAfkdA0MkOEwp+R0BkZMs9031HQNwoR4eYfUdAVa6m0F19R0CKSl0QI31HQN5DhFnofEdAIQOPoq18R0BhUmKDcnxHQMD1GGQ3fEdA9O6yRPx7R0CbPzAlwXtHQHLpkAWGe0dA5zlcaU17R0C0KHzWFHtHQNO89DncekdARLfgpqN6R0ChMEQKa3pHQPL3xBkvekdAwKS5H/N5R0BlKOAut3lHQMa2mTR7eUdAEFWkQz95R0CHyp9RBnlHQHJ9gV/NeEdAQ3CYdpR4R0CZkEaEW3hHQMvy2pEieEdAPl5R9Oh3R0Dlv4xWr3dHQAFSO8J1d0dAciRAJDx3R0C6u0mGAndHQA==",
          "dtype": "f8"
         },
         "line": {
          "color": "#ff0000",
          "width": 1
         },
         "lon": {
          "bdata": "/+sTPw6VH0DCShOVV5YfQOU3DcGhlx9AOMjtCuuYH0AYQMQqNZofQMKhhmh+mx9Aqy4EMp2cH0C1kK7TvJ0fQHCXk5Pbnh9AM4FJLPufH0AaZuXjGaEfQMpjgrJOoh9AquNRn4KjH0C1O+Nit6QfQPtcVEXrpR9AtZYt/x+nH0CB+R4YWKgfQCZeviuQqR9AjlzwFcmqH0BM1+keAawfQBu1kSI5rR9ArYIkTV+uH0AHRVdyha8fQM/hC3CssB9A+tzWi9KxH0DheJ2j+LIfQBejDhsztB9AOngfjW21H0A5LJ7VqLYfQL9o7Dzjtx9Ap7Lanh25H0AepjSJWrofQI8gGm6Xux9AgUOLTdS8H0ByMIgnEb4fQNwIEfxNvx9AYGv/envAH0ALsqn1qMEfQKweFEfXwh9AhGPOtwTEH0A48twiMsUfQKjatvJzxh9A/rY9vLXHH0BPzT5d+MgfQId4iBs6yh9AxKrr1HvLH0CEg8o9qMwfQMT8rqHUzR9Athaq3QHPH0CqvJg3LtAfQJdbjYxa0R9A8uW4ao/SH0BlHQggxdMfQBR6kfT51B9AawOBny/WH0CaLvRoZNcfQA==",
          "dtype": "f8"
         },
         "mode": "lines",
         "name": "100 samples Flight 2",
         "opacity": 0.5,
         "showlegend": false,
         "type": "scattermap"
        },
        {
         "lat": {
          "bdata": "0TZuVpKDR0DJGcarV4NHQH3Hrvccg0dAdAvNTOKCR0BEQ3yYp4JHQNjuYO1sgkdApI2h5S+CR0A2EcTd8oFHQOMIN9+1gUdAlFsd13iBR0B/mOXOO4FHQKZKa/MDgUdABitqDsyAR0A5V78ylIBHQCC0jU1cgEdA5l+ycSSAR0CS7sh6539HQPupUXqqf0dAqxBHg21/R0BlXJGCMH9HQHj4KovzfkdA3QSeGLd+R0DNZ9Wlen5HQDnbnSk+fkdAfBGZtgF+R0CtEpRDxX1HQIu4cRuLfUdA/d+i/FB9R0DXaUrUFn1HQLd4RbXcfEdA1uy2jKJ8R0Aw7X3lZnxHQOY6nUcrfEdAbD4ZoO97R0Dc+AsCtHtHQMTieVp4e0dASnZU/Dl7R0DT44qn+3pHQDAJQEm9ekdAEwxR9H56R0C3yeCVQHpHQHb0iH4IekdAqycpZ9B5R0CtY6JPmHlHQEShMjhgeUdASuq6ICh5R0DLyP1t8HhHQDMZPLu4eEdAMpgDEoF4R0AI1jhfSXhHQHaIaawReEdAJDy5AsZ3R0D7Lv9YendHQBgPHK8ud0dA/XxOBeN2R0D4MHdbl3ZHQA==",
          "dtype": "f8"
         },
         "line": {
          "color": "#ff0000",
          "width": 1
         },
         "lon": {
          "bdata": "pR/F9leUH0DDk2uLlZUfQFXETz3Slh9Am7sbxw+YH0AAnihuTJkfQMScGu2Jmh9ATU40Is6bH0AyCYpREp0fQFB2w3tWnh9AbSKSn5qfH0DVRZ293qAfQHeyJ5YBoh9A3klNaSSjH0DzIGA4R6QfQD2QDQJqpR9AOUCpx4ymH0CoftCr16cfQDk2bIkiqR9AYrZBhWyqH0A39R1Xt6sfQBwWxiMCrR9AhQStD0auH0B4NGnSiq8fQAC8OLLOsB9AYmSHaROyH0ACfps+V7MfQM4509qKtB9ARwmFcr61H0A1MFIE8rYfQCl/mpEluB9AU4/9GFm5H0DbHl9abrofQGihoZeDux9A8nHWq5m8H0CPJHffrr0fQFN/lQ3Evh9AniedCsC/H0B2H8UDvMAfQOb6pve3wR9A0xCq57PCH0CemWbSr8MfQP4WJFlOxB9AOBNL3ezEH0DNfDw7jMUfQCjZNLoqxh9A7+OWNsnGH0Bgo4sYOscfQBoCrPiqxx9AAxtW+xrIH0C0yc/Xi8gfQEQ5dbL8yB9AvPo5s6XJH0BXUkawTsofQM5q54X4yh9A9t2Ae6HLH0AJRGJtSswfQA==",
          "dtype": "f8"
         },
         "mode": "lines",
         "name": "100 samples Flight 2",
         "opacity": 0.5,
         "showlegend": false,
         "type": "scattermap"
        },
        {
         "lat": {
          "bdata": "jmqL24aDR0CdEYP5SoNHQPqtXRcPg0dAXIg3NdOCR0C7J9hSl4JHQKfBW3BbgkdAijh7aB6CR0CRbXxg4YFHQP6X6mGkgUdAh2KvWWeBR0Co8FVRKoFHQFCFx/DxgEdAQ4Y8kLmAR0DmkgwmgYBHQMfATsVIgEdAw2daZBCAR0Ah3vQC2H9HQPvZBpiff0dAeNmKNmd/R0BEFGnLLn9HQAH3m2n2fkdA/ER477Z+R0AZaoR+d35HQLuMHgQ4fkdABWLokvh9R0CVYUAYuX1HQK+v2qqEfUdAZbt9PVB9R0Aw8X7GG31HQBuY91jnfEdAPNs867J8R0A7zMU+dnxHQAcgEpI5fEdApvjv2/x7R0Cuof8uwHtHQKGLD4KDe0dAV8Cke057R0C9YyN1GXtHQBO1O2XkekdALEqNXq96R0CBUchXenpHQG7g5u84ekdAGMFRkfd5R0Da0CsptnlHQB43Usp0eUdAqtDnYTN5R0AEJb1a/XhHQJq6elPHeEdAkwQBTJF4R0AbD49EW3hHQK5eBT0leEdA7h4PVOt3R0Dqrv1qsXdHQLn48IF3d0dAYT+pmD13R0B2WkavA3dHQA==",
          "dtype": "f8"
         },
         "line": {
          "color": "#ff0000",
          "width": 1
         },
         "lon": {
          "bdata": "nc4WJ4OUH0DN5lGCwZUfQA2v/tf/lh9AUFlwSz2YH0Dd1wKWe5kfQGluB9u5mh9AiqiH6/6bH0DaBUD2Q50fQOoSNR+Inh9API1gHs2fH0DfmMQXEqEfQKouc6c8oh9Al82eVWajH0AW79bakKQfQIA7OX+6pR9AFE9O++SmH0D4gzkIEqgfQIq7hw8/qR9Avo7+NWuqH0DvVGozmKsfQFJ3kCzFrB9A1BkOQBmuH0DOt3gqbq8fQDAGYjHCsB9A6Hg1DxeyH0AhGYsJa7MfQIPEd757tB9AES67kou1H0BQJKY+nLYfQPP3mgqstx9ANBXkrry4H0DhXPgZArofQPSSw1tIux9AluGkuo28H0CADevw070fQNSB/UQZvx9ASgLHXTLAH0CFyDlyS8EfQEFeNqVjwh9AP0v9sHzDH0DPxW24lcQfQDMoJxnwxR9A40n+c0rHH0BOYIjHpMgfQJx/MRX/yR9Aaf2MW1nLH0APrszvecwfQI7ngn+azR9AaigI57vOH0A8A6pt3M8fQEmzwu/80B9AkdoJyTHSH0B72xydZtMfQF5/rI+a1B9A6G1ZWc/VH0Dqk9IdBNcfQA==",
          "dtype": "f8"
         },
         "mode": "lines",
         "name": "100 samples Flight 2",
         "opacity": 0.5,
         "showlegend": false,
         "type": "scattermap"
        },
        {
         "lat": {
          "bdata": "3sh9PpeDR0CAA66zV4NHQOzm2CgYg0dAap9XlNiCR0CVuj8JmYJHQJkS6n1ZgkdAGgQlFSCCR0AhhUWs5oFHQFpmwDmtgUdAqPir0HOBR0AUH31nOoFHQMm5UTf+gEdAYMR1EMKAR0DrIO/fhYBHQPHg1LhJgEdAvfksiA2AR0AZzVoK1X9HQPIAAIOcf0dAOxYXBWR/R0AIP4h9K39HQLnqTf/yfkdAg3lPQLd+R0DRhjOBe35HQIPEbbg/fkdAnMAW+QN+R0BtQKI5yH1HQKjZMtKIfUdA55Tzc0l9R0CeXUMMCn1HQDYkw63KfEdAkiTSRYt8R0B0mdmpUnxHQFbLxg0afEdAs88me+F7R0BHkt/eqHtHQDsWfkJwe0dAzfvHSjJ7R0D7CPNS9HpHQLg//1q2ekdA4aHsYnh6R0BpMbtqOnpHQGV9xz0EekdAxHe7EM55R0BcUAnal3lHQMKZzKxheUdAa5V3fyt5R0Bmebce63hHQMDc1L2qeEdA4iCwXGp4R0CcdIj7KXhHQEROPprpd0dAYh1cULR3R0BS/PT8fndHQBYRBrNJd0dAh0tyXxR3R0BJwTYV33ZHQA==",
          "dtype": "f8"
         },
         "line": {
          "color": "#ff0000",
          "width": 1
         },
         "lon": {
          "bdata": "HtmhOAGUH0CYVJR5V5UfQMkfgdeslh9Aa3MjCwOYH0BwXmlcWJkfQNldBoSumh9AlPsESN6bH0CTwe4GDp0fQMnJv5w+nh9Ac/h9UW6fH0CiqicBnqAfQIC1azHooR9ABsOOXDKjH0CS9NhdfaQfQOpzZ33HpR9A04eClhGnH0B6P4N9P6gfQF3V4F5tqR9ARR1hX5qqH0D3GdA2yKsfQMBv8wn2rB9ARHslbTeuH0Dm6r/KeK8fQCEtnP66sB9AMXEFUfyxH0CKgdedPbMfQBjCaCKOtB9AXHPyfd+1H0CPRBX2L7cfQE+tLUWBuB9AJbPisNG5H0C5lMn/ALsfQNXEsEkwvB9AuvvWsl69H0CbXMHyjb4fQClkrC29vx9AWiDQ0gXBH0CORgZyTsIfQAP9TguXwx9A42mqnt/EH0BnsxgsKMYfQPXikURMxx9AmxBwWHDIH0BjqV1DlckfQKX9A065yh9ArJ0PVN3LH0DszfxeOc0fQL7hZGOVzh9AxiifPfLPH0BTdPs0TtEfQP4l0yWq0h9AmoTeEMLTH0DZfdj22dQfQAvB5/zw1R9AnKA02gjXH0A0mOWzINgfQA==",
          "dtype": "f8"
         },
         "mode": "lines",
         "name": "100 samples Flight 2",
         "opacity": 0.5,
         "showlegend": false,
         "type": "scattermap"
        },
        {
         "lat": {
          "bdata": "16JsQ3mDR0D7A9I9R4NHQIfgsy4Vg0dA4w/TKOOCR0Da7ooZsYJHQJhlnBN/gkdA+K1T/zeCR0CA6Y/h8IFHQNAq9cypgUdAMpLfrmKBR0AH2PKZG4FHQN1JT8HrgEdAkol76LuAR0ADcbEPjIBHQNQItzZcgEdAe2nGXSyAR0BghcFO6n9HQLWqmT+of0dAkQigOWZ/R0DcMjIqJH9HQHhtoRrifkdA18XSPqh+R0CSeOlibn5HQJlKA4c0fkdAA8nkqvp9R0BxpqvOwH1HQMu3iTuKfUdAIl9PqFN9R0BcLmseHX1HQLkFAIvmfEdA/nZ89698R0Dfe585cXxHQPyoonsyfEdAv/L4s/N7R0AUYrz1tHtHQKP/Xzd2e0dA2QDcRj17R0BQ+B9WBHtHQC74127LekdAkjvpfZJ6R0AKHACNWXpHQGGtr9AkekdAWedmFPB5R0Bxm+dXu3lHQBAdcJuGeUdAwfjB3lF5R0CQ6wlCGXlHQJGJOKXgeEdAPUouCKh4R0AOMSprb3hHQGfHDM42eEdAVoUD4fN3R0CQPfbzsHdHQMzqExBud0dA7C2/Iit3R0BOrCY16HZHQA==",
          "dtype": "f8"
         },
         "line": {
          "color": "#ff0000",
          "width": 1
         },
         "lon": {
          "bdata": "UwSypcqUH0AP8rpk2ZUfQMKELB/olh9AEcb9sveXH0DNB4hlBpkfQE9pxRQVmh9A17fexI+bH0AHd9OPCZ0fQD4TPzCEnh9A2iKK6/2fH0DW9Eh8eKEfQGMXvf57oh9A294uWoCjH0Avc2XVg6QfQP+6limIpR9ABgmQnYumH0D67NMa6acfQMI+XpFGqR9AhqNr3qSqH0BHtIFHAqwfQK293qlfrR9Aqi+Sz5CuH0CgUCHwwa8fQExqBS/ysB9AGCNORSOyH0DM53JWVLMfQK6VybN4tB9Ao9x6DJ21H0Dz0zZhwbYfQHwBnrDltx9AJBdg+wm5H0BpfpDbV7ofQI2dp7Wlux9AJ71nZfS8H0DGSkozQr4fQKwHFPuPvx9AEKROJLnAH0Aw8Qgl48EfQDRXHEUMwx9ANyb4OzbEH0ClsnxRX8UfQPxWIl5+xh9AUHH8iZzHH0CFJdSNu8gfQFHk47DZyR9AmQjuq/jKH0Dklg+IIswfQM33SF9MzR9APGjzDXfOH0Ap81rboM8fQG+n2qPK0B9AhpAwRy3SH0D0fU0Hj9MfQKqVkJ3x1B9AZ2flT1PWH0AJBKLXtdcfQA==",
          "dtype": "f8"
         },
         "mode": "lines",
         "name": "100 samples Flight 2",
         "opacity": 0.5,
         "showlegend": false,
         "type": "scattermap"
        },
        {
         "lat": {
          "bdata": "xOX6umuDR0Afu7HFL4NHQJwSS9DzgkdAZ5yq2reCR0AS6gjle4JHQBK/Se8/gkdA+yvG5AWCR0B52LfQy4FHQP8v38WRgUdA82eYsVeBR0BR/6OmHYFHQMthz6LngEdAFLPinrGAR0AOcYyRe4BHQBG1b41FgEdAwus6iQ+AR0A3MolM2H9HQHkCvg+hf0dAIPq70ml/R0Ap0L2VMn9HQBI0plj7fkdAzF7Kyr1+R0Cznj5GgH5HQMYTCLhCfkdAE1E/MwV+R0Cfiemkx31HQGw/g2uJfUdAVWCOKEt9R0AXD+juDH1HQJQss6vOfEdAIdzMcZB8R0DIQZigUnxHQFygJs8UfEdAe2MjB9d7R0CwanQ1mXtHQD9wxWNbe0dAsRfDgSd7R0A8WKqf83pHQKWEK7S/ekdAiAvm0Yt6R0DvLorvV3pHQKoTVVUaekdA4m5vxNx5R0B8Xhsqn3lHQJGb95hheUdAlC9G/iN5R0A4XxrL53hHQKUO0ZereEdAO+KJZG94R0DbqQUxM3hHQIP2Y/32d0dA6JuBvb93R0CxeaZ9iHdHQH01JDRRd0dAnuMX9Bl3R0AT49Kz4nZHQA==",
          "dtype": "f8"
         },
         "line": {
          "color": "#ff0000",
          "width": 1
         },
         "lon": {
          "bdata": "IzBzJSuVH0C5FrsSbJYfQDJqZ/qslx9AUlwkue6YH0CkA5iVL5ofQNKAcGxwmx9AtYtkeqqcH0DWimGC5J0fQGx+WGIfnx9AElmzX1mgH0CvrmZYk6EfQPN6mHK1oh9AZps5iNejH0DAuga8+KQfQFopiMgaph9ADDl50DynH0A4kZpbZ6gfQHA37uGRqR9AVxIFQL2qH0DO37u856sfQP9NpTQSrR9Ace4foliuH0BhAW4Kn68fQLtfvEjmsB9A3RhWpSyyH0C7O2j7crMfQP/9WtzBtB9AsbGMthC2H0DfiVyLX7cfQLK5almuuB9ArEQYIv25H0C/dSQsRLsfQNY5wwyMvB9AD4K6C9O9H0CHr47gGr8fQJI2DdNhwB9AGJ7+IHrBH0DqTrRqksIfQKWOD9Opwx9AiWBPFMLEH0AEwFNR2sUfQBrO1Jokxx9AXAog327IH0CJv2hAuMkfQFzg33gCyx9AVfO0qkzMH0B+O1tWjs0fQMT9XvzPzh9ADRBpwBDQH0CvHypbUtEfQAwTSfCT0h9A2M31VrrTH0AzMJfc39QfQDkLFDkG1h9AVL5DtSvXH0BhZQYJUtgfQA==",
          "dtype": "f8"
         },
         "mode": "lines",
         "name": "100 samples Flight 2",
         "opacity": 0.5,
         "showlegend": false,
         "type": "scattermap"
        },
        {
         "lat": {
          "bdata": "gfuduHKDR0BPjROAOINHQC5kUUf+gkdAPeKPDsSCR0A1g5bViYJHQOjznZxPgkdA1hckMhiCR0B7rv/Q4IFHQHX3NmapgUdAeUvgBHKBR0BR+wGaOoFHQJ5/N+j6gEdAD/b5LLuAR0DZqex6e4BHQK18bL87gEdAT2gcDfx/R0AqxI87wX9HQBHFyWmGf0dAUpdzoUt/R0AvXXXPEH9HQC6OeP3VfkdAnzsurp5+R0CMAjpoZ35HQOzEvhgwfkdA0aOZ0vh9R0CXgO2CwX1HQDSHsOeHfUdAINZ1TE59R0Dz92+6FH1HQDH6/R7bfEdAaBxSg6F8R0D9Y6bfZ3xHQLk2/zsufEdANNUfmPR7R0DzJUX0untHQGAhMlCBe0dAlU1TRUJ7R0BKLXI6A3tHQNHXvzjEekdAA9GcLYV6R0Ak3jkiRnpHQD1M85cOekdAz8t0Ddd5R0CBn/yCn3lHQPhjTPhneUdAyaKibTB5R0B/d8U973hHQPKuVwSueEdApNQW1Gx4R0CE6WSaK3hHQHKO/2nqd0dAUDyORLd3R0Ajm3YohHdHQL+MuwJRd0dA6Rh65h13R0BZMbXA6nZHQA==",
          "dtype": "f8"
         },
         "line": {
          "color": "#ff0000",
          "width": 1
         },
         "lon": {
          "bdata": "UsFAcvSUH0DElqBJKpYfQHTqbPhglx9AbVNHxZaYH0BbuYppzZkfQHM14CsDmx9AxCwJUCucH0C0JhFwU50fQG+oTWd8nh9AixHFfaSfH0CbFM2OzKAfQANlpZAioh9ASxLgrnejH0AbyQikzaQfQOBel7Uiph9AIyQRnninH0CgANiMsagfQMAP1FLrqR9AzhSMNySrH0BAO8ryXawfQFVtHMyWrR9Ajb5lM7uuH0Ay5KaW368fQP0qhfQDsR9AP0dcTiiyH0AQ8M+iTLMfQIQbvpeEtB9ADkHxqru1H0A1QBqW87YfQP+K3J4quB9ATyrhfmK5H0AfUeEmj7ofQBu4X+26ux9AHaRKi+e8H0CfwrdHE74fQATtjds/vx9ABrFdfJTAH0DptoA66MEfQK6Mhs88wx9A0SkwgZDEH0DYiQQJ5cUfQG9fcp0Lxx9AORaACTPIH0ApQ2aUWckfQML16PaAyh9AIuhHeKfLH0CzfxrfAM0fQDKppz5azh9AR6a2dLTPH0B7TSbHDdEfQOPXwRNn0h9ASF/8sXXTH0DbTupMhNQfQNSZZb+T1R9Al3VFUqLWH0AIA2TgsNcfQA==",
          "dtype": "f8"
         },
         "mode": "lines",
         "name": "100 samples Flight 2",
         "opacity": 0.5,
         "showlegend": false,
         "type": "scattermap"
        },
        {
         "lat": {
          "bdata": "Zpk8MpKDR0CeHBt4U4NHQLgS9r0Ug0dABLoDDdaCR0CLc59Sl4JHQI8t/5dYgkdAsrFmlSGCR0B109GS6oFHQBX1mIazgUdA5WfSg3yBR0BXR9aARYFHQJ4Yp7QCgUdAkzhT6L+AR0Aaor0bfYBHQCJRIE86gEdAGVZegvd/R0CqbuknxX9HQI/rQ82Sf0dA//AWfGB/R0B/rkohLn9HQKiGiMb7fkdA+4SqO7h+R0BGsKawdH5HQPWa6y4xfkdA4Seco+19R0BS6SYYqn1HQFa7Bz95fUdAZ0tmXEh9R0Dd2D2DF31HQEkYdaDmfEdArDkHx7V8R0C0gjkAd3xHQGwuLjk4fEdAtvQhcvl7R0DU+dequntHQDlFjeN7e0dAOpXH20d7R0C6WuvTE3tHQPEEisLfekdA0riAuqt6R0Cl5WCyd3pHQPdTIAAzekdAYD+aTe55R0BSRJ6RqXlHQOsxy95keUdALP3wKyB5R0AmAHNa8HhHQCbYcJLAeEdAFWvOwJB4R0Bw86f4YHhHQN0Z4SYxeEdAUMpojfB3R0D1fc7zr3dHQO02Elpvd0dAcvczwC53R0CpwTMm7nZHQA==",
          "dtype": "f8"
         },
         "line": {
          "color": "#ff0000",
          "width": 1
         },
         "lon": {
          "bdata": "+ZFp4kuUH0BPo/G0mJUfQFUVtaTklh9Af5K5azGYH0DE3FhPfZkfQLQUkAnKmh9ABqwUWfGbH0CKCDjHF50fQBNxnww/nh9AdHZQcWWfH0C0remtjKAfQHtmP9nyoR9AksWc/VijH0AYpZv3v6QfQBC7Bg4mph9AmQh6HYynH0BsUJxcj6gfQABMg3STqR9A7/m0rJaqH0AG2/y8mqsfQCsQ5+ydrB9AmTzt1QmuH0Bg3Mq3da8fQPYULpPhsB9AQ7C7Zk2yH0CBVSEzubMfQHDQP9O/tB9A11jybsa1H0AEShorzLYfQIHzVL/Stx9AqImDUNm4H0DZ6Nq+I7ofQFu2ngNvux9A+iPgZbm8H0CORIqeBL4fQK9etvROvx9A1/uvH2jAH0Bbb2dGgcEfQBS4KGiawh9Ay7tbhrPDH0DK2kygzMQfQK1f4Go7xh9ASyWCCqvHH0CdlbLFGckfQCwdo1aJyh9ANnzdA/jLH0AfHaHn9MwfQI4DPuzwzR9AfOr5yO3OH0Cb+5LG6c8fQHduR5zm0B9AVaIh9T/SH0D3MH5HmdMfQOJFXZPy1B9ApAy/2EvWH0C5sKMXpdcfQA==",
          "dtype": "f8"
         },
         "mode": "lines",
         "name": "100 samples Flight 2",
         "opacity": 0.5,
         "showlegend": false,
         "type": "scattermap"
        },
        {
         "lat": {
          "bdata": "E1tfuWWDR0Awsua2L4NHQDsYOrT5gkdAAWUjqMOCR0BELUeljYJHQD6Ob6JXgkdA1ojOJxuCR0DPaqCj3oFHQKRQwiiigUdAFyFXpGWBR0Be+TspKYFHQFO2hNvvgEdA0i6yjbaAR0Bi6hVJfYBHQB7MDPtDgEdA9W3orAqAR0C/w3Gjzn9HQGQn3pmSf0dAzimcmVZ/R0CKrs6PGn9HQFtG5IXefkdAAeBii6d+R0DxMauQcH5HQOuM+JU5fkdAkn8PmwJ+R0BCoSugy31HQPK1y4ONfUdA0bZMZ099R0C8xsxKEX1HQIe5Dy7TfEdAQJ4zEZV8R0Boj+B1W3xHQBZZctohfEdAyPzoPuh7R0AQfESjrntHQIDYhAd1e0dAb1bACj97R0BfCOQNCXtHQA8W0RDTekdAbCLFE516R0CTZqEWZ3pHQCBYt0UmekdA4l3KdOV5R0Dq1QqtpHlHQIT92dtjeUdAk99nCiN5R0APt5qK6HhHQO1s0QqueEdAHG9egXN4R0CSC14BOXhHQIJlIoH+d0dAXC1nNMx3R0D/t7bnmXdHQAm+YpFnd0dAfD2IRDV3R0CnrXj3AndHQA==",
          "dtype": "f8"
         },
         "line": {
          "color": "#ff0000",
          "width": 1
         },
         "lon": {
          "bdata": "04Q0diyVH0AZbQQsTJYfQI80+7lslx9Ao1gVZoyYH0B2MPjqrJkfQBuVp47Mmh9AQAviYROcH0BT6LIuWp0fQOY3aPagnh9A2lOzt+efH0CtDeRzLqEfQAHEK0pjoh9AIZVLG5ijH0BZDYfEzaQfQLUCVosCph9AAG/9TDenH0DvsWpSdagfQJ03SFKzqR9A6QZCTfGqH0C16ABCL6wfQIt1MDFtrR9AtXPNe5KuH0B6A0GeuK8fQCjyd9/dsB9AtB2C+AOyH0BjaFMwKbMfQHHdJ+lytB9Ak7cFnLy1H0CNqG9sBbcfQFfAYhNPuB9AzbBftJi5H0Bmw0UczbofQJaz/34BvB9AUKCN3DW9H0CRqO80ar4fQEjrJYievx9AexH5TL/AH0BjekIN4MEfQGI5baUBwx9AYbehXCLEH0B0xEwPQ8UfQCqpWZycxh9AG3t+RvXHH0AgkTrHTskfQPMjXWSnyh9AjLxc1wDMH0CobGFQOM0fQA12v+duzh9AA+ByVabPH0BY2Dvi3NAfQHRLD0YU0h9AaAUIryTTH0C7wLM3NNQfQDmC+pdE1R9Ao9uxGFTWH0Cyt7txZNcfQA==",
          "dtype": "f8"
         },
         "mode": "lines",
         "name": "100 samples Flight 2",
         "opacity": 0.5,
         "showlegend": false,
         "type": "scattermap"
        },
        {
         "lat": {
          "bdata": "B4Wqt3WDR0AFCGW3O4NHQN8ncsABg0dABM30v8eCR0CAEsrIjYJHQCfgFMhTgkdANI1uQhuCR0AeOpK84oFHQD5ySi2qgUdAsxY7p3GBR0C0+i4hOYFHQIVglDz+gEdAkBGLTsOAR0A1XbZpiIBHQGcdc3tNgEdAglVklhKAR0B/vDCe2X9HQNOlAKagf0dACPkqpGd/R0CRhMerLn9HQPXnLLP1fkdA8+kj5LV+R0BHbGgedn5HQLlRHU82fkdA9rsfifZ9R0AwjZK5tn1HQFNM54yCfUdAuu6xaU59R0BFTNk8Gn1HQIuxdhnmfEdAHrJw7LF8R0DCA1Rud3xHQC+9a/k8fEdAVHUXewJ8R0A6c/cFyHtHQFyYa4eNe0dAGBH0Q097R0AiN10AEXtHQJnlxbzSekdA8X/weJR6R0Bpzfs0VnpHQLRQe7EjekdAuKoFLvF5R0DKF+6gvnlHQCgQUB2MeUdAQZB+mVl5R0C2QFkxFnlHQHhwgL/SeEdAzisQV494R0B9P+zkS3hHQK0PMXwIeEdA4x3k7Nd3R0DREaRdp3dHQHxBMc52d0dAq3fLPkZ3R0CAzDKvFXdHQA==",
          "dtype": "f8"
         },
         "line": {
          "color": "#ff0000",
          "width": 1
         },
         "lon": {
          "bdata": "B5e8gtyUH0Br11/0FJYfQG0lYGFNlx9ARehzyIWYH0B20eUqvpkfQBqWaof2mh9AQWOfUSCcH0DY1ZHzSp0fQJJJTrN0nh9Atx5sS5+fH0BvYv8ByaAfQPv34xQIoh9ASesJRUajH0CbJP1MhaQfQFjtNHLDpR9ASlA3bwKnH0A76LmULqgfQATerthZqR9AH4WR84WqH0Czx5UtsasfQJ8JMD/drB9Al4JWTDGuH0D0t9hTha8fQHdUXFTZsB9AGO08Ty2yH0DbVB5DgbMfQO44HnabtB9AX8MEybS1H0BHtHPzzrYfQAiZzT3otx9AdPOrXwK5H0CC8WUrOrofQPHf+M5yux9AYPASkKq8H0CuRgMp470fQK3qfd8avx9AoyAxF2bAH0BZi+NIscEfQGRaKpj7wh9A+6PdvUbEH0DZlpDdkcUfQKzRuWqcxh9AFiSUF6bHH0AnejKcsMgfQNsoO0G6yR9AQ/i6vsTKH0BvuQc2L8wfQGr32oGazR9AIQvt6gTPH0DQrYAocNAfQCjbWIPa0R9ApLTDbdzSH0Cw2Dh43dMfQCmoW1vf1B9AGgaMXuDVH0AHFWc64tYfQA==",
          "dtype": "f8"
         },
         "mode": "lines",
         "name": "100 samples Flight 2",
         "opacity": 0.5,
         "showlegend": false,
         "type": "scattermap"
        },
        {
         "lat": {
          "bdata": "IGUH8KmDR0AbxdMCn4NHQIsRuAOSg0dAQH8omIODR0CfZyVFdoNHQLf+69dpg0dAZHbHKFmDR0Cca4sJS4NHQJHZCPI4g0dA+GKUgCaDR0DM9wgqFYNHQPKU5qcCg0dANFvc1O6CR0Drt73i24JHQKdN9/jEgkdAKJhyPK6CR0AT6PtcmoJHQPTSGkiCgkdA3ZfH4GiCR0BnzwexUoJHQCCH3i07gkdAtzw/yyCCR0BoZitwCYJHQN+rO8rxgUdACDautNiBR0D8vvxAwoFHQJ5tjAKqgUdAh3w9xY+BR0BavR8weIFHQLmS9FhfgUdATdUd0EeBR0C1VaDLLoFHQHxF86EVgUdAOxU9/PyAR0BWJ/5z5IBHQMDyjybKgEdAbjy3n7GAR0DLt+XAl4BHQE+VBUl/gEdApnxjy2iAR0Aqo1+sTYBHQGfXXqM0gEdAHMrNyRyAR0BInA1hAoBHQHdYsvTof0dA7YTxYdJ/R0Bl2sQrun9HQGpBExuif0dAIwlrRYd/R0A9jzJ/bn9HQL36z2ZUf0dAM+1c9T1/R0DEPGsyJX9HQBVka0YLf0dAafAQwPV+R0DiM1D53H5HQN567AnFfkdAfiPwhKt+R0BM5D9+k35HQEcp7dJ7fkdA",
          "dtype": "f8"
         },
         "line": {
          "color": "black",
          "width": 1.5
         },
         "lon": {
          "bdata": "Bc0ngUeWIEDIRCFOr5QgQISMrvjakiBAOP69o+eQIEDkhyt1M48gQG/Zp02ijSBAMgZCJLmLIED23FQJQoogQLqFLE5QiCBAHqwh4HuGIEAqSh7W3YQgQFXiuxs2gyBAdui01GqBIEB7n1Te138gQCHU+YT2fSBA9XF0bix8IEC4rYmwqHogQIg8qI/VeCBAAAAALBB3IEDe3d3dbXUgQNxtmi3UcyBAwdDL3f5xIEA4GoUeZHAgQPorbCTHbiBAeT15OSFtIECHx+R3lWsgQH2blMLmaSBA/65rOBxoIECxwEqohmYgQNUTJOHYZCBAEeSKyDljIEBjgPvSh2EgQERUAzfkXyBAHsPYYUxeIECIDWYWrFwgQNEelWD0WiBABQkFWlhZIEBzi4OHnlcgQPIsnoUHViBA2QeoQZhUIEA2BCpc3VIgQPn7er47USBA0YbDgatPIEAA3a8l+00gQArU3rRWTCBABwOvstZKIECJkeZNTUkgQMvAEoi5RyBAMEnP3gVGIEA8iS/IYEQgQNm42YW1QiBA8MdGnEJBIEAiNBLAoT8gQCsJNaj1PSBAkV7vU448IEA7nE0M4zogQFLswYheOSBAHHT5T743IEBS/27xKzYgQFql34ajNCBA",
          "dtype": "f8"
         },
         "mode": "lines",
         "name": "Flight 1 History",
         "type": "scattermap"
        },
        {
         "lat": {
          "bdata": "1ZpRcfSRR0AfLnlaupFHQJA5FuWBkUdALZ8M3UiRR0BkbRppD5FHQG3hZrLTkEdA+oZOLJqQR0BP5dxsYJBHQHlABkomkEdAvRaWuuuPR0DpULsXso9HQHDUoJB3j0dAaRj3+z6PR0CVKaL+Ao9HQGQ5YP/JjkdAK4KGU4+OR0CARLIhVY5HQAPgvl8bjkdAqYAcu+CNR0BphEmOqI1HQNNc4ittjUdA0T+9cDONR0Bjmz4R+oxHQCMV31m/jEdAyjbq54OMR0A5M+UWSoxHQFnSBKQQjEdAZ/3MnteLR0CINrHxnItHQI1iK35ji0dAkG3b8SeLR0ANkw+n7opHQCLuyt+1ikdAmufK9XuKR0B8QFHYQIpHQHlKCEEHikdAnQW3RM2JR0AHVZLxkYlHQBieNtpXiUdAI9Dr8B2JR0AUUEcc5YhHQMSsIe6qiEdAfSh+5HCIR0D6Z9aiNohHQIE49AD9h0dAOWDb9sGHR0BOVSjGh4dHQHJqgvtOh0dAeTlDdxSHR0DEx2vx2YZHQMf6QQyghkdA/gNvQWaGR0AfFm+PLIZHQGyVzMTyhUdA9Zx8j7eFR0AMd8LAfYVHQCsvg9REhUdAOcpZbAmFR0DzXm0qz4RHQI77XbaVhEdA",
          "dtype": "f8"
         },
         "line": {
          "color": "black",
          "width": 1.5
         },
         "lon": {
          "bdata": "OdH07FBHH0DUEjrKikgfQIbpie+7SR9AuuHUnuxKH0CHjXwRIEwfQAt4MyNWTR9AMW8mYIVOH0Cvxi2fxU8fQJYb9o/2UB9AZDPgby1SH0CrxRPaYVMfQF9/9kaUVB9ANRmg2cZVH0CAJtcaC1cfQFLJB7c5WB9A7MRO7HRZH0Dseb8do1ofQJKeY3LbWx9A/Lgw3hpdH0AZjTVVSl4fQHX3gx+EXx9APXYeqLZgH0AnFeG97mEfQLmM6EkuYx9AuBGQeGdkH0CScvw/mmUfQGLVn3PVZh9Ak0H07wBoH0DYHZyZOGkfQN/xwOJlah9AzgmECa9rH0BOb8g14mwfQK3iEkQQbh9A+BH1jEVvH0CDR1kziHAfQMrK5TW9cR9AazID/etyH0Ca7CZGJHQfQGdlubFddR9AzQhJKpV2H0A9RiYmxHcfQOmRgAD3eB9AiP2qLDd6H0CTy2v+bHsfQFCc0xWlfB9Alu0YjN99H0BCRRcSF38fQGdI9tBCgB9AusV3tHeBH0BSnksgs4IfQIrWPSDrgx9A1GYTaSKFH0DB4njMWYYfQAaBoVWFhx9AVGopMruIH0AM4icJ8okfQLaf73Exix9AIPvC9meMH0BVuLRbpo0fQGBddRvajh9A",
          "dtype": "f8"
         },
         "mode": "lines",
         "name": "Flight 2 History",
         "type": "scattermap"
        }
       ],
       "layout": {
        "legend": {
         "orientation": "h",
         "x": 0.5,
         "xanchor": "center",
         "y": -0.05,
         "yanchor": "bottom"
        },
        "map": {
         "center": {
          "lat": 47.064213052104705,
          "lon": 8.056579465175135
         },
         "style": "carto-positron",
         "zoom": 10.5
        },
        "margin": {
         "b": 10,
         "l": 10,
         "r": 10,
         "t": 0
        },
        "template": {
         "data": {
          "bar": [
           {
            "error_x": {
             "color": "#2a3f5f"
            },
            "error_y": {
             "color": "#2a3f5f"
            },
            "marker": {
             "line": {
              "color": "#E5ECF6",
              "width": 0.5
             },
             "pattern": {
              "fillmode": "overlay",
              "size": 10,
              "solidity": 0.2
             }
            },
            "type": "bar"
           }
          ],
          "barpolar": [
           {
            "marker": {
             "line": {
              "color": "#E5ECF6",
              "width": 0.5
             },
             "pattern": {
              "fillmode": "overlay",
              "size": 10,
              "solidity": 0.2
             }
            },
            "type": "barpolar"
           }
          ],
          "carpet": [
           {
            "aaxis": {
             "endlinecolor": "#2a3f5f",
             "gridcolor": "white",
             "linecolor": "white",
             "minorgridcolor": "white",
             "startlinecolor": "#2a3f5f"
            },
            "baxis": {
             "endlinecolor": "#2a3f5f",
             "gridcolor": "white",
             "linecolor": "white",
             "minorgridcolor": "white",
             "startlinecolor": "#2a3f5f"
            },
            "type": "carpet"
           }
          ],
          "choropleth": [
           {
            "colorbar": {
             "outlinewidth": 0,
             "ticks": ""
            },
            "type": "choropleth"
           }
          ],
          "contour": [
           {
            "colorbar": {
             "outlinewidth": 0,
             "ticks": ""
            },
            "colorscale": [
             [
              0,
              "#0d0887"
             ],
             [
              0.1111111111111111,
              "#46039f"
             ],
             [
              0.2222222222222222,
              "#7201a8"
             ],
             [
              0.3333333333333333,
              "#9c179e"
             ],
             [
              0.4444444444444444,
              "#bd3786"
             ],
             [
              0.5555555555555556,
              "#d8576b"
             ],
             [
              0.6666666666666666,
              "#ed7953"
             ],
             [
              0.7777777777777778,
              "#fb9f3a"
             ],
             [
              0.8888888888888888,
              "#fdca26"
             ],
             [
              1,
              "#f0f921"
             ]
            ],
            "type": "contour"
           }
          ],
          "contourcarpet": [
           {
            "colorbar": {
             "outlinewidth": 0,
             "ticks": ""
            },
            "type": "contourcarpet"
           }
          ],
          "heatmap": [
           {
            "colorbar": {
             "outlinewidth": 0,
             "ticks": ""
            },
            "colorscale": [
             [
              0,
              "#0d0887"
             ],
             [
              0.1111111111111111,
              "#46039f"
             ],
             [
              0.2222222222222222,
              "#7201a8"
             ],
             [
              0.3333333333333333,
              "#9c179e"
             ],
             [
              0.4444444444444444,
              "#bd3786"
             ],
             [
              0.5555555555555556,
              "#d8576b"
             ],
             [
              0.6666666666666666,
              "#ed7953"
             ],
             [
              0.7777777777777778,
              "#fb9f3a"
             ],
             [
              0.8888888888888888,
              "#fdca26"
             ],
             [
              1,
              "#f0f921"
             ]
            ],
            "type": "heatmap"
           }
          ],
          "histogram": [
           {
            "marker": {
             "pattern": {
              "fillmode": "overlay",
              "size": 10,
              "solidity": 0.2
             }
            },
            "type": "histogram"
           }
          ],
          "histogram2d": [
           {
            "colorbar": {
             "outlinewidth": 0,
             "ticks": ""
            },
            "colorscale": [
             [
              0,
              "#0d0887"
             ],
             [
              0.1111111111111111,
              "#46039f"
             ],
             [
              0.2222222222222222,
              "#7201a8"
             ],
             [
              0.3333333333333333,
              "#9c179e"
             ],
             [
              0.4444444444444444,
              "#bd3786"
             ],
             [
              0.5555555555555556,
              "#d8576b"
             ],
             [
              0.6666666666666666,
              "#ed7953"
             ],
             [
              0.7777777777777778,
              "#fb9f3a"
             ],
             [
              0.8888888888888888,
              "#fdca26"
             ],
             [
              1,
              "#f0f921"
             ]
            ],
            "type": "histogram2d"
           }
          ],
          "histogram2dcontour": [
           {
            "colorbar": {
             "outlinewidth": 0,
             "ticks": ""
            },
            "colorscale": [
             [
              0,
              "#0d0887"
             ],
             [
              0.1111111111111111,
              "#46039f"
             ],
             [
              0.2222222222222222,
              "#7201a8"
             ],
             [
              0.3333333333333333,
              "#9c179e"
             ],
             [
              0.4444444444444444,
              "#bd3786"
             ],
             [
              0.5555555555555556,
              "#d8576b"
             ],
             [
              0.6666666666666666,
              "#ed7953"
             ],
             [
              0.7777777777777778,
              "#fb9f3a"
             ],
             [
              0.8888888888888888,
              "#fdca26"
             ],
             [
              1,
              "#f0f921"
             ]
            ],
            "type": "histogram2dcontour"
           }
          ],
          "mesh3d": [
           {
            "colorbar": {
             "outlinewidth": 0,
             "ticks": ""
            },
            "type": "mesh3d"
           }
          ],
          "parcoords": [
           {
            "line": {
             "colorbar": {
              "outlinewidth": 0,
              "ticks": ""
             }
            },
            "type": "parcoords"
           }
          ],
          "pie": [
           {
            "automargin": true,
            "type": "pie"
           }
          ],
          "scatter": [
           {
            "fillpattern": {
             "fillmode": "overlay",
             "size": 10,
             "solidity": 0.2
            },
            "type": "scatter"
           }
          ],
          "scatter3d": [
           {
            "line": {
             "colorbar": {
              "outlinewidth": 0,
              "ticks": ""
             }
            },
            "marker": {
             "colorbar": {
              "outlinewidth": 0,
              "ticks": ""
             }
            },
            "type": "scatter3d"
           }
          ],
          "scattercarpet": [
           {
            "marker": {
             "colorbar": {
              "outlinewidth": 0,
              "ticks": ""
             }
            },
            "type": "scattercarpet"
           }
          ],
          "scattergeo": [
           {
            "marker": {
             "colorbar": {
              "outlinewidth": 0,
              "ticks": ""
             }
            },
            "type": "scattergeo"
           }
          ],
          "scattergl": [
           {
            "marker": {
             "colorbar": {
              "outlinewidth": 0,
              "ticks": ""
             }
            },
            "type": "scattergl"
           }
          ],
          "scattermap": [
           {
            "marker": {
             "colorbar": {
              "outlinewidth": 0,
              "ticks": ""
             }
            },
            "type": "scattermap"
           }
          ],
          "scattermapbox": [
           {
            "marker": {
             "colorbar": {
              "outlinewidth": 0,
              "ticks": ""
             }
            },
            "type": "scattermapbox"
           }
          ],
          "scatterpolar": [
           {
            "marker": {
             "colorbar": {
              "outlinewidth": 0,
              "ticks": ""
             }
            },
            "type": "scatterpolar"
           }
          ],
          "scatterpolargl": [
           {
            "marker": {
             "colorbar": {
              "outlinewidth": 0,
              "ticks": ""
             }
            },
            "type": "scatterpolargl"
           }
          ],
          "scatterternary": [
           {
            "marker": {
             "colorbar": {
              "outlinewidth": 0,
              "ticks": ""
             }
            },
            "type": "scatterternary"
           }
          ],
          "surface": [
           {
            "colorbar": {
             "outlinewidth": 0,
             "ticks": ""
            },
            "colorscale": [
             [
              0,
              "#0d0887"
             ],
             [
              0.1111111111111111,
              "#46039f"
             ],
             [
              0.2222222222222222,
              "#7201a8"
             ],
             [
              0.3333333333333333,
              "#9c179e"
             ],
             [
              0.4444444444444444,
              "#bd3786"
             ],
             [
              0.5555555555555556,
              "#d8576b"
             ],
             [
              0.6666666666666666,
              "#ed7953"
             ],
             [
              0.7777777777777778,
              "#fb9f3a"
             ],
             [
              0.8888888888888888,
              "#fdca26"
             ],
             [
              1,
              "#f0f921"
             ]
            ],
            "type": "surface"
           }
          ],
          "table": [
           {
            "cells": {
             "fill": {
              "color": "#EBF0F8"
             },
             "line": {
              "color": "white"
             }
            },
            "header": {
             "fill": {
              "color": "#C8D4E3"
             },
             "line": {
              "color": "white"
             }
            },
            "type": "table"
           }
          ]
         },
         "layout": {
          "annotationdefaults": {
           "arrowcolor": "#2a3f5f",
           "arrowhead": 0,
           "arrowwidth": 1
          },
          "autotypenumbers": "strict",
          "coloraxis": {
           "colorbar": {
            "outlinewidth": 0,
            "ticks": ""
           }
          },
          "colorscale": {
           "diverging": [
            [
             0,
             "#8e0152"
            ],
            [
             0.1,
             "#c51b7d"
            ],
            [
             0.2,
             "#de77ae"
            ],
            [
             0.3,
             "#f1b6da"
            ],
            [
             0.4,
             "#fde0ef"
            ],
            [
             0.5,
             "#f7f7f7"
            ],
            [
             0.6,
             "#e6f5d0"
            ],
            [
             0.7,
             "#b8e186"
            ],
            [
             0.8,
             "#7fbc41"
            ],
            [
             0.9,
             "#4d9221"
            ],
            [
             1,
             "#276419"
            ]
           ],
           "sequential": [
            [
             0,
             "#0d0887"
            ],
            [
             0.1111111111111111,
             "#46039f"
            ],
            [
             0.2222222222222222,
             "#7201a8"
            ],
            [
             0.3333333333333333,
             "#9c179e"
            ],
            [
             0.4444444444444444,
             "#bd3786"
            ],
            [
             0.5555555555555556,
             "#d8576b"
            ],
            [
             0.6666666666666666,
             "#ed7953"
            ],
            [
             0.7777777777777778,
             "#fb9f3a"
            ],
            [
             0.8888888888888888,
             "#fdca26"
            ],
            [
             1,
             "#f0f921"
            ]
           ],
           "sequentialminus": [
            [
             0,
             "#0d0887"
            ],
            [
             0.1111111111111111,
             "#46039f"
            ],
            [
             0.2222222222222222,
             "#7201a8"
            ],
            [
             0.3333333333333333,
             "#9c179e"
            ],
            [
             0.4444444444444444,
             "#bd3786"
            ],
            [
             0.5555555555555556,
             "#d8576b"
            ],
            [
             0.6666666666666666,
             "#ed7953"
            ],
            [
             0.7777777777777778,
             "#fb9f3a"
            ],
            [
             0.8888888888888888,
             "#fdca26"
            ],
            [
             1,
             "#f0f921"
            ]
           ]
          },
          "colorway": [
           "#636efa",
           "#EF553B",
           "#00cc96",
           "#ab63fa",
           "#FFA15A",
           "#19d3f3",
           "#FF6692",
           "#B6E880",
           "#FF97FF",
           "#FECB52"
          ],
          "font": {
           "color": "#2a3f5f"
          },
          "geo": {
           "bgcolor": "white",
           "lakecolor": "white",
           "landcolor": "#E5ECF6",
           "showlakes": true,
           "showland": true,
           "subunitcolor": "white"
          },
          "hoverlabel": {
           "align": "left"
          },
          "hovermode": "closest",
          "mapbox": {
           "style": "light"
          },
          "paper_bgcolor": "white",
          "plot_bgcolor": "#E5ECF6",
          "polar": {
           "angularaxis": {
            "gridcolor": "white",
            "linecolor": "white",
            "ticks": ""
           },
           "bgcolor": "#E5ECF6",
           "radialaxis": {
            "gridcolor": "white",
            "linecolor": "white",
            "ticks": ""
           }
          },
          "scene": {
           "xaxis": {
            "backgroundcolor": "#E5ECF6",
            "gridcolor": "white",
            "gridwidth": 2,
            "linecolor": "white",
            "showbackground": true,
            "ticks": "",
            "zerolinecolor": "white"
           },
           "yaxis": {
            "backgroundcolor": "#E5ECF6",
            "gridcolor": "white",
            "gridwidth": 2,
            "linecolor": "white",
            "showbackground": true,
            "ticks": "",
            "zerolinecolor": "white"
           },
           "zaxis": {
            "backgroundcolor": "#E5ECF6",
            "gridcolor": "white",
            "gridwidth": 2,
            "linecolor": "white",
            "showbackground": true,
            "ticks": "",
            "zerolinecolor": "white"
           }
          },
          "shapedefaults": {
           "line": {
            "color": "#2a3f5f"
           }
          },
          "ternary": {
           "aaxis": {
            "gridcolor": "white",
            "linecolor": "white",
            "ticks": ""
           },
           "baxis": {
            "gridcolor": "white",
            "linecolor": "white",
            "ticks": ""
           },
           "bgcolor": "#E5ECF6",
           "caxis": {
            "gridcolor": "white",
            "linecolor": "white",
            "ticks": ""
           }
          },
          "title": {
           "x": 0.05
          },
          "xaxis": {
           "automargin": true,
           "gridcolor": "white",
           "linecolor": "white",
           "ticks": "",
           "title": {
            "standoff": 15
           },
           "zerolinecolor": "white",
           "zerolinewidth": 2
          },
          "yaxis": {
           "automargin": true,
           "gridcolor": "white",
           "linecolor": "white",
           "ticks": "",
           "title": {
            "standoff": 15
           },
           "zerolinecolor": "white",
           "zerolinewidth": 2
          }
         }
        }
       }
      }
     },
     "metadata": {},
     "output_type": "display_data"
    }
   ],
   "source": [
    "COLOR_HISTORY = \"black\"\n",
    "COLOR_GT = \"red\"\n",
    "COLOR_PRED = \"#1f77b4\"\n",
    "COLOR_PRED2 = \"#ff0000\"\n",
    "COLOR_MEAN = \"#e19f20\"\n",
    "\n",
    "fig = go.Figure()\n",
    "\n",
    "# Flight 1 predicted samples (blue, semi-transparent spaghetti)\n",
    "for i, f in enumerate(f1_latlonalt[:100]):\n",
    "    fig.add_trace(\n",
    "        go.Scattermap(\n",
    "            lon=f[:, 1],\n",
    "            lat=f[:, 0],\n",
    "            mode=\"lines\",\n",
    "            line=dict(width=1, color=COLOR_PRED),\n",
    "            opacity=0.5,\n",
    "            name=f\"{100} samples Flight 1\",\n",
    "            showlegend=i == 0,\n",
    "        )\n",
    "    )\n",
    "\n",
    "\n",
    "# # Flight 2 predicted samples (blue, semi-transparent spaghetti)\n",
    "for i, f in enumerate(f2_latlonalt[:100]):\n",
    "    fig.add_trace(\n",
    "        go.Scattermap(\n",
    "            lon=f[:, 1],\n",
    "            lat=f[:, 0],\n",
    "            mode=\"lines\",\n",
    "            line=dict(width=1, color=COLOR_PRED2),\n",
    "            opacity=0.5,\n",
    "            name=f\"{100} samples Flight 2\",\n",
    "            showlegend=i == 0,\n",
    "        )\n",
    "    )\n",
    "\n",
    "\n",
    "# History (observations) - black\n",
    "fig.add_trace(\n",
    "    go.Scattermap(\n",
    "        lon=f1_df[\"longitude\"],\n",
    "        lat=f1_df[\"latitude\"],\n",
    "        mode=\"lines\",\n",
    "        line=dict(width=1.5, color=COLOR_HISTORY),\n",
    "        name=\"Flight 1 History\",\n",
    "    )\n",
    ")\n",
    "\n",
    "fig.add_trace(\n",
    "    go.Scattermap(\n",
    "        lon=f2_df[\"longitude\"],\n",
    "        lat=f2_df[\"latitude\"],\n",
    "        mode=\"lines\",\n",
    "        line=dict(width=1.5, color=COLOR_HISTORY),\n",
    "        name=\"Flight 2 History\",\n",
    "    )\n",
    ")\n",
    "\n",
    "# # Map settings - center on the trajectories\n",
    "all_ll = np.vstack(\n",
    "    [\n",
    "        np.column_stack([f1_df[\"longitude\"], f1_df[\"latitude\"]]),\n",
    "        np.column_stack([f2_df[\"longitude\"], f2_df[\"latitude\"]]),\n",
    "    ]\n",
    ")\n",
    "lon_center = float((np.nanmin(all_ll[:, 0]) + np.nanmax(all_ll[:, 0])) * 0.5)\n",
    "lat_center = float((np.nanmin(all_ll[:, 1]) + np.nanmax(all_ll[:, 1])) * 0.5)\n",
    "\n",
    "fig.update_layout(\n",
    "    map=dict(\n",
    "        style=\"carto-positron\",\n",
    "        center=dict(lon=lon_center, lat=lat_center),\n",
    "        zoom=10.5,\n",
    "    ),\n",
    "    margin=dict(l=10, r=10, t=0, b=10),\n",
    "    legend=dict(orientation=\"h\", yanchor=\"bottom\", y=-0.05, xanchor=\"center\", x=0.5),\n",
    "    # height=800\n",
    ")\n",
    "# fig.write_html('figures/conflicting_pair_predictions.html')\n",
    "fig.show()\n"
   ]
  },
  {
   "cell_type": "code",
   "execution_count": null,
   "id": "a96e4eef",
   "metadata": {},
   "outputs": [],
   "source": []
  }
 ],
 "metadata": {
  "kernelspec": {
   "display_name": ".venv",
   "language": "python",
   "name": "python3"
  },
  "language_info": {
   "codemirror_mode": {
    "name": "ipython",
    "version": 3
   },
   "file_extension": ".py",
   "mimetype": "text/x-python",
   "name": "python",
   "nbconvert_exporter": "python",
   "pygments_lexer": "ipython3",
   "version": "3.13.2"
  }
 },
 "nbformat": 4,
 "nbformat_minor": 5
}
