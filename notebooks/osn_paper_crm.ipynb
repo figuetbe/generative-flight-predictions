{
 "cells": [
  {
   "cell_type": "markdown",
   "metadata": {},
   "source": [
    "# Conflict Resolution and Management (CRM) Analysis\n",
    "\n",
    "This notebook demonstrates conflict detection and resolution analysis using the generative flight trajectory prediction model. It loads pre-trained models, analyzes conflicting flight pairs, and evaluates collision risk.\n"
   ]
  },
  {
   "cell_type": "markdown",
   "metadata": {},
   "source": [
    "## Setup and Configuration\n"
   ]
  },
  {
   "cell_type": "code",
   "execution_count": 1,
   "id": "ebf3ca8a",
   "metadata": {},
   "outputs": [
    {
     "name": "stderr",
     "output_type": "stream",
     "text": [
      "/Users/figu/Documents/git/generative-flight-preds-1 copy/.venv/lib/python3.13/site-packages/tqdm/auto.py:21: TqdmWarning: IProgress not found. Please update jupyter and ipywidgets. See https://ipywidgets.readthedocs.io/en/stable/user_install.html\n",
      "  from .autonotebook import tqdm as notebook_tqdm\n"
     ]
    },
    {
     "name": "stdout",
     "output_type": "stream",
     "text": [
      "Using device: mps\n"
     ]
    }
   ],
   "source": [
    "# Core imports\n",
    "import sys\n",
    "import os\n",
    "from pathlib import Path\n",
    "import json\n",
    "import numpy as np\n",
    "import pandas as pd\n",
    "import torch\n",
    "import pathlib\n",
    "\n",
    "# Add project root to Python path (BEFORE other imports)\n",
    "project_root = Path.cwd().parent if Path.cwd().name == 'notebooks' else Path.cwd()\n",
    "if str(project_root) not in sys.path:\n",
    "    sys.path.insert(0, str(project_root))\n",
    "\n",
    "# Project imports (now that path is set up)\n",
    "from model import load_model_checkpoint\n",
    "from utils.generate_predictions import (\n",
    "    predict_trajectories,\n",
    "    calculate_trajectory_spacings,\n",
    ")\n",
    "from utils.utils import cache_paths\n",
    "\n",
    "# External libraries\n",
    "from traffic.core import Traffic\n",
    "from traffic.data import opensky\n",
    "import plotly.graph_objects as go\n",
    "import importlib\n",
    "\n",
    "# Configuration\n",
    "PARQUET_PATH = \"../trajs_LSAS_filtered.parquet\"\n",
    "CACHE_DIR = pathlib.Path(\"../dataset_cache\")\n",
    "CKPT_PATH = \"../models/model_1min.pt\"\n",
    "CACHE_KEY_FILE = \"ecec4b007a021fa3.key.json\"\n",
    "OUTPUT_STRIDE_SECONDS = 5\n",
    "\n",
    "# Device configuration\n",
    "if torch.cuda.is_available():\n",
    "    DEVICE = torch.device(\"cuda\")\n",
    "elif torch.backends.mps.is_available():\n",
    "    DEVICE = torch.device(\"mps\")\n",
    "else:\n",
    "    DEVICE = torch.device(\"cpu\")\n",
    "\n",
    "print(f\"Using device: {DEVICE}\")"
   ]
  },
  {
   "cell_type": "markdown",
   "id": "1fcb3b6e",
   "metadata": {},
   "source": [
    "## Data Loading\n"
   ]
  },
  {
   "cell_type": "code",
   "execution_count": 2,
   "id": "ec12b503",
   "metadata": {},
   "outputs": [
    {
     "name": "stdout",
     "output_type": "stream",
     "text": [
      "[cache] using key: ecec4b007a021fa3.key.json\n",
      "Dataset sizes: {'train': 1000000, 'val': 200000, 'test': 200000}\n",
      "Loaded 178947 trajectories from ../trajs_LSAS_filtered.parquet\n"
     ]
    }
   ],
   "source": [
    "# Load cached dataset artifacts\n",
    "def load_cache_key():\n",
    "    \"\"\"Load dataset cache key file.\"\"\"\n",
    "    if CACHE_KEY_FILE:\n",
    "        key_path = Path(CACHE_KEY_FILE)\n",
    "        if not key_path.is_absolute():\n",
    "            key_path = CACHE_DIR / key_path\n",
    "        if not key_path.exists():\n",
    "            raise FileNotFoundError(\n",
    "                f\"Specified cache key file not found: {key_path}. \"\n",
    "                f\"Make sure it exists under {CACHE_DIR}.\"\n",
    "            )\n",
    "    else:\n",
    "        key_files = sorted(\n",
    "            CACHE_DIR.glob(\"*.key.json\"),\n",
    "            key=lambda p: p.stat().st_mtime,\n",
    "            reverse=True,\n",
    "        )\n",
    "        if not key_files:\n",
    "            raise FileNotFoundError(\n",
    "                \"No dataset_cache key files found. Run the training notebook first.\"\n",
    "            )\n",
    "        key_path = key_files[0]\n",
    "    return key_path\n",
    "\n",
    "\n",
    "# Load cache key and dataset information\n",
    "key_path = load_cache_key()\n",
    "key_info = json.loads(key_path.read_text())\n",
    "print(f\"[cache] using key: {key_path.name}\")\n",
    "\n",
    "dset_key = key_info[\"dataset_key\"]\n",
    "stats_key = key_info[\"stats_key\"]\n",
    "paths = cache_paths(dset_key, stats_key)\n",
    "\n",
    "# Load dataset arrays (using memory-mapped files for efficiency)\n",
    "X_train = np.load(paths[\"x_tr\"], mmap_mode=\"r\")\n",
    "Y_train = np.load(paths[\"y_tr\"], mmap_mode=\"r\")\n",
    "C_train = np.load(paths[\"c_tr\"], mmap_mode=\"r\")\n",
    "X_val = np.load(paths[\"x_va\"], mmap_mode=\"r\")\n",
    "Y_val = np.load(paths[\"y_va\"], mmap_mode=\"r\")\n",
    "C_val = np.load(paths[\"c_va\"], mmap_mode=\"r\")\n",
    "X_test = np.load(paths[\"x_te\"], mmap_mode=\"r\")\n",
    "Y_test = np.load(paths[\"y_te\"], mmap_mode=\"r\")\n",
    "C_test = np.load(paths[\"c_te\"], mmap_mode=\"r\")\n",
    "\n",
    "# Load normalization statistics and metadata\n",
    "norm_stats = json.loads(paths[\"stats\"].read_text())\n",
    "meta_train = pd.read_parquet(paths[\"meta_tr\"])  # per-window metadata\n",
    "meta_val = pd.read_parquet(paths[\"meta_va\"])\n",
    "meta_test = pd.read_parquet(paths[\"meta_te\"])\n",
    "manifest = json.loads(paths[\"manifest\"].read_text())\n",
    "summary = json.loads(paths[\"summary\"].read_text())\n",
    "\n",
    "# Extract normalization parameters\n",
    "feat_mean = norm_stats[\"feat_mean\"]\n",
    "feat_std = norm_stats[\"feat_std\"]\n",
    "ctx_mean = norm_stats[\"ctx_mean\"]\n",
    "ctx_std = norm_stats[\"ctx_std\"]\n",
    "\n",
    "# Display dataset sizes\n",
    "dataset_sizes = {\n",
    "    k: (int(v) if isinstance(v, (int, np.integer)) else v)\n",
    "    for k, v in summary.get(\"sizes\", {}).items()\n",
    "}\n",
    "print(\"Dataset sizes:\", dataset_sizes)\n",
    "\n",
    "# Load trajectory data\n",
    "trajs = Traffic.from_file(PARQUET_PATH)\n",
    "print(f\"Loaded {trajs.data.flight_id.nunique()} trajectories from {PARQUET_PATH}\")"
   ]
  },
  {
   "cell_type": "markdown",
   "metadata": {},
   "source": [
    "## Model Architecture\n",
    "\n",
    "Import the Flow Matching Model components for trajectory prediction.\n"
   ]
  },
  {
   "cell_type": "code",
   "execution_count": 3,
   "id": "49d4b3db",
   "metadata": {},
   "outputs": [],
   "source": [
    "# Import model architecture from dedicated module\n"
   ]
  },
  {
   "cell_type": "markdown",
   "metadata": {},
   "source": [
    "## Model Loading\n"
   ]
  },
  {
   "cell_type": "code",
   "execution_count": 4,
   "metadata": {},
   "outputs": [
    {
     "name": "stdout",
     "output_type": "stream",
     "text": [
      "Loaded checkpoint: ../models/model_1min.pt\n"
     ]
    },
    {
     "name": "stderr",
     "output_type": "stream",
     "text": [
      "/Users/figu/Documents/git/generative-flight-preds-1 copy/.venv/lib/python3.13/site-packages/torch/nn/modules/transformer.py:392: UserWarning: enable_nested_tensor is True, but self.use_nested_tensor is False because encoder_layer.norm_first was True\n",
      "  warnings.warn(\n"
     ]
    }
   ],
   "source": [
    "# Load the pre-trained model\n",
    "model = load_model_checkpoint(CKPT_PATH, DEVICE)\n",
    "print(f\"Loaded checkpoint: {CKPT_PATH}\")"
   ]
  },
  {
   "cell_type": "markdown",
   "metadata": {},
   "source": [
    "## Conflict Analysis Setup\n",
    "\n",
    "Load and prepare conflicting flight trajectory data for analysis.\n"
   ]
  },
  {
   "cell_type": "code",
   "execution_count": 5,
   "id": "daa97fa3",
   "metadata": {},
   "outputs": [
    {
     "name": "stderr",
     "output_type": "stream",
     "text": [
      "2025-10-26 16:05:29,459 INFO Processing query SELECT state_vectors_data4.time, state_vectors_data4.icao24, state_vectors_data4.lat, state_vectors_data4.lon, state_vectors_data4.velocity, state_vectors_data4.heading, state_vectors_data4.vertrate, state_vectors_data4.callsign, state_vectors_data4.onground, state_vectors_data4.alert, state_vectors_data4.spi, state_vectors_data4.squawk, state_vectors_data4.baroaltitude, state_vectors_data4.geoaltitude, state_vectors_data4.lastposupdate, state_vectors_data4.lastcontact, state_vectors_data4.serials, state_vectors_data4.hour \n",
      "FROM state_vectors_data4 \n",
      "WHERE state_vectors_data4.callsign IN (__[POSTCOMPILE_callsign_1]) AND state_vectors_data4.time >= :time_1 AND state_vectors_data4.time <= :time_2 AND state_vectors_data4.hour >= :hour_1 AND state_vectors_data4.hour < :hour_2\n",
      "{'callsign_1': ['EAU24K', 'EZY59KU'], 'time_1': Timestamp('2024-09-16 07:40:00+0000', tz='UTC'), 'time_2': Timestamp('2024-09-16 07:42:00+0000', tz='UTC'), 'hour_1': Timestamp('2024-09-16 07:00:00+0000', tz='UTC'), 'hour_2': Timestamp('2024-09-16 08:00:00+0000', tz='UTC')}\n",
      "2025-10-26 16:05:29,460 INFO Reading results from /Users/figu/Library/Caches/opensky/abbac24892fae113f82695eb867ef025.parquet\n"
     ]
    },
    {
     "data": {
      "application/vnd.plotly.v1+json": {
       "config": {
        "plotlyServerURL": "https://plot.ly"
       },
       "data": [
        {
         "customdata": [
          [
           "2024-09-16T07:39:59.607000"
          ],
          [
           "2024-09-16T07:40:00.631000"
          ],
          [
           "2024-09-16T07:40:01.617000"
          ],
          [
           "2024-09-16T07:40:02.709000"
          ],
          [
           "2024-09-16T07:40:03.736000"
          ],
          [
           "2024-09-16T07:40:04.799000"
          ],
          [
           "2024-09-16T07:40:05.872999"
          ],
          [
           "2024-09-16T07:40:06.756999"
          ],
          [
           "2024-09-16T07:40:07.766999"
          ],
          [
           "2024-09-16T07:40:08.796999"
          ],
          [
           "2024-09-16T07:40:09.857000"
          ],
          [
           "2024-09-16T07:40:10.897000"
          ],
          [
           "2024-09-16T07:40:11.927999"
          ],
          [
           "2024-09-16T07:40:12.726999"
          ],
          [
           "2024-09-16T07:40:13.756999"
          ],
          [
           "2024-09-16T07:40:14.619999"
          ],
          [
           "2024-09-16T07:40:15.579999"
          ],
          [
           "2024-09-16T07:40:16.519999"
          ],
          [
           "2024-09-16T07:40:17.578000"
          ],
          [
           "2024-09-16T07:40:18.967999"
          ],
          [
           "2024-09-16T07:40:19.493999"
          ],
          [
           "2024-09-16T07:40:20.648999"
          ],
          [
           "2024-09-16T07:40:21.717999"
          ],
          [
           "2024-09-16T07:40:22.657000"
          ],
          [
           "2024-09-16T07:40:23.678999"
          ],
          [
           "2024-09-16T07:40:24.638000"
          ],
          [
           "2024-09-16T07:40:25.578999"
          ],
          [
           "2024-09-16T07:40:26.996999"
          ],
          [
           "2024-09-16T07:40:27.937999"
          ],
          [
           "2024-09-16T07:40:28.957999"
          ],
          [
           "2024-09-16T07:40:29.937999"
          ],
          [
           "2024-09-16T07:40:30.897000"
          ],
          [
           "2024-09-16T07:40:31.460000"
          ],
          [
           "2024-09-16T07:40:32.617000"
          ],
          [
           "2024-09-16T07:40:33.651000"
          ],
          [
           "2024-09-16T07:40:34.638000"
          ],
          [
           "2024-09-16T07:40:35.598000"
          ],
          [
           "2024-09-16T07:40:36.546999"
          ],
          [
           "2024-09-16T07:40:37.091000"
          ],
          [
           "2024-09-16T07:40:38.986999"
          ],
          [
           "2024-09-16T07:40:39.901999"
          ],
          [
           "2024-09-16T07:40:40.947000"
          ],
          [
           "2024-09-16T07:40:41.957000"
          ],
          [
           "2024-09-16T07:40:42.427000"
          ],
          [
           "2024-09-16T07:40:43.509999"
          ],
          [
           "2024-09-16T07:40:44.561000"
          ],
          [
           "2024-09-16T07:40:45.678999"
          ],
          [
           "2024-09-16T07:40:46.608000"
          ],
          [
           "2024-09-16T07:40:47.523999"
          ],
          [
           "2024-09-16T07:40:48.691999"
          ],
          [
           "2024-09-16T07:40:49.691999"
          ],
          [
           "2024-09-16T07:40:50.658999"
          ],
          [
           "2024-09-16T07:40:51.697000"
          ],
          [
           "2024-09-16T07:40:52.769999"
          ],
          [
           "2024-09-16T07:40:53.709000"
          ],
          [
           "2024-09-16T07:40:54.862999"
          ],
          [
           "2024-09-16T07:40:55.871000"
          ],
          [
           "2024-09-16T07:40:56.753999"
          ],
          [
           "2024-09-16T07:40:57.640000"
          ],
          [
           "2024-09-16T07:40:58.717999"
          ],
          [
           "2024-09-16T07:40:59.608999"
          ],
          [
           "2024-09-16T07:41:00.520999"
          ],
          [
           "2024-09-16T07:41:01.579999"
          ],
          [
           "2024-09-16T07:41:02.631999"
          ],
          [
           "2024-09-16T07:41:03.703999"
          ],
          [
           "2024-09-16T07:41:04.556999"
          ],
          [
           "2024-09-16T07:41:05.647000"
          ],
          [
           "2024-09-16T07:41:06.680000"
          ],
          [
           "2024-09-16T07:41:07.717999"
          ],
          [
           "2024-09-16T07:41:08.651999"
          ],
          [
           "2024-09-16T07:41:09.818000"
          ],
          [
           "2024-09-16T07:41:10.855000"
          ],
          [
           "2024-09-16T07:41:11.621000"
          ],
          [
           "2024-09-16T07:41:12.907000"
          ],
          [
           "2024-09-16T07:41:13.812000"
          ],
          [
           "2024-09-16T07:41:14.664999"
          ],
          [
           "2024-09-16T07:41:15.650000"
          ],
          [
           "2024-09-16T07:41:16.809000"
          ],
          [
           "2024-09-16T07:41:17.766999"
          ],
          [
           "2024-09-16T07:41:18.811000"
          ],
          [
           "2024-09-16T07:41:19.849999"
          ],
          [
           "2024-09-16T07:41:20.903000"
          ],
          [
           "2024-09-16T07:41:21.938999"
          ],
          [
           "2024-09-16T07:41:22.960999"
          ],
          [
           "2024-09-16T07:41:23.859999"
          ],
          [
           "2024-09-16T07:41:24.890000"
          ],
          [
           "2024-09-16T07:41:25.836999"
          ],
          [
           "2024-09-16T07:41:26.851999"
          ],
          [
           "2024-09-16T07:41:27.888000"
          ],
          [
           "2024-09-16T07:41:28.796999"
          ],
          [
           "2024-09-16T07:41:29.721999"
          ],
          [
           "2024-09-16T07:41:30.789000"
          ],
          [
           "2024-09-16T07:41:31.819000"
          ],
          [
           "2024-09-16T07:41:32.724999"
          ],
          [
           "2024-09-16T07:41:33.772000"
          ],
          [
           "2024-09-16T07:41:34.727999"
          ],
          [
           "2024-09-16T07:41:35.778000"
          ],
          [
           "2024-09-16T07:41:36.779999"
          ],
          [
           "2024-09-16T07:41:37.802000"
          ],
          [
           "2024-09-16T07:41:38.868000"
          ],
          [
           "2024-09-16T07:41:39.872999"
          ],
          [
           "2024-09-16T07:41:40.848000"
          ],
          [
           "2024-09-16T07:41:41.801000"
          ],
          [
           "2024-09-16T07:41:42.792999"
          ],
          [
           "2024-09-16T07:41:43.769999"
          ],
          [
           "2024-09-16T07:41:44.714999"
          ],
          [
           "2024-09-16T07:41:45.816999"
          ],
          [
           "2024-09-16T07:41:46.858999"
          ],
          [
           "2024-09-16T07:41:47.888999"
          ],
          [
           "2024-09-16T07:41:48.792999"
          ],
          [
           "2024-09-16T07:41:49.821000"
          ],
          [
           "2024-09-16T07:41:50.832000"
          ],
          [
           "2024-09-16T07:41:51.739000"
          ],
          [
           "2024-09-16T07:41:52.740999"
          ],
          [
           "2024-09-16T07:41:53.750000"
          ],
          [
           "2024-09-16T07:41:54.737999"
          ],
          [
           "2024-09-16T07:41:55.759000"
          ],
          [
           "2024-09-16T07:41:56.874000"
          ],
          [
           "2024-09-16T07:41:57.940000"
          ],
          [
           "2024-09-16T07:41:58.490000"
          ],
          [
           "2024-09-16T07:41:59.598999"
          ],
          [
           "2024-09-16T07:39:59.808000"
          ],
          [
           "2024-09-16T07:40:00.361000"
          ],
          [
           "2024-09-16T07:40:01.756000"
          ],
          [
           "2024-09-16T07:40:02.805999"
          ],
          [
           "2024-09-16T07:40:03.793999"
          ],
          [
           "2024-09-16T07:40:04.763999"
          ],
          [
           "2024-09-16T07:40:05.786000"
          ],
          [
           "2024-09-16T07:40:06.802999"
          ],
          [
           "2024-09-16T07:40:07.707000"
          ],
          [
           "2024-09-16T07:40:08.592000"
          ],
          [
           "2024-09-16T07:40:09.640000"
          ],
          [
           "2024-09-16T07:40:10.744999"
          ],
          [
           "2024-09-16T07:40:11.632999"
          ],
          [
           "2024-09-16T07:40:12.773999"
          ],
          [
           "2024-09-16T07:40:13.693000"
          ],
          [
           "2024-09-16T07:40:14.793999"
          ],
          [
           "2024-09-16T07:40:15.930999"
          ],
          [
           "2024-09-16T07:40:16.857000"
          ],
          [
           "2024-09-16T07:40:17.792000"
          ],
          [
           "2024-09-16T07:40:18.815999"
          ],
          [
           "2024-09-16T07:40:19.716000"
          ],
          [
           "2024-09-16T07:40:20.779999"
          ],
          [
           "2024-09-16T07:40:20.779999"
          ],
          [
           "2024-09-16T07:40:22.869999"
          ],
          [
           "2024-09-16T07:40:23.851000"
          ],
          [
           "2024-09-16T07:40:24.733000"
          ],
          [
           "2024-09-16T07:40:25.759999"
          ],
          [
           "2024-09-16T07:40:26.835999"
          ],
          [
           "2024-09-16T07:40:27.710000"
          ],
          [
           "2024-09-16T07:40:28.667000"
          ],
          [
           "2024-09-16T07:40:29.717999"
          ],
          [
           "2024-09-16T07:40:30.674000"
          ],
          [
           "2024-09-16T07:40:31.665999"
          ],
          [
           "2024-09-16T07:40:32.700999"
          ],
          [
           "2024-09-16T07:40:33.736999"
          ],
          [
           "2024-09-16T07:40:34.651999"
          ],
          [
           "2024-09-16T07:40:35.700000"
          ],
          [
           "2024-09-16T07:40:36.644999"
          ],
          [
           "2024-09-16T07:40:37.584000"
          ],
          [
           "2024-09-16T07:40:38.954999"
          ],
          [
           "2024-09-16T07:40:39.519000"
          ],
          [
           "2024-09-16T07:40:40.644000"
          ],
          [
           "2024-09-16T07:40:41.526999"
          ],
          [
           "2024-09-16T07:40:42.688999"
          ],
          [
           "2024-09-16T07:40:43.608000"
          ],
          [
           "2024-09-16T07:40:44.707000"
          ],
          [
           "2024-09-16T07:40:45.941999"
          ],
          [
           "2024-09-16T07:40:46.792999"
          ],
          [
           "2024-09-16T07:40:47.693000"
          ],
          [
           "2024-09-16T07:40:48.724999"
          ],
          [
           "2024-09-16T07:40:49.582000"
          ],
          [
           "2024-09-16T07:40:50.703000"
          ],
          [
           "2024-09-16T07:40:51.726000"
          ],
          [
           "2024-09-16T07:40:52.778000"
          ],
          [
           "2024-09-16T07:40:53.759000"
          ],
          [
           "2024-09-16T07:40:54.653000"
          ],
          [
           "2024-09-16T07:40:55.706000"
          ],
          [
           "2024-09-16T07:40:56.677999"
          ],
          [
           "2024-09-16T07:40:57.632999"
          ],
          [
           "2024-09-16T07:40:58.703999"
          ],
          [
           "2024-09-16T07:40:59.802999"
          ],
          [
           "2024-09-16T07:41:00.940999"
          ],
          [
           "2024-09-16T07:41:01.463000"
          ],
          [
           "2024-09-16T07:41:02.927000"
          ],
          [
           "2024-09-16T07:41:03.957999"
          ],
          [
           "2024-09-16T07:41:04.908999"
          ],
          [
           "2024-09-16T07:41:05.743999"
          ],
          [
           "2024-09-16T07:41:06.717000"
          ],
          [
           "2024-09-16T07:41:07.698999"
          ],
          [
           "2024-09-16T07:41:08.770999"
          ],
          [
           "2024-09-16T07:41:09.881000"
          ],
          [
           "2024-09-16T07:41:10.950000"
          ],
          [
           "2024-09-16T07:41:11.535000"
          ],
          [
           "2024-09-16T07:41:12.516000"
          ],
          [
           "2024-09-16T07:41:13.522000"
          ],
          [
           "2024-09-16T07:41:14.543999"
          ],
          [
           "2024-09-16T07:41:15.904000"
          ],
          [
           "2024-09-16T07:41:16.829999"
          ],
          [
           "2024-09-16T07:41:17.940000"
          ],
          [
           "2024-09-16T07:41:18.803999"
          ],
          [
           "2024-09-16T07:41:19.770999"
          ],
          [
           "2024-09-16T07:41:20.809000"
          ],
          [
           "2024-09-16T07:41:21.773999"
          ],
          [
           "2024-09-16T07:41:22.760999"
          ],
          [
           "2024-09-16T07:41:23.799000"
          ],
          [
           "2024-09-16T07:41:24.802000"
          ],
          [
           "2024-09-16T07:41:25.759000"
          ],
          [
           "2024-09-16T07:41:26.786999"
          ],
          [
           "2024-09-16T07:41:27.749000"
          ],
          [
           "2024-09-16T07:41:28.690999"
          ],
          [
           "2024-09-16T07:41:29.581000"
          ],
          [
           "2024-09-16T07:41:30.618999"
          ],
          [
           "2024-09-16T07:41:31.733000"
          ],
          [
           "2024-09-16T07:41:32.644999"
          ],
          [
           "2024-09-16T07:41:33.762000"
          ],
          [
           "2024-09-16T07:41:34.697000"
          ],
          [
           "2024-09-16T07:41:35.835000"
          ],
          [
           "2024-09-16T07:41:36.927000"
          ],
          [
           "2024-09-16T07:41:37.867000"
          ],
          [
           "2024-09-16T07:41:38.792000"
          ],
          [
           "2024-09-16T07:41:39.822999"
          ],
          [
           "2024-09-16T07:41:40.684000"
          ],
          [
           "2024-09-16T07:41:41.793999"
          ],
          [
           "2024-09-16T07:41:42.828000"
          ],
          [
           "2024-09-16T07:41:43.875999"
          ],
          [
           "2024-09-16T07:41:44.874000"
          ],
          [
           "2024-09-16T07:41:45.766000"
          ],
          [
           "2024-09-16T07:41:46.760999"
          ],
          [
           "2024-09-16T07:41:47.762000"
          ],
          [
           "2024-09-16T07:41:48.721999"
          ],
          [
           "2024-09-16T07:41:49.565000"
          ],
          [
           "2024-09-16T07:41:50.552000"
          ],
          [
           "2024-09-16T07:41:51.592000"
          ],
          [
           "2024-09-16T07:41:52.979000"
          ],
          [
           "2024-09-16T07:41:53.517999"
          ],
          [
           "2024-09-16T07:41:54.989000"
          ],
          [
           "2024-09-16T07:41:55.976000"
          ],
          [
           "2024-09-16T07:41:56.467999"
          ],
          [
           "2024-09-16T07:41:57.621000"
          ],
          [
           "2024-09-16T07:41:58.960000"
          ],
          [
           "2024-09-16T07:41:58.960000"
          ]
         ],
         "hovertemplate": "latitude=%{lat}<br>longitude=%{lon}<br>timestamp=%{customdata[0]}<extra></extra>",
         "lat": {
          "bdata": "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",
          "dtype": "f8"
         },
         "legendgroup": "",
         "lon": {
          "bdata": "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",
          "dtype": "f8"
         },
         "marker": {
          "color": "#636efa"
         },
         "mode": "markers",
         "name": "",
         "showlegend": false,
         "subplot": "map",
         "type": "scattermap"
        }
       ],
       "layout": {
        "legend": {
         "tracegroupgap": 0
        },
        "map": {
         "center": {
          "lat": 47.01119012027114,
          "lon": 7.997171012747462
         },
         "domain": {
          "x": [
           0,
           1
          ],
          "y": [
           0,
           1
          ]
         },
         "style": "carto-positron",
         "zoom": 8
        },
        "mapbox": {
         "center": {
          "lat": 47.01119012027114,
          "lon": 7.997171012747462
         },
         "style": "carto-positron",
         "zoom": 8
        },
        "margin": {
         "t": 60
        },
        "template": {
         "data": {
          "bar": [
           {
            "error_x": {
             "color": "#2a3f5f"
            },
            "error_y": {
             "color": "#2a3f5f"
            },
            "marker": {
             "line": {
              "color": "#E5ECF6",
              "width": 0.5
             },
             "pattern": {
              "fillmode": "overlay",
              "size": 10,
              "solidity": 0.2
             }
            },
            "type": "bar"
           }
          ],
          "barpolar": [
           {
            "marker": {
             "line": {
              "color": "#E5ECF6",
              "width": 0.5
             },
             "pattern": {
              "fillmode": "overlay",
              "size": 10,
              "solidity": 0.2
             }
            },
            "type": "barpolar"
           }
          ],
          "carpet": [
           {
            "aaxis": {
             "endlinecolor": "#2a3f5f",
             "gridcolor": "white",
             "linecolor": "white",
             "minorgridcolor": "white",
             "startlinecolor": "#2a3f5f"
            },
            "baxis": {
             "endlinecolor": "#2a3f5f",
             "gridcolor": "white",
             "linecolor": "white",
             "minorgridcolor": "white",
             "startlinecolor": "#2a3f5f"
            },
            "type": "carpet"
           }
          ],
          "choropleth": [
           {
            "colorbar": {
             "outlinewidth": 0,
             "ticks": ""
            },
            "type": "choropleth"
           }
          ],
          "contour": [
           {
            "colorbar": {
             "outlinewidth": 0,
             "ticks": ""
            },
            "colorscale": [
             [
              0,
              "#0d0887"
             ],
             [
              0.1111111111111111,
              "#46039f"
             ],
             [
              0.2222222222222222,
              "#7201a8"
             ],
             [
              0.3333333333333333,
              "#9c179e"
             ],
             [
              0.4444444444444444,
              "#bd3786"
             ],
             [
              0.5555555555555556,
              "#d8576b"
             ],
             [
              0.6666666666666666,
              "#ed7953"
             ],
             [
              0.7777777777777778,
              "#fb9f3a"
             ],
             [
              0.8888888888888888,
              "#fdca26"
             ],
             [
              1,
              "#f0f921"
             ]
            ],
            "type": "contour"
           }
          ],
          "contourcarpet": [
           {
            "colorbar": {
             "outlinewidth": 0,
             "ticks": ""
            },
            "type": "contourcarpet"
           }
          ],
          "heatmap": [
           {
            "colorbar": {
             "outlinewidth": 0,
             "ticks": ""
            },
            "colorscale": [
             [
              0,
              "#0d0887"
             ],
             [
              0.1111111111111111,
              "#46039f"
             ],
             [
              0.2222222222222222,
              "#7201a8"
             ],
             [
              0.3333333333333333,
              "#9c179e"
             ],
             [
              0.4444444444444444,
              "#bd3786"
             ],
             [
              0.5555555555555556,
              "#d8576b"
             ],
             [
              0.6666666666666666,
              "#ed7953"
             ],
             [
              0.7777777777777778,
              "#fb9f3a"
             ],
             [
              0.8888888888888888,
              "#fdca26"
             ],
             [
              1,
              "#f0f921"
             ]
            ],
            "type": "heatmap"
           }
          ],
          "histogram": [
           {
            "marker": {
             "pattern": {
              "fillmode": "overlay",
              "size": 10,
              "solidity": 0.2
             }
            },
            "type": "histogram"
           }
          ],
          "histogram2d": [
           {
            "colorbar": {
             "outlinewidth": 0,
             "ticks": ""
            },
            "colorscale": [
             [
              0,
              "#0d0887"
             ],
             [
              0.1111111111111111,
              "#46039f"
             ],
             [
              0.2222222222222222,
              "#7201a8"
             ],
             [
              0.3333333333333333,
              "#9c179e"
             ],
             [
              0.4444444444444444,
              "#bd3786"
             ],
             [
              0.5555555555555556,
              "#d8576b"
             ],
             [
              0.6666666666666666,
              "#ed7953"
             ],
             [
              0.7777777777777778,
              "#fb9f3a"
             ],
             [
              0.8888888888888888,
              "#fdca26"
             ],
             [
              1,
              "#f0f921"
             ]
            ],
            "type": "histogram2d"
           }
          ],
          "histogram2dcontour": [
           {
            "colorbar": {
             "outlinewidth": 0,
             "ticks": ""
            },
            "colorscale": [
             [
              0,
              "#0d0887"
             ],
             [
              0.1111111111111111,
              "#46039f"
             ],
             [
              0.2222222222222222,
              "#7201a8"
             ],
             [
              0.3333333333333333,
              "#9c179e"
             ],
             [
              0.4444444444444444,
              "#bd3786"
             ],
             [
              0.5555555555555556,
              "#d8576b"
             ],
             [
              0.6666666666666666,
              "#ed7953"
             ],
             [
              0.7777777777777778,
              "#fb9f3a"
             ],
             [
              0.8888888888888888,
              "#fdca26"
             ],
             [
              1,
              "#f0f921"
             ]
            ],
            "type": "histogram2dcontour"
           }
          ],
          "mesh3d": [
           {
            "colorbar": {
             "outlinewidth": 0,
             "ticks": ""
            },
            "type": "mesh3d"
           }
          ],
          "parcoords": [
           {
            "line": {
             "colorbar": {
              "outlinewidth": 0,
              "ticks": ""
             }
            },
            "type": "parcoords"
           }
          ],
          "pie": [
           {
            "automargin": true,
            "type": "pie"
           }
          ],
          "scatter": [
           {
            "fillpattern": {
             "fillmode": "overlay",
             "size": 10,
             "solidity": 0.2
            },
            "type": "scatter"
           }
          ],
          "scatter3d": [
           {
            "line": {
             "colorbar": {
              "outlinewidth": 0,
              "ticks": ""
             }
            },
            "marker": {
             "colorbar": {
              "outlinewidth": 0,
              "ticks": ""
             }
            },
            "type": "scatter3d"
           }
          ],
          "scattercarpet": [
           {
            "marker": {
             "colorbar": {
              "outlinewidth": 0,
              "ticks": ""
             }
            },
            "type": "scattercarpet"
           }
          ],
          "scattergeo": [
           {
            "marker": {
             "colorbar": {
              "outlinewidth": 0,
              "ticks": ""
             }
            },
            "type": "scattergeo"
           }
          ],
          "scattergl": [
           {
            "marker": {
             "colorbar": {
              "outlinewidth": 0,
              "ticks": ""
             }
            },
            "type": "scattergl"
           }
          ],
          "scattermap": [
           {
            "marker": {
             "colorbar": {
              "outlinewidth": 0,
              "ticks": ""
             }
            },
            "type": "scattermap"
           }
          ],
          "scattermapbox": [
           {
            "marker": {
             "colorbar": {
              "outlinewidth": 0,
              "ticks": ""
             }
            },
            "type": "scattermapbox"
           }
          ],
          "scatterpolar": [
           {
            "marker": {
             "colorbar": {
              "outlinewidth": 0,
              "ticks": ""
             }
            },
            "type": "scatterpolar"
           }
          ],
          "scatterpolargl": [
           {
            "marker": {
             "colorbar": {
              "outlinewidth": 0,
              "ticks": ""
             }
            },
            "type": "scatterpolargl"
           }
          ],
          "scatterternary": [
           {
            "marker": {
             "colorbar": {
              "outlinewidth": 0,
              "ticks": ""
             }
            },
            "type": "scatterternary"
           }
          ],
          "surface": [
           {
            "colorbar": {
             "outlinewidth": 0,
             "ticks": ""
            },
            "colorscale": [
             [
              0,
              "#0d0887"
             ],
             [
              0.1111111111111111,
              "#46039f"
             ],
             [
              0.2222222222222222,
              "#7201a8"
             ],
             [
              0.3333333333333333,
              "#9c179e"
             ],
             [
              0.4444444444444444,
              "#bd3786"
             ],
             [
              0.5555555555555556,
              "#d8576b"
             ],
             [
              0.6666666666666666,
              "#ed7953"
             ],
             [
              0.7777777777777778,
              "#fb9f3a"
             ],
             [
              0.8888888888888888,
              "#fdca26"
             ],
             [
              1,
              "#f0f921"
             ]
            ],
            "type": "surface"
           }
          ],
          "table": [
           {
            "cells": {
             "fill": {
              "color": "#EBF0F8"
             },
             "line": {
              "color": "white"
             }
            },
            "header": {
             "fill": {
              "color": "#C8D4E3"
             },
             "line": {
              "color": "white"
             }
            },
            "type": "table"
           }
          ]
         },
         "layout": {
          "annotationdefaults": {
           "arrowcolor": "#2a3f5f",
           "arrowhead": 0,
           "arrowwidth": 1
          },
          "autotypenumbers": "strict",
          "coloraxis": {
           "colorbar": {
            "outlinewidth": 0,
            "ticks": ""
           }
          },
          "colorscale": {
           "diverging": [
            [
             0,
             "#8e0152"
            ],
            [
             0.1,
             "#c51b7d"
            ],
            [
             0.2,
             "#de77ae"
            ],
            [
             0.3,
             "#f1b6da"
            ],
            [
             0.4,
             "#fde0ef"
            ],
            [
             0.5,
             "#f7f7f7"
            ],
            [
             0.6,
             "#e6f5d0"
            ],
            [
             0.7,
             "#b8e186"
            ],
            [
             0.8,
             "#7fbc41"
            ],
            [
             0.9,
             "#4d9221"
            ],
            [
             1,
             "#276419"
            ]
           ],
           "sequential": [
            [
             0,
             "#0d0887"
            ],
            [
             0.1111111111111111,
             "#46039f"
            ],
            [
             0.2222222222222222,
             "#7201a8"
            ],
            [
             0.3333333333333333,
             "#9c179e"
            ],
            [
             0.4444444444444444,
             "#bd3786"
            ],
            [
             0.5555555555555556,
             "#d8576b"
            ],
            [
             0.6666666666666666,
             "#ed7953"
            ],
            [
             0.7777777777777778,
             "#fb9f3a"
            ],
            [
             0.8888888888888888,
             "#fdca26"
            ],
            [
             1,
             "#f0f921"
            ]
           ],
           "sequentialminus": [
            [
             0,
             "#0d0887"
            ],
            [
             0.1111111111111111,
             "#46039f"
            ],
            [
             0.2222222222222222,
             "#7201a8"
            ],
            [
             0.3333333333333333,
             "#9c179e"
            ],
            [
             0.4444444444444444,
             "#bd3786"
            ],
            [
             0.5555555555555556,
             "#d8576b"
            ],
            [
             0.6666666666666666,
             "#ed7953"
            ],
            [
             0.7777777777777778,
             "#fb9f3a"
            ],
            [
             0.8888888888888888,
             "#fdca26"
            ],
            [
             1,
             "#f0f921"
            ]
           ]
          },
          "colorway": [
           "#636efa",
           "#EF553B",
           "#00cc96",
           "#ab63fa",
           "#FFA15A",
           "#19d3f3",
           "#FF6692",
           "#B6E880",
           "#FF97FF",
           "#FECB52"
          ],
          "font": {
           "color": "#2a3f5f"
          },
          "geo": {
           "bgcolor": "white",
           "lakecolor": "white",
           "landcolor": "#E5ECF6",
           "showlakes": true,
           "showland": true,
           "subunitcolor": "white"
          },
          "hoverlabel": {
           "align": "left"
          },
          "hovermode": "closest",
          "mapbox": {
           "style": "light"
          },
          "paper_bgcolor": "white",
          "plot_bgcolor": "#E5ECF6",
          "polar": {
           "angularaxis": {
            "gridcolor": "white",
            "linecolor": "white",
            "ticks": ""
           },
           "bgcolor": "#E5ECF6",
           "radialaxis": {
            "gridcolor": "white",
            "linecolor": "white",
            "ticks": ""
           }
          },
          "scene": {
           "xaxis": {
            "backgroundcolor": "#E5ECF6",
            "gridcolor": "white",
            "gridwidth": 2,
            "linecolor": "white",
            "showbackground": true,
            "ticks": "",
            "zerolinecolor": "white"
           },
           "yaxis": {
            "backgroundcolor": "#E5ECF6",
            "gridcolor": "white",
            "gridwidth": 2,
            "linecolor": "white",
            "showbackground": true,
            "ticks": "",
            "zerolinecolor": "white"
           },
           "zaxis": {
            "backgroundcolor": "#E5ECF6",
            "gridcolor": "white",
            "gridwidth": 2,
            "linecolor": "white",
            "showbackground": true,
            "ticks": "",
            "zerolinecolor": "white"
           }
          },
          "shapedefaults": {
           "line": {
            "color": "#2a3f5f"
           }
          },
          "ternary": {
           "aaxis": {
            "gridcolor": "white",
            "linecolor": "white",
            "ticks": ""
           },
           "baxis": {
            "gridcolor": "white",
            "linecolor": "white",
            "ticks": ""
           },
           "bgcolor": "#E5ECF6",
           "caxis": {
            "gridcolor": "white",
            "linecolor": "white",
            "ticks": ""
           }
          },
          "title": {
           "x": 0.05
          },
          "xaxis": {
           "automargin": true,
           "gridcolor": "white",
           "linecolor": "white",
           "ticks": "",
           "title": {
            "standoff": 15
           },
           "zerolinecolor": "white",
           "zerolinewidth": 2
          },
          "yaxis": {
           "automargin": true,
           "gridcolor": "white",
           "linecolor": "white",
           "ticks": "",
           "title": {
            "standoff": 15
           },
           "zerolinecolor": "white",
           "zerolinewidth": 2
          }
         }
        }
       }
      }
     },
     "metadata": {},
     "output_type": "display_data"
    }
   ],
   "source": [
    "\n",
    "\n",
    "conflicting_pair = (\n",
    "    opensky.history(\n",
    "        \"2024-09-16 07:40:00\",\n",
    "        \"2024-09-16 07:42:00\",\n",
    "        callsign=[\"EAU24K\", \"EZY59KU\"],\n",
    "        # bounds=(47.37, 12.35, 47.39, 12.45)\n",
    "    )\n",
    "    .assign_id()\n",
    "    .eval()\n",
    ")\n",
    "conflicting_pair.data[\"timestamp\"] = pd.to_datetime(\n",
    "    conflicting_pair.data[\"last_position\"], unit=\"s\", utc=True\n",
    ")\n",
    "cols2keep = [\n",
    "    \"flight_id\",\n",
    "    \"timestamp\",\n",
    "    \"latitude\",\n",
    "    \"longitude\",\n",
    "    \"altitude\",\n",
    "    \"track\",\n",
    "    \"groundspeed\",\n",
    "    \"vertical_rate\",\n",
    "    \"icao24\",\n",
    "    \"callsign\",\n",
    "]\n",
    "conflicting_pair.data = conflicting_pair.data[cols2keep]\n",
    "conflicting_pair.scatter_map(hover_data=[\"timestamp\"])"
   ]
  },
  {
   "cell_type": "code",
   "execution_count": 6,
   "id": "69cd4f8b",
   "metadata": {},
   "outputs": [
    {
     "data": {
      "text/html": [
       "<h4><b>Traffic</b></h4> with 2 identifiers<style type=\"text/css\">\n",
       "#T_1e937_row0_col0 {\n",
       "  width: 10em;\n",
       "  background: linear-gradient(90deg, #5fba7d 100.0%, transparent 100.0%);\n",
       "}\n",
       "#T_1e937_row1_col0 {\n",
       "  width: 10em;\n",
       "  background: linear-gradient(90deg, #5fba7d 99.2%, transparent 99.2%);\n",
       "}\n",
       "</style>\n",
       "<table id=\"T_1e937\">\n",
       "  <thead>\n",
       "    <tr>\n",
       "      <th class=\"blank level0\" >&nbsp;</th>\n",
       "      <th id=\"T_1e937_level0_col0\" class=\"col_heading level0 col0\" >count</th>\n",
       "    </tr>\n",
       "    <tr>\n",
       "      <th class=\"index_name level0\" >flight_id</th>\n",
       "      <th class=\"blank col0\" >&nbsp;</th>\n",
       "    </tr>\n",
       "  </thead>\n",
       "  <tbody>\n",
       "    <tr>\n",
       "      <th id=\"T_1e937_level0_row0\" class=\"row_heading level0 row0\" >EZY59KU_001</th>\n",
       "      <td id=\"T_1e937_row0_col0\" class=\"data row0 col0\" >120</td>\n",
       "    </tr>\n",
       "    <tr>\n",
       "      <th id=\"T_1e937_level0_row1\" class=\"row_heading level0 row1\" >EAU24K_000</th>\n",
       "      <td id=\"T_1e937_row1_col0\" class=\"data row1 col0\" >119</td>\n",
       "    </tr>\n",
       "  </tbody>\n",
       "</table>\n"
      ],
      "text/plain": [
       "     flight_id  count\n",
       "0  EZY59KU_001    120\n",
       "1   EAU24K_000    119"
      ]
     },
     "execution_count": 6,
     "metadata": {},
     "output_type": "execute_result"
    }
   ],
   "source": [
    "import numpy as np\n",
    "import pandas as pd\n",
    "\n",
    "\n",
    "def resample_flight_1hz(df: pd.DataFrame) -> pd.DataFrame:\n",
    "    df = df.copy().sort_values(\"timestamp\").set_index(\"timestamp\")\n",
    "\n",
    "    # Ensure UTC tz-aware\n",
    "    if df.index.tz is None:\n",
    "        df.index = df.index.tz_localize(\"UTC\")\n",
    "    else:\n",
    "        df.index = df.index.tz_convert(\"UTC\")\n",
    "\n",
    "    # --- Collapse duplicate timestamps (same second) ---\n",
    "    # Define columns\n",
    "    num_cols = [\n",
    "        c\n",
    "        for c in [\"latitude\", \"longitude\", \"altitude\", \"groundspeed\", \"vertical_rate\"]\n",
    "        if c in df.columns\n",
    "    ]\n",
    "    id_cols = [c for c in [\"flight_id\", \"icao24\", \"callsign\"] if c in df.columns]\n",
    "\n",
    "    def circ_mean_deg(s: pd.Series):\n",
    "        s = s.dropna()\n",
    "        if s.empty:\n",
    "            return np.nan\n",
    "        rad = np.deg2rad(s.values)\n",
    "        return (\n",
    "            np.degrees(np.arctan2(np.sin(rad).mean(), np.cos(rad).mean())) + 360.0\n",
    "        ) % 360.0\n",
    "\n",
    "    if not df.index.is_unique:\n",
    "        aggs = {c: \"mean\" for c in num_cols}\n",
    "        if \"track\" in df.columns:\n",
    "            aggs[\"track\"] = circ_mean_deg\n",
    "        for c in id_cols:\n",
    "            # keep the last non-null label observed at that timestamp\n",
    "            aggs[c] = lambda s: s.dropna().iloc[-1] if s.dropna().size else np.nan\n",
    "        df = df.groupby(level=0, sort=True).agg(aggs)\n",
    "\n",
    "    # Build 1 Hz grid\n",
    "    start = df.index[0].ceil(\"s\")\n",
    "    end = df.index[-1].floor(\"s\")\n",
    "    if end < start:\n",
    "        # No whole-second span; return any rows already on whole seconds\n",
    "        out = df[df.index == df.index.round(\"S\")].reset_index()\n",
    "        out.rename(columns={\"index\": \"timestamp\"}, inplace=True)\n",
    "        return out\n",
    "\n",
    "    grid = pd.date_range(start, end, freq=\"1s\", tz=\"UTC\")\n",
    "\n",
    "    # Interpolate over the union, then select grid\n",
    "    union = df.index.union(grid, sort=False)\n",
    "    w = df.reindex(union)\n",
    "\n",
    "    # Time-based interpolation for numeric\n",
    "    for c in num_cols:\n",
    "        w[c] = w[c].interpolate(method=\"time\")\n",
    "\n",
    "    # Track via vector interpolation\n",
    "    if \"track\" in w.columns:\n",
    "        rad = np.deg2rad(w[\"track\"])\n",
    "        x = np.cos(rad).interpolate(method=\"time\")\n",
    "        y = np.sin(rad).interpolate(method=\"time\")\n",
    "        w[\"track\"] = (np.degrees(np.arctan2(y, x)) + 360.0) % 360.0\n",
    "\n",
    "    # IDs forward/back fill\n",
    "    for c in id_cols:\n",
    "        w[c] = w[c].ffill().bfill()\n",
    "\n",
    "    # Keep only the grid and tidy columns\n",
    "    w = w.reindex(grid)\n",
    "    cols2keep = [\n",
    "        \"flight_id\",\n",
    "        \"latitude\",\n",
    "        \"longitude\",\n",
    "        \"altitude\",\n",
    "        \"track\",\n",
    "        \"groundspeed\",\n",
    "        \"vertical_rate\",\n",
    "        \"icao24\",\n",
    "        \"callsign\",\n",
    "    ]\n",
    "    cols2keep = [c for c in cols2keep if c in w.columns]\n",
    "    w = w[cols2keep].reset_index().rename(columns={\"index\": \"timestamp\"})\n",
    "    return w\n",
    "\n",
    "\n",
    "# Usage\n",
    "l_rs = []\n",
    "for f in conflicting_pair:\n",
    "    df_rs = resample_flight_1hz(f.data)\n",
    "    l_rs.append(df_rs)\n",
    "\n",
    "df_all_1hz = pd.concat(l_rs, ignore_index=True)\n",
    "conflicting_pair = Traffic(df_all_1hz).assign_id().eval()\n",
    "conflicting_pair"
   ]
  },
  {
   "cell_type": "code",
   "execution_count": 7,
   "id": "c193fcff",
   "metadata": {},
   "outputs": [
    {
     "data": {
      "application/vnd.plotly.v1+json": {
       "config": {
        "plotlyServerURL": "https://plot.ly"
       },
       "data": [
        {
         "hovertemplate": "latitude=%{lat}<br>longitude=%{lon}<br>altitude=%{marker.color}<extra></extra>",
         "lat": {
          "bdata": "IGUH8KmDR0AbxdMCn4NHQIsRuAOSg0dAQH8omIODR0CfZyVFdoNHQLf+69dpg0dAZHbHKFmDR0Cca4sJS4NHQJHZCPI4g0dA+GKUgCaDR0DM9wgqFYNHQPKU5qcCg0dANFvc1O6CR0Drt73i24JHQKdN9/jEgkdAKJhyPK6CR0AT6PtcmoJHQPTSGkiCgkdA3ZfH4GiCR0BnzwexUoJHQCCH3i07gkdAtzw/yyCCR0BoZitwCYJHQN+rO8rxgUdACDautNiBR0D8vvxAwoFHQJ5tjAKqgUdAh3w9xY+BR0BavR8weIFHQLmS9FhfgUdATdUd0EeBR0C1VaDLLoFHQHxF86EVgUdAOxU9/PyAR0BWJ/5z5IBHQMDyjybKgEdAbjy3n7GAR0DLt+XAl4BHQE+VBUl/gEdApnxjy2iAR0Aqo1+sTYBHQGfXXqM0gEdAHMrNyRyAR0BInA1hAoBHQHdYsvTof0dA7YTxYdJ/R0Bl2sQrun9HQGpBExuif0dAIwlrRYd/R0A9jzJ/bn9HQL36z2ZUf0dAM+1c9T1/R0DEPGsyJX9HQBVka0YLf0dAafAQwPV+R0DiM1D53H5HQN567AnFfkdAfiPwhKt+R0BM5D9+k35HQEcp7dJ7fkdA1ZpRcfSRR0AfLnlaupFHQJA5FuWBkUdALZ8M3UiRR0BkbRppD5FHQG3hZrLTkEdA+oZOLJqQR0BP5dxsYJBHQHlABkomkEdAvRaWuuuPR0DpULsXso9HQHDUoJB3j0dAaRj3+z6PR0CVKaL+Ao9HQGQ5YP/JjkdAK4KGU4+OR0CARLIhVY5HQAPgvl8bjkdAqYAcu+CNR0BphEmOqI1HQNNc4ittjUdA0T+9cDONR0Bjmz4R+oxHQCMV31m/jEdAyjbq54OMR0A5M+UWSoxHQFnSBKQQjEdAZ/3MnteLR0CINrHxnItHQI1iK35ji0dAkG3b8SeLR0ANkw+n7opHQCLuyt+1ikdAmufK9XuKR0B8QFHYQIpHQHlKCEEHikdAnQW3RM2JR0AHVZLxkYlHQBieNtpXiUdAI9Dr8B2JR0AUUEcc5YhHQMSsIe6qiEdAfSh+5HCIR0D6Z9aiNohHQIE49AD9h0dAOWDb9sGHR0BOVSjGh4dHQHJqgvtOh0dAeTlDdxSHR0DEx2vx2YZHQMf6QQyghkdA/gNvQWaGR0AfFm+PLIZHQGyVzMTyhUdA9Zx8j7eFR0AMd8LAfYVHQCsvg9REhUdAOcpZbAmFR0DzXm0qz4RHQI77XbaVhEdA",
          "dtype": "f8"
         },
         "legendgroup": "",
         "lon": {
          "bdata": "Bc0ngUeWIEDIRCFOr5QgQISMrvjakiBAOP69o+eQIEDkhyt1M48gQG/Zp02ijSBAMgZCJLmLIED23FQJQoogQLqFLE5QiCBAHqwh4HuGIEAqSh7W3YQgQFXiuxs2gyBAdui01GqBIEB7n1Te138gQCHU+YT2fSBA9XF0bix8IEC4rYmwqHogQIg8qI/VeCBAAAAALBB3IEDe3d3dbXUgQNxtmi3UcyBAwdDL3f5xIEA4GoUeZHAgQPorbCTHbiBAeT15OSFtIECHx+R3lWsgQH2blMLmaSBA/65rOBxoIECxwEqohmYgQNUTJOHYZCBAEeSKyDljIEBjgPvSh2EgQERUAzfkXyBAHsPYYUxeIECIDWYWrFwgQNEelWD0WiBABQkFWlhZIEBzi4OHnlcgQPIsnoUHViBA2QeoQZhUIEA2BCpc3VIgQPn7er47USBA0YbDgatPIEAA3a8l+00gQArU3rRWTCBABwOvstZKIECJkeZNTUkgQMvAEoi5RyBAMEnP3gVGIEA8iS/IYEQgQNm42YW1QiBA8MdGnEJBIEAiNBLAoT8gQCsJNaj1PSBAkV7vU448IEA7nE0M4zogQFLswYheOSBAHHT5T743IEBS/27xKzYgQFql34ajNCBAOdH07FBHH0DUEjrKikgfQIbpie+7SR9AuuHUnuxKH0CHjXwRIEwfQAt4MyNWTR9AMW8mYIVOH0Cvxi2fxU8fQJYb9o/2UB9AZDPgby1SH0CrxRPaYVMfQF9/9kaUVB9ANRmg2cZVH0CAJtcaC1cfQFLJB7c5WB9A7MRO7HRZH0Dseb8do1ofQJKeY3LbWx9A/Lgw3hpdH0AZjTVVSl4fQHX3gx+EXx9APXYeqLZgH0AnFeG97mEfQLmM6EkuYx9AuBGQeGdkH0CScvw/mmUfQGLVn3PVZh9Ak0H07wBoH0DYHZyZOGkfQN/xwOJlah9AzgmECa9rH0BOb8g14mwfQK3iEkQQbh9A+BH1jEVvH0CDR1kziHAfQMrK5TW9cR9AazID/etyH0Ca7CZGJHQfQGdlubFddR9AzQhJKpV2H0A9RiYmxHcfQOmRgAD3eB9AiP2qLDd6H0CTy2v+bHsfQFCc0xWlfB9Alu0YjN99H0BCRRcSF38fQGdI9tBCgB9AusV3tHeBH0BSnksgs4IfQIrWPSDrgx9A1GYTaSKFH0DB4njMWYYfQAaBoVWFhx9AVGopMruIH0AM4icJ8okfQLaf73Exix9AIPvC9meMH0BVuLRbpo0fQGBddRvajh9A",
          "dtype": "f8"
         },
         "marker": {
          "color": {
           "bdata": "d+cY+Kjq30AjlsMYo9/fQMITwDDM2t9AVqRq1MXU30DTrb00bM7fQFdUjQ6dxt9AtLzcUq+730BGOrSnBrTfQAAAAABAqt9AISXPMmKl30A2/KW7tpvfQHmdshTpk99AjrgUXf2I30DWTLgOrYHfQMsUO9yBdt9Am4Y8Hd5w30CrFiqO0WrfQICIXUtLXt9AAAAAALtX30DkOI7jeFHfQH8m/JkAT99A/7Mkr0FS30D6K1coz0HfQJv6TPHXMd9AJAmOtPEl30AiXeoPgB3fQHu7Zx/bEt9A0hVuxdMM30DKmNUm2wXfQOwyxRuK/d5At+qLCCjz3kA/BpExsuzeQMrHuFd35N5AqolNOTLa3kA7W+o3KNLeQE5IybMsx95A7sI+EATB3kAO28MzBrjeQCd6z4Nart5AkRXno/6r3kCL9It397LeQAqRVdp1mN5AAAAAAACR3kA2sbSK4o7eQEI8pUyFiN5AIlymZwSD3kAAAAAAQH7eQEpn///PfN5ABeX7ByR23kAAAAAAwHHeQEis1WNrb95AqW7ne69p3kAAAAAAQGXeQPhRsevVY95AAAAAAABf3kBuJ6u+8FzeQAAAAADAWN5AZlv8haRW3kBP/S+6W1DeQAAAAABATN5AAAAAAABG3kAAAAAAAEbeQAAAAAAARt5AAAAAAABG3kAAAAAAAEbeQAAAAAAARt5AAAAAAABG3kAAAAAAAEbeQAAAAAAARt5AAAAAAABG3kAAAAAAAEbeQAAAAAAARt5AAAAAAABG3kAAAAAAAEbeQAAAAAAARt5AAAAAAABG3kAAAAAAAEbeQHWhJxoqQ95AAAAAAMA/3kAAAAAAwD/eQAAAAADAP95AAAAAAMA/3kCGZOCCoEHeQAAAAAAARt5AAAAAAABG3kCbqhl8mEPeQB3wBAmbQd5AAAAAAABG3kAAAAAAAEbeQAAAAAAARt5AAAAAAABG3kAAAAAAAEbeQAAAAAAARt5AAAAAAABG3kAAAAAAAEbeQAAAAAAARt5AAAAAAABG3kAAAAAAAEbeQAAAAAAARt5AAAAAAABG3kAAAAAAAEbeQAAAAAAARt5AAAAAAABG3kAAAAAAAEbeQAAAAAAARt5AAAAAAABG3kAAAAAAAEbeQAAAAAAARt5AAAAAAABG3kAAAAAAAEbeQAAAAAAARt5AAAAAAABG3kAAAAAAAEbeQAAAAAAARt5AAAAAAABG3kAAAAAAAEbeQAAAAAAARt5AAAAAAABG3kAAAAAAAEbeQAAAAAAARt5A",
           "dtype": "f8"
          },
          "coloraxis": "coloraxis"
         },
         "mode": "markers",
         "name": "",
         "showlegend": false,
         "subplot": "map",
         "type": "scattermap"
        }
       ],
       "layout": {
        "coloraxis": {
         "colorbar": {
          "title": {
           "text": "altitude"
          }
         },
         "colorscale": [
          [
           0,
           "#0d0887"
          ],
          [
           0.1111111111111111,
           "#46039f"
          ],
          [
           0.2222222222222222,
           "#7201a8"
          ],
          [
           0.3333333333333333,
           "#9c179e"
          ],
          [
           0.4444444444444444,
           "#bd3786"
          ],
          [
           0.5555555555555556,
           "#d8576b"
          ],
          [
           0.6666666666666666,
           "#ed7953"
          ],
          [
           0.7777777777777778,
           "#fb9f3a"
          ],
          [
           0.8888888888888888,
           "#fdca26"
          ],
          [
           1,
           "#f0f921"
          ]
         ]
        },
        "legend": {
         "tracegroupgap": 0
        },
        "map": {
         "center": {
          "lat": 47.04896072490621,
          "lon": 8.025419385158983
         },
         "domain": {
          "x": [
           0,
           1
          ],
          "y": [
           0,
           1
          ]
         },
         "style": "carto-positron",
         "zoom": 8
        },
        "mapbox": {
         "center": {
          "lat": 47.04896072490621,
          "lon": 8.025419385158983
         },
         "style": "carto-positron",
         "zoom": 8
        },
        "margin": {
         "t": 60
        },
        "template": {
         "data": {
          "bar": [
           {
            "error_x": {
             "color": "#2a3f5f"
            },
            "error_y": {
             "color": "#2a3f5f"
            },
            "marker": {
             "line": {
              "color": "#E5ECF6",
              "width": 0.5
             },
             "pattern": {
              "fillmode": "overlay",
              "size": 10,
              "solidity": 0.2
             }
            },
            "type": "bar"
           }
          ],
          "barpolar": [
           {
            "marker": {
             "line": {
              "color": "#E5ECF6",
              "width": 0.5
             },
             "pattern": {
              "fillmode": "overlay",
              "size": 10,
              "solidity": 0.2
             }
            },
            "type": "barpolar"
           }
          ],
          "carpet": [
           {
            "aaxis": {
             "endlinecolor": "#2a3f5f",
             "gridcolor": "white",
             "linecolor": "white",
             "minorgridcolor": "white",
             "startlinecolor": "#2a3f5f"
            },
            "baxis": {
             "endlinecolor": "#2a3f5f",
             "gridcolor": "white",
             "linecolor": "white",
             "minorgridcolor": "white",
             "startlinecolor": "#2a3f5f"
            },
            "type": "carpet"
           }
          ],
          "choropleth": [
           {
            "colorbar": {
             "outlinewidth": 0,
             "ticks": ""
            },
            "type": "choropleth"
           }
          ],
          "contour": [
           {
            "colorbar": {
             "outlinewidth": 0,
             "ticks": ""
            },
            "colorscale": [
             [
              0,
              "#0d0887"
             ],
             [
              0.1111111111111111,
              "#46039f"
             ],
             [
              0.2222222222222222,
              "#7201a8"
             ],
             [
              0.3333333333333333,
              "#9c179e"
             ],
             [
              0.4444444444444444,
              "#bd3786"
             ],
             [
              0.5555555555555556,
              "#d8576b"
             ],
             [
              0.6666666666666666,
              "#ed7953"
             ],
             [
              0.7777777777777778,
              "#fb9f3a"
             ],
             [
              0.8888888888888888,
              "#fdca26"
             ],
             [
              1,
              "#f0f921"
             ]
            ],
            "type": "contour"
           }
          ],
          "contourcarpet": [
           {
            "colorbar": {
             "outlinewidth": 0,
             "ticks": ""
            },
            "type": "contourcarpet"
           }
          ],
          "heatmap": [
           {
            "colorbar": {
             "outlinewidth": 0,
             "ticks": ""
            },
            "colorscale": [
             [
              0,
              "#0d0887"
             ],
             [
              0.1111111111111111,
              "#46039f"
             ],
             [
              0.2222222222222222,
              "#7201a8"
             ],
             [
              0.3333333333333333,
              "#9c179e"
             ],
             [
              0.4444444444444444,
              "#bd3786"
             ],
             [
              0.5555555555555556,
              "#d8576b"
             ],
             [
              0.6666666666666666,
              "#ed7953"
             ],
             [
              0.7777777777777778,
              "#fb9f3a"
             ],
             [
              0.8888888888888888,
              "#fdca26"
             ],
             [
              1,
              "#f0f921"
             ]
            ],
            "type": "heatmap"
           }
          ],
          "histogram": [
           {
            "marker": {
             "pattern": {
              "fillmode": "overlay",
              "size": 10,
              "solidity": 0.2
             }
            },
            "type": "histogram"
           }
          ],
          "histogram2d": [
           {
            "colorbar": {
             "outlinewidth": 0,
             "ticks": ""
            },
            "colorscale": [
             [
              0,
              "#0d0887"
             ],
             [
              0.1111111111111111,
              "#46039f"
             ],
             [
              0.2222222222222222,
              "#7201a8"
             ],
             [
              0.3333333333333333,
              "#9c179e"
             ],
             [
              0.4444444444444444,
              "#bd3786"
             ],
             [
              0.5555555555555556,
              "#d8576b"
             ],
             [
              0.6666666666666666,
              "#ed7953"
             ],
             [
              0.7777777777777778,
              "#fb9f3a"
             ],
             [
              0.8888888888888888,
              "#fdca26"
             ],
             [
              1,
              "#f0f921"
             ]
            ],
            "type": "histogram2d"
           }
          ],
          "histogram2dcontour": [
           {
            "colorbar": {
             "outlinewidth": 0,
             "ticks": ""
            },
            "colorscale": [
             [
              0,
              "#0d0887"
             ],
             [
              0.1111111111111111,
              "#46039f"
             ],
             [
              0.2222222222222222,
              "#7201a8"
             ],
             [
              0.3333333333333333,
              "#9c179e"
             ],
             [
              0.4444444444444444,
              "#bd3786"
             ],
             [
              0.5555555555555556,
              "#d8576b"
             ],
             [
              0.6666666666666666,
              "#ed7953"
             ],
             [
              0.7777777777777778,
              "#fb9f3a"
             ],
             [
              0.8888888888888888,
              "#fdca26"
             ],
             [
              1,
              "#f0f921"
             ]
            ],
            "type": "histogram2dcontour"
           }
          ],
          "mesh3d": [
           {
            "colorbar": {
             "outlinewidth": 0,
             "ticks": ""
            },
            "type": "mesh3d"
           }
          ],
          "parcoords": [
           {
            "line": {
             "colorbar": {
              "outlinewidth": 0,
              "ticks": ""
             }
            },
            "type": "parcoords"
           }
          ],
          "pie": [
           {
            "automargin": true,
            "type": "pie"
           }
          ],
          "scatter": [
           {
            "fillpattern": {
             "fillmode": "overlay",
             "size": 10,
             "solidity": 0.2
            },
            "type": "scatter"
           }
          ],
          "scatter3d": [
           {
            "line": {
             "colorbar": {
              "outlinewidth": 0,
              "ticks": ""
             }
            },
            "marker": {
             "colorbar": {
              "outlinewidth": 0,
              "ticks": ""
             }
            },
            "type": "scatter3d"
           }
          ],
          "scattercarpet": [
           {
            "marker": {
             "colorbar": {
              "outlinewidth": 0,
              "ticks": ""
             }
            },
            "type": "scattercarpet"
           }
          ],
          "scattergeo": [
           {
            "marker": {
             "colorbar": {
              "outlinewidth": 0,
              "ticks": ""
             }
            },
            "type": "scattergeo"
           }
          ],
          "scattergl": [
           {
            "marker": {
             "colorbar": {
              "outlinewidth": 0,
              "ticks": ""
             }
            },
            "type": "scattergl"
           }
          ],
          "scattermap": [
           {
            "marker": {
             "colorbar": {
              "outlinewidth": 0,
              "ticks": ""
             }
            },
            "type": "scattermap"
           }
          ],
          "scattermapbox": [
           {
            "marker": {
             "colorbar": {
              "outlinewidth": 0,
              "ticks": ""
             }
            },
            "type": "scattermapbox"
           }
          ],
          "scatterpolar": [
           {
            "marker": {
             "colorbar": {
              "outlinewidth": 0,
              "ticks": ""
             }
            },
            "type": "scatterpolar"
           }
          ],
          "scatterpolargl": [
           {
            "marker": {
             "colorbar": {
              "outlinewidth": 0,
              "ticks": ""
             }
            },
            "type": "scatterpolargl"
           }
          ],
          "scatterternary": [
           {
            "marker": {
             "colorbar": {
              "outlinewidth": 0,
              "ticks": ""
             }
            },
            "type": "scatterternary"
           }
          ],
          "surface": [
           {
            "colorbar": {
             "outlinewidth": 0,
             "ticks": ""
            },
            "colorscale": [
             [
              0,
              "#0d0887"
             ],
             [
              0.1111111111111111,
              "#46039f"
             ],
             [
              0.2222222222222222,
              "#7201a8"
             ],
             [
              0.3333333333333333,
              "#9c179e"
             ],
             [
              0.4444444444444444,
              "#bd3786"
             ],
             [
              0.5555555555555556,
              "#d8576b"
             ],
             [
              0.6666666666666666,
              "#ed7953"
             ],
             [
              0.7777777777777778,
              "#fb9f3a"
             ],
             [
              0.8888888888888888,
              "#fdca26"
             ],
             [
              1,
              "#f0f921"
             ]
            ],
            "type": "surface"
           }
          ],
          "table": [
           {
            "cells": {
             "fill": {
              "color": "#EBF0F8"
             },
             "line": {
              "color": "white"
             }
            },
            "header": {
             "fill": {
              "color": "#C8D4E3"
             },
             "line": {
              "color": "white"
             }
            },
            "type": "table"
           }
          ]
         },
         "layout": {
          "annotationdefaults": {
           "arrowcolor": "#2a3f5f",
           "arrowhead": 0,
           "arrowwidth": 1
          },
          "autotypenumbers": "strict",
          "coloraxis": {
           "colorbar": {
            "outlinewidth": 0,
            "ticks": ""
           }
          },
          "colorscale": {
           "diverging": [
            [
             0,
             "#8e0152"
            ],
            [
             0.1,
             "#c51b7d"
            ],
            [
             0.2,
             "#de77ae"
            ],
            [
             0.3,
             "#f1b6da"
            ],
            [
             0.4,
             "#fde0ef"
            ],
            [
             0.5,
             "#f7f7f7"
            ],
            [
             0.6,
             "#e6f5d0"
            ],
            [
             0.7,
             "#b8e186"
            ],
            [
             0.8,
             "#7fbc41"
            ],
            [
             0.9,
             "#4d9221"
            ],
            [
             1,
             "#276419"
            ]
           ],
           "sequential": [
            [
             0,
             "#0d0887"
            ],
            [
             0.1111111111111111,
             "#46039f"
            ],
            [
             0.2222222222222222,
             "#7201a8"
            ],
            [
             0.3333333333333333,
             "#9c179e"
            ],
            [
             0.4444444444444444,
             "#bd3786"
            ],
            [
             0.5555555555555556,
             "#d8576b"
            ],
            [
             0.6666666666666666,
             "#ed7953"
            ],
            [
             0.7777777777777778,
             "#fb9f3a"
            ],
            [
             0.8888888888888888,
             "#fdca26"
            ],
            [
             1,
             "#f0f921"
            ]
           ],
           "sequentialminus": [
            [
             0,
             "#0d0887"
            ],
            [
             0.1111111111111111,
             "#46039f"
            ],
            [
             0.2222222222222222,
             "#7201a8"
            ],
            [
             0.3333333333333333,
             "#9c179e"
            ],
            [
             0.4444444444444444,
             "#bd3786"
            ],
            [
             0.5555555555555556,
             "#d8576b"
            ],
            [
             0.6666666666666666,
             "#ed7953"
            ],
            [
             0.7777777777777778,
             "#fb9f3a"
            ],
            [
             0.8888888888888888,
             "#fdca26"
            ],
            [
             1,
             "#f0f921"
            ]
           ]
          },
          "colorway": [
           "#636efa",
           "#EF553B",
           "#00cc96",
           "#ab63fa",
           "#FFA15A",
           "#19d3f3",
           "#FF6692",
           "#B6E880",
           "#FF97FF",
           "#FECB52"
          ],
          "font": {
           "color": "#2a3f5f"
          },
          "geo": {
           "bgcolor": "white",
           "lakecolor": "white",
           "landcolor": "#E5ECF6",
           "showlakes": true,
           "showland": true,
           "subunitcolor": "white"
          },
          "hoverlabel": {
           "align": "left"
          },
          "hovermode": "closest",
          "mapbox": {
           "style": "light"
          },
          "paper_bgcolor": "white",
          "plot_bgcolor": "#E5ECF6",
          "polar": {
           "angularaxis": {
            "gridcolor": "white",
            "linecolor": "white",
            "ticks": ""
           },
           "bgcolor": "#E5ECF6",
           "radialaxis": {
            "gridcolor": "white",
            "linecolor": "white",
            "ticks": ""
           }
          },
          "scene": {
           "xaxis": {
            "backgroundcolor": "#E5ECF6",
            "gridcolor": "white",
            "gridwidth": 2,
            "linecolor": "white",
            "showbackground": true,
            "ticks": "",
            "zerolinecolor": "white"
           },
           "yaxis": {
            "backgroundcolor": "#E5ECF6",
            "gridcolor": "white",
            "gridwidth": 2,
            "linecolor": "white",
            "showbackground": true,
            "ticks": "",
            "zerolinecolor": "white"
           },
           "zaxis": {
            "backgroundcolor": "#E5ECF6",
            "gridcolor": "white",
            "gridwidth": 2,
            "linecolor": "white",
            "showbackground": true,
            "ticks": "",
            "zerolinecolor": "white"
           }
          },
          "shapedefaults": {
           "line": {
            "color": "#2a3f5f"
           }
          },
          "ternary": {
           "aaxis": {
            "gridcolor": "white",
            "linecolor": "white",
            "ticks": ""
           },
           "baxis": {
            "gridcolor": "white",
            "linecolor": "white",
            "ticks": ""
           },
           "bgcolor": "#E5ECF6",
           "caxis": {
            "gridcolor": "white",
            "linecolor": "white",
            "ticks": ""
           }
          },
          "title": {
           "x": 0.05
          },
          "xaxis": {
           "automargin": true,
           "gridcolor": "white",
           "linecolor": "white",
           "ticks": "",
           "title": {
            "standoff": 15
           },
           "zerolinecolor": "white",
           "zerolinewidth": 2
          },
          "yaxis": {
           "automargin": true,
           "gridcolor": "white",
           "linecolor": "white",
           "ticks": "",
           "title": {
            "standoff": 15
           },
           "zerolinecolor": "white",
           "zerolinewidth": 2
          }
         }
        }
       }
      }
     },
     "metadata": {},
     "output_type": "display_data"
    }
   ],
   "source": [
    "fig = conflicting_pair.first(\"1m\").eval().scatter_map(color=\"altitude\")\n",
    "fig.update_layout(\n",
    "    map_style=\"carto-positron\",\n",
    ")\n",
    "fig.write_html(\"../figures/conflicting_pair.html\")\n",
    "fig.show()\n"
   ]
  },
  {
   "cell_type": "code",
   "execution_count": 8,
   "id": "d2e87025",
   "metadata": {},
   "outputs": [],
   "source": [
    "f1_df = conflicting_pair[0].first(\"60s\").data\n",
    "f2_df = conflicting_pair[1].first(\"60s\").data\n",
    "gt1 = conflicting_pair[0].last(\"60s\").data\n",
    "gt2 = conflicting_pair[1].last(\"60s\").data"
   ]
  },
  {
   "cell_type": "code",
   "execution_count": 9,
   "id": "3ba4a8ce",
   "metadata": {},
   "outputs": [
    {
     "data": {
      "text/plain": [
       "(60, 9)"
      ]
     },
     "execution_count": 9,
     "metadata": {},
     "output_type": "execute_result"
    }
   ],
   "source": [
    "cols2keep = [\n",
    "    \"timestamp\",\n",
    "    \"latitude\",\n",
    "    \"longitude\",\n",
    "    \"altitude\",\n",
    "    \"track\",\n",
    "    \"groundspeed\",\n",
    "    \"vertical_rate\",\n",
    "    \"icao24\",\n",
    "    \"callsign\",\n",
    "]\n",
    "f1_df = f1_df[cols2keep]\n",
    "f2_df = f2_df[cols2keep]\n",
    "f1_df.shape"
   ]
  },
  {
   "cell_type": "code",
   "execution_count": 10,
   "id": "ab51a9d7",
   "metadata": {},
   "outputs": [],
   "source": [
    "n_samps = 20\n",
    "sampling_rate = 1  # s\n",
    "f1_latlonalt = predict_trajectories(\n",
    "    f1_df,\n",
    "    model,\n",
    "    feat_mean,\n",
    "    feat_std,\n",
    "    ctx_mean,\n",
    "    ctx_std,\n",
    "    DEVICE,\n",
    "    n_samples=n_samps,\n",
    "    sampling_rate=sampling_rate,\n",
    ")\n",
    "f2_latlonalt = predict_trajectories(\n",
    "    f2_df,\n",
    "    model,\n",
    "    feat_mean,\n",
    "    feat_std,\n",
    "    ctx_mean,\n",
    "    ctx_std,\n",
    "    DEVICE,\n",
    "    n_samples=n_samps,\n",
    "    sampling_rate=sampling_rate,\n",
    ")"
   ]
  },
  {
   "cell_type": "code",
   "execution_count": 11,
   "id": "9ba93dcf",
   "metadata": {},
   "outputs": [
    {
     "name": "stdout",
     "output_type": "stream",
     "text": [
      "Wrote: ['../webdata/histories.geojson', '../webdata/futures_f1.geojson', '../webdata/futures_f2.geojson', '../webdata/meta.json']\n"
     ]
    }
   ],
   "source": [
    "# === save_geojson.py ===\n",
    "import json\n",
    "import numpy as np\n",
    "import pandas as pd\n",
    "\n",
    "# assumes f1_df, f2_df, f1_latlonalt, f2_latlonalt already defined (like in your notebook)\n",
    "\n",
    "OUTDIR = Path(\"../webdata\")\n",
    "OUTDIR.mkdir(parents=True, exist_ok=True)\n",
    "\n",
    "\n",
    "def to_feature_line(coords, props, altitudes=None):\n",
    "    feature = {\n",
    "        \"type\": \"Feature\",\n",
    "        \"geometry\": {\"type\": \"LineString\", \"coordinates\": coords},\n",
    "        \"properties\": props,\n",
    "    }\n",
    "    if altitudes is not None:\n",
    "        feature[\"properties\"][\"altitudes_ft\"] = altitudes\n",
    "    return feature\n",
    "\n",
    "\n",
    "# Histories (one LineString per flight). Mapbox needs [lon, lat] order.\n",
    "hist_features = []\n",
    "for flight_id, df in [(\"f1\", f1_df), (\"f2\", f2_df)]:\n",
    "    coords = list(zip(df[\"longitude\"].astype(float), df[\"latitude\"].astype(float)))\n",
    "    altitudes = (\n",
    "        df[\"altitude\"].astype(float).tolist() if \"altitude\" in df.columns else None\n",
    "    )\n",
    "    # epoch seconds per vertex (handy if you later want time-accurate pacing in JS)\n",
    "    ts = pd.to_datetime(df[\"timestamp\"]).astype(\"int64\") // 10**9\n",
    "    hist_features.append(\n",
    "        to_feature_line(\n",
    "            coords,\n",
    "            {\"flight\": flight_id, \"timestamps\": ts.tolist()},\n",
    "            altitudes=altitudes,\n",
    "        )\n",
    "    )\n",
    "\n",
    "with open(OUTDIR / \"histories.geojson\", \"w\") as f:\n",
    "    json.dump({\"type\": \"FeatureCollection\", \"features\": hist_features}, f)\n",
    "\n",
    "\n",
    "# Futures (many LineStrings per flight: one per sample)\n",
    "def futures_fc(latlonalt_list, flight_id, n_samples=20, T=None):\n",
    "    feats = []\n",
    "    n = min(n_samples, len(latlonalt_list))\n",
    "    for i in range(n):\n",
    "        arr = latlonalt_list[i]\n",
    "        if T is not None:\n",
    "            arr = arr[:T]\n",
    "        # arr rows are [lat, lon, alt]\n",
    "        coords = [(float(lon), float(lat)) for (lat, lon, *_rest) in arr]\n",
    "        altitudes = [float(alt) for (*_, alt) in arr] if arr.shape[1] >= 3 else None\n",
    "        feats.append(\n",
    "            to_feature_line(\n",
    "                coords, {\"flight\": flight_id, \"sample\": i}, altitudes=altitudes\n",
    "            )\n",
    "        )\n",
    "    return {\"type\": \"FeatureCollection\", \"features\": feats}\n",
    "\n",
    "\n",
    "# choose a light number of samples for performance\n",
    "N_SAMPLES = 20\n",
    "with open(OUTDIR / \"futures_f1.geojson\", \"w\") as f:\n",
    "    json.dump(futures_fc(f1_latlonalt, \"f1\", n_samples=N_SAMPLES), f)\n",
    "with open(OUTDIR / \"futures_f2.geojson\", \"w\") as f:\n",
    "    json.dump(futures_fc(f2_latlonalt, \"f2\", n_samples=N_SAMPLES), f)\n",
    "\n",
    "# Useful viewport metadata (bounds)\n",
    "all_hist_ll = np.vstack(\n",
    "    [\n",
    "        np.column_stack([f1_df[\"longitude\"].to_numpy(), f1_df[\"latitude\"].to_numpy()]),\n",
    "        np.column_stack([f2_df[\"longitude\"].to_numpy(), f2_df[\"latitude\"].to_numpy()]),\n",
    "    ]\n",
    ")\n",
    "bounds = {\n",
    "    \"minLon\": float(np.nanmin(all_hist_ll[:, 0])),\n",
    "    \"minLat\": float(np.nanmin(all_hist_ll[:, 1])),\n",
    "    \"maxLon\": float(np.nanmax(all_hist_ll[:, 0])),\n",
    "    \"maxLat\": float(np.nanmax(all_hist_ll[:, 1])),\n",
    "}\n",
    "with open(OUTDIR / \"meta.json\", \"w\") as f:\n",
    "    json.dump(bounds, f, indent=2)\n",
    "\n",
    "print(\n",
    "    \"Wrote:\",\n",
    "    [\n",
    "        str(p)\n",
    "        for p in (\n",
    "            OUTDIR / \"histories.geojson\",\n",
    "            OUTDIR / \"futures_f1.geojson\",\n",
    "            OUTDIR / \"futures_f2.geojson\",\n",
    "            OUTDIR / \"meta.json\",\n",
    "        )\n",
    "    ],\n",
    ")"
   ]
  },
  {
   "cell_type": "code",
   "execution_count": 12,
   "id": "f2b10b10",
   "metadata": {},
   "outputs": [
    {
     "name": "stdout",
     "output_type": "stream",
     "text": [
      "\n",
      "==== LOSS OF SEPARATION/COLLISION SUMMARY ====\n",
      "Total trajectory samples compared: 400\n",
      "Number of Loss of Separation (LOS) (<1000ft & <5NM): 288 (72.00%)\n",
      "Number of Collisions (<55ft & <0.03NM):        2 (0.50%)\n",
      "\n"
     ]
    }
   ],
   "source": [
    "spacing_df = calculate_trajectory_spacings(f1_latlonalt, f2_latlonalt)\n",
    "\n",
    "n_los = spacing_df.query(\"vert_spacing_ft < 1000 and hori_spacing_NM < 5\").shape[0]\n",
    "n_cols = spacing_df.query(\"vert_spacing_ft < 55 and hori_spacing_NM < 0.03\").shape[0]\n",
    "\n",
    "frac_los = n_los / spacing_df.shape[0]\n",
    "frac_cols = n_cols / spacing_df.shape[0]\n",
    "\n",
    "print(\"\\n==== LOSS OF SEPARATION/COLLISION SUMMARY ====\")\n",
    "print(f\"Total trajectory samples compared: {spacing_df.shape[0]:,}\")\n",
    "print(f\"Number of Loss of Separation (LOS) (<1000ft & <5NM): {n_los} ({frac_los:.2%})\")\n",
    "print(f\"Number of Collisions (<55ft & <0.03NM):        {n_cols} ({frac_cols:.2%})\\n\")\n"
   ]
  },
  {
   "cell_type": "code",
   "execution_count": 13,
   "id": "69c79ec5",
   "metadata": {},
   "outputs": [],
   "source": [
    "# px.histogram(\n",
    "#     spacing_df,\n",
    "#     x='CPA_3D_meter'\n",
    "# ).show()\n",
    "# fig = px.scatter(\n",
    "#     spacing_df,\n",
    "#     x='hori_spacing_NM',\n",
    "#     y='vert_spacing_ft'\n",
    "# )\n",
    "# # add a collision box with a vertical line at 55ft and an horizontal line at 0.03NM\n",
    "# fig.add_vrect(x0=0, x1=0.03, y0=0, y1=55, fillcolor=\"LightSalmon\", opacity=0.2, line_width=0)"
   ]
  },
  {
   "cell_type": "code",
   "execution_count": 14,
   "id": "3fe1000d",
   "metadata": {},
   "outputs": [
    {
     "data": {
      "application/vnd.plotly.v1+json": {
       "config": {
        "plotlyServerURL": "https://plot.ly"
       },
       "data": [
        {
         "lat": {
          "bdata": "w5D1Phd+R0BOlp22+X1HQJaUtzbcfUdA8oBmrL59R0BVbYcqoX1HQM5NPZ6DfUdA93V/lnB9R0DlhsiXXX1HQN3wFI9KfUdAY+qOjzd9R0DevTKGJH1HQOjzL6sMfUdAmBSBz/R8R0B/BW/83HxHQAIxaB/FfEdAs0y1Qa18R0AhkWHKjnxHQB0/YUhwfEdAY0fbzlF8R0A2OqlKM3xHQKMV8c4UfEdArOnNxf17R0DaNTm85ntHQHriWbvPe0dAkySasLh7R0ApliGloXtHQCI7c6OJe0dA+McXoXF7R0C0luydWXtHQLMoN5pBe0dAJqjUlSl7R0DBdgNVEHtHQG97Bx33ekdANp+/2t16R0A3mkyhxHpHQKYbjl2rekdAFN4dNZJ6R0BexmEVeXpHQMxvnetfekdAFVhsykZ6R0A5SxKfLXpHQEykswgWekdA7022cf55R0CxDmnj5nlHQIuMLkvPeUdAAWBVsrd5R0ALt5wGoHlHQOMc9FCIeUdAMWD6o3B5R0AHWRDtWHlHQGSP1T5BeUdAJV9XKSV5R0D9GOcSCXlHQHM1EQXteEdAPJS87NB4R0A15nXTtHhHQA==",
          "dtype": "f8"
         },
         "line": {
          "color": "#1f77b4",
          "width": 1
         },
         "lon": {
          "bdata": "3gKpqBUuIEBR24XUNCwgQFgh+QRUKiBAR7waOXMoIEBZndFxkiYgQPNROK6xJCBAfQGfs30jIEDdhiu7SSIgQHLuOjIWISBA7MQvPeIfIEAiFWlJrh4gQAtl92YhHSBAAHlHh5QbIEDF9QQZCBogQMzL1z57GCBAmotsZ+4WIEBizfAI8xQgQNaYxRz4EiBAmo1Kx/wQIEDbsCDkAQ8gQJjBppcGDSBAnkK8/pQLIEAimxL6IgogQHOGhWaxCCBAW6zRZj8HIEDX19HXzQUgQOsKANY/BCBA7lT21rECIEB0QexIJAEgQDb95J4s/x9AHfGBsRD8H0APPoXT1PgfQM+k+B+Y9R9AlaonTlzyH0A6UcamH+8fQCeAIeHj6x9AwOqo3KnoH0AVL/3eb+UfQLR8NQo14h9A5oOgGPveH0DeNVkswdsfQENZiRvH2B9AG9b0D83VH0C02rjm09IfQC+AmeXZzx9AdL+16d/MH0Cb8bqj4ckfQFKk8YXixh9A3I6HSuTDH0Ddv1I35cAfQGC6eQbnvR9AE6d3yDm6H0CB8yaSjLYfQIjY2ofesh9AZfrsYDGvH0DQ+rBBhKsfQA==",
          "dtype": "f8"
         },
         "mode": "lines",
         "name": "100 samples Flight 1",
         "opacity": 0.5,
         "showlegend": true,
         "type": "scattermap"
        },
        {
         "lat": {
          "bdata": "LNHqKP99R0CeElzG6H1HQM7Qn2zSfUdAh1YACbx9R0CK1wuupX1HQB7LDEmPfUdAMi1VDHh9R0DhNf3OYH1HQC1ZK5FJfUdA+4WSUjJ9R0BlXlkTG31HQInmUBMAfUdAyYJxEuV8R0AUNk8aynxHQC7NwRevfEdAHYBdFJR8R0DPKCIgfHxHQGbH0SFkfEdAp/UkLEx8R0BQyocsNHxHQEGxsjUcfEdAtzGmIQZ8R0Ae8ygN8HtHQKTHYQHae0dAlvq668N7R0BoD1zVrXtHQFDqctyVe0dAQs0B4317R0A8w8LoZXtHQLtl++1Ne0dAG35m8jV7R0DyVO2KHntHQNhFzyIHe0dAdlIMuu96R0CRfKRQ2HpHQN/Fl+bAekdArqepval6R0By+oWdknpHQBXALnN7ekdAjQjDUWR6R0A2pkQmTXpHQOggu6M1ekdATEYjFx56R0DMOlqTBnpHQOHcggXveUdA71F6gNd5R0AWCFp5v3lHQB1aknGneUdA4aeVX495R0DmZX9Wd3lHQDTFwUxfeUdAVv6rIUV5R0CrpOb1KnlHQEVhxr8QeUdAR7tkkvZ4R0DzLBdk3HhHQA==",
          "dtype": "f8"
         },
         "line": {
          "color": "#1f77b4",
          "width": 1
         },
         "lon": {
          "bdata": "WrPLyocsIEC5VdbUDSsgQHk5y+GTKSBA69GBghkoIEAHJmOUnyYgQI9kSKglJSBALeNziaYjIEANDTdtJyIgQP2jUuWnICBATKNFzigfIEBxb9C5qR0gQPnQ+DDuGyBAleKdqzIaIEDQ4u+7dhggQK1Yjj27FiBAgbKpwv8UIEBoVNpleRMgQOLFWAvzESBALUA3Im0QIEAJBSnN5g4gQBaIPntgDSBA2IrAyO8LIED5ZWeqfgogQIs9D/0NCSBAMSl045wHIEAJbHE6LAYgQDeQT82gBCBAjBq49BQDIECWmhuNiQEgQL20FHT7/x9AJc/mr+T8H0DJcojE2/kfQJckdd7S9h9AEfys/cnzH0C5EDAiwfAfQBB6/ku47R9AW3U6ObHqH0DkL3EsqucfQLN6hwCk5B9AE9Ut/pzhH0DuDU4Alt4fQEhwylWZ2x9AoIvGr5zYH0CyILsPoNUfQBm1MXSj0h9ARtSe3qbPH0DZdjEwmMwfQGlNPYeJyR9AoJdtv3vGH0BzbmwhbcMfQK6/5IhewB9A6Y1TlPq8H0A0IAHKlbkfQIuP+eExth9Aa4zjJM2yH0CAscZKaa8fQA==",
          "dtype": "f8"
         },
         "mode": "lines",
         "name": "100 samples Flight 1",
         "opacity": 0.5,
         "showlegend": false,
         "type": "scattermap"
        },
        {
         "lat": {
          "bdata": "f2SyAgF+R0D+LqSU5n1HQN5wxiXMfUdAK7SHv7F9R0Bf7ApPl31HQE2jvt18fUdAYSQ07md9R0CCsJcHU31HQJ43DBc+fUdAnsxuLyl9R0CEXuI9FH1HQED9u0z7fEdA48bbWuJ8R0CEvUFoyXxHQDXj7XSwfEdAADrggJd8R0BGNnNZgHxHQNR0+CdpfEdAY34o/1F8R0Bfim/MOnxHQIX0haIjfEdAfHwFTwp8R0AT0ub68HtHQFC1UK/Xe0dAenitWb57R0A1piQDpXtHQLDQY+yMe0dAvtD71HR7R0B8jTjGXHtHQGVtgq1Ee0dAVCgllCx7R0Czgsm5E3tHQPcLJtX6ekdAXeZb+eF6R0C2VUoTyXpHQDq4ETawekdARL4jb5l6R0Cgn3+ngnpHQMaBZ99rekdAJZuZFlV6R0CIX1dNPnpHQP6wdA4oekdAW8QDzxF6R0Cb/bWF+3lHQHNtKEXleUdAeqMMBM95R0BWXWgptnlHQC1QK06deUdAA2qFe4R5R0Buy9eea3lHQMQnU8FSeUdAJXYlyTx5R0As4UfQJnlHQOYz99YQeUdA1/323Pp4R0CPWoPi5HhHQA==",
          "dtype": "f8"
         },
         "line": {
          "color": "#1f77b4",
          "width": 1
         },
         "lon": {
          "bdata": "JRof+LUsIECgNbYYAisgQKEqqDxOKSBAJ9ZnZJonIEAAFg+P5iUgQNdgEb0yJCBANcGEydsiIEDyBYDYhCEgQFVvIektICBAOttJ/NYeIEB+bRkRgB0gQJyO8qLjGyBAJH7KN0caIEAXSqHPqhggQHoAd2oOFyBATK9LCHIVIEAp+NtQ9BMgQKOvk5t2EiBAKH+FV/kQIEANHWSnew8gQBB2QPr9DSBA1PYTmlgMIEDO/cjOsgogQOnHO3UNCSBAm2UosGcHIEAjEWpcwgUgQJvPKD07BCBArbmlILQCIEBEqH11LQEgQJ9D7LxM/x9A+NNZlD78H0BT/aRaC/kfQB5YgwLZ9R9A34ap1KXyH0DwzWOIc+8fQDFvZWZA7B9A2d1RiF3pH0DtloyLe+YfQJZ/RLeY4x9A1GpJxLbgH0D6G835090fQDw0MHcC2x9Akz8/+TDYH0A+q9uiXtUfQCeFRC6N0h9AGYlZvrvPH0BRFIMfh8wfQMc/O6pRyR9Ao0D6Fx3GH0CUPZOu58IfQNdrfCezvx9APXt5QNm8H0DTgX46ALofQMFR0Fwmtx9Ae90oYE20H0DNu8+Lc7EfQA==",
          "dtype": "f8"
         },
         "mode": "lines",
         "name": "100 samples Flight 1",
         "opacity": 0.5,
         "showlegend": false,
         "type": "scattermap"
        },
        {
         "lat": {
          "bdata": "neLBMPt9R0DvHCZs5n1HQOXB3abRfUdAmgY44bx9R0BRDOYaqH1HQFRgNlSTfUdAopwdD3x9R0A8y/O/ZH1HQKn+lXlNfUdAMycnKTZ9R0B4WIThHn1HQOn1328GfUdALIH8Bu58R0DndyKU1XxHQJ+h4ym9fEdAzKqItaR8R0Cet1xli3xHQA2T3ApyfEdAmBwvuVh8R0CP3S1dP3xHQIjs/gkmfEdATg4TRg98R0C6MUB4+HtHQGuUG7Phe0dAcaAP5Mp7R0BuSrIdtHtHQJOOpJOZe0dAnUU3/357R0AZj41zZHtHQD+4hN1Je0dA2RA/UC97R0COgHpDGHtHQJ1ZPDYBe0dAFSGvMep6R0AXazkj03pHQCJyBhS8ekdARY9MH6R6R0CmPZYgjHpHQOphfip0ekdAWrppKlx6R0A27fMyRHpHQDudeIouekdAUnBw4Rh6R0DTZ9s3A3pHQB+FuY3teUdAlckK49d5R0D7m8jLv3lHQNcW9rOneUdABP3lkY95R0CcwbN4d3lHQK7osl5feUdAcoyUT0h5R0BaBNk/MXlHQGp2ni8aeUdA222oHgN5R0BNPhUN7HhHQA==",
          "dtype": "f8"
         },
         "line": {
          "color": "#1f77b4",
          "width": 1
         },
         "lon": {
          "bdata": "DyBdl0wsIEBwJmeR7yogQG38zvuSKSBABYAR+jUoIEDFPbFo2SYgQCVhLGt8JSBAaP3gtfojIEBitMECeSIgQJoUsVL3ICBAcbbNpHUfIECOCPj58x0gQBLxmFhlHCBAIYB+utYaIEA4JY6wRxkgQBxKHxi5FyBAUC4ZgioWIEBRGwBdhhQgQHsq0KjiEiBASMjoiT4RIEA8Auvbmg8gQDuMNcP2DSBAM0zhjnwMIEC2DWzuAQsgQBoqHL+HCSBAvh+tIw0IIEANxGH5kgYgQBrSNK/gBCBAv/w01i4DIEBHQ76SfAEgQGNF6oCV/x9AU8RpBzH8H0B5RkGIPvkfQPKVvDFL9h9AMCl6vVjzH0DZ4xZxZfAfQExgLwZz7R9A7E2X61LqH0AaDWr5MecfQBqH/OkR5B9Agrz9AvHgH0BrKrv+0N0fQKTy4vgC2x9A7XiR9zTYH0DIz8b6ZtUfQMMJgwKZ0h9AWTnGDsvPH0ACuE9uqcwfQL7BFveGyR9A8X4pYWXGH0B8/jH1QsMfQBdFOmshwB9AZ2R7BSu9H0C9adOkNLofQDmH5Ww9tx9Aj1NsFke0H0DXRgrFULEfQA==",
          "dtype": "f8"
         },
         "mode": "lines",
         "name": "100 samples Flight 1",
         "opacity": 0.5,
         "showlegend": false,
         "type": "scattermap"
        },
        {
         "lat": {
          "bdata": "UKXUAAV+R0Amyeet7n1HQFqaZlrYfUdAuArnD8J9R0AQDz27q31HQEHF/mWVfUdApoeCHnx9R0DO6a/fYn1HQBBU0JZJfUdAF7lzVjB9R0Aks+MLF31HQOZCwaj/fEdALRVkO+h8R0Am1PTW0HxHQHc2S2i5fEdAjiuPAqJ8R0DGU5R+inxHQIJL9vlyfEdACK/ZdFt8R0BpHPXuQ3xHQG5ebWgsfEdABAnMtxV8R0BsIyAQ/3tHQCGkRF7oe0dAHD1etdF7R0BSmkgCu3tHQGlWB16je0dArC2Lr4t7R0AlYvcJdHtHQH8TKVpce0dAecdCs0R7R0BKFS+HK3tHQJY7XFoSe0dAYhLsLPl6R0DRvZr+33pHQDBIis/GekdAZQnGabB6R0Cs+WUDmnpHQDLCt6WDekdACkMgPm16R0Cy9+zVVnpHQH6ZZLg+ekdAdFwtmiZ6R0B7rvhxDnpHQPKIY1L2eUdAK4ofMt55R0B4hTaJyHlHQFOcS9ayeUdALQ5bLJ15R0DeWEl4h3lHQM3oEs1xeUdAQ7MiH1x5R0DB7YZwRnlHQFWZfMEweUdAGQ7HERt5R0A/oKJhBXlHQA==",
          "dtype": "f8"
         },
         "line": {
          "color": "#1f77b4",
          "width": 1
         },
         "lon": {
          "bdata": "cMDPpfosIED907kpiisgQGQsCbAZKiBArtLvyqgoIEBtqglWOCcgQPXkiOPHJSBAJEx8Uh8kIECDygDFdiIgQFOX9MvNICBAzB24RCUfIECUhivAfB0gQCmy01r2GyBA4A/0ZXAaIECqo+0F6hggQIHYXxZkFyBAdgSru90VIEAjiHlCWxQgQCJ07cvYEiBAY0fL6VURIEDshIp40w8gQBpN7wlRDiBAWIZS+dUMIED6i2V9WgsgQH7BynHfCSBAhYTf+mMIIEBt4kb06AYgQP6EOUJfBSBA6OyzANYDIEBRIhJUTAIgQHeM+BfDACBAiAuF4XL+H0CpTk5jLvsfQPPBOOvp9x9AnYvYnKT0H0AXggYxYPEfQOQAVssb7h9ADKQAlSjrH0B9vZdjNegfQInrQxRD5R9AKXWy7E/iH0D4tg3KXN8fQG6e3sQ83B9AMBdNxRzZH0Bpwznu+9UfQMeH5fnb0h9AaCovC7zPH0B/gQ/A3cwfQCE22nj/yR9AMa2cWiDHH0AZY60cQsQfQGYDFeRjwR9A/nXLLpW+H0CrDGlax7sfQMaXMK74uB9AYQ7e4iq2H0Ax/LY/XLMfQA==",
          "dtype": "f8"
         },
         "mode": "lines",
         "name": "100 samples Flight 1",
         "opacity": 0.5,
         "showlegend": false,
         "type": "scattermap"
        },
        {
         "lat": {
          "bdata": "/CX4bQ5+R0BQOldE9X1HQDTrzhncfUdAqZ+u7sJ9R0DAWafCqX1HQPi2B5aQfUdAIRy/P3d9R0AqBHffXX1HQOwRv4dEfUdAfEMHJit9R0AsAuDMEX1HQEqGzXL6fEdAOrymDuN8R0BpuUizy3xHQFlr1k20fEdAiegs8Zx8R0DUB2n/hHxHQPiPigNtfEdAHAdKEFV8R0D7qxMTPXxHQBbWnx4lfEdAaiQDyA18R0DW5yxn9ntHQBcTQg/fe0dAdhQercd7R0CXI+VTsHtHQCbvzbuXe0dAQoBULH97R0BFvOGSZntHQBIiDQJOe0dALtY+ZzV7R0DG+kpQHntHQHGgLEIHe0dAG9rkKfB6R0ALlpQa2XpHQEC5PAHCekdADx7waKd6R0CrrM3PjHpHQPrWZixyekdAfcCYkVd6R0Br2/T1PHpHQBhmSncpekdAsIVR+BV6R0Du1Ml4AnpHQHZu8/jueUdAH4aOeNt5R0ATBl3vwXlHQMObhGWoeUdA2IjG2o55R0CuKWFPdXlHQO2MFsNbeUdABrbzjkR5R0CXSeFQLXlHQKmgfxsWeUdAMAku3P54R0DflI2l53hHQA==",
          "dtype": "f8"
         },
         "line": {
          "color": "#1f77b4",
          "width": 1
         },
         "lon": {
          "bdata": "dzlsD4EtIEAzMlQK3isgQMvPj3Y7KiBAypCbd5goIEAtSvrp9SYgQJ4OKvFSJSBAAIDmBLkjIEB5vfisHiIgQMu7wsaEICBA/o3kdOoeIEDbTryUUB0gQGIIwgzLGyBAM7f/hkUaIEBXI1IEwBggQC6v3YM6FyBAlv18BrUVIEC43gMzKBQgQL+W42GbEiBAU/wuAg8RIEBxlpg2gg8gQPJsMW71DSBAqJiBSG4MIECqbkuT5wogQJGY7HJgCSBAo9wHw9kHIEAsNfqnUgYgQKaO/sHDBCBA+h58TTUDIEDf5DVtpgEgQI0bZ/4XACBAoP6sRxL9H0D/I0zNJfofQBvHuVg59x9AC3TTxE30H0DuUE1aYfEfQOzBCfR07h9APYoTQADrH0A7oPaSi+cfQClN8+sW5B9AiZ6KTKLgH0D1pfuzLd0fQPVANqWx2h9AtvmnvTTYH0CwGhu2uNUfQPasxtU70x9AhoZy1b/QH0BpLLoobM0fQFDi9KUXyh9A+E/mBcTGH0Ckp8yPb8MfQMNZaPwbwB9A5jAWaiC9H0Coed3/I7ofQJk03Xcotx9A9B36Fyy0H0AXFUyaMLEfQA==",
          "dtype": "f8"
         },
         "mode": "lines",
         "name": "100 samples Flight 1",
         "opacity": 0.5,
         "showlegend": false,
         "type": "scattermap"
        },
        {
         "lat": {
          "bdata": "Hh2gowN+R0AnWv/v631HQHWn5DvUfUdAgjSSfbx9R0Dz/zPIpH1HQKfyDBKNfUdAyrCQ83J9R0DNdHDUWH1HQK1M8Ko+fUdAIlA6iiR9R0DRXJNoCn1HQHYTi2PyfEdAXYrfXdp8R0ASxPxNwnxHQPPuCkeqfEdAT991P5J8R0Dj2wtQfHxHQF9EPGBmfEdAP99OZlB8R0B3Hmp1OnxHQAB01oMkfEdAo4VYig18R0A6NROQ9ntHQFYJvZ7fe0dAOk8xo8h7R0Al0yWnsXtHQA0mvRWbe0dAOkvAg4R7R0DD/Xr6bXtHQG34VWdXe0dA1smc00B7R0A6RokrJ3tHQAPTKYwNe0dAoFSh4vN6R0B968xB2npHQOV6z5bAekdAmnjwk6l6R0Bufo6QknpHQDMTZ4x7ekdAJla8h2R6R0C5iEyCTXpHQDz2CxQ0ekdAzuWlmxp6R0CxghcsAXpHQJ5tQ7LneUdA9QMnQc55R0DaDmK5uHlHQJabFjGjeUdAtRiUsY15R0BY1zsoeHlHQLYbXZ5ieUdAj84AVEx5R0ABM+4INnlHQJTS87MfeUdAFBSyZwl5R0D7zfYa83hHQA==",
          "dtype": "f8"
         },
         "line": {
          "color": "#1f77b4",
          "width": 1
         },
         "lon": {
          "bdata": "12A7K+EsIEDh24uuYCsgQLRFQsbfKSBAVeJuTl8oIEAH3HVr3iYgQBFyZfldJSBAR5KQV68jIEDeqcJKACIgQN8CC69RICBA+xfMqKIeIEBm9xIU9BwgQJDIwIhxGyBAELIiAO8ZIECudQjobBggQOrY0mTqFiBA5nVR5GcVIEASLpwRBBQgQO3x8NKfEiBAx6dcBDwRIEDSkj7K1w8gQMG6oQB0DiBALszxLPEMIEACNhLKbgsgQNER9/vrCSBAf8ZCnmkIIEAjZ+vU5gYgQMYJepZ2BSBALAl0WgYEIEBgAHePlgIgQCr6RlgmASBATNwER2z/H0BZhlETMvwfQBYXkeb3+B9ARh40v731H0CL/Meeg/IfQN/NwYNJ7x9ACHq3ckLsH0ChdXWKOukfQCYHzoMz5h9AK4rwpSvjH0AcYKypJOAfQIDg5XXy3B9AlpZxR8DZH0Cm/2RDjdYfQIAIEiFb0x9AE+CIBSnQH0Dz0Ct1a80fQG8uNOmtyh9AWn24PvHHH0AwQoq7M8UfQGWmwTx2wh9AnHXdzIy/H0CB+iw+pLwfQOAjQ9e6uR9Aw7k9UtK2H0D6c7H16LMfQA==",
          "dtype": "f8"
         },
         "mode": "lines",
         "name": "100 samples Flight 1",
         "opacity": 0.5,
         "showlegend": false,
         "type": "scattermap"
        },
        {
         "lat": {
          "bdata": "OrLBtAR+R0AMHG8W7X1HQA+744DVfUdAOigb4b19R0BQWEFKpn1HQBS0UamOfUdAek7wHHV9R0AxttCPW31HQGft8gFCfUdATfZWcyh9R0AC0/zjDn1HQDEB59P3fEdA4izAueB8R0Am9T+oyXxHQHxi1IyyfEdAnuY0ept8R0D8JU9qg3xHQAYRVWNrfEdAOu0fUlN8R0D1GtZJO3xHQEGbUTcjfEdAls/9cQt8R0AMsmq183tHQH3J3u7be0dAWMXvMMR7R0BaW+RorHtHQElRQJ6Ue0dAN6fz0nx7R0DE0I/9ZHtHQN3r8TBNe0dATWyrYzV7R0BOm9XJHHtHQM973iUEe0dA5y2jiut6R0D4lEbl0npHQATSpUi6ekdAulR9k6J6R0AfGT7UinpHQIZBxR1zekdArq41XVt6R0Dxg2ylQ3pHQCMwzPEsekdAGaUeNBZ6R0Bj8GB//3lHQGDwdcDoeUdAYeFaCtJ5R0CJ13yEuXlHQEFDx/2geUdABRoKbYh5R0DfX+Tkb3lHQAhFJVxXeUdAxOU2zz15R0ALx4BBJHlHQEbnILMKeUdAEB3bI/F4R0A/ms2T13hHQA==",
          "dtype": "f8"
         },
         "line": {
          "color": "#1f77b4",
          "width": 1
         },
         "lon": {
          "bdata": "2wX9PMgsIEBc0B7dQCsgQPhJZYC5KSBABPkplDIoIEAf4NA8qyYgQBMMtucjJSBAl6TUpoIjIEAI7Q1p4SEgQLfzYS5AICBA68bQ9p4eIEDudFrC/RwgQMO2dB58GyBARvO3fPoZIEBaAz5MeRggQOmQsK/3FiBAIrInFnYVIEAa8ops7hMgQJot3FdmEiBAeTm8s94QIECsBYqkVg8gQKMM5wXPDSBArhltG0AMIEDBhB40sQogQN8K8OAhCSBA2tol/5IHIECqhLYfBAYgQJMZIEp7BCBAvDlCd/ICIEBzmremaQEgQIf/lrLB/x9AJikwHbD8H0DZ+ZU8h/kfQCdvAGFe9h9AZVT9izXzH0COTAG8DPAfQDCvlfLj7B9A7BZmXdPpH0CLxd/MwuYfQJ58hUKy4x9AftPWvKHgH0BVOlI9kd0fQGdhJTqX2h9ARxBGO53XH0BKN8hlotQfQBL//nCo0R9ABW/5ga7OH0BMi84NecsfQI614XtEyB9AuxK7Eg/FH0CNN4eM2sEfQPY+0C+lvh9A6DE5M067H0Dtrv0897cfQENuwXCftB9AUiw+h0ixH0BR0xak8a0fQA==",
          "dtype": "f8"
         },
         "mode": "lines",
         "name": "100 samples Flight 1",
         "opacity": 0.5,
         "showlegend": false,
         "type": "scattermap"
        },
        {
         "lat": {
          "bdata": "a/gQoft9R0Di383c5H1HQOWdZCHOfUdAeiX4W7d9R0AWh2WfoH1HQN60z9iJfUdAH7Zo8G59R0BpU5L9U31HQInvdhM5fUdAzpfsHh59R0BQ2RwzA31HQC9bcevsfEdA2kFZo9Z8R0BWxvdjwHxHQFDQuhqqfEdAs0jG0JN8R0DSJyVJe3xHQOjkr8BifEdApJseQUp8R0AhCUu3MXxHQBWI7CwZfEdAXY6+y/97R0CO9Wpg5ntHQDhOq/3Me0dAX8fpkLN7R0Blwd8smntHQNJaUI+Ce0dAmRsd8Wp7R0D5oWhSU3tHQA+I7bI7e0dAr5rOEiR7R0C9QNCLDHtHQFfvNAT1ekdAljdrhd16R0Bd/JX8xXpHQKLOI3OuekdA/d3nwpV6R0DcoKsIfXpHQDIVCldkekdAJN9nm0t6R0BWwGDoMnpHQDDySCEaekdAK/t/WQF6R0Aw3QWR6HlHQDya2sfPeUdAPzT+/bZ5R0CuGIZooHlHQLZSe9KJeUdAvVBvMnN5R0A0Oj+bXHlHQLV9fANGeUdAh/ggPC15R0BjfK9qFHlHQD8/I6L7eEdA+NJiz+J4R0BynWkFynhHQA==",
          "dtype": "f8"
         },
         "line": {
          "color": "#1f77b4",
          "width": 1
         },
         "lon": {
          "bdata": "hc0r7DQsIEB+eor9wyogQA2/zhFTKSBAHVMRKOInIEA1jjhBcSYgQIUwX1wAJSBAJbvhU0EjIED8x7O8giEgQI4BOLvDHyBA1EMMKwUeIED7c5IwRhwgQPHZiGbYGiBAgUOhMGoZIEDlVcRr/BcgQCpmnDqOFiBAijQReiAVIEBOW8vAjxMgQFPYnXj/ESBAIaR7xW4QIEBu6wWD3g4gQFG+MdVNDSBAnc9BhLQLIEAWvO81GwogQDA+RlmCCCBAACECEekGIEB9RCzMTwUgQJtNGZPMAyBA69evXEkCIEBXibi6xQAgQA4vRROF/h9AuZJstn77H0D5NUu9iPgfQL3LWsmS9R9AIWBg25zyH0AID9Hxpu8fQJnvcg2x7B9AjGLiSYjpH0BAA/muXuYfQBY5Cvc14x9AC5nGZwzgH0A9+nm749wfQIMCGYW+2R9AjKWGVJnWH0DV/MIpdNMfQOEhzgRP0B9ALC6o5SnNH0CJE7VHTcofQKyzkq5wxx9AgWGMGZTEH0CksgyKt8EfQAT4Xf/avh9A6tWqYsy7H0C53OvKvbgfQE12J12utR9A2z+20J+yH0BXjJlKka8fQA==",
          "dtype": "f8"
         },
         "mode": "lines",
         "name": "100 samples Flight 1",
         "opacity": 0.5,
         "showlegend": false,
         "type": "scattermap"
        },
        {
         "lat": {
          "bdata": "PUSjWQd+R0ArEtRJ7X1HQGMuNjnTfUdAZfPwJ7l9R0Axf7UVn31HQH9gqwKFfUdAoDHCtm59R0DhsPpgWH1HQAWY5BNCfUdAb9bvvCt9R0CU2axuFX1HQD2wWYb8fEdAbj5OneN8R0Dt+xuqynxHQAv/n7+xfEdA179r1Jh8R0AmeC2MfnxHQOiJP0NkfEdA0djp70l8R0B9p1KlL3xHQBWuwlkVfEdAfEr3kf97R0BX5zzA6XtHQEkzlPfTe0dAY8TYJL57R0BtcwtbqHtHQEEM2syPe0dArSUcPnd7R0DDQB2lXntHQMQNABVGe0dA4c4QhC17R0CtItOhFHtHQP/Z2b77ekdA8bFG2+J6R0C4BNb2yXpHQEDBqRGxekdAvrECipl6R0Bd1tgBgnpHQEB9e29qekdA9o4J5lJ6R0BIFNNbO3pHQAYZWgIjekdAsUiJsQp6R0AM0sNW8nlHQDbopgTaeUdAbf2UqMF5R0Bl2D8tqnlHQKZcR7GSeUdANvFbK3t5R0B4nhyuY3lHQCL6OTBMeUdAW+lLFTJ5R0D0Epj5F3lHQCfjkdP9eEdAUbtStuN4R0DF1E2YyXhHQA==",
          "dtype": "f8"
         },
         "line": {
          "color": "#1f77b4",
          "width": 1
         },
         "lon": {
          "bdata": "UB/goTYtIEDr8J6igysgQPbyqqbQKSBA9yzDPx0oIEBpKmpKaiYgQC6KXli3JCBAZDb5VEQjIECxSEzl0CEgQJA1ueZdICBAD1bge+oeIEC6rB+Cdx0gQKZsVc3cGyBAQ7iFG0IaIEDlFUNspxggQP8yacAMFyBAKAWKF3IVIECNDjU9uRMgQB8LBPj/ESBAuEEEJEcQIEDXkJTljQ4gQBf9vxjVDCBA3vdgQH4LIEDgE8ZpJwogQIo8hyfQCCBAckpHVXkHIEC67ZuFIgYgQPfyx+eRBCBAxieZ3gADIEACjxpGcAEgQDbWT4W+/x9AL0yUYJ38H0CTpvasYPkfQFq+Wf8j9h9AD25Se+byH0DiHrjZqe8fQAjjHj5t7B9ACHgZA2fpH0DLWvnwX+YfQKE10L9Z4x9AS69OuFLgH0CYaoKSTN0fQAzUDltA2h9AFZNCBjXXH0A+XtzZKNQfQNn+GZAd0R9AvobBbhHOH0CLzSRHDMsfQETB0CQHyB9AwqGwKgHFH0C4AfAS/MEfQHBTeAD3vh9AjGJjSKS7H0AZAMWWUbgfQNsDSsf/tB9AqHGZIq2xH0BZyF+EWq4fQA==",
          "dtype": "f8"
         },
         "mode": "lines",
         "name": "100 samples Flight 1",
         "opacity": 0.5,
         "showlegend": false,
         "type": "scattermap"
        },
        {
         "lat": {
          "bdata": "9NjhxAB+R0DW3fIn631HQD/KfYrVfUdALgWq7L99R0BimihOqn1HQPoaIa+UfUdAOjH6tXp9R0DUUAq8YH1HQHIFK8FGfUdAWnKpxSx9R0CS717JEn1HQJjUiUz8fEdA/huK2OV8R0Css4Jaz3xHQE6xUOW4fEdAyAEXZqJ8R0Ct+k/diHxHQOpoW11vfEdAhHMS01V8R0BJk5tRPHxHQGK40MUifEdAb+5a4Ql8R0DEQQX88HtHQLEOhh/Ye0dALdS4OL97R0C/JlNRpntHQIHvZZuPe0dAQjkD5Xh7R0BZqlM3YntHQLe3v39Le0dAObtwxzR7R0B1BOX/HntHQMIEqTcJe0dANeoAb/N6R0A+4Kil3XpHQGBn5NvHekdA9R8Xiq96R0Bp1koul3pHQIZBGtt+ekdA2kzqfWZ6R0A+clYpTnpHQGYyAFk3ekdA8T3thyB6R0AWlO+sCXpHQD8lpNryeUdA6zrcB9x5R0DCaSejyHlHQAFgBD61eUdABFblzqF5R0DqA+ZojnlHQBt8eAJ7eUdA0Z6anl15R0A7sitDQHlHQKxXMN0ieUdASGrCfwV5R0ARUOYX6HhHQA==",
          "dtype": "f8"
         },
         "line": {
          "color": "#1f77b4",
          "width": 1
         },
         "lon": {
          "bdata": "Mp70U6osIEAArDn4SysgQFRBs57tKSBATkIg2Y4oIEC0VgOEMCcgQMwLGzHSJSBAdVshSSUkIECFI2ZkeCIgQFKxKPHLICBAAzHqEh8fIEBEWOo3ch0gQMVhocz7GyBAsTw6ZIUaIEDXD9j9DhkgQKLBVpqYFyBAu4jbOCIWIEDSE2YRfhQgQCHpP3/ZEiBAsqoJXjURIEDoeCLSkA8gQPerK7fsDSBAlAN10U0MIEAW/flcrwogQIOLrn0QCSBAY3U1D3IHIEAP0IQ10wUgQMYXWcxdBCBAUGdt9+cCIEB/eJeTcgEgQM3+OIf5/x9AP5iiyA79H0DcBqAbPfofQPo+nU9s9x9AL7XAq5r0H0C2u+LoyfEfQJCELE747h9AZ3dcItLrH0BpDBcfq+gfQOPtsv6E5R9ASWbdBl7iH0Bin+XxN98fQNyuVBRD3B9AmIAvGE/ZH0DvI/BDWtYfQHVS11Fm0x9A4/BgiHHQH0DxGF9q9s0fQC748k97yx9AlnTHFAHJH0BUK4cBhsYfQCO/3PEKxB9ArwAtuUPAH0BRFHWJfLwfQFItrT22uB9AKbN8Hu+0H0DAF+IGKLEfQA==",
          "dtype": "f8"
         },
         "mode": "lines",
         "name": "100 samples Flight 1",
         "opacity": 0.5,
         "showlegend": false,
         "type": "scattermap"
        },
        {
         "lat": {
          "bdata": "O4Q5LAp+R0CMjK4B831HQJRM9szbfUdAADQ9ocR9R0AoL1drrX1HQP77bz6WfUdA79R7o3x9R0DCrC0RY31HQPB0qHRJfUdAHUHJ4C99R0ChAbNCFn1HQA0FkoD9fEdA+UfdveR8R0A4s9rwy3xHQOeIsiyzfEdAcHirZ5p8R0CU4ol2g3xHQFrNzoRsfEdAA82eklV8R0CwkLCfPnxHQMTZKKwnfEdA5l42DBF8R0DqpT1i+ntHQCUX+MDje0dAsCvQFc17R0AXIH9ztntHQKUWiDaee0dAa/1aAoZ7R0B07vfDbXtHQNrOgY5Ve0dA9oj4Tj17R0Bi2jUAIXtHQLpDmrAEe0dAbfkDYOh6R0Bv0LYOzHpHQKDHkLyvekdAQb1yOZh6R0BrxJ21gHpHQGofVDFpekdAHehTrFF6R0DQrt4mOnpHQHgQ/5UhekdACIV2BAl6R0CuFyVy8HlHQPDmSt/XeUdAs87HS795R0DbWEpxpnlHQIWqMJaNeUdAjkjKw3R5R0ANXHjnW3lHQDU8igpDeUdAs1wu7Ch5R0DpuKrDDnlHQJZ63KP0eEdA0nvmedp4R0BX56VYwHhHQA==",
          "dtype": "f8"
         },
         "line": {
          "color": "#1f77b4",
          "width": 1
         },
         "lon": {
          "bdata": "ktP11CYtIEAl4vLbsisgQHo4QFM/KiBA5lNCX8soIECvFpXbVycgQINmnOzjJSBABb0odzckIECz8VcFiyIgQM11R5beICBA48nYKjIfIEBSuyvChR0gQHkESMTpGyBAfvMeW00aIEAp175isRggQC5giP8UFyBA3r2HDXkVIEBb0DI8AhQgQH/VXm2LEiBA92LQMhQRIEDGyP5onQ8gQFVArqEmDiBAWIe2B7IMIECtUMpvPQsgQEhv9UjJCSBANSXztVQIIECGk80l4AYgQETCfgZcBSBArT5T6tcDIEBv97U+VAIgQDDRAijQACBA1n1OJ5j+H0BI7McnHfsfQHL4mC+i9x9ATDEtGyj0H0Af+KwxrfAfQPq/hE8y7R9AP1e2qE3qH0BMwGHjaecfQNj7tUaF5B9ACrSCi6HhH0Dk3/n4vN4fQGaiKbWq2x9ApJz4dpjYH0Bfhcoah9UfQMNu1+d00h9AqtWDumLPH0CGuBivbswfQGKaJal6yR9Aore/hYfGH0BK/rqKk8MfQKR9LpWfwB9AXjxJaGi9H0CTrvRAMbofQEM/lCD6th9AbPvGBcOzH0Cbxuvxi7AfQA==",
          "dtype": "f8"
         },
         "mode": "lines",
         "name": "100 samples Flight 1",
         "opacity": 0.5,
         "showlegend": false,
         "type": "scattermap"
        },
        {
         "lat": {
          "bdata": "pc/YLwh+R0CEElbJ8H1HQByyv1jZfUdAv1fL8MF9R0Bh8up+qn1HQI/90xWTfUdAXQoOkHp9R0CMD/n/YX1HQEqdv3hJfUdAEoo35zB9R0DmoIpeGH1HQFFQl33/fEdA5IqCkuZ8R0Au5wOwzXxHQMmBicO0fEdAvMHK35t8R0DPKYK+hnxHQCYNRJNxfEdAWoPtcFx8R0DodqFER3xHQFIAPSEyfEdACRs35xd8R0BUCmGs/XtHQG993nDje0dArOhnNMl7R0DGLyH3rntHQJjmNFeXe0dAbn8arX97R0B/FvULaHtHQG/toWBQe0dAWmtDvjh7R0CFFaGvH3tHQPIXzZYGe0dA2JKkhu16R0DXaUps1HpHQCy+m1q7ekdAGKNAmqN6R0CxeELZi3pHQEzRDyF0ekdAmI3LXlx6R0C0P+SbRHpHQDGFJOg0ekdA3EaxKiV6R0Dxxod2FXpHQJuGirgFekdA5ea2A/Z5R0CyyKoW2XlHQMeMeii8eUdAkktlOZ95R0DPaCxJgnlHQAkSDlhleUdAc0XP90l5R0Bf+LuWLnlHQGgt1DQTeUdALecX0vd4R0BKKIdu3HhHQA==",
          "dtype": "f8"
         },
         "line": {
          "color": "#1f77b4",
          "width": 1
         },
         "lon": {
          "bdata": "qWTHJiQtIECXNapenysgQD6Zv5gaKiBAf60wRJYoIECO85ODEScgQEfDEMaMJSBAKU+xTfAjIEDvnxJGVCIgQON8l9O3ICBAxZjd0RsfIEDc/0Zlfx0gQCfhHLjqGyBAaB5zDVYaIEBN6WPUwRggQJ6LmC8tFyBA0GApjpgVIEBkGW4SORQgQMzpcJjZEiBAME4JIXoRIECY02CrGhAgQLQGTTi7DiBAdvU+ugYNIEDtIIY/UgsgQO/v6FmdCSBAhzDb5egHIEAK4CJ1NAYgQKkUhNa5BCBAtwZSqD8DIEBJrugOxQEgQFR07OVKACBA5XBxo6D9H0Bz7oeNU/ofQCT1AX0G9x9A69dtc7nzH0DI1D9vbPAfQPGXAXIf7R9AMQR+6RrqH0B/vFFmFucfQEGvPOkR5B9APDO+cA3hH0DrRpf9CN4fQEdkk6wS3B9AdeAeXRzaH0DBUU40JdgfQAzbc+ku1h9Auc+goTjUH0APplbWZ9AfQA66p++XzB9AwVjPNMfIH0AOwpBe98QfQGjnKrQmwR9A9ksv4bS9H0DTQDoVQ7ofQCTnS1DRth9ABGBkkl+zH0CJzIPb7a8fQA==",
          "dtype": "f8"
         },
         "mode": "lines",
         "name": "100 samples Flight 1",
         "opacity": 0.5,
         "showlegend": false,
         "type": "scattermap"
        },
        {
         "lat": {
          "bdata": "Rv9OcAh+R0DAyda1731HQKlsDfHWfUdAoUkfNb59R0AQZuBupX1HQMRdfLGMfUdAJRcpr3J9R0BFWKC1WH1HQLy4t7E+fUdAmD6ZtiR9R0CMTxuxCn1HQPsbZG/yfEdAau37LNp8R0CxxeLpwXxHQMKmGKapfEdAgZKdYZF8R0Bm3LXPe3xHQKUqRT1mfEdAUm24oFB8R0Ck8jUNO3xHQFKAKnklfEdACCXUSwt8R0DY0qId8XtHQEMZBfjWe0dAKeEdyLx7R0DPuVuXontHQKU/BvCKe0dAk2wwSHN7R0AX+SWWW3tHQDRhCe1De0dApxcnQyx7R0CrN7HZFntHQJwuPmYBe0dAZ9TM++t6R0CNbzyH1npHQGMEjBvBekdA2lNFTqd6R0Db8TWAjXpHQJSqq7pzekdAZCAL61l6R0Cq66EaQHpHQKtYd8gpekdA592+dRN6R0B6Wpgi/XlHQArpw87meUdAGpRhetB5R0AL1vodu3lHQH74/MCleUdA14/WbJB5R0Dpd6oOe3lHQMVE569leUdAdGbhfE95R0BvzuE/OXlHQBDM4wsjeUdA7cDNzQx5R0AEKJuY9nhHQA==",
          "dtype": "f8"
         },
         "line": {
          "color": "#1f77b4",
          "width": 1
         },
         "lon": {
          "bdata": "o3KPeCgtIEDK87CkiisgQD9Dm0HtKSBAftiyc08oIEChtZMWsiYgQEKYoU4UJSBA/nFurmUjIEA0ca+jtiEgQGkQAgoIICBAMpbIBVkeIEDiOqFyqhwgQOIElfUXGyBA0pBge4UZIEDE6wME8xcgQMwif49gFiBA+kLSHc4UIEBPPssIbBMgQGuA/fUJEiBANL05U6gQIEBEzd5ERg8gQHE+vTjkDSBA9cnMiiQMIEBbyEXgZAogQHgvkDmlCCBAvK3bleUGIEC11pD1JQUgQK2wM5ijAyBARbxHzyACIED3Ith2ngAgQOdPgGY3/h9A0t4RwTL7H0AGuc9BYPgfQC9vSMaN9R9AN4edc7ryH0Cj2BsB6O8fQGRC4JMV7R9ASwc4f7zpH0CutP9wY+YfQISqXkYL4x9A4okERbLfH0B1sBpKWdwfQGFldKOI2R9AUqx8AbjWH0Dcjc+H5tMfQEPjNe8V0R9AGgFLW0XOH0B/oFSgXcsfQGrw/el1yB9Afx/8OI7FH0DXC+SLpsIfQN3pa+O+vx9ARj41UfW8H0CXqunCK7ofQMQ8j11htx9A6N9/2Je0H0AyAb1YzrEfQA==",
          "dtype": "f8"
         },
         "mode": "lines",
         "name": "100 samples Flight 1",
         "opacity": 0.5,
         "showlegend": false,
         "type": "scattermap"
        },
        {
         "lat": {
          "bdata": "GcSZigd+R0Dzm31c731HQFMiqS3XfUdATbZD/r59R0Bfbv7Npn1HQOnaAJ2OfUdAlBTHjHZ9R0APr997Xn1HQFUj3GBGfUdAwISZTi59R0CWTKk7Fn1HQM/HUlX9fEdAZ6X1ZOR8R0DBfCN9y3xHQM1VSouyfEdAs5H8oZl8R0DCX9+fgnxHQAQB/5xrfEdAIg2lmVR8R0BCS4iVPXxHQOib8ZAmfEdAuMlOZRF8R0C1o40v/HtHQHUY0wLne0dApZH6y9F7R0CyUiievHtHQFrqMPehe0dAh3BtT4d7R0BDnwCnbHtHQMDVpP1Re0dACgJ9Uzd7R0BoiYQpIntHQLsScwgNe0dA0VGN3fd6R0D4mmy74npHQH3LVY/NekdAkz2fAbR6R0DYrAdzmnpHQGYMQO2AekdA9kEpXWd6R0DkdnPMTXpHQCUx3kQ2ekdATFScvB56R0DLQF8qB3pHQCgLxKDveUdA4EN8Fth5R0DPZnX8v3lHQBQ0WNineUdAAtYgvY95R0Dn8rOXd3lHQCrlDXtfeUdAY51EEkl5R0BvA+ioMnlHQClkazUceUdASFboygV5R0Cs+tFf73hHQA==",
          "dtype": "f8"
         },
         "line": {
          "color": "#1f77b4",
          "width": 1
         },
         "lon": {
          "bdata": "qi4QoRctIEAzuerXfCsgQETJqRHiKSBARUwM4EYoIEBK85QfrCYgQK5KAmIRJSBAYYkZuIIjIEBH7vsQ9CEgQOlDOWxlICBAx6eyytYeIEDnV/crSB0gQGKD52+nGyBAQXgxSAYaIEDkqC2SZRggQGiuhXDEFiBA4R6OwCMVIEDHDmvnphMgQE/xEH8qEiBAiNkHq60QIEBuEcdHMQ8gQBge2Hi0DSBApn1/k04MIECq8ywe6QogQML1PT2DCSBAvHJVzB0IIEDcPNDvtwYgQBGC3MoHBSBABypDqVcDIEAFeMwcpwEgQAQA0QPu/x9A5zO+1I38H0BD/qdtzfkfQARKrwsN9x9AVTTa0Ev0H0DoaY13i/EfQKo+0iHL7h9A6T5gAIXrH0AZNZPBP+gfQK2gWK355B9A/08Ae7ThH0CdIHxybt4fQFulX6VT2x9A2Ki03TjYH0BxVlw+HdUfQOt5loEC0h9AKmlCyufOH0BBRZ4+2MsfQPv0wrfIyB9AgYO9WrjFH0A/l+TeqMIfQLQoQGmZvx9AVITIKru8H0AhvBrx3LkfQMnf45f/th9ANFjKZyG0H0BX53o8Q7EfQA==",
          "dtype": "f8"
         },
         "mode": "lines",
         "name": "100 samples Flight 1",
         "opacity": 0.5,
         "showlegend": false,
         "type": "scattermap"
        },
        {
         "lat": {
          "bdata": "nQ1SI/59R0CPPEdE531HQM+VpGTQfUdAdqLYjbl9R0BGVQaton1HQBI3nMuLfUdAtYajJHJ9R0Ai1FaGWH1HQNqpst0+fUdA3hvhPSV9R0C8gN6TC31HQOaM4Fn1fEdA59tcH998R0BKfOftyHxHQCErWLKyfEdA1yBDdpx8R0Dt5LnWgXxHQOoZZDZnfEdAnC8dlUx8R0C+gS7zMXxHQBNMc1AXfEdAL9zx3P57R0COJKpo5ntHQBtkderNe0dA10jpdLV7R0CHWN7+nHtHQDQr57CDe0dArCBJYmp7R0DK9nIJUXtHQEhmh7k3e0dAQP70aB57R0AWV30cBntHQFD3Z8/tekdAHnAji9V6R0CFpNI8vXpHQHYl5O2kekdAFZr3b4p6R0Ao3lfxb3pHQG1Et2hVekdA/vyw6Dp6R0B5i/dnIHpHQA5XaAgHekdAJ5MtqO15R0Cr07VQ1HlHQOv2I++6eUdAhZDmjKF5R0Dj1rlVi3lHQONIgyd1eUdACNyE7155R0ABXF3ASHlHQGflTocyeUdAkfCVMRl5R0BRUDrb/3hHQFByzXrmeEdAjYAsI814R0Dh6OjKs3hHQA==",
          "dtype": "f8"
         },
         "line": {
          "color": "#1f77b4",
          "width": 1
         },
         "lon": {
          "bdata": "1M7q2YAsIEAbqToJDCsgQPYyBjuXKSBAB3PAbyIoIEAe94KmrSYgQE1Jwd84JSBAJTLl4JIjIEB746Dl7CEgQEhdUVtHICBADg9ZZqEeIECJshd0+xwgQD4a15idGyBAQibavz8aIEDMNlF74RggQKqB26aDFyBA9Yip1CUWIEAGUBMkdRQgQB2713bEEiBA0SkyOxQRIEBdoauUYw8gQGvsf/GyDSBAIXJ0WTEMIEDJX2EysAogQALhap8uCSBA4bXUfa0HIEA8DMTwKwYgQDZJmzKlBCBAeWhTdx4DIEBUab4smAEgQH+ROHcRACBAFnkniRX9H0D36gjGHfofQOwcSggm9x9ALqewUC70H0CgirCdNvEfQClrEPA+7h9A7geXKhXrH0C2L1xr6+cfQIMbOdXA5B9AxJN9IpfhH0CF3gB2bd4fQNVYdB5V2x9Ajs7BzDzYH0Bs66OBJNUfQAmGpDsM0h9AJGF/+/POH0DNRFdEXMwfQIlJMJLEyR9AZ2Y9ByzHH0DzoqldlMQfQI3qqrf8wR9A3yWJQPm+H0A8fBfP9bsfQKRbpWLyuB9AGTWV/O61H0DvZjWc67IfQA==",
          "dtype": "f8"
         },
         "mode": "lines",
         "name": "100 samples Flight 1",
         "opacity": 0.5,
         "showlegend": false,
         "type": "scattermap"
        },
        {
         "lat": {
          "bdata": "MzFdnP99R0Dn49E65n1HQMCCq9jMfUdAzlssbLN9R0AqR4AImn1HQGNe6qOAfUdATegT8ml9R0CQfVo2U31HQPvvTYM8fUdArRVexiV9R0DgdhsSD31HQNqpWCz3fEdA6kXrRd98R0BsSmdox3xHQNqOpICvfEdA2kE3mJd8R0AK4z33fnxHQHRyjVVmfEdAS/1vvE18R0CroFEZNXxHQEo4fHUcfEdAruhRcwN8R0BVnm5w6ntHQMlEQGPRe0dAcDzrXrh7R0CQP91Zn3tHQNT1FOiJe0dAIcHCdXR7R0AzblX5XntHQCOS74VJe0dAEM//ETR7R0DTFGZPGntHQBo/nIIAe0dAJ7VdvuZ6R0Bs/xDwzHpHQJVTcSqzekdApV8y+pl6R0BXUDTJgHpHQMLkl5dnekdA4HIbZU56R0AP7N8xNXpHQE2Z8WAbekdAf2s5jwF6R0DpZLe853lHQPSHa+nNeUdA2NZVFbR5R0AwIzlCoXlHQIU/CHiOeUdA40UkpHt5R0DvZizZaHlHQLcqgQRWeUdAE9cC7zx5R0DBpKnYI3lHQMjUIMsKeUdAUfpOs/F4R0Brjt6a2HhHQA==",
          "dtype": "f8"
         },
         "line": {
          "color": "#1f77b4",
          "width": 1
         },
         "lon": {
          "bdata": "qyqZoJssIECOrruW9SogQMFwuyFPKSBAG8WoHaknIECAqOeuAiYgQA9ChrFcJCBAPMmOEOQiIEDhcWQDayEgQGVDaGfyHyBA/Qs7X3keIEDAUjrIAB0gQA1WDaF1GyBAiEOgfOoZIEBOVyPtXhggQOsSNs7TFiBAs90IskgVIEC4U3BarxMgQJA+xwUWEiBA6aezIn0QIEBysujT4w4gQCFbDYhKDSBANz7lE68LIECEDbyiEwogQNFkY6J4CCBAYGI4N90GIECWdQzPQQUgQG/P74neAyBAyfIKR3sCIECcQzB0GAEgQIZ3dmtq/x9ApzD88qP8H0BuZXpBWvkfQFM6gpUQ9h9AnbQMzcfyH0C1KLctfu8fQN/JdpU07B9AXE8VOvDoH0C7ptXkq+UfQBGLULlm4h9AH6lVcCLfH0Af8Xwt3tsfQJs6p6WC2B9AeutGJCfVH0CuI1ypy9EfQCkD5zRwzh9A1KnnxhTLH0AopoK5uMgfQKDGgoxdxh9Awcy6hQHEH0CtM1VfpsEfQPJtKl9Kvx9AFLFuhQu8H0AR2yCOzbgfQJFSNcGOtR9AyLoF1lCyH0CRx4oUEq8fQA==",
          "dtype": "f8"
         },
         "mode": "lines",
         "name": "100 samples Flight 1",
         "opacity": 0.5,
         "showlegend": false,
         "type": "scattermap"
        },
        {
         "lat": {
          "bdata": "EzFdlB5+R0AKiEYkAn5HQEU5FLPlfUdAFNwVQcl9R0D9UPzNrH1HQAZMFlqQfUdAyveBdXh9R0D9AwGHYH1HQAIJI6FIfUdA/hNYsTB9R0BLeTDKGH1HQO+tgrH/fEdA/JWOoeZ8R0CdppyHzXxHQI23Pna0fEdA2G29Wpt8R0B6wSA4gnxHQP/q6xRpfEdAgcRD+k98R0C8iJTVNnxHQKvZA7AdfEdANEtWqAV8R0D8QmmW7XtHQLuhYY3Ve0dApekaer17R0AJPblvpXtHQHPjuImOe0dAiZwio3d7R0DBafa7YHtHQLxMNNRJe0dA9Ubc6zJ7R0B/NO5nG3tHQBlm7dkDe0dAePu2VOx6R0DX123F1HpHQPAb7z69ekdAaTdrIKF6R0CsaGwKhXpHQHbF9OloekdAxEIj0kx6R0CUvfmvMHpHQIwxJD8eekdAG9k21wt6R0Ci3pRl+XlHQF1j2/zmeUdA5P1sitR5R0DQvjjRunlHQD5EryCheUdAZF7UZYd5R0DXgcOzbXlHQPJKgPdTeUdAT5qJozt5R0Dh9MZOI3lHQPQadfkKeUdA2K9Xo/J4R0AvtKpM2nhHQA==",
          "dtype": "f8"
         },
         "line": {
          "color": "#1f77b4",
          "width": 1
         },
         "lon": {
          "bdata": "HNWFX5YuIEBX8+TGvSwgQJbHb6DlKiBAuXyiDw0pIEDcLQDxNCcgQJjOBmhcJSBAtr34FdgjIEC0v+1XUyIgQEf0RwvPICBAxiSnUkofIECkzGkLxh0gQCqKKDQvHCBAIZdOYJgaIECRrcEgARkgQD7K2FJqFyBAK4B7h9MVIECTR7yzMxQgQCpbzHSTEiBAXYSOp/MQIECDfbVuUw8gQKAOI6ezDSBABxmoliUMIEC1Usf2lwogQMR03usJCSBANzaQUXwHIEBOojlM7gUgQJB2jeR7BCBAFGhZfwkDIEC9gJ0clwEgQGzKWbwkACBA/p0cvWT9H0CBJymIXfofQGSMvVdW9x9AUTdoLU/0H0AZDp0HSPEfQAc35udA7h9A0tP8eaTqH0AuW2UUCOcfQA9VBJJs4x9AfK6KO9DfH0C75+LrM9wfQFR6VQ/Q2R9Al6cwE23XH0AOTDM9CdUfQJTKm0em0h9Ax64ueELQH0Bsp37z88wfQBSZ23WlyR9AD7g32lfGH0AZlj1pCcMfQKne5P26vx9ADebmxJ28H0DbDuttgbkfQBFWNkBkth9AJWiC9EezH0AGUxfSKrAfQA==",
          "dtype": "f8"
         },
         "mode": "lines",
         "name": "100 samples Flight 1",
         "opacity": 0.5,
         "showlegend": false,
         "type": "scattermap"
        },
        {
         "lat": {
          "bdata": "bCQNUAt+R0B45ran8n1HQHKJp/7ZfUdA55ZNXsF9R0A0AsyzqH1HQItUkQiQfUdAuz/cV3Z9R0ApamWmXH1HQBLWLPRCfUdAroUyQSl9R0Aye3aND31HQF7Xuhn5fEdA4mZmpeJ8R0BJK3kwzHxHQB0m87q1fEdA3VjURJ98R0DDWMVAh3xHQMONLTxvfEdAqrxULVd8R0DFT2EnP3xHQAbMmyAnfEdAXc+ZnxF8R0DygcIU/HtHQOgcq5Lme0dAmxO+BtF7R0CHS5GDu3tHQMD3XI+he0dA2ztemod7R0BNS0mbbXtHQDGStaRTe0dA/HdXrTl7R0A9HDUjH3tHQPOsp6EEe0dAJcXzFep6R0A647KSz3pHQNvWKQW1ekdAxQrgvKB6R0BVuEB0jHpHQMpReDR4ekdAWofr6mN6R0CaacegT3pHQB8RDC85ekdASf6SvCJ6R0DAs5xJDHpHQFwN6dX1eUdAFte3Yd95R0CWe2zsw3lHQIZUj3+oeUdANd2BCI15R0B9DeOZcXlHQF+FEyFWeUdAym/0sz55R0ChBTZGJ3lHQJVO9tcPeUdARhL5aPh4R0Bnhlz54HhHQA==",
          "dtype": "f8"
         },
         "line": {
          "color": "#1f77b4",
          "width": 1
         },
         "lon": {
          "bdata": "NtQidEItIEBqMDLIpisgQGBSNh8LKiBA31+ieW8oIECGpo/W0yYgQDjdcTY4JSBA1VhiE5MjIECgXnnz7SEgQFv9ttZIICBAzUMbvaMeIEC1QKam/hwgQNrZl6qIGyBAG1z7sBIaIEAF0tC5nBggQCFGGMUmFyBA9sLR0rAVIEBwKHFFIhQgQAYjnkyTEiBAfQFmxAQRIEDGsifRdQ8gQLJ27k7nDSBAxZKcHoMMIEDqv+KBHgsgQGZ6B1a6CSBAWwDGvVUIIEB1fWGW8QYgQHH2xzFDBSBA5vFu0JQDIED2LLkD5gEgQFZd4qg3ACBANoCYohL9H0Cyda8RlvkfQNrwcYgZ9h9A1/nmKJzyH0BFr3GtH+8fQOktHTij6x9AbvxnoBDpH0BqoC0wfeYfQEmt/6Dq4x9AAECNOFfhH0DRRmawxN4fQKaFPUXN2x9ACAhwu9bYH0C6vjJa39UfQC58T9ro0h9AVQT+gvHPH0Bmm5q7ZcwfQEgGkNjayB9A9wmtH0/FH0CX8h5LxMEfQAH4vKA4vh9AZg+EDD27H0Bn1X99QbgfQPnOUxdFtR9ArPC5kkmyH0B5AlUTTq8fQA==",
          "dtype": "f8"
         },
         "mode": "lines",
         "name": "100 samples Flight 1",
         "opacity": 0.5,
         "showlegend": false,
         "type": "scattermap"
        },
        {
         "lat": {
          "bdata": "deO3Efx9R0BsFEWh5H1HQBkDVTDNfUdAURIHyLV9R0DZ/cxVnn1HQDPjxuKGfUdA75M62259R0BRJQLTVn1HQJ35Q8o+fUdADiKzwCZ9R0C0MHa2Dn1HQLnp1Xz2fEdAHgyuQt58R0BRnUT+xXxHQNTFwcKtfEdAG0tshpV8R0Ba8pfMfXxHQGyvGBJmfEdAEnukTU58R0BmOc+RNnxHQPoST9UefEdAsC+b+Qh8R0Dm0OUm83tHQPscCkrde0dAWZgsdsd7R0CFGSmYsXtHQN6fIleae0dAUqTsHoN7R0AxUIfca3tHQIVoFaNUe0dA5+eWXz17R0BWFKHDI3tHQPG1CScKe0dA06SMifB6R0CXp23r1npHQPRhaUy9ekdAZxONhaJ6R0BvaIq0h3pHQE5f/OtsekdAPJNHGVJ6R0Dw2QdPN3pHQJopxLkhekdABpbxIwx6R0AdY0GE9nlHQH7hUO3geUdAyIDRVct5R0BB+3WXsHlHQOp4ueGVeUdA3Na+IXt5R0CEPWNqYHlHQOKIyahFeUdAJ7js4y55R0AMweInGHlHQEN9zmEBeUdAsBaNpOp4R0ApZkHd03hHQA==",
          "dtype": "f8"
         },
         "line": {
          "color": "#1f77b4",
          "width": 1
         },
         "lon": {
          "bdata": "J8+aglAsIEAzpLMpzCogQPu8MWVHKSBAqRELEsMnIEDaGddSPiYgQHveigS6JCBAnwTUFC0jIEAXNuQnoCEgQHBhfM8SICBAiy8b6IUeIEBoLoED+RwgQN3xy9RqGyBACySoOtwZIEAQ/yMRThggQBkZoHy/FiBAGpooWTEVIEBchM3TpRMgQFXlLVEaEiBA/MSjYo4QIECXI3zlAg8gQFUeEGt3DSBAMjFGlwcMIEDOKwJYlwogQCib5ognCSBA3LJQTrcHIEBZp+ODRwYgQF9BLjDLBCBAmP5x304DIEBTKRr/0gEgQIBagrNWACBAcqMw1LT9H0CcgoHVZvofQItxtAAY9x9Aq1ujDsrzH0BpLnZGe/AfQF2cA2Et7R9AIUlDpLLpH0CSS0sRN+YfQH/Wb2K84h9AnSFh3UDfH0DhGGs8xtsfQMZDqhDz2B9AOW506R/WH0CZ56vpS9MfQEL3jct40B9AAkD7saXNH0DUYeElPsofQHe0RaHWxh9Anwy8Im/DH0C5cK6rB8AfQBqBtTqgvB9ArxrNUa25H0C/J5VuurYfQLHzrI/Hsx9ApEpzttSwH0Afn4vh4a0fQA==",
          "dtype": "f8"
         },
         "mode": "lines",
         "name": "100 samples Flight 1",
         "opacity": 0.5,
         "showlegend": false,
         "type": "scattermap"
        },
        {
         "lat": {
          "bdata": "WOXMlniDR0BdDU1pO4NHQF9Mrjv+gkdAl/IMDsGCR0DPeDDgg4JHQJQbNbJGgkdAH99cUQ+CR0ADXdr514FHQN970JiggUdAGlgcQWmBR0C/1+DfMYFHQKoFt/r4gEdAruaPFcCAR0BjGsMmh4BHQL+2Z0FOgEdAtxLVWxWAR0BHPJs2139HQBomJBGZf0dAcvAY9Vp/R0Czx2HPHH9HQIkcqKnefkdA9EOKM6h+R0B0kDa9cX5HQBjEeT07fkdAF4z1xgR+R0C98HZQzn1HQFKB07mPfUdA/QCALFF9R0DhUJ+VEn1HQAqUDgjUfEdAAavwcJV8R0BFWChHXHxHQCxSuBMjfEdAvIO66el7R0DO3xS2sHtHQKWb4Yt3e0dACGRmiTt7R0A42uyG/3pHQEHsyHrDekdA0GcVeId6R0BQ7iV1S3pHQPDeEPsXekdA1IV3d+R5R0DdPlb9sHlHQPiKkXl9eUdA4LUl/0l5R0BPqq7lAnlHQNeufdW7eEdALaC1u3R4R0C4pzOrLXhHQH+hGpHmd0dAXfvVPLJ3R0B8Y3vofXdHQPNGnIpJd0dA4s4VNhV3R0B1aHnh4HZHQA==",
          "dtype": "f8"
         },
         "line": {
          "color": "#ff0000",
          "width": 1
         },
         "lon": {
          "bdata": "rH9BBOGUH0Cy2cGfKZYfQK9cZjVylx9ANtOC6LmYH0D4EHJyApofQI7nhfZKmx9AeZ4RYXGcH0BsZoTHl50fQCA9kCi+nh9AAyiEheSfH0ADjBDdCqEfQHiz+rI5oh9AQgFEp2ejH0AwXXxylqQfQEQMwVzEpR9AewmbHvOmH0CiSBJeQagfQJLnDnSQqR9AwEgWqN6qH0CN7fOxLawfQM3FNNl7rR9AFfeNl56uH0DLatMtwq8fQNTpQ+LksB9AJ+1KbwiyH0AHpy4bK7MfQG6mtTVytB9AKib2Srm1H0Cze5FZALcfQB+C52JHuB9AY8mXZY65H0Bu6oFAwLofQBj5GPLyux9Ay9HSwiS9H0AVUjVqV74fQIlbvzCJvx9Adukeg8jAH0AwG37zBsIfQG9+AzpGwx9A+IxAn4TEH0B5iVTbw8UfQGEsm83Xxh9AMIUJu+vHH0DphKnI/sgfQPT0060Syh9AL5ySjybLH0BGVYFfn8wfQClbXCgYzh9AfkO06JDPH0C28PmhCdEfQKruu1KC0h9A8o3mu5fTH0DN+NcgrdQfQJ6L1YDC1R9Ah3JU3dfWH0DmaZo17dcfQA==",
          "dtype": "f8"
         },
         "mode": "lines",
         "name": "100 samples Flight 2",
         "opacity": 0.5,
         "showlegend": true,
         "type": "scattermap"
        },
        {
         "lat": {
          "bdata": "+k9hAG2DR0DfVBETM4NHQF2QpSX5gkdAFwQeOL+CR0CSsXpKhYJHQGWau1xLgkdAa7TM8RSCR0BZsjp93oFHQJrKGxKogUdAMKZZnXGBR0DcwQoyO4FHQEFSW4L4gEdAcAX8yLWAR0DVzgMZc4BHQH6UW18wgEdAcaAar+1/R0AgULLAs39HQL8IL9J5f0dA5F5z4z9/R0CDG7r0BX9HQLjl5QXMfkdA32XhfpN+R0BJHlABW35HQNyXGXoifkdAYHBW/Ol9R0Ad6e10sX1HQCIiEpNvfUdAWn4SsS19R0CtRGLF63xHQMXYGuOpfEdABZevAGh8R0Cf8f+PN3xHQCZOXB8HfEdAXmb2t9Z7R0CHDy5HpntHQFPGNNZ1e0dASWYWDTh7R0AOaNhD+npHQEOrmXq8ekdAboocsX56R0Ar0X/nQHpHQEZrqtkHekdAVRGcy855R0BVmQHHlXlHQIV5v7hceUdAE9CCqiN5R0DJ9IXm6nhHQBt8/xiyeEdAsSXsVHl4R0Bcry+HQHhHQMTGxsIHeEdAwAuGK8V3R0D6NLSKgndHQGhsLvM/d0dAdYwXUv12R0Cov0y6unZHQA==",
          "dtype": "f8"
         },
         "line": {
          "color": "#ff0000",
          "width": 1
         },
         "lon": {
          "bdata": "SNdkKQaVH0CLw+G+PZYfQOkdHE91lx9AEgYU2qyYH0C5m8lf5JkfQI3+POAbmx9AsANlMD2cH0BxhfRXX50fQAO67Z6Anh9Ax1NKvaKfH0DrHxX7w6AfQFmqFm4ooh9A9Y4dto2jH0AXCEMb8qQfQHL3aFVXph9AqB+zrLunH0DQ5EWi7qgfQCiqqpIhqh9AiQBxWlWrH0BQRnhAiKwfQAnqUSG7rR9Ay9u14+KuH0AU8GDFCbAfQL1PCn4xsR9Ar3v/VViyH0Dqu+4EgLMfQKTKbXDitB9ASUkg1US2H0C0WdIOqLcfQPap6WUKuR9AvPU0tmy6H0CEgNGoarsfQC5YZLtnvB9AgC+Lp2W9H0B7o/myYr4fQETTRpdgvx9Aq90sj63AH0As3hWB+sEfQAa7l5BGwx9AxxeJdpPEH0DI3X1W4MUfQHBsZNQMxx9AWj6wKTrIH0Cm2FCeZskfQHI7nemTyh9AO9qLU8DLH0C/bXB99MwfQELKhaEozh9A1DTk5FvPH0AaQsz+j9AfQBcOVhTE0R9AvLXK1h/TH0AvSsiRe9QfQGgUw0bX1R9AQzhG9DLXH0AB4MebjtgfQA==",
          "dtype": "f8"
         },
         "mode": "lines",
         "name": "100 samples Flight 2",
         "opacity": 0.5,
         "showlegend": false,
         "type": "scattermap"
        },
        {
         "lat": {
          "bdata": "ZG1/+JODR0CDuEQQUoNHQM/G5ScQg0dA/nDtSM6CR0AwIkZgjIJHQIydendKgkdAcVQ5mBeCR0B6RHSv5IFHQPcuJdCxgUdARb81536BR0Ddpp8HTIFHQECf/qgQgUdAPjpBStWAR0Av6/jhmYBHQD3QAoNegEdA7VzwIyOAR0Bj6CAu5X9HQB7XMTinf0dA8/zROGl/R0Dwy6NCK39HQAEEVkztfkdACepsj69+R0A/C9TbcX5HQJKGkB40fkdAQPG6avZ9R0AgfVituH1HQPUWftJ6fUdAIgCE9zx9R0D4qfsS/3xHQIY3wjfBfEdAPBppXIN8R0AHQzMwTnxHQOO8BAQZfEdASSYyzuN7R0CPltWhrntHQPVnQ3V5e0dAhc1CNEZ7R0AWsQ3zEntHQNP8cqjfekdAYDkSZ6x6R0B6k7oleXpHQDtMJ0UzekdA5+dsZO15R0CS1hx6p3lHQCZAFJlheUdA15Tktxt5R0B+GYUu4XhHQKpgeK6meEdAo0XhJGx4R0Co8JykMXhHQGk8zhr3d0dAVL0ArL53R0BJq6ozhndHQOEzicRNd0dAihX/SxV3R0B3kMnc3HZHQA==",
          "dtype": "f8"
         },
         "line": {
          "color": "#ff0000",
          "width": 1
         },
         "lon": {
          "bdata": "bcZe7z+UH0DKyoTRo5UfQNHi1KwHlx9AX+tHpWqYH0C9Uu9yzpkfQC9awTkymx9A3w03i0KcH0BlNvzXUp0fQDxCu0Rinh9AC3FuiXKfH0AOB8DKgqAfQMl8doe9oR9AX1C7PviiH0BwFuXvMqQfQHWdRpxtpR9AVec2Q6imH0CyHDTO9KcfQDfcMFNBqR9Ap8Tw9IyqH0AOmO5t2asfQItp7OAlrR9A8qeibWuuH0Br8yv1sK8fQLygtFL3sB9ArbmIzjyyH0DSy9RDgrMfQEy+wHHPtB9AZXOsmRy2H0Bd2ue6abcfQOUU09a2uB9Aq4W+7AO6H0A7YiKJILsfQCPfqEQ8vB9At3KM11i9H0AcJ0iKdL4fQFz8DxWRvx9A/76PI6XAH0B+Kl4KusEfQDd06w/Owh9AmxB47uLDH0D/LXvs9sQfQIyAoBFpxh9A3bk+L9vHH0Axpp9ETckfQPvQL1O/yh9AqIY5WjHMH0DzriKuac0fQNstcv2hzh9Arwm4RtrPH0APVWWLEtEfQMBlCMpK0h9A9tLt2HjTH0A7TyPiptQfQEU+a8PV1R9Aq9aywgPXH0BW77+9MdgfQA==",
          "dtype": "f8"
         },
         "mode": "lines",
         "name": "100 samples Flight 2",
         "opacity": 0.5,
         "showlegend": false,
         "type": "scattermap"
        },
        {
         "lat": {
          "bdata": "GPF1z36DR0A+fONNQINHQFYTFcwBg0dA+5+xU8OCR0DAh6PRhIJHQEgEkk9GgkdA307zrQuCR0BlFTgM0YFHQCTnznOWgUdAoqra0VuBR0AB78kvIYFHQObet+rogEdAC8b/m7CAR0A9nrhWeIBHQJdLywdAgEdA4hFPwgeAR0BgphAyz39HQFi6uKGWf0dAJOspEV5/R0Bx8J6AJX9HQId5+u/sfkdAWgtbYbB+R0Bw7p3Sc35HQLaUVDo3fkdAix9cq/p9R0AKAUYcvn1HQCMG2c+AfUdAXJxNg0N9R0DtNDUtBn1HQNbybODIfEdAeEeGk4t8R0Dk5w+fV3xHQDlnFKEjfEdA+WpSrO97R0CavCmuu3tHQBMTWbmHe0dAVq1j7FB7R0Bw1AUWGntHQNY430jjekdA0k9Qcqx6R0C0g/ikdXpHQJXp51Y4ekdAkGdK//p5R0CD8d2wvXlHQDS2A1mAeUdAsL15CkN5R0Db3QseEHlHQNN5aTHdeEdA53fRRKp4R0Av0wRYd3hHQG+zQmtEeEdAg3+6YAJ4R0DpdC5WwHdHQJVq8EF+d0dAh0wdNzx3R0C+nAYs+nZHQA==",
          "dtype": "f8"
         },
         "line": {
          "color": "#ff0000",
          "width": 1
         },
         "lon": {
          "bdata": "NXlxpKGUH0BxwRt57pUfQAJgZCQ8lx9ABxaS7YiYH0BLXbWM1pkfQGWSHEkjmx9AxwTiBl+cH0CSkkK/mp0fQBoN5nLWnh9A86F9IBKgH0DStLDITaEfQJvxwmF+oh9AptfI0a+jH0BzY9xg4KQfQIhe38YRph9ANq70S0KnH0BMiae+bKgfQEaUbyyXqR9AgFbdccKqH0DKRc7V7KsfQOy71DQXrR9AFY0fZVmuH0DetruPm68fQA5r+7PdsB9A0kE60x+yH0Cj3MrsYbMfQDyEgUGotB9AeAllkO61H0CLbMXYNLcfQFSrAhx7uB9AKTdtWcG5H0CT26yb2rofQDub+djzux9AQuIq7w29H0Cq4PIjJ74fQEE1LFVAvx9A6gW3NmbAH0BiuHA2i8EfQN6/nA6xwh9ALpr6BNbDH0AnQ8jT+8QfQCduYthBxh9ARad11ofHH0AeS8+rzsgfQJ1ePZ4Uyh9Aa/uQi1rLH0B5nHQlaswfQGG9rJd6zR9AVyWCKYrOH0Bf8aiTms8fQHd1cB2q0B9A9iLa9gvSH0DGkiXtbNMfQFEGPrjO1B9AeMT2oC/WH0CWCjNfkdcfQA==",
          "dtype": "f8"
         },
         "mode": "lines",
         "name": "100 samples Flight 2",
         "opacity": 0.5,
         "showlegend": false,
         "type": "scattermap"
        },
        {
         "lat": {
          "bdata": "40Z4hH2DR0DcHTMQR4NHQMbbZpIQg0dAht8MHtqCR0CLmQ+go4JHQMJXaCttgkdAA3eUTjWCR0AD6aVx/YFHQKw8C57FgUdAn1jnwI2BR0Chy6jjVYFHQKCRuxYVgUdAVuVaQNSAR0C7Hypzk4BHQCIVhpxSgEdAoswRzxGAR0DiXPjD139HQKRfw7idf0dAYTmQrWN/R0CLOCSiKX9HQO+unJbvfkdAnboEK7d+R0Cu7DS/fn5HQIQd11xGfkdAc8PS8A1+R0C//9GE1X1HQJ3lkaGWfUdArJgxvld9R0DQOs/aGH1HQGqiLvfZfEdAO91tE5t8R0CpAdynYXxHQBO4LzwofEdACwJp0O57R0AB4YdktXtHQIVWjPh7e0dAwULWT0Z7R0BYbwenEHtHQIuWbwfbekdAEzZvXqV6R0DNGVa1b3pHQENMZeUtekdAK1XjC+x5R0Dhlsw7qnlHQPSMBWJoeUdAe4WKkSZ5R0BskJf873hHQMMLbWe5eEdAY/dJ0oJ4R0AOM+88THhHQJgEnKcVeEdAqrULbuR3R0BUEkg0s3dHQNQvIvGBd0dAIm83t1B3R0CSJFl9H3dHQA==",
          "dtype": "f8"
         },
         "line": {
          "color": "#ff0000",
          "width": 1
         },
         "lon": {
          "bdata": "xN6Tc6iUH0DWpdpPzZUfQK6v1ibylh9A5GwkHRaYH0CZwdXqOpkfQCnzhrRfmh9AuyGwTpGbH0Da2N/jwpwfQG6XvXT0nR9AOiD7/yWfH0ADiD+GV6AfQHq3AjCvoR9AfV8D9gWjH0DRhc6SXaQfQGq72ku0pR9Aroeu2wunH0B0/6pEQqgfQA/wZ6h4qR9AjeBUKq6qH0B/AJWD5KsfQEb4ldcarR9AN0Uzg0muH0B7m2AGea8fQHS0t6insB9Aq/jtIdexH0CD/KO5BbMfQHxrcmxVtB9AKSEbGaW1H0C0kiDj87YfQJlUgINDuB9Au9W6HZO5H0Aw3xE7w7ofQAtsU1Pzux9AsZp/ZiO9H0B/iZZ0U74fQNZWmH2Dvx9ApBlCUKrAH0B7+VAe0cEfQB6E5MT4wh9A6Ja8iR/EH0BrE/pJRsUfQAbtelmixh9AoRybYf7HH0A112SHWckfQJHdMIK1yh9ASCgJdxHMH0C0Az+3M80fQAZlMs9Wzh9ApUcuBnnPH0DmYeQUnNAfQGG0pkK+0R9ABRoAksPSH0AbsOy5ydMfQLoMDgHP1B9AwaF5IdXVH0C3tNdh2tYfQA==",
          "dtype": "f8"
         },
         "mode": "lines",
         "name": "100 samples Flight 2",
         "opacity": 0.5,
         "showlegend": false,
         "type": "scattermap"
        },
        {
         "lat": {
          "bdata": "5ZxS6YyDR0Ahh1SGS4NHQJ0KNCMKg0dAxWtDyciCR0DbE95lh4JHQPlbVgJGgkdAh/ASQw2CR0CB0bSD1IFHQEbHsLqbgUdACjMd+2KBR0Cq7247KoFHQJgVVBzygEdA9fY7/bmAR0ChL37UgYBHQDXZMbVJgEdA60aulRGAR0An7INt2H9HQHNTrU6ff0dAJsNqJmZ/R0AmqF4HLX9HQLU1yd7zfkdARhmaOL9+R0D84FSSin5HQK63qOJVfkdAxVs3PCF+R0CF56+V7H1HQK/XITavfUdATd5W1nF9R0DRXRxtNH1HQExgEw33fEdAkJcJrbl8R0CM8QgDenxHQOby51g6fEdAwZEZpfp7R0CT07f6untHQPfCNVB7e0dAKh5WlkR7R0AtxNDSDXtHQOdUwBjXekdAmQ8KVaB6R0Ah28iaaXpHQPNcg1wxekdA46uSJ/l5R0Avc/rowHlHQP0p1rOIeUdAHI0pdVB5R0CGQLkZGHlHQBBCTr7feEdAMB47Wad4R0DZApz9bnhHQNozw6E2eEdACXvFsfl3R0C9kKrBvHdHQKkK4dp/d0dA5cKL6kJ3R0AFTxn6BXdHQA==",
          "dtype": "f8"
         },
         "line": {
          "color": "#ff0000",
          "width": 1
         },
         "lon": {
          "bdata": "dtRYSWyUH0DF2Rq4xpUfQFfgQiAhlx9AaysjX3yYH0A2GBa61pkfQEiNbw4xmx9AdBGClWKcH0DUTIcXlJ0fQNaYenDGnh9AvF1j6PefH0BDMz9bKaEfQINlbT5Yoh9AWDMMQIajH0AdDqsYtaQfQHCtZxDjpR9AYK/K3xGnH0BE/dgJRKgfQMXBeS92qR9ARRfGcqeqH0BceDiO2asfQMp/5qMLrR9A8579mCGuH0Dop9GJN68fQLoJLZlMsB9ACX58gWKxH0BBIolleLIfQEZjtFLBsx9A8FZ/Fgu1H0AEMTf3U7YfQNJ5Oq+dtx9AEb/ehOa4H0A5CffpNrofQB0h00iHux9ArZM1fdi8H0D9QZfPKL4fQA06vRt5vx9A/MTVRJ3AH0Bj6P9EwsEfQP10x2Tmwh9AgH6cWwvEH0DMdhNyL8UfQEFb0AJcxh9A9oVXj4jHH0DxCKDytcgfQMvkT3XiyR9AnFle8g7LH0C+nnH9PcwfQNWxMSdszR9AERSeJ5vOH0BF9nJHyc8fQDoCqT740B9AfQmWDTjSH0ADhdfWd9MfQBD3J5u31B9ArzUTWffVH0B0VFMRN9cfQA==",
          "dtype": "f8"
         },
         "mode": "lines",
         "name": "100 samples Flight 2",
         "opacity": 0.5,
         "showlegend": false,
         "type": "scattermap"
        },
        {
         "lat": {
          "bdata": "FZN67WCDR0A9gUi6K4NHQIQGbZD2gkdAAAsLXcGCR0Beqf8yjIJHQBrJbf9WgkdAX0LwEhuCR0AtiTgm34FHQHa4fzmjgUdAB5KMTGeBR0BOfphfK4FHQBfpylTxgEdAzHPhSbeAR0ClkW01fYBHQMxgTCpDgEdAnlQPHwmAR0ALiWh3yH9HQFlLoM+Hf0dAqTGZJ0d/R0CiAY5/Bn9HQPxlYdfFfkdA71oiFJF+R0CCsq5QXH5HQFLLQY0nfkdACyegyfJ9R0CBaAUGvn1HQG4ORCaJfUdASBdsRlR9R0CZ981vH31HQBS5yI/qfEdA+OCsr7V8R0D8T0T6d3xHQG/O2kQ6fEdAXKQzj/x7R0BntYvZvntHQOX5pSOBe0dARN01PkR7R0CT26dYB3tHQI+rS3zKekdA1tGBlo16R0B8GJqwUHpHQGEnhyohekdAbeewrfF5R0DtangnwnlHQKOCfKqSeUdAMn4eJGN5R0B0LZbTKHlHQDfEYIzueEdAnpSBO7R4R0C4xhT0eXhHQN++HaM/eEdAzqURIgd4R0D/SMygzndHQI3R+yiWd0dAiGGDp113R0DtaREmJXdHQA==",
          "dtype": "f8"
         },
         "line": {
          "color": "#ff0000",
          "width": 1
         },
         "lon": {
          "bdata": "O3DZ7TmVH0AQo+JqW5YfQJH8E+R8lx9AAbQjWJ6YH0DEjFzIv5kfQOUrczPhmh9A5ahS5CKcH0D/RzlsZZ0fQLQY2xGnnh9Ao3SAjumfH0AqJeUoK6EfQPmmkGRjoh9AsIz0mpujH0BBMWfL06QfQOjRO/cLph9AADbJHUSnH0BeNa7vmagfQPU5I7vvqR9Akhy4XEarH0CemEsbnKwfQAKcb9PxrR9A8fMY7gyvH0ARwfDgKLAfQNkt5fJDsR9AodkE3V+yH0DFukTmerMfQA/9GjCUtB9A7ZCcda21H0BZdveTx7YfQJyiztDgtx9A6GdRCfq4H0AmmOZnRbofQFAxEeSPux9A1GfANtu8H0BZTAmnJb4fQJMh0+1wvx9Aes0xfrTAH0ABK9QI+MEfQNlh2Wo8wx9AIgoC6n/EH0AA0W5jw8UfQFGnttTDxh9AvROMH8XHH0AcwbqJxcgfQC7LdM3GyR9AkZWKMMfKH0CvLLey/ssfQNRHUjA2zR9AsGxGhG7OH0BuyU73pc8fQLETVmTd0B9AMbuoBgjSH0DyrWSAM9MfQHYynhle1B9AJMKDiYnVH0CKfzAYtNYfQA==",
          "dtype": "f8"
         },
         "mode": "lines",
         "name": "100 samples Flight 2",
         "opacity": 0.5,
         "showlegend": false,
         "type": "scattermap"
        },
        {
         "lat": {
          "bdata": "D1LGaGCDR0BjA5CyKINHQJBXI/zwgkdALri4RbmCR0ASmhePgYJHQK2veNhJgkdApIQjsw6CR0CBQrKN04FHQMkksHGYgUdAXMwGTF2BR0DIYUEmIoFHQKEDyHDogEdAsGYWu66AR0DN2ff7dIBHQEZ6D0Y7gEdAc+EokAGAR0CVmfjlw39HQAjQVzKGf0dAKgvph0h/R0Dl7wnUCn9HQK61XCnNfkdAY8lnwJB+R0C9oOZNVH5HQF8p1OQXfkdA178Xctt9R0AVP6wIn31HQGYDRsxlfUdAGNnijyx9R0BHE9hJ83xHQGkXPw26fEdAx+5s0IB8R0ASJqdbRnxHQAAsNPALfEdApGdVe9F7R0BiAKsPl3tHQPhJdppce0dAXcoN7SB7R0CFUac/5XpHQHbfc5upekdAzwvU7W16R0ASivg/MnpHQC6ZTUb1eUdAIKgRVrh5R0D3Pilce3lHQBIBsGs+eUdA+iaKcQF5R0Cjg8InzHhHQBMY5N2WeEdAUxt9nWF4R0AcNHFTLHhHQFCITgn3d0dAw4ylprl3R0DwsN1DfHdHQMf29uA+d0dAEGDxfQF3R0C37swaxHZHQA==",
          "dtype": "f8"
         },
         "line": {
          "color": "#ff0000",
          "width": 1
         },
         "lon": {
          "bdata": "hnsFET+VH0AqSYdQbZYfQIO5zmeclx9ALFB+ncqYH0CuKvCq+ZkfQAv8zdYnmx9ALomf9WCcH0BGowsPmp0fQLJPF0fSnh9AFzy7VQugH0AqGfpeRKEfQOjAfy15oh9AipNv066jH0DWg+eW46QfQBaEbzIZph9A+WIt7E2nH0C3zTzAmKgfQM/DHbHiqR9AmWxMeS2rH0DyAFBed6wfQBSAnhrCrR9AzxSfSgSvH0Be1UZ0RrAfQKgHa7yHsR9ADam92smyH0DJyxP0C7QfQIAhMJ4/tR9AdHutZnK2H0CrLtoFprcfQEy0G8TYuB9AoWy5WQy6H0CRkaYhRLsfQDRX9+R7vB9Agy3VxbK9H0D9x4x+6r4fQF8FRDEiwB9AmPuCzl/BH0DZ89GJnMIfQEyivhzawx9A3lQLzRbFH0BKpD1UVMYfQPh2Iu6cxx9ATt6GpuTIH0CAncQ0LcofQDYKh+F0yx9AREkeZL3MH0DAp2D7180fQM1DQY7yzh9ASRoiQQzQH0DJkkHLJtEfQKaR/1BB0h9ALQ/ViIrTH0DmXcm609QfQEej3OYc1h9AvAQPDWbXH0C7p2Atr9gfQA==",
          "dtype": "f8"
         },
         "mode": "lines",
         "name": "100 samples Flight 2",
         "opacity": 0.5,
         "showlegend": false,
         "type": "scattermap"
        },
        {
         "lat": {
          "bdata": "/zJrjW2DR0BPMBCeNoNHQNMPnK7/gkdABvuDtciCR0AGkd3FkYJHQEcNHtZagkdAj148YyGCR0AJziLw54FHQBwAeYaugUdA3aAoE3WBR0D0ntmfO4FHQIRKUy4AgUdAfJiwvMSAR0Acjw5LiYBHQO85M9lNgEdAOow7ZxKAR0CZhb5W0n9HQOVjIEaSf0dAIiDtPlJ/R0BV4wwuEn9HQMyRCx3SfkdA51iue6N+R0CJW9DQdH5HQNq5Ti9GfkdAKFVMhBd+R0AGTqbi6H1HQHxHptqpfUdA4Edp0mp9R0A61pnTK31HQHm3HsvsfEdAtcGiwq18R0BAQD9PcHxHQC8CntsyfEdAVcT7Z/V7R0C8pRv0t3tHQAizOoB6e0dAXPjEEkR7R0DDZsmbDXtHQBMjJS7XekdAwgr7tqB6R0AxQyhJanpHQNcYt9wvekdAf8a3efV5R0BH/g4Nu3lHQA432KmAeUdAadf3PEZ5R0DCkZyCD3lHQH0bmNHYeEdAv08NF6J4R0A6Vtlla3hHQJgJH6s0eEdAmutvu/R3R0Ci1Z7LtHdHQM3Jq9t0d0dAS8qW6zR3R0A22V/79HZHQA==",
          "dtype": "f8"
         },
         "line": {
          "color": "#ff0000",
          "width": 1
         },
         "lon": {
          "bdata": "xLnMpQmVH0DlVwPrMZYfQIyzeytalx9A6AM9Q4OYH0Cn/zZ6q5kfQD8Kc6zTmh9Ad9x1mwicH0AGJ/JhPp0fQOoGQ0dznh9ASMZiA6mfH0BtfrPd3aAfQJ4ejpcYoh9AK3H1S1OjH0CmiU8ejaQfQHaQ0sfHpR9A2q7iawKnH0CC22OQVqgfQCobjK6qqR9A+Hd36v2qH0Df4vD7UawfQL7fEQemrR9AS7Wsj6KuH0AREywUn68fQD656pWbsB9AqVmNE5ixH0DiEnCOlLIfQAQwa1zdsx9AurLdACe1H0CD7nTDb7YfQApi0Fu5tx9ADgylEQK5H0DkZ550TbofQKJNIK6Zux9A0FA8BeW8H0DsNN0yMb4fQMN2HH58vx9AtaRLyZnAH0Bm6kEPt8EfQHSRZlHUwh9A571RjvHDH0CbRGzHDsUfQFCwOTxHxh9A4u8I0H7HH0Cwjjg6t8gfQMPbbsPuyR9AdS4BIyfLH0AyJNOqR8wfQG+cxC5ozR9A32hmrYjOH0Dosygoqc8fQKe/mp3J0B9A3njyAyPSH0DHWt1jfNMfQPWPW73V1B9AAENtEC/WH0BynhJdiNcfQA==",
          "dtype": "f8"
         },
         "mode": "lines",
         "name": "100 samples Flight 2",
         "opacity": 0.5,
         "showlegend": false,
         "type": "scattermap"
        },
        {
         "lat": {
          "bdata": "G1Avz3ODR0DdMbMQO4NHQHKhHFICg0dAycrgicmCR0AQSBXLkIJHQJ9XLwxYgkdAcIHBBBqCR0A+JDT924FHQJ9dNeydgUdACgxp5F+BR0A7OX3cIYFHQDr+AePqgEdAZClR6bOAR0Bpk6TvfIBHQO1CwvVFgEdAUlfk+w6AR0Cb8xRR0n9HQGYbs6+Vf0dA3ySnBFl/R0Df5AhjHH9HQMFiwLfffkdAboJr26Z+R0DlAv3+bX5HQEOU6Bg1fkdAfMhGPPx9R0DdYYtfw31HQLDwS9CFfUdA+/jsQEh9R0A9W1CxCn1HQCRIsiHNfEdAOLT0kY98R0AVb7c1XHxHQLx69s8ofEdA7XStc/V7R0C6V8INwntHQAKxMLGOe0dAuVTFRlJ7R0CiTFvcFXtHQGcqtXHZekdAhYYQB516R0BzpS+cYHpHQAoU2PMqekdA/KBJS/V5R0BpCzGsv3lHQGXhcgOKeUdAjCe8WlR5R0BF6bZEF3lHQFZ54jfaeEdASpOgIZ14R0A9WI8UYHhHQLvREP4ieEdA48DYAel3R0CC6aQFr3dHQMyrNQl1d0dAGtDKDDt3R0DRayQQAXdHQA==",
          "dtype": "f8"
         },
         "line": {
          "color": "#ff0000",
          "width": 1
         },
         "lon": {
          "bdata": "kMfa3MyUH0BrFITF/JUfQDDLJqkslx9A2znKY12YH0CX3109jZkfQElI6xG9mh9AHsTd9QicH0BbmtDTVJ0fQI5bec6fnh9AVuduoOufH0CnQWVsN6EfQNfzyuhcoh9AQsUYPYOjH0CTLxawqKQfQABk+PrOpR9AH/KNZPSmH0CNlJ8gOqgfQG3QCPt+qR9AH9KZq8SqH0DBf4d6CawfQLhxmB9PrR9AezDNT3quH0CNlQ17pa8fQPWqMn3RsB9ASXiInvyxH0AEROq6J7MfQP4VJBN0tB9AcNJoZcC1H0D63TWODbcfQEjmjtRZuB9ASEvzFKa5H0Bno4PptbofQGe0UbnFux9A5VdMqdS8H0DfHPpw5L0fQPutSTX0vh9AgAM0OzXAH0Du7QtfdcEfQNXCrVm2wh9AvlZBcvbDH0DMOJthN8UfQCpC7xVYxh9AYe8konnHH0BYHClOmsgfQMzjVdG7yR9Ac6Sec9zKH0CIMWBhIswfQJglaSZpzR9ApPiSCK/OH0DTcAHC9c8fQO8clJg70R9AtBbABHPSH0Bl81mPqdMfQNjsBfHg1B9AuMIjcRfWH0AkOlDITtcfQA==",
          "dtype": "f8"
         },
         "mode": "lines",
         "name": "100 samples Flight 2",
         "opacity": 0.5,
         "showlegend": false,
         "type": "scattermap"
        },
        {
         "lat": {
          "bdata": "I54AaISDR0BwcqHRSINHQKI00zENg0dAl6Y6m9GCR0B/LzP7lYJHQNxFYWRagkdA/8LMQiaCR0DPBSEh8oFHQHf6rwi+gUdAFbvV5omBR0DeROTEVYFHQMzHscASgUdA72xbvM+AR0BhqHKujIBHQP6Y1KlJgEdA/rISpQaAR0A/JFp60H9HQIdF91iaf0dA0l4qLmR/R0BD2JUMLn9HQJPneeH3fkdAT8G3R75+R0A4Z2ykhH5HQB25kgpLfkdAWC0SZxF+R0DmkeXM131HQLSTGVmdfUdA5tK+7mJ9R0BQMbx6KH1HQL71KhDufEdAG7fxm7N8R0C1l7Gpe3xHQJgUV7dDfEdA9p1zuwt8R0CeV+TI03tHQNyxOtabe0dAiJySwF97R0DpSVq0I3tHQBQmd57nekdAbu8Dkqt6R0AYxOV7b3pHQNwZrTkuekdAJ1dx9+x5R0Bms4Wrq3lHQLG3BWlqeUdAcEhEJil5R0AQGfw69HhHQIU4Tka/eEdAqdHYWop4R0Ca3f1lVXhHQAdEW3ogeEdA821unON3R0A7nkO+pndHQHyEGuBpd0dAj02zAS13R0Bb900j8HZHQA==",
          "dtype": "f8"
         },
         "line": {
          "color": "#ff0000",
          "width": 1
         },
         "lon": {
          "bdata": "/xHipKqUH0DAFWtL55UfQPCQIA8jlx9Afsqrql+YH0AFvGZjm5kfQNqz9PPXmh9AhxBjHvWbH0CngHxEEp0fQHaTjEMwnh9AmCX7YE2fH0BuERV6aqAfQCl9jFPMoR9AKEobJi6jH0BM+xfxj6QfQM6g1bXxpR9AWTirc1OnH0CzwkqfeqgfQC1/7cahqR9AL3KsDMiqH0CE8wEr76sfQLavA0QWrR9ACYUIcEeuH0AgUkGWeK8fQBcqgduosB9AXc1999mxH0DoGgoPC7MfQA6BRmBAtB9AkJFu0HS1H0A40CUXqrYfQImSzXzetx9ApykAuRO5H0ClEi70Q7ofQOplZyp0ux9Aljj6WqS8H0AnTUqH1L0fQDUipq4Evx9AMbbFl0bAH0CVFoqfh8EfQIZ1aX3Jwh9AV6PyeQrEH0CaWZJMTMUfQF642K2mxh9A01cnLADIH0BLNJF/WskfQObUvfCzyh9A+Ue4Nw7MH0AWPsr8J80fQCVsc+BAzh9A5j3ZnFrPH0D+G9l3c9AfQMAokyuN0R9ApJyKI9LSH0ARrRHyF9QfQFHVhN5c1R9AF/mDoaLWH0BEZ3OC59cfQA==",
          "dtype": "f8"
         },
         "mode": "lines",
         "name": "100 samples Flight 2",
         "opacity": 0.5,
         "showlegend": false,
         "type": "scattermap"
        },
        {
         "lat": {
          "bdata": "fQM7moSDR0CsLtUfSYNHQF9hbqUNg0dArNM8NNKCR0Co6pu5loJHQIWRwT5bgkdAvzUZFiSCR0ArmeL27IFHQCSQB861gUdAIW2ern6BR0BavJCFR4FHQPR1Yh4LgUdAwrSLrc6AR0C6XyNGkoBHQM5sEtVVgEdANhBwbRmAR0ANkXX73H9HQBHNC4Cgf0dAMVrVDWR/R0C6zC+SJ39HQE9tvR/rfkdAiMLUVLN+R0Aw7ECTe35HQHbMJMhDfkdAR4RdBgx+R0A69Q071H1HQNXh/paafUdAzFth/GB9R0AURhxYJ31HQBLmSL3tfEdAO9TNGLR8R0AEBS4WiHxHQM9hDwpcfEdAn6IwBzB8R0AEbfH6A3xHQL+HEPjXe0dApB/iW5B7R0CRefnISHtHQHmpWiwBe0dAmVYgmbl6R0D3qk78cXpHQPQ9+cA1ekdA1gaHhfl5R0ABmmZTvXlHQBfUuheBeUdAVEny20R5R0B9ocaNBnlHQFsQXD/IeEdAOIXx8Il4R0C87EeiS3hHQBmGnlMNeEdA/6tLftJ3R0BfJL2ol3dHQI0OxMlcd0dAvrz98yF3R0CFmTse53ZHQA==",
          "dtype": "f8"
         },
         "line": {
          "color": "#ff0000",
          "width": 1
         },
         "lon": {
          "bdata": "GGSMhJKUH0DGPU3D0ZUfQK2g1h8Qlx9ALqwtVE+YH0CJXayljZkfQCG6T87Mmh9ADflGsfabH0DaIXazH50fQIlW3IxJnh9AdQh/hXKfH0CDoFRVnKAfQMMVonHaoR9AOJVJZBmjH0BwomJ1V6QfQJs+0VyWpR9A/HC2YtSmH0BtvWdqGKgfQOWfJo9bqR9A1Ylwi5+qH0AoVsuk4qsfQPJsrpUmrR9ADQzetlKuH0AYsNrTfq8fQJnsSeuqsB9AvTaH/taxH0CngTYMA7MfQFraY7M2tB9Ab8aWeWm1H0CEqXIWnbYfQKDoWNLPtx9AudHjZAO5H0Al7F8v8rkfQJpRG/bguh9Ax8fultC7H0D4X4lXv7wfQDaWxhWuvR9A+OPr/ye/H0As3ePiocAfQPnhtJkcwh9AV0rrbJbDH0D8t403EMUfQKL/XbRNxh9AvXydK4vHH0CRjgKeyMgfQCBNIQoGyh9AwamvcEPLH0BUPKdLj8wfQImy9PzbzR9AQuDhyyfPH0DWPSFxdNAfQKCiBDTA0R9A27G4afjSH0BhBmV2MdQfQHaErKBp1R9AgfCioqLWH0D2K/PC2tcfQA==",
          "dtype": "f8"
         },
         "mode": "lines",
         "name": "100 samples Flight 2",
         "opacity": 0.5,
         "showlegend": false,
         "type": "scattermap"
        },
        {
         "lat": {
          "bdata": "vVHe/mKDR0ACT+HfLINHQO+J6MD2gkdApSwqq8CCR0CwpQGMioJHQHjZpGxUgkdAJ6slfxqCR0B0uPma4IFHQDXoQ62mgUdACFfhyGyBR0Ap6/TaMoFHQDZMQUn8gEdAswp1t8WAR0CJteEuj4BHQGch5JxYgEdAsu7NCiKAR0A4UUu96H9HQLp7Imavf0dAYgxrGHZ/R0AlQw3BPH9HQPgHIXMDf0dA6sh0YcR+R0AQdKhPhX5HQEjfDEdGfkdA6lAANQd+R0DLstMiyH1HQKyWnZyLfUdA6DhJFk99R0CY60mGEn1HQDP8uP/VfEdAi9AJeZl8R0AwQZ0yYHxHQAD4M+wmfEdAHKEinO17R0CuSYNVtHtHQNVTqg57e0dAwUbez0V7R0BffGqaEHtHQEjScVvbekdAiG3RJaZ6R0A/K6zmcHpHQNpsOpkxekdAmzIWVfJ5R0DCWWIHs3lHQHAJ/MJzeUdAUR4GdTR5R0BwNejbBHlHQGbfRUzVeEdASw4Ds6V4R0CX8DsjdnhHQMQ61IlGeEdACQzEKAd4R0ARHOLQx3dHQCfWkG+Id0dAsKptF0l3R0C/Vdu1CXdHQA==",
          "dtype": "f8"
         },
         "line": {
          "color": "#ff0000",
          "width": 1
         },
         "lon": {
          "bdata": "z8UrljCVH0Ckj0cDUpYfQLCiJI9ylx9AkYfG85OYH0C0Roh2tJkfQAQKZtHVmh9AQAujtwqcH0CmalCZP50fQK1sIHV0nh9ANOJhTKmfH0C2YsUd3qAfQJrf3KIDoh9A8MZJIymjH0CJCFB8T6QfQOS3ZvN0pR9AGiHTZZqmH0CpFDL5yacfQEGqZ2P6qB9ANRai7CmqH0Bp3K5MWqsfQNo5xcuJrB9AFdGdvNitH0Bwb0+nJ68fQClzD2l3sB9ALQVyR8axH0B8F64fFbMfQGQLa6datB9A9UxrKaC1H0DvdXyB5rYfQGJbAfgruB9AtvrJaHG5H0CjFHPXpbofQDCkgWTZux9AQkcxyA29H0AhDvxKQb4fQGWhFqV1vx9Am3W//4zAH0AYocdWpMEfQNUWyKi7wh9AaNUo99LDH0CwTIFA6sQfQMUljME+xh9A1dQGPZPHH0DDVoax58gfQPTsdiA8yh9Ae7xriJDLH0BIO6wqj8wfQK0mw+2MzR9AotL3iIvOH0BezQZFic8fQBnsL9mH0B9Ak1fzjNnRH0BOUogXLNMfQIzx1b591B9AR0nyPNDVH0BGwMrXIdcfQA==",
          "dtype": "f8"
         },
         "mode": "lines",
         "name": "100 samples Flight 2",
         "opacity": 0.5,
         "showlegend": false,
         "type": "scattermap"
        },
        {
         "lat": {
          "bdata": "HTste4mDR0BpaR6/TINHQHV0gvkPg0dAGXc2PdOCR0DVWV13loJHQB441LpZgkdAOy3JzR2CR0CznxTX4YFHQLLEzOmlgUdA+ELb8mmBR0DbnlYFLoFHQNnizyLxgEdARjVIQLSAR0A3LRdUd4BHQEfsU3E6gEdAErxVjv1/R0CosNoEyH9HQA7kR3uSf0dAxkwp+1x/R0D+EmdxJ39HQLkbjefxfkdAM8euk7J+R0Ae5M0/c35HQEC2HfUzfkdAhJb8oPR9R0DVd51MtX1HQFD9gjyAfUdABI1QLEt9R0AlBugbFn1HQJSchQvhfEdA5kAL+6t8R0Bh4tEecXxHQNYHfUI2fEdAAzbuZft7R0CnVWKJwHtHQCP+uqyFe0dAlLKr/Ut7R0A1np9OEntHQPPXx6jYekdAft+E+Z56R0ADgQdKZXpHQICc+hAkekdABr17zuJ5R0C8yymVoXlHQH8NZlJgeUdAYBjPGB95R0ClgIhv6nhHQM+yvLy1eEdAZdZIE4F4R0D8xU9gTHhHQJKprrYXeEdAbVhb6d53R0BLKH8SpndHQNw1F0Vtd0dAtIUGbjR3R0C2Ikqg+3ZHQA==",
          "dtype": "f8"
         },
         "line": {
          "color": "#ff0000",
          "width": 1
         },
         "lon": {
          "bdata": "wXYH0HOUH0CTvaS7upUfQFuz06ABlx9AovvdgEiYH0DiWHlaj5kfQNw08S7Wmh9AOY9NLxycH0D5n/YFY50fQBo47vqonh9Afw0uxu+fH0AlccGvNaEfQJ0To+x4oh9AS38tR7ujH0Di2+93/qQfQKmaCMdAph9ABXr/7IOnH0BQNJc+pKgfQLLpr4vEqR9AvDFl+OOqH0DVRYI8BKwfQACgIHwkrR9AIZKBQnSuH0AsUCgmw68fQAbG1uASsR9A9dwhuGGyH0DK5MJlsbMfQOQEcEjTtB9A34CiJvW1H0CzDdjcF7cfQAfWE7I5uB9ALUTVglu5H0AxKqqNkbofQLvrLpPHux9AKCzYb/68H0COIbtqNL4fQDFUTmBqvx9Ay+RtQ6HAH0D8FOhE18EfQAglTR4Owx9AL/RcFUTEH0AT65/jesUfQGi3cf3Wxh9Aj6GOMzLIH0DNBitAjskfQPQkFmnpyh9AI9Z9aEXMH0DmScAxX80fQBIc+fV4zh9A02yYtpLPH0AWiC1yrNAfQEoUKirG0R9Ar8r47PXSH0DqMwiqJdQfQIZbfYZU1R9AvHODOYTWH0CWWD/os9cfQA==",
          "dtype": "f8"
         },
         "mode": "lines",
         "name": "100 samples Flight 2",
         "opacity": 0.5,
         "showlegend": false,
         "type": "scattermap"
        },
        {
         "lat": {
          "bdata": "VGKuOoWDR0A8zzdjR4NHQBbHhYsJg0dAchdiqsuCR0BvW3HSjYJHQEqwffpPgkdAVc/u8w+CR0CGZFrtz4FHQHjCGN2PgUdA0FFA1k+BR0BKEinPD4FHQFUCQljcgEdAmPC516iAR0BF36dgdYBHQBat9N9BgEdAyZ63aA6AR0C24cpXz39HQMTHTz2Qf0dACNlALFF/R0D8PIYREn9HQDdoGgDTfkdAPXGsOJV+R0BEeZJnV35HQID+5J8ZfkdAJV6Lztt9R0A/Z54Gnn1HQLkLFnNpfUdAQgB43zR9R0BXsBRVAH1HQBY4S8HLfEdAZBNsLZd8R0C2wrEEW3xHQNHtS9IefEdAvoJUqeJ7R0BMb7F2pntHQPPwfE1qe0dA5xGdjS17R0CdV4DN8HpHQF3A9QO0ekdAVLycQ3d6R0ARmESDOnpHQA/4QRUDekdAJcNFp8t5R0ClG6MvlHlHQPiXdcFceUdAvRMQUyV5R0Cko86C4nhHQOC+SbKfeEdAQ3DA4Vx4R0AQh/MQGnhHQINjIkDXd0dA6J3PGaV3R0AdfWjzcndHQPcCzcxAd0dAxh49pg53R0Bx4ph/3HZHQA==",
          "dtype": "f8"
         },
         "line": {
          "color": "#ff0000",
          "width": 1
         },
         "lon": {
          "bdata": "j9O/spGUH0B9Rl/925UfQAyFuR4nlx9A09zJXHGYH0AfVTZyvJkfQIyoAqUGmx9AnE4hL2CcH0A9HynWuJ0fQBq6vVISnx9Ai0Pn7GqgH0BgkUFdxKEfQB/rbETWoh9A8JVuA+mjH0CZYWHi+qQfQKKaJpkNph9AUjDhbx+nH0ALm1PBbKgfQEAL+wu6qR9AqiWedAarH0AxtwezU6wfQF0q/uugrR9AQlSGNu6uH0CzmulWPLAfQHA9cZWJsR9AU2fPqdeyH0DrHFfcJLQfQACaiCE4tR9ABkKDYku2H0CaSHR8X7cfQP45ALVyuB9ApJtV6YW5H0BzE/UTzbofQOFxnRQVvB9AwNbEM1y9H0AEp/AopL4fQAuIoDzrvx9AjqoSqi/BH0A+EzTudMIfQKWYdk+5wx9AFc8YiP7EH0CFz5TeQsYfQJA/4nNpxx9AVpwMKI/IH0BLPCSztckfQGi50l3byh9A9a0h4AHMH0Bk4tqdZM0fQA1cBzHIzh9AeW7z4CrQH0AO2k5mjtEfQCWKbgjx0h9A+DQ/R/zTH0A/rSmCB9UfQKiae5UT1h9AIE6YyB7XH0D5C8/3KdgfQA==",
          "dtype": "f8"
         },
         "mode": "lines",
         "name": "100 samples Flight 2",
         "opacity": 0.5,
         "showlegend": false,
         "type": "scattermap"
        },
        {
         "lat": {
          "bdata": "ITqetJuDR0ArMjN3WYNHQNVoozkXg0dAOCdBBdWCR0DbzGfHkoJHQD24aYlQgkdAIR4PKxWCR0DMRSnD2YFHQK5LlWSegUdAYhZ2/GKBR0D6wqidJ4FHQMF0mr/ygEdAT7l14b2AR0BIBun5iIBHQJSElxtUgEdAP5kvPR+AR0Ch1N465X9HQOdbIC+rf0dAlcyWLHF/R0AAsp8gN39HQGpe3R39fkdAd8dwr7p+R0CCCHI3eH5HQCVDvsg1fkdAHlp4UPN9R0Czb33hsH1HQIFZ6lh4fUdAQPk80D99R0C6vwY+B31HQI7PJLXOfEdAspkoLJZ8R0AAFn9pXnxHQDrCu6YmfEdAK7Iu7e57R0CIsDcqt3tHQAzjJmd/e0dAEqZrY0Z7R0D483dfDXtHQJFKiVvUekdA4wpiV5t6R0D++j9TYnpHQA/4sCYdekdAVT0b+td5R0AGkUDNknlHQPVdX6BNeUdAyxI5cwh5R0DVxWRF03hHQHS3Cg6eeEdARg8I4Gh4R0DUp3+oM3hHQESpTnr+d0dAmV2Q+sJ3R0BWhbV6h3dHQM8b3vpLd0dAc0LKehB3R0CR4Zn61HZHQA==",
          "dtype": "f8"
         },
         "line": {
          "color": "#ff0000",
          "width": 1
         },
         "lon": {
          "bdata": "t8CBoPqTH0C+EAUUYZUfQAXsnIDHlh9AYeKbwy6YH0DNvFsilZkfQFmxMHr7mh9A3dpkCDicH0A88HeQdJ0fQJ4QuBOxnh9A0YTWkO2fH0CFIyMJKqEfQEUHp+FBoh9AJ4LbtVmjH0Cb/XyocKQfQOVAFHSIpR9AfWJcO6CmH0BkpgTS26cfQF6fGYYWqR9ASioZElKqH0DUjIi7jKsfQBLf3zzIrB9Ai2HDBimuH0BGFSbJia8fQHSnYoXqsB9AmtQdOkuyH0BNM7Toq7MfQMmX6VLbtB9AG1cguAq2H0DOZ6gXOrcfQJ3L4XJpuB9ARuIcyZi5H0CzwX+TxbofQFOUAFnyux9AjMTF9h+9H0Avb4GyTL4fQMVhW2l5vx9AG9QQJ6XAH0AioDm80cEfQIlZ+m/9wh9AlPwq+ynEH0BIc/ekVcUfQAnqoM7Bxh9A7qCSFC3IH0DK0pQvmckfQGEh5GYEyx9AXOE/c3DMH0Ar6Zuijc0fQBbt1cyqzh9Aky5e88fPH0Bm18MU5dAfQAO0eDIC0h9AU/p2pz7TH0DA3foWe9QfQKGQtqS21R9Acv1HCfPWH0DkbF9oL9gfQA==",
          "dtype": "f8"
         },
         "mode": "lines",
         "name": "100 samples Flight 2",
         "opacity": 0.5,
         "showlegend": false,
         "type": "scattermap"
        },
        {
         "lat": {
          "bdata": "S4923ZWDR0AzX1A/V4NHQBf4CaEYg0dALs80+dmCR0DQ/61am4JHQF3/BrxcgkdAbHtLYhqCR0Aj2IgI2IFHQDf/ha6VgUdAFDZ8VFOBR0CSETL6EIFHQAt7DZ7fgEdAP7/UQa6AR0Ck2GrlfIBHQD7FCYlLgEdAho+ULBqAR0CbrsJi4X9HQEG4uJiof0dABKNCxW9/R0BV5QL7Nn9HQL6/xTD+fkdAmFymi7d+R0CzoczvcH5HQKerPUoqfkdAIxQSruN9R0DIDU8InX1HQLBqpfVtfUdALPDp4j59R0AHMMzGD31HQCQY7bPgfEdAWiv8oLF8R0CGka+be3xHQNi6m59FfEdAXTkgmg98R0BNW92d2XtHQCv3Mpije0dAo3IdFGN7R0AZOniGIntHQOCfAQLiekdAZRQadKF6R0AX/3/vYHpHQB26koEpekdAqB0eCvJ5R0AAUP+bunlHQGgtWSSDeUdAntwItkt5R0AdTjL+DnlHQBu9zjzSeEdAVOHahJV4R0A+ijrDWHhHQIFc6goceEdAGL49RuV3R0AbaAeLrndHQMmRKsZ3d0dAwCnECkF3R0DUILdFCndHQA==",
          "dtype": "f8"
         },
         "line": {
          "color": "#ff0000",
          "width": 1
         },
         "lon": {
          "bdata": "0p7XBiGUH0DbYvJxcJUfQF8q7ta/lh9AZ8clNQ+YH0AMmeONXpkfQNTlguCtmh9A1czxBA+cH0DSC+hFb50fQEalsVzQnh9A6zsHkDCgH0BfRCyZkaEfQDgZRgiboh9AAcqOc6SjH0BiEqC3rqQfQK0eRRu4pR9ArUEZe8GmH0CUeOGs86cfQALeK7YmqR9AVGol3ViqH0Dm/Ejci6sfQEFKy/m9rB9AFL8YTziuH0CmDUudsq8fQHpejr8tsR9A1zov/qeyH0A4BFo0IrQfQKu/lwgctR9Ahtdo2RW2H0A43J/JDrcfQIwMmZMIuB9AoMslWgK5H0CdhnmjILofQGQHdcU/ux9AdCnGBV68H0DPkLwefb0fQDN/C1abvh9ARwIS3u+/H0D7tP9eRMEfQK4Ep7aZwh9ANmXHKu7DH0DQLzeZQsUfQHZ/OzJpxh9APVjJxY/HH0BHD0xVtsgfQC+6V9/cyR9AMUZZZQPLH0BjM+A1SswfQJ7+6P+QzR9AKJyK6NbOH0Di+QenHdAfQErcd2Bk0R9ATP5MY4fSH0BS6ueFqdMfQFkVeX/M1B9AVo3UmO7VH0DNKiKJEdcfQA==",
          "dtype": "f8"
         },
         "mode": "lines",
         "name": "100 samples Flight 2",
         "opacity": 0.5,
         "showlegend": false,
         "type": "scattermap"
        },
        {
         "lat": {
          "bdata": "rIMgOniDR0DuUaEbQYNHQJsACf0Jg0dAbbzM1NKCR0ALHgK2m4JHQCRkHpdkgkdAHzkPxyiCR0ArmeL27IFHQHH4KR2xgUdAoXPCTHWBR0AWfz18OYFHQGJFMkoCgUdADWQOGMuAR0DKakDvk4BHQGo+67xcgEdAeG59iiWAR0BM0zbj439HQNMiWUWif0dA+rnMnWB/R0Csaqn/Hn9HQEM911fdfkdABNOiBap+R0Dm21izdn5HQMUXF2FDfkdAqBqiDhB+R0Dtkxe83H1HQEF592ecfUdAzDYGHVx9R0DAq6LIG31HQDHUbX3bfEdAUeHGKJt8R0AJcUvzZXxHQJSYmr0wfEdAG6xfkft7R0CNpoBbxntHQEogqSWRe0dAW278ZVR7R0CyCeKcF3tHQAqk+dzaekdA3bWjE556R0Cwo39TYXpHQMw8PI4tekdAll7jyPl5R0AiCnUDxnlHQJlA8T2SeUdADgNYeF55R0DdkcBZIHlHQPYvCjvieEdAgHKjJaR4R0ADNa8GZnhHQJMMnOcneEdABpjKz+t3R0CzD9u3r3dHQEx1zZ9zd0dAnsqhhzd3R0BzEVhv+3ZHQA==",
          "dtype": "f8"
         },
         "line": {
          "color": "#ff0000",
          "width": 1
         },
         "lon": {
          "bdata": "FEdlD9SUH0BAnUhS/JUfQLSmaZAklx9A6wDQpU2YH0DxlGradZkfQCMuQwqemh9AYWeo4d6bH0DaIXazH50fQLv4BH9gnh9Anq6jRaGfH0AZTqsG4qAfQOXYzYAHoh9ANUQ49iyjH0AMQ5RnUqQfQIYmj9N3pR9A2DvSOp2mH0CNSem++qcfQC7uaWBXqR9Aansl17SqH0CMJ1BrEawfQM7qsNRurR9ARzJKboGuH0D8xMgDlK8fQDRppbilsB9AOHvwRbixH0AnGiHPyrIfQJysuSgitB9AbC0TWXq1H0A1W82l0bYfQMGXRckpuB9A8wwiCYG5H0DHbVzKnLofQNq8p2O5ux9Ai//HHNW8H0C2PkSt8b0fQFH25lwNvx9AQ8K18VDAH0C9yqqjk8EfQD6QCS3Xwh9AnuOR0xnEH0AhM4FRXcUfQFqX9oZvxh9AEkhKuIHHH0CFW3zlk8gfQPPnjA6myR9AnAN8M7jKH0DDHHF/AcwfQPNZcsVKzR9AuR84BpTOH0BLilJA3c8fQDeMeXQm0R9AvL7sfGvSH0AXI7F/sNMfQLLcxnz11B9A6Q4udDrWH0Ah3eZlf9cfQA==",
          "dtype": "f8"
         },
         "mode": "lines",
         "name": "100 samples Flight 2",
         "opacity": 0.5,
         "showlegend": false,
         "type": "scattermap"
        },
        {
         "lat": {
          "bdata": "bDkjrXWDR0DIUdEoO4NHQMt1Y6QAg0dARhprFsaCR0BVWsWRi4JHQOeqAw1RgkdA4WhUjRuCR0D9pxcX5oFHQDo3N5ewgUdAsW3JIHuBR0A007egRYFHQGgaFuILgUdAc9/kLNKAR0BLPQ1umIBHQE1BprhegEdA+buY+SSAR0BSGlFb5H9HQMrc57yjf0dAKWl6HmN/R0D7Ds5/In9HQF4fAOHhfkdARmnv4KR+R0CZI1LXZ35HQJFvBdcqfkdAUy8sze19R0CnhKPMsH1HQDe8dLCBfUdAsv0zlFJ9R0B92k+BI31HQG0y62T0fEdAv5Z0SMV8R0Cr0mDDhXxHQNcHvTRGfEdA7OJHrwZ8R0DyHWEgx3tHQNd6x5qHe0dAs9nyL0x7R0CsBALFEHtHQG/99FnVekdArsXL7pl6R0ALX4aDXnpHQNPVS5YdekdAaDrvqNx5R0DOOSGym3lHQEiVgMRaeUdAIuW91hl5R0CPyNxk53hHQJA5Vfy0eEdAy3oqioJ4R0Cz03ghUHhHQMSWQ68deEdAqHxHat53R0CyJbwbn3dHQE6xntZfd0dAZiLShyB3R0CWhFNC4XZHQA==",
          "dtype": "f8"
         },
         "line": {
          "color": "#ff0000",
          "width": 1
         },
         "lon": {
          "bdata": "/SYOIeWUH0CyB52JHZYfQDcF2OxVlx9A7b0ZSo6YH0D16ayixpkfQDGU7PX+mh9AG3gYpiScH0C6MrJ1SZ0fQGFGuBxvnh9Az6Ew45OfH0CaShGBuaAfQIkVdZjsoR9A+he7zh6jH0BJK8zbUaQfQFtBxAeEpR9AIRmDCremH0Be0F68DagfQMo9x2dkqR9A2PgrMLqqH0CrabDOEKwfQNgSwmZnrR9A5L/JRquuH0Az2GIg768fQMtO6PQysR9AHZn+wnayH0BtawKMurMfQCPjfz21tB9AdfqM66+1H0BNt9mWqrYfQFWXBj6ltx9AfknD4Z+4H0DmzSdS9rkfQHSNhbtMux9AtTu0+6O8H0Cyn2RY+r0fQMRTcq9Qvx9ATkOs44rAH0DT/HYSxcEfQO6h0jv/wh9AO1S/XznEH0BMNT1+c8UfQHkeRgjNxh9AyoHHiybIH0CEGaorf8kfQD+UHqLYyh9ARg0MEjLMH0DbQguyQc0fQJfoxU5Rzh9Aag4kw2HPH0ARAOVXcdAfQOPz8OeA0R9A/HnmddPSH0Baa+b8JdQfQP9AFqJ31R9ADoWgHMrWH0ACfKqRHNgfQA==",
          "dtype": "f8"
         },
         "mode": "lines",
         "name": "100 samples Flight 2",
         "opacity": 0.5,
         "showlegend": false,
         "type": "scattermap"
        },
        {
         "lat": {
          "bdata": "mhJtTpaDR0DdZJFEXINHQD4HCEQig0dA0CIQOuiCR0CJZE45roJHQPXhAS90gkdAHEjrQzaCR0BgmZhY+IFHQHFtsXa6gUdAG3sfi3yBR0DZqYqfPoFHQJETeHX7gEdAOnRBS7iAR0CZXFUqdYBHQIWy1v8xgEdAmQY01e5/R0BzFKiWu39HQMJjmE6If0dAV3n/D1V/R0DZfMXHIX9HQDnj5IjufkdAOCOu7rR+R0CTK1xUe35HQCcsnrBBfkdAQ9wVFgh+R0BlWXJ7zn1HQPIfJ0KRfUdAvbufCFR9R0C8LxjPFn1HQIpVVJXZfEdAVn6QW5x8R0DscmvvYnxHQF7SmYwpfEdAmPhcIPB7R0DpIlW9tntHQC2aw1B9e0dANo2zoz97R0B1koP2AXtHQMYZxT/EekdA+khVkoZ6R0AjkMXkSHpHQBjlX/ISekdAjDYDAN15R0AKtAIEp3lHQHXkeRFxeUdAo7S7Hjt5R0AqOb6E/XhHQOMpEfS/eEdAAPf2WYJ4R0BCsw3JRHhHQLi6ly4HeEdAm3lGz9R3R0CIWeBvondHQIvH9gZwd0dAhOxmpz13R0CbNcJHC3dHQA==",
          "dtype": "f8"
         },
         "line": {
          "color": "#ff0000",
          "width": 1
         },
         "lon": {
          "bdata": "JbntxyKUH0D2Al31XJUfQHGzIB6Xlh9AHBNCZNCXH0CqcGiCCpkfQJ+BmZpEmh9ALKjygpCbH0CCrvRB3ZwfQLJr+R4pnh9AKVf80XWfH0Dgz16iwaAfQE9gxVMkoh9A5TY7/oajH0CHUGqi6aQfQC/A/z5Mph9Aqwel1K6nH0ChCsvvvqgfQIHJNQbPqR9A4dmrPN6qH0DT2/dK7qsfQEU34FX+rB9AK/vZ8zKuH0AGWaaMZ68fQL1SEEObsB9AVbGD0c+xH0DeBspaBLMfQI24ePlItB9AsX/dbo61H0C/UvcB07YfQOeTw2sYuB9A6xtJ81y5H0AIzXlfkbofQHk+NMfFux9AdV+hTPm8H0AMUw+qLb4fQEmEowFivx9AI1DatLDAH0AJ0w5i/8EfQOXcjAhOwx9AKM28qZzEH0C65+pE68UfQGulcZwBxx9AOpE2ExfIH0DjP0thLckfQFfFV89Cyh9AcCVnFVnLH0AT/XQanswfQFdWZxrjzR9Au9t2NyfPH0Ae88UrbNAfQHaKiRmx0R9ASQh8yb/SH0BY9HZ1ztMfQE74vxzd1B9ASqHLwOvVH0Cw9t9g+tYfQA==",
          "dtype": "f8"
         },
         "mode": "lines",
         "name": "100 samples Flight 2",
         "opacity": 0.5,
         "showlegend": false,
         "type": "scattermap"
        },
        {
         "lat": {
          "bdata": "IGUH8KmDR0AbxdMCn4NHQIsRuAOSg0dAQH8omIODR0CfZyVFdoNHQLf+69dpg0dAZHbHKFmDR0Cca4sJS4NHQJHZCPI4g0dA+GKUgCaDR0DM9wgqFYNHQPKU5qcCg0dANFvc1O6CR0Drt73i24JHQKdN9/jEgkdAKJhyPK6CR0AT6PtcmoJHQPTSGkiCgkdA3ZfH4GiCR0BnzwexUoJHQCCH3i07gkdAtzw/yyCCR0BoZitwCYJHQN+rO8rxgUdACDautNiBR0D8vvxAwoFHQJ5tjAKqgUdAh3w9xY+BR0BavR8weIFHQLmS9FhfgUdATdUd0EeBR0C1VaDLLoFHQHxF86EVgUdAOxU9/PyAR0BWJ/5z5IBHQMDyjybKgEdAbjy3n7GAR0DLt+XAl4BHQE+VBUl/gEdApnxjy2iAR0Aqo1+sTYBHQGfXXqM0gEdAHMrNyRyAR0BInA1hAoBHQHdYsvTof0dA7YTxYdJ/R0Bl2sQrun9HQGpBExuif0dAIwlrRYd/R0A9jzJ/bn9HQL36z2ZUf0dAM+1c9T1/R0DEPGsyJX9HQBVka0YLf0dAafAQwPV+R0DiM1D53H5HQN567AnFfkdAfiPwhKt+R0BM5D9+k35HQEcp7dJ7fkdA",
          "dtype": "f8"
         },
         "line": {
          "color": "black",
          "width": 1.5
         },
         "lon": {
          "bdata": "Bc0ngUeWIEDIRCFOr5QgQISMrvjakiBAOP69o+eQIEDkhyt1M48gQG/Zp02ijSBAMgZCJLmLIED23FQJQoogQLqFLE5QiCBAHqwh4HuGIEAqSh7W3YQgQFXiuxs2gyBAdui01GqBIEB7n1Te138gQCHU+YT2fSBA9XF0bix8IEC4rYmwqHogQIg8qI/VeCBAAAAALBB3IEDe3d3dbXUgQNxtmi3UcyBAwdDL3f5xIEA4GoUeZHAgQPorbCTHbiBAeT15OSFtIECHx+R3lWsgQH2blMLmaSBA/65rOBxoIECxwEqohmYgQNUTJOHYZCBAEeSKyDljIEBjgPvSh2EgQERUAzfkXyBAHsPYYUxeIECIDWYWrFwgQNEelWD0WiBABQkFWlhZIEBzi4OHnlcgQPIsnoUHViBA2QeoQZhUIEA2BCpc3VIgQPn7er47USBA0YbDgatPIEAA3a8l+00gQArU3rRWTCBABwOvstZKIECJkeZNTUkgQMvAEoi5RyBAMEnP3gVGIEA8iS/IYEQgQNm42YW1QiBA8MdGnEJBIEAiNBLAoT8gQCsJNaj1PSBAkV7vU448IEA7nE0M4zogQFLswYheOSBAHHT5T743IEBS/27xKzYgQFql34ajNCBA",
          "dtype": "f8"
         },
         "mode": "lines",
         "name": "Flight 1 History",
         "type": "scattermap"
        },
        {
         "lat": {
          "bdata": "1ZpRcfSRR0AfLnlaupFHQJA5FuWBkUdALZ8M3UiRR0BkbRppD5FHQG3hZrLTkEdA+oZOLJqQR0BP5dxsYJBHQHlABkomkEdAvRaWuuuPR0DpULsXso9HQHDUoJB3j0dAaRj3+z6PR0CVKaL+Ao9HQGQ5YP/JjkdAK4KGU4+OR0CARLIhVY5HQAPgvl8bjkdAqYAcu+CNR0BphEmOqI1HQNNc4ittjUdA0T+9cDONR0Bjmz4R+oxHQCMV31m/jEdAyjbq54OMR0A5M+UWSoxHQFnSBKQQjEdAZ/3MnteLR0CINrHxnItHQI1iK35ji0dAkG3b8SeLR0ANkw+n7opHQCLuyt+1ikdAmufK9XuKR0B8QFHYQIpHQHlKCEEHikdAnQW3RM2JR0AHVZLxkYlHQBieNtpXiUdAI9Dr8B2JR0AUUEcc5YhHQMSsIe6qiEdAfSh+5HCIR0D6Z9aiNohHQIE49AD9h0dAOWDb9sGHR0BOVSjGh4dHQHJqgvtOh0dAeTlDdxSHR0DEx2vx2YZHQMf6QQyghkdA/gNvQWaGR0AfFm+PLIZHQGyVzMTyhUdA9Zx8j7eFR0AMd8LAfYVHQCsvg9REhUdAOcpZbAmFR0DzXm0qz4RHQI77XbaVhEdA",
          "dtype": "f8"
         },
         "line": {
          "color": "black",
          "width": 1.5
         },
         "lon": {
          "bdata": "OdH07FBHH0DUEjrKikgfQIbpie+7SR9AuuHUnuxKH0CHjXwRIEwfQAt4MyNWTR9AMW8mYIVOH0Cvxi2fxU8fQJYb9o/2UB9AZDPgby1SH0CrxRPaYVMfQF9/9kaUVB9ANRmg2cZVH0CAJtcaC1cfQFLJB7c5WB9A7MRO7HRZH0Dseb8do1ofQJKeY3LbWx9A/Lgw3hpdH0AZjTVVSl4fQHX3gx+EXx9APXYeqLZgH0AnFeG97mEfQLmM6EkuYx9AuBGQeGdkH0CScvw/mmUfQGLVn3PVZh9Ak0H07wBoH0DYHZyZOGkfQN/xwOJlah9AzgmECa9rH0BOb8g14mwfQK3iEkQQbh9A+BH1jEVvH0CDR1kziHAfQMrK5TW9cR9AazID/etyH0Ca7CZGJHQfQGdlubFddR9AzQhJKpV2H0A9RiYmxHcfQOmRgAD3eB9AiP2qLDd6H0CTy2v+bHsfQFCc0xWlfB9Alu0YjN99H0BCRRcSF38fQGdI9tBCgB9AusV3tHeBH0BSnksgs4IfQIrWPSDrgx9A1GYTaSKFH0DB4njMWYYfQAaBoVWFhx9AVGopMruIH0AM4icJ8okfQLaf73Exix9AIPvC9meMH0BVuLRbpo0fQGBddRvajh9A",
          "dtype": "f8"
         },
         "mode": "lines",
         "name": "Flight 2 History",
         "type": "scattermap"
        }
       ],
       "layout": {
        "legend": {
         "orientation": "h",
         "x": 0.5,
         "xanchor": "center",
         "y": -0.05,
         "yanchor": "bottom"
        },
        "map": {
         "center": {
          "lat": 47.064213052104705,
          "lon": 8.056579465175135
         },
         "style": "carto-positron",
         "zoom": 10.5
        },
        "margin": {
         "b": 10,
         "l": 10,
         "r": 10,
         "t": 0
        },
        "template": {
         "data": {
          "bar": [
           {
            "error_x": {
             "color": "#2a3f5f"
            },
            "error_y": {
             "color": "#2a3f5f"
            },
            "marker": {
             "line": {
              "color": "#E5ECF6",
              "width": 0.5
             },
             "pattern": {
              "fillmode": "overlay",
              "size": 10,
              "solidity": 0.2
             }
            },
            "type": "bar"
           }
          ],
          "barpolar": [
           {
            "marker": {
             "line": {
              "color": "#E5ECF6",
              "width": 0.5
             },
             "pattern": {
              "fillmode": "overlay",
              "size": 10,
              "solidity": 0.2
             }
            },
            "type": "barpolar"
           }
          ],
          "carpet": [
           {
            "aaxis": {
             "endlinecolor": "#2a3f5f",
             "gridcolor": "white",
             "linecolor": "white",
             "minorgridcolor": "white",
             "startlinecolor": "#2a3f5f"
            },
            "baxis": {
             "endlinecolor": "#2a3f5f",
             "gridcolor": "white",
             "linecolor": "white",
             "minorgridcolor": "white",
             "startlinecolor": "#2a3f5f"
            },
            "type": "carpet"
           }
          ],
          "choropleth": [
           {
            "colorbar": {
             "outlinewidth": 0,
             "ticks": ""
            },
            "type": "choropleth"
           }
          ],
          "contour": [
           {
            "colorbar": {
             "outlinewidth": 0,
             "ticks": ""
            },
            "colorscale": [
             [
              0,
              "#0d0887"
             ],
             [
              0.1111111111111111,
              "#46039f"
             ],
             [
              0.2222222222222222,
              "#7201a8"
             ],
             [
              0.3333333333333333,
              "#9c179e"
             ],
             [
              0.4444444444444444,
              "#bd3786"
             ],
             [
              0.5555555555555556,
              "#d8576b"
             ],
             [
              0.6666666666666666,
              "#ed7953"
             ],
             [
              0.7777777777777778,
              "#fb9f3a"
             ],
             [
              0.8888888888888888,
              "#fdca26"
             ],
             [
              1,
              "#f0f921"
             ]
            ],
            "type": "contour"
           }
          ],
          "contourcarpet": [
           {
            "colorbar": {
             "outlinewidth": 0,
             "ticks": ""
            },
            "type": "contourcarpet"
           }
          ],
          "heatmap": [
           {
            "colorbar": {
             "outlinewidth": 0,
             "ticks": ""
            },
            "colorscale": [
             [
              0,
              "#0d0887"
             ],
             [
              0.1111111111111111,
              "#46039f"
             ],
             [
              0.2222222222222222,
              "#7201a8"
             ],
             [
              0.3333333333333333,
              "#9c179e"
             ],
             [
              0.4444444444444444,
              "#bd3786"
             ],
             [
              0.5555555555555556,
              "#d8576b"
             ],
             [
              0.6666666666666666,
              "#ed7953"
             ],
             [
              0.7777777777777778,
              "#fb9f3a"
             ],
             [
              0.8888888888888888,
              "#fdca26"
             ],
             [
              1,
              "#f0f921"
             ]
            ],
            "type": "heatmap"
           }
          ],
          "histogram": [
           {
            "marker": {
             "pattern": {
              "fillmode": "overlay",
              "size": 10,
              "solidity": 0.2
             }
            },
            "type": "histogram"
           }
          ],
          "histogram2d": [
           {
            "colorbar": {
             "outlinewidth": 0,
             "ticks": ""
            },
            "colorscale": [
             [
              0,
              "#0d0887"
             ],
             [
              0.1111111111111111,
              "#46039f"
             ],
             [
              0.2222222222222222,
              "#7201a8"
             ],
             [
              0.3333333333333333,
              "#9c179e"
             ],
             [
              0.4444444444444444,
              "#bd3786"
             ],
             [
              0.5555555555555556,
              "#d8576b"
             ],
             [
              0.6666666666666666,
              "#ed7953"
             ],
             [
              0.7777777777777778,
              "#fb9f3a"
             ],
             [
              0.8888888888888888,
              "#fdca26"
             ],
             [
              1,
              "#f0f921"
             ]
            ],
            "type": "histogram2d"
           }
          ],
          "histogram2dcontour": [
           {
            "colorbar": {
             "outlinewidth": 0,
             "ticks": ""
            },
            "colorscale": [
             [
              0,
              "#0d0887"
             ],
             [
              0.1111111111111111,
              "#46039f"
             ],
             [
              0.2222222222222222,
              "#7201a8"
             ],
             [
              0.3333333333333333,
              "#9c179e"
             ],
             [
              0.4444444444444444,
              "#bd3786"
             ],
             [
              0.5555555555555556,
              "#d8576b"
             ],
             [
              0.6666666666666666,
              "#ed7953"
             ],
             [
              0.7777777777777778,
              "#fb9f3a"
             ],
             [
              0.8888888888888888,
              "#fdca26"
             ],
             [
              1,
              "#f0f921"
             ]
            ],
            "type": "histogram2dcontour"
           }
          ],
          "mesh3d": [
           {
            "colorbar": {
             "outlinewidth": 0,
             "ticks": ""
            },
            "type": "mesh3d"
           }
          ],
          "parcoords": [
           {
            "line": {
             "colorbar": {
              "outlinewidth": 0,
              "ticks": ""
             }
            },
            "type": "parcoords"
           }
          ],
          "pie": [
           {
            "automargin": true,
            "type": "pie"
           }
          ],
          "scatter": [
           {
            "fillpattern": {
             "fillmode": "overlay",
             "size": 10,
             "solidity": 0.2
            },
            "type": "scatter"
           }
          ],
          "scatter3d": [
           {
            "line": {
             "colorbar": {
              "outlinewidth": 0,
              "ticks": ""
             }
            },
            "marker": {
             "colorbar": {
              "outlinewidth": 0,
              "ticks": ""
             }
            },
            "type": "scatter3d"
           }
          ],
          "scattercarpet": [
           {
            "marker": {
             "colorbar": {
              "outlinewidth": 0,
              "ticks": ""
             }
            },
            "type": "scattercarpet"
           }
          ],
          "scattergeo": [
           {
            "marker": {
             "colorbar": {
              "outlinewidth": 0,
              "ticks": ""
             }
            },
            "type": "scattergeo"
           }
          ],
          "scattergl": [
           {
            "marker": {
             "colorbar": {
              "outlinewidth": 0,
              "ticks": ""
             }
            },
            "type": "scattergl"
           }
          ],
          "scattermap": [
           {
            "marker": {
             "colorbar": {
              "outlinewidth": 0,
              "ticks": ""
             }
            },
            "type": "scattermap"
           }
          ],
          "scattermapbox": [
           {
            "marker": {
             "colorbar": {
              "outlinewidth": 0,
              "ticks": ""
             }
            },
            "type": "scattermapbox"
           }
          ],
          "scatterpolar": [
           {
            "marker": {
             "colorbar": {
              "outlinewidth": 0,
              "ticks": ""
             }
            },
            "type": "scatterpolar"
           }
          ],
          "scatterpolargl": [
           {
            "marker": {
             "colorbar": {
              "outlinewidth": 0,
              "ticks": ""
             }
            },
            "type": "scatterpolargl"
           }
          ],
          "scatterternary": [
           {
            "marker": {
             "colorbar": {
              "outlinewidth": 0,
              "ticks": ""
             }
            },
            "type": "scatterternary"
           }
          ],
          "surface": [
           {
            "colorbar": {
             "outlinewidth": 0,
             "ticks": ""
            },
            "colorscale": [
             [
              0,
              "#0d0887"
             ],
             [
              0.1111111111111111,
              "#46039f"
             ],
             [
              0.2222222222222222,
              "#7201a8"
             ],
             [
              0.3333333333333333,
              "#9c179e"
             ],
             [
              0.4444444444444444,
              "#bd3786"
             ],
             [
              0.5555555555555556,
              "#d8576b"
             ],
             [
              0.6666666666666666,
              "#ed7953"
             ],
             [
              0.7777777777777778,
              "#fb9f3a"
             ],
             [
              0.8888888888888888,
              "#fdca26"
             ],
             [
              1,
              "#f0f921"
             ]
            ],
            "type": "surface"
           }
          ],
          "table": [
           {
            "cells": {
             "fill": {
              "color": "#EBF0F8"
             },
             "line": {
              "color": "white"
             }
            },
            "header": {
             "fill": {
              "color": "#C8D4E3"
             },
             "line": {
              "color": "white"
             }
            },
            "type": "table"
           }
          ]
         },
         "layout": {
          "annotationdefaults": {
           "arrowcolor": "#2a3f5f",
           "arrowhead": 0,
           "arrowwidth": 1
          },
          "autotypenumbers": "strict",
          "coloraxis": {
           "colorbar": {
            "outlinewidth": 0,
            "ticks": ""
           }
          },
          "colorscale": {
           "diverging": [
            [
             0,
             "#8e0152"
            ],
            [
             0.1,
             "#c51b7d"
            ],
            [
             0.2,
             "#de77ae"
            ],
            [
             0.3,
             "#f1b6da"
            ],
            [
             0.4,
             "#fde0ef"
            ],
            [
             0.5,
             "#f7f7f7"
            ],
            [
             0.6,
             "#e6f5d0"
            ],
            [
             0.7,
             "#b8e186"
            ],
            [
             0.8,
             "#7fbc41"
            ],
            [
             0.9,
             "#4d9221"
            ],
            [
             1,
             "#276419"
            ]
           ],
           "sequential": [
            [
             0,
             "#0d0887"
            ],
            [
             0.1111111111111111,
             "#46039f"
            ],
            [
             0.2222222222222222,
             "#7201a8"
            ],
            [
             0.3333333333333333,
             "#9c179e"
            ],
            [
             0.4444444444444444,
             "#bd3786"
            ],
            [
             0.5555555555555556,
             "#d8576b"
            ],
            [
             0.6666666666666666,
             "#ed7953"
            ],
            [
             0.7777777777777778,
             "#fb9f3a"
            ],
            [
             0.8888888888888888,
             "#fdca26"
            ],
            [
             1,
             "#f0f921"
            ]
           ],
           "sequentialminus": [
            [
             0,
             "#0d0887"
            ],
            [
             0.1111111111111111,
             "#46039f"
            ],
            [
             0.2222222222222222,
             "#7201a8"
            ],
            [
             0.3333333333333333,
             "#9c179e"
            ],
            [
             0.4444444444444444,
             "#bd3786"
            ],
            [
             0.5555555555555556,
             "#d8576b"
            ],
            [
             0.6666666666666666,
             "#ed7953"
            ],
            [
             0.7777777777777778,
             "#fb9f3a"
            ],
            [
             0.8888888888888888,
             "#fdca26"
            ],
            [
             1,
             "#f0f921"
            ]
           ]
          },
          "colorway": [
           "#636efa",
           "#EF553B",
           "#00cc96",
           "#ab63fa",
           "#FFA15A",
           "#19d3f3",
           "#FF6692",
           "#B6E880",
           "#FF97FF",
           "#FECB52"
          ],
          "font": {
           "color": "#2a3f5f"
          },
          "geo": {
           "bgcolor": "white",
           "lakecolor": "white",
           "landcolor": "#E5ECF6",
           "showlakes": true,
           "showland": true,
           "subunitcolor": "white"
          },
          "hoverlabel": {
           "align": "left"
          },
          "hovermode": "closest",
          "mapbox": {
           "style": "light"
          },
          "paper_bgcolor": "white",
          "plot_bgcolor": "#E5ECF6",
          "polar": {
           "angularaxis": {
            "gridcolor": "white",
            "linecolor": "white",
            "ticks": ""
           },
           "bgcolor": "#E5ECF6",
           "radialaxis": {
            "gridcolor": "white",
            "linecolor": "white",
            "ticks": ""
           }
          },
          "scene": {
           "xaxis": {
            "backgroundcolor": "#E5ECF6",
            "gridcolor": "white",
            "gridwidth": 2,
            "linecolor": "white",
            "showbackground": true,
            "ticks": "",
            "zerolinecolor": "white"
           },
           "yaxis": {
            "backgroundcolor": "#E5ECF6",
            "gridcolor": "white",
            "gridwidth": 2,
            "linecolor": "white",
            "showbackground": true,
            "ticks": "",
            "zerolinecolor": "white"
           },
           "zaxis": {
            "backgroundcolor": "#E5ECF6",
            "gridcolor": "white",
            "gridwidth": 2,
            "linecolor": "white",
            "showbackground": true,
            "ticks": "",
            "zerolinecolor": "white"
           }
          },
          "shapedefaults": {
           "line": {
            "color": "#2a3f5f"
           }
          },
          "ternary": {
           "aaxis": {
            "gridcolor": "white",
            "linecolor": "white",
            "ticks": ""
           },
           "baxis": {
            "gridcolor": "white",
            "linecolor": "white",
            "ticks": ""
           },
           "bgcolor": "#E5ECF6",
           "caxis": {
            "gridcolor": "white",
            "linecolor": "white",
            "ticks": ""
           }
          },
          "title": {
           "x": 0.05
          },
          "xaxis": {
           "automargin": true,
           "gridcolor": "white",
           "linecolor": "white",
           "ticks": "",
           "title": {
            "standoff": 15
           },
           "zerolinecolor": "white",
           "zerolinewidth": 2
          },
          "yaxis": {
           "automargin": true,
           "gridcolor": "white",
           "linecolor": "white",
           "ticks": "",
           "title": {
            "standoff": 15
           },
           "zerolinecolor": "white",
           "zerolinewidth": 2
          }
         }
        }
       }
      }
     },
     "metadata": {},
     "output_type": "display_data"
    }
   ],
   "source": [
    "COLOR_HISTORY = \"black\"\n",
    "COLOR_GT = \"red\"\n",
    "COLOR_PRED = \"#1f77b4\"\n",
    "COLOR_PRED2 = \"#ff0000\"\n",
    "COLOR_MEAN = \"#e19f20\"\n",
    "\n",
    "fig = go.Figure()\n",
    "\n",
    "# Flight 1 predicted samples (blue, semi-transparent spaghetti)\n",
    "for i, f in enumerate(f1_latlonalt[:100]):\n",
    "    fig.add_trace(\n",
    "        go.Scattermap(\n",
    "            lon=f[:, 1],\n",
    "            lat=f[:, 0],\n",
    "            mode=\"lines\",\n",
    "            line=dict(width=1, color=COLOR_PRED),\n",
    "            opacity=0.5,\n",
    "            name=f\"{100} samples Flight 1\",\n",
    "            showlegend=i == 0,\n",
    "        )\n",
    "    )\n",
    "\n",
    "\n",
    "# # Flight 2 predicted samples (blue, semi-transparent spaghetti)\n",
    "for i, f in enumerate(f2_latlonalt[:100]):\n",
    "    fig.add_trace(\n",
    "        go.Scattermap(\n",
    "            lon=f[:, 1],\n",
    "            lat=f[:, 0],\n",
    "            mode=\"lines\",\n",
    "            line=dict(width=1, color=COLOR_PRED2),\n",
    "            opacity=0.5,\n",
    "            name=f\"{100} samples Flight 2\",\n",
    "            showlegend=i == 0,\n",
    "        )\n",
    "    )\n",
    "\n",
    "\n",
    "# History (observations) - black\n",
    "fig.add_trace(\n",
    "    go.Scattermap(\n",
    "        lon=f1_df[\"longitude\"],\n",
    "        lat=f1_df[\"latitude\"],\n",
    "        mode=\"lines\",\n",
    "        line=dict(width=1.5, color=COLOR_HISTORY),\n",
    "        name=\"Flight 1 History\",\n",
    "    )\n",
    ")\n",
    "\n",
    "fig.add_trace(\n",
    "    go.Scattermap(\n",
    "        lon=f2_df[\"longitude\"],\n",
    "        lat=f2_df[\"latitude\"],\n",
    "        mode=\"lines\",\n",
    "        line=dict(width=1.5, color=COLOR_HISTORY),\n",
    "        name=\"Flight 2 History\",\n",
    "    )\n",
    ")\n",
    "\n",
    "# # Map settings - center on the trajectories\n",
    "all_ll = np.vstack(\n",
    "    [\n",
    "        np.column_stack([f1_df[\"longitude\"], f1_df[\"latitude\"]]),\n",
    "        np.column_stack([f2_df[\"longitude\"], f2_df[\"latitude\"]]),\n",
    "    ]\n",
    ")\n",
    "lon_center = float((np.nanmin(all_ll[:, 0]) + np.nanmax(all_ll[:, 0])) * 0.5)\n",
    "lat_center = float((np.nanmin(all_ll[:, 1]) + np.nanmax(all_ll[:, 1])) * 0.5)\n",
    "\n",
    "fig.update_layout(\n",
    "    map=dict(\n",
    "        style=\"carto-positron\",\n",
    "        center=dict(lon=lon_center, lat=lat_center),\n",
    "        zoom=10.5,\n",
    "    ),\n",
    "    margin=dict(l=10, r=10, t=0, b=10),\n",
    "    legend=dict(orientation=\"h\", yanchor=\"bottom\", y=-0.05, xanchor=\"center\", x=0.5),\n",
    "    # height=800\n",
    ")\n",
    "# fig.write_html('../figures/conflicting_pair_predictions.html')\n",
    "fig.show()\n"
   ]
  },
  {
   "cell_type": "code",
   "execution_count": null,
   "id": "a96e4eef",
   "metadata": {},
   "outputs": [],
   "source": []
  }
 ],
 "metadata": {
  "kernelspec": {
   "display_name": ".venv",
   "language": "python",
   "name": "python3"
  },
  "language_info": {
   "codemirror_mode": {
    "name": "ipython",
    "version": 3
   },
   "file_extension": ".py",
   "mimetype": "text/x-python",
   "name": "python",
   "nbconvert_exporter": "python",
   "pygments_lexer": "ipython3",
   "version": "3.13.2"
  }
 },
 "nbformat": 4,
 "nbformat_minor": 5
}
